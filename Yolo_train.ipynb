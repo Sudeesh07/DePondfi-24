{
 "cells": [
  {
   "cell_type": "code",
   "execution_count": 11,
   "metadata": {},
   "outputs": [
    {
     "name": "stdout",
     "output_type": "stream",
     "text": [
      "Processed and saved: preprocessed_images\\frame120_jpg.rf.08bec5e869c708b0da1cbe514c645ca9.jpg\n",
      "Processed and saved: preprocessed_images\\frame120_jpg.rf.3fade6ea16a9f21b1c75d46195dcbcf9.jpg\n",
      "Processed and saved: preprocessed_images\\frame120_jpg.rf.4783b65913220f1faf185952cc71f7f2.jpg\n",
      "Processed and saved: preprocessed_images\\frame120_jpg.rf.66f91f5e163c7f721bddd57660866af7.jpg\n",
      "Processed and saved: preprocessed_images\\frame120_jpg.rf.972c05f94e5ad3a60ba28127970fa4c0.jpg\n",
      "Processed and saved: preprocessed_images\\frame120_jpg.rf.9a1736782243ca59cb5f401670b3ce80.jpg\n",
      "Processed and saved: preprocessed_images\\frame122_jpg.rf.2af2993938c997bc32377028f1e1f9e7.jpg\n",
      "Processed and saved: preprocessed_images\\frame122_jpg.rf.7d74cc9befdf8f75b7ad92faded636c2.jpg\n",
      "Processed and saved: preprocessed_images\\frame122_jpg.rf.e7eb1250d321e81932f5cfaa3525c2f8.jpg\n",
      "Processed and saved: preprocessed_images\\frame124_jpg.rf.10bac02292dc819c365171299e9e4cf2.jpg\n",
      "Processed and saved: preprocessed_images\\frame129_jpg.rf.4de87e6a634ef1e8507942de0a5e312b.jpg\n",
      "Processed and saved: preprocessed_images\\frame136_jpg.rf.76a6597c6b43d6ae2cf60b66a0dac8f3.jpg\n",
      "Processed and saved: preprocessed_images\\frame136_jpg.rf.b5e1e5b3976129aa4cc9b076e9410fe5.jpg\n",
      "Processed and saved: preprocessed_images\\frame136_jpg.rf.e1e185ebed1053c3e8193f75827c649b.jpg\n",
      "Processed and saved: preprocessed_images\\frame138_jpg.rf.da5d0640baeba322f9d7038913787251.jpg\n",
      "Processed and saved: preprocessed_images\\frame144_jpg.rf.b2564cb8e95175d184e692641bbaa500.jpg\n",
      "Processed and saved: preprocessed_images\\frame146_jpg.rf.6488c9001636511396e308096e6d20d5.jpg\n",
      "Processed and saved: preprocessed_images\\frame148_jpg.rf.0659431817522460e0d6dd9e297fe441.jpg\n",
      "Processed and saved: preprocessed_images\\frame154_jpg.rf.815cd506bcc5cc05286cde6779c951ff.jpg\n",
      "Processed and saved: preprocessed_images\\frame158_jpg.rf.bbfbc15661679a5c58a23c3928cc1ca4.jpg\n",
      "Processed and saved: preprocessed_images\\frame160_jpg.rf.874fd1b5e21f7dc349d4f44f6eb0fa7b.jpg\n",
      "Processed and saved: preprocessed_images\\frame162_jpg.rf.cbf2edfbdb2362cbbf28c7917c2bfe6b.jpg\n",
      "Processed and saved: preprocessed_images\\frame173_jpg.rf.d282fe7b421fbe999f92b8f5f84dcbd0.jpg\n",
      "Processed and saved: preprocessed_images\\frame177_jpg.rf.47a13b5378178617efbea2f4b4a30484.jpg\n",
      "Processed and saved: preprocessed_images\\frame_0003_jpg.rf.0263105ec77d2e2da055592023b9c365.jpg\n",
      "Processed and saved: preprocessed_images\\frame_0004_jpg.rf.f21cc7af2807703eabb7929ebf6058cf.jpg\n",
      "Processed and saved: preprocessed_images\\frame_0011_jpg.rf.2102209f6271db8d86e16e3598032180.jpg\n",
      "Processed and saved: preprocessed_images\\frame_0012_jpg.rf.b3b8d851f0553337b709eed85868691b.jpg\n",
      "Processed and saved: preprocessed_images\\frame_0013_jpg.rf.afec6e42f9e709fdaa1579ea9c0a78e1.jpg\n",
      "Processed and saved: preprocessed_images\\frame_0013_jpg.rf.fc41e3ace2f43863502ea96bf381b92f.jpg\n",
      "Processed and saved: preprocessed_images\\frame_0014_jpg.rf.21a2330d216a07e1808bbc667fb511b9.jpg\n",
      "Processed and saved: preprocessed_images\\frame_0016_jpg.rf.442421a9b5f27ac9a8711de49b29d668.jpg\n",
      "Processed and saved: preprocessed_images\\frame_0017_jpg.rf.6b7084a5df8a612cfcf0488e246c8647.jpg\n",
      "Processed and saved: preprocessed_images\\frame_0017_jpg.rf.ac44196b30a713173ea01a117dadb181.jpg\n",
      "Processed and saved: preprocessed_images\\frame_0019_jpg.rf.3862f8103317529478390eee157203c7.jpg\n",
      "Processed and saved: preprocessed_images\\frame_0019_jpg.rf.d6f359ade9ffc97ad694811e06294203.jpg\n",
      "Processed and saved: preprocessed_images\\frame_0020_jpg.rf.dbe63c1e466f1eeaec9ccf88baf4dc22.jpg\n",
      "Processed and saved: preprocessed_images\\frame_0042_jpg.rf.7d6a22e3a2c2c325b435b74d0f100b4b.jpg\n",
      "Processed and saved: preprocessed_images\\frame_0058_jpg.rf.d3546141c2bc056eae614cd85cd4182e.jpg\n",
      "Processed and saved: preprocessed_images\\frame_0066_jpg.rf.325a3186f92075d66807111c8f207bcc.jpg\n",
      "Processed and saved: preprocessed_images\\frame_0082_jpg.rf.edbaeb99a8e2277b5cd271aa05224bbd.jpg\n",
      "Processed and saved: preprocessed_images\\frame_0083_jpg.rf.a3e8fc71b38eaeddb2be176a7749e286.jpg\n",
      "Processed and saved: preprocessed_images\\frame_0084_jpg.rf.70fa7063b158bd3daf9441ec0322bb1d.jpg\n",
      "Processed and saved: preprocessed_images\\frame_0084_jpg.rf.b96363454e74596b5fccbfd02ad5768f.jpg\n",
      "Processed and saved: preprocessed_images\\frame_0091_jpg.rf.d19f95ae3b5a7b74080b861ca8067985.jpg\n",
      "Processed and saved: preprocessed_images\\frame_0092_jpg.rf.1eb54289223d883c45bbf9efc1b84bce.jpg\n",
      "Processed and saved: preprocessed_images\\frame_0093_jpg.rf.0935f7d6f03a4351bd3f13275c937bb9.jpg\n",
      "Processed and saved: preprocessed_images\\frame_0095_jpg.rf.1b14b52b7d244e1278b91154ca9b9e92.jpg\n",
      "Processed and saved: preprocessed_images\\frame_0095_jpg.rf.985a5438bd36c4a0d37d9f731daf768e.jpg\n",
      "Processed and saved: preprocessed_images\\frame_0096_jpg.rf.8db0b02b71fd1beda908611f2d17d277.jpg\n",
      "Processed and saved: preprocessed_images\\frame_0099_jpg.rf.14f43cd2502335d4a69bb60bd3a1e64a.jpg\n",
      "Processed and saved: preprocessed_images\\frame_0099_jpg.rf.f2100ef0f694eeb05b0b13b33b68cf91.jpg\n",
      "Processed and saved: preprocessed_images\\frame_0100_jpg.rf.3681d1455638ff72b60083f51559a318.jpg\n",
      "Processed and saved: preprocessed_images\\frame_0101_jpg.rf.d3ac092c03a2c3e08c3f36743978b4f8.jpg\n",
      "Processed and saved: preprocessed_images\\frame_0105_jpg.rf.a11cc579730fb5f3a11856e573593e18.jpg\n",
      "Processed and saved: preprocessed_images\\frame_0106_jpg.rf.3b76fb348a30bf632a2ec49a33b4f82e.jpg\n",
      "Processed and saved: preprocessed_images\\frame_0106_jpg.rf.d4546194d6dbf00d85521e78a22bb19b.jpg\n",
      "Processed and saved: preprocessed_images\\frame_0112_jpg.rf.d01d90f0af9820fe84471c5afb3f796c.jpg\n",
      "Processed and saved: preprocessed_images\\frame_0114_jpg.rf.b375943cd194f22ed6d067c50421d241.jpg\n",
      "Processed and saved: preprocessed_images\\frame_0115_jpg.rf.de95205cdf233550d9b2d74bea2f8562.jpg\n",
      "Processed and saved: preprocessed_images\\frame_0116_jpg.rf.94d5d7e6579a22c9893553a8eb129e3a.jpg\n",
      "Processed and saved: preprocessed_images\\frame_0116_jpg.rf.de17062ddaa962d39447ccb9ccaffea8.jpg\n",
      "Processed and saved: preprocessed_images\\frame_0117_jpg.rf.d5ba064dc03c9f9ec1e9c0cfe5c1a1f2.jpg\n",
      "Processed and saved: preprocessed_images\\frame_0118_jpg.rf.1ea51ed986163e5ec19f9a83a40c0276.jpg\n",
      "Processed and saved: preprocessed_images\\frame_0118_jpg.rf.cfb4c2f0315c7697bb43c16daf169ef4.jpg\n",
      "Processed and saved: preprocessed_images\\frame_0119_jpg.rf.6b6a04b4f32728cdc1f453476e271fd1.jpg\n",
      "Processed and saved: preprocessed_images\\frame_0119_jpg.rf.b5f156fbb368956e85655fddde5fcc2e.jpg\n",
      "Processed and saved: preprocessed_images\\frame_0120_jpg.rf.eab6516eb1624d3cf4f54aed800e1f94.jpg\n",
      "Processed and saved: preprocessed_images\\frame_0125_jpg.rf.cb30ae58f95f22e497189a4a87c6ce27.jpg\n",
      "Processed and saved: preprocessed_images\\frame_0129_jpg.rf.49dd724cb549360ad19dbdd87f3fe13b.jpg\n",
      "Processed and saved: preprocessed_images\\frame_0134_jpg.rf.854024eba432a1bc802d00321ab54ae9.jpg\n",
      "Processed and saved: preprocessed_images\\frame_0142_jpg.rf.920a78f415fe44a10810e39f8447b1e2.jpg\n",
      "Processed and saved: preprocessed_images\\frame_0143_jpg.rf.e3f10a286c0cb791dd54a90d42e0de97.jpg\n",
      "Processed and saved: preprocessed_images\\frame_0150_jpg.rf.e1f159061a8c055e234e88cc1723d37b.jpg\n",
      "Processed and saved: preprocessed_images\\frame_0151_jpg.rf.4087b395ec983ce618669266b31168c9.jpg\n",
      "Processed and saved: preprocessed_images\\frame_0152_jpg.rf.18c8575832722c13833f13b9c8157e42.jpg\n",
      "Processed and saved: preprocessed_images\\frame_0154_jpg.rf.4a243e503703a53ea7be790640c1df77.jpg\n",
      "Processed and saved: preprocessed_images\\frame_0163_jpg.rf.997bf839599cf4166ee062abf3529a27.jpg\n",
      "Processed and saved: preprocessed_images\\frame_0165_jpg.rf.9de88e3e4c17d0b22fe3d68b1aa5deae.jpg\n",
      "Processed and saved: preprocessed_images\\frame_0166_jpg.rf.05680ce3c86ea13829bd0cd58f2b8be9.jpg\n",
      "Processed and saved: preprocessed_images\\frame_0166_jpg.rf.9f8d1e68f07ed6585bec5961478334b9.jpg\n",
      "Processed and saved: preprocessed_images\\frame_0167_jpg.rf.1ca673b329f2fd08cdee05bc3251c857.jpg\n",
      "Processed and saved: preprocessed_images\\frame_0167_jpg.rf.41f60c6501b993940b5ea58d9f8c7aaa.jpg\n",
      "Processed and saved: preprocessed_images\\frame_0168_jpg.rf.1fd830f2cd4cce78f4289648664b25d8.jpg\n",
      "Processed and saved: preprocessed_images\\frame_0169_jpg.rf.28cd8b42d1379715feeedd6d7d412069.jpg\n",
      "Processed and saved: preprocessed_images\\frame_0169_jpg.rf.d2bcdd9a7bc694fcf12833286fd3adfa.jpg\n",
      "Processed and saved: preprocessed_images\\frame_0171_jpg.rf.7dc0fdfce68d212845501504266b926b.jpg\n",
      "Processed and saved: preprocessed_images\\frame_0172_jpg.rf.2dda4c5448b6e7ede0e5c0502a539c89.jpg\n",
      "Processed and saved: preprocessed_images\\frame_0173_jpg.rf.b9e46e00895f4f30ae97bd44fcac4d16.jpg\n",
      "Processed and saved: preprocessed_images\\frame_0194_jpg.rf.059ecf0bc712bd163e21581628178910.jpg\n",
      "Processed and saved: preprocessed_images\\frame_0204_jpg.rf.a59b5a47996a621b1343cc8ceac22134.jpg\n",
      "Processed and saved: preprocessed_images\\frame_0205_jpg.rf.1a68386c118839307d1708902eb7dcf1.jpg\n",
      "Processed and saved: preprocessed_images\\frame_0205_jpg.rf.653edf26a29d18d24b6a2786e85373c0.jpg\n",
      "Processed and saved: preprocessed_images\\frame_0206_jpg.rf.003a668c84af8672f8feca3c47277e05.jpg\n",
      "Processed and saved: preprocessed_images\\frame_0206_jpg.rf.b4e83162921bdf867ee451a11f37a02e.jpg\n",
      "Processed and saved: preprocessed_images\\frame_0207_jpg.rf.2ffa7f12115865bd3a4143c4fbcda939.jpg\n",
      "Processed and saved: preprocessed_images\\frame_0213_jpg.rf.8cbb383191d5e3a37560a28be649e96a.jpg\n",
      "Processed and saved: preprocessed_images\\frame_0214_jpg.rf.e9daa2352647e38fc60bb3232cb2d387.jpg\n",
      "Processed and saved: preprocessed_images\\frame_0216_jpg.rf.bb596a6ae346f28175bedffa7e09b627.jpg\n",
      "Processed and saved: preprocessed_images\\frame_0222_jpg.rf.9a5aa9e228c37e4716eed41937ab8368.jpg\n",
      "Processed and saved: preprocessed_images\\frame_0223_jpg.rf.88e20492470dee10b3fa67953db8349e.jpg\n",
      "Processed and saved: preprocessed_images\\frame_0224_jpg.rf.f7eb6be9e719383b57d2969fadc22ea6.jpg\n",
      "Processed and saved: preprocessed_images\\frame_0225_jpg.rf.f923a8fa1d9cc2f9c74dd6c153266fd6.jpg\n",
      "Processed and saved: preprocessed_images\\frame_0225_jpg.rf.f9f3fa1cb8d0ca551cbdf3707c9bfdae.jpg\n",
      "Processed and saved: preprocessed_images\\frame_0231_jpg.rf.9d2b9ee1c1be4fde550f73d8350a3e4f.jpg\n",
      "Processed and saved: preprocessed_images\\frame_0232_jpg.rf.56bc05564737db8fe6b1418bb8f32bc3.jpg\n",
      "Processed and saved: preprocessed_images\\frame_0233_jpg.rf.2b5ad46cca411f96a186f47a24955483.jpg\n",
      "Processed and saved: preprocessed_images\\frame_0246_jpg.rf.a479eeb9d90141ec1f7a3afcbc2b4747.jpg\n",
      "Processed and saved: preprocessed_images\\frame_0247_jpg.rf.89888e52e6070497826689dcb9c2eadc.jpg\n",
      "Processed and saved: preprocessed_images\\frame_0249_jpg.rf.2289ce8a469031ed00ef2a063daf132e.jpg\n",
      "Processed and saved: preprocessed_images\\frame_0250_jpg.rf.eb7947cd0541942cdd83fcac62b85e73.jpg\n",
      "Processed and saved: preprocessed_images\\frame_0251_jpg.rf.91ffd70491323c4575a59fdeadab1a67.jpg\n",
      "Processed and saved: preprocessed_images\\frame_0252_jpg.rf.a0aa17c74a96ff74e236fe47337005c8.jpg\n",
      "Processed and saved: preprocessed_images\\frame_0252_jpg.rf.baebd83ad273be9ef490d440b274b21f.jpg\n",
      "Processed and saved: preprocessed_images\\frame_0253_jpg.rf.100a8524c8181ffe7fce2e1c1b5fe6f1.jpg\n",
      "Processed and saved: preprocessed_images\\frame_0253_jpg.rf.7036caa03346895ba11741e4e97ba6ac.jpg\n",
      "Processed and saved: preprocessed_images\\frame_0253_jpg.rf.b5a64ec3648c3565de8a4b9489b5c5fb.jpg\n",
      "Processed and saved: preprocessed_images\\frame_0254_jpg.rf.0b5fc18796ed7a447aa7de0623fd65c3.jpg\n",
      "Processed and saved: preprocessed_images\\frame_0254_jpg.rf.48287dae4a0cb8ed9c2320428af3c3ed.jpg\n",
      "Processed and saved: preprocessed_images\\frame_0255_jpg.rf.af539d86e38e22dd46dfa0b3956bc1ca.jpg\n",
      "Processed and saved: preprocessed_images\\frame_0255_jpg.rf.e27f8e74adfb950abe61d9969b625c8f.jpg\n",
      "Processed and saved: preprocessed_images\\frame_0256_jpg.rf.2011d6a26f6715cb49223133d83926c1.jpg\n",
      "Processed and saved: preprocessed_images\\frame_0257_jpg.rf.a610a54cf7e763c08ddf1d399046afa0.jpg\n",
      "Processed and saved: preprocessed_images\\frame_0258_jpg.rf.a07f00d5200a0d2dc4535944a3b2bd4f.jpg\n",
      "Processed and saved: preprocessed_images\\frame_0259_jpg.rf.fe01c5e409637216dfd8ca601868b724.jpg\n",
      "Processed and saved: preprocessed_images\\frame_0260_jpg.rf.8f0f0ebb8637bf5e325751c954bf6216.jpg\n",
      "Processed and saved: preprocessed_images\\frame_0260_jpg.rf.9ab6b36b376dcbb18af5184c770cb493.jpg\n",
      "Processed and saved: preprocessed_images\\frame_0261_jpg.rf.09015f73c9b47e072af568ef136e5007.jpg\n",
      "Processed and saved: preprocessed_images\\frame_0261_jpg.rf.82dc71e06eb0372156434b3c32658af0.jpg\n",
      "Processed and saved: preprocessed_images\\frame_0262_jpg.rf.53f10b989f5de36cc8f6eff052fde832.jpg\n",
      "Processed and saved: preprocessed_images\\frame_0263_jpg.rf.28d657d77e4ab8c7dd266276a9043d24.jpg\n",
      "Processed and saved: preprocessed_images\\frame_0263_jpg.rf.abae84fc47e6a712b85a6324f709883a.jpg\n",
      "Processed and saved: preprocessed_images\\frame_0264_jpg.rf.552ec194733e94732cf8a94b1bcb1cb1.jpg\n",
      "Processed and saved: preprocessed_images\\frame_0264_jpg.rf.c41bfa7b29b977911c6ddb29285f6b27.jpg\n",
      "Processed and saved: preprocessed_images\\frame_0267_jpg.rf.501edf883ba3aad65fb0c90f44f2b64a.jpg\n",
      "Processed and saved: preprocessed_images\\frame_0267_jpg.rf.98e3749cfe6bd9f71eec74e3e45dc6e8.jpg\n",
      "Processed and saved: preprocessed_images\\frame_0267_jpg.rf.d67cdac859193b794cbbeb7b1f8ca7d2.jpg\n",
      "Processed and saved: preprocessed_images\\frame_0271_jpg.rf.4a5f239c65cd9729e13eb0e647c94572.jpg\n",
      "Processed and saved: preprocessed_images\\frame_0271_jpg.rf.bb34e83249aaef90a1dc871fc5bc69a6.jpg\n",
      "Processed and saved: preprocessed_images\\frame_0271_jpg.rf.ea2cde5b20df06cca7963c2f34684e6f.jpg\n",
      "Processed and saved: preprocessed_images\\frame_0272_jpg.rf.1eaa7adc5ee19f5bd23d74b7eedf13a5.jpg\n",
      "Processed and saved: preprocessed_images\\frame_0272_jpg.rf.49f29777c3ec5685c89e25ce9333fd7d.jpg\n",
      "Processed and saved: preprocessed_images\\frame_0272_jpg.rf.e96936a628c97ea641da22b62d40d048.jpg\n",
      "Processed and saved: preprocessed_images\\frame_0273_jpg.rf.c4a71e16cd6e92717038a38e39b245df.jpg\n",
      "Processed and saved: preprocessed_images\\frame_0273_jpg.rf.d50115bae923a23b5fec4c7ac6ca6e6b.jpg\n",
      "Processed and saved: preprocessed_images\\frame_0274_jpg.rf.0053851b85fd32de57b543d82c4406ee.jpg\n",
      "Processed and saved: preprocessed_images\\frame_0274_jpg.rf.61f44a38d87e6914027a6ffb9b250387.jpg\n",
      "Processed and saved: preprocessed_images\\frame_0275_jpg.rf.50c69e109e3415d9d76c779a689250c3.jpg\n",
      "Processed and saved: preprocessed_images\\frame_0275_jpg.rf.75bb328c093f9e58995cadf7cf7464ae.jpg\n",
      "Processed and saved: preprocessed_images\\frame_0277_jpg.rf.ca56625d0d9c76b546e5030e532c72c5.jpg\n",
      "Processed and saved: preprocessed_images\\frame_0278_jpg.rf.0a0987eb10f99c013087f5a60f95f76c.jpg\n",
      "Processed and saved: preprocessed_images\\frame_0279_jpg.rf.97fc203d1e18d2c00d25ff3b866b2d6f.jpg\n",
      "Processed and saved: preprocessed_images\\frame_0280_jpg.rf.4c1aa2cbc6e5f89308e610f2b313720e.jpg\n",
      "Processed and saved: preprocessed_images\\frame_0281_jpg.rf.c1e1acdde91144ab42595634e4816833.jpg\n",
      "Processed and saved: preprocessed_images\\frame_0281_jpg.rf.dc4f10b6a01629aa55f3e9ad9f7d29ea.jpg\n",
      "Processed and saved: preprocessed_images\\frame_0283_jpg.rf.5f5bf7e82b4ce06914a62f71675c4bed.jpg\n",
      "Processed and saved: preprocessed_images\\frame_0283_jpg.rf.a4ca6cb92b796c62baf32f70ff59761f.jpg\n",
      "Processed and saved: preprocessed_images\\frame_0285_jpg.rf.16c914f608f2a5673b70b294c1e7b21c.jpg\n",
      "Processed and saved: preprocessed_images\\frame_0285_jpg.rf.4b78f3366a8193d65b32e2ae4cdad1e9.jpg\n",
      "Processed and saved: preprocessed_images\\frame_0286_jpg.rf.a31f96ed525d90429ca3e75694890b5f.jpg\n",
      "Processed and saved: preprocessed_images\\frame_0286_jpg.rf.ea424910146584467550b648fe2a5f67.jpg\n",
      "Processed and saved: preprocessed_images\\frame_0287_jpg.rf.4045724f363627f8ad9ba6c812f71a07.jpg\n",
      "Processed and saved: preprocessed_images\\frame_0287_jpg.rf.900743765fc91241b371b16787b36a28.jpg\n",
      "Processed and saved: preprocessed_images\\frame_0288_jpg.rf.05e0d009746d42762711c3c8e3062495.jpg\n",
      "Processed and saved: preprocessed_images\\frame_0288_jpg.rf.b337b2a92e3c5e46ccd7942e8d09ffc1.jpg\n",
      "Processed and saved: preprocessed_images\\frame_0288_jpg.rf.fed37345eff49da0cc47137c016b8b44.jpg\n",
      "Processed and saved: preprocessed_images\\frame_0289_jpg.rf.003b6f972c851fc404e24f15068d3fdf.jpg\n",
      "Processed and saved: preprocessed_images\\frame_0289_jpg.rf.b4c51ed429b66a9a990aa38dc880af1e.jpg\n",
      "Processed and saved: preprocessed_images\\frame_0289_jpg.rf.bd7ee1c1d1d2dd477bad82a54c0e8443.jpg\n",
      "Processed and saved: preprocessed_images\\frame_0290_jpg.rf.1b607e71d3c7015ed83d5fb5fc74ac02.jpg\n",
      "Processed and saved: preprocessed_images\\frame_0290_jpg.rf.56836c243be11715fd47833d471dc5c7.jpg\n",
      "Processed and saved: preprocessed_images\\frame_0290_jpg.rf.b5171dcb3f4430c765ef00cac607553e.jpg\n",
      "Processed and saved: preprocessed_images\\frame_0291_jpg.rf.6d53e353cdb232b4310d8449587ff302.jpg\n",
      "Processed and saved: preprocessed_images\\frame_0291_jpg.rf.a032cbf67102acfc7ed2c1c4bfe8cc06.jpg\n",
      "Processed and saved: preprocessed_images\\frame_0291_jpg.rf.f5bc8838f484adab064ae065cb505118.jpg\n",
      "Processed and saved: preprocessed_images\\frame_0291_jpg.rf.fd9ec39ac7a0382a18198c92b729023f.jpg\n",
      "Processed and saved: preprocessed_images\\frame_0292_jpg.rf.dadf6b613c14e638363401ff168f8d50.jpg\n",
      "Processed and saved: preprocessed_images\\frame_0293_jpg.rf.6044c4280255adfbef9c0f1245957e8a.jpg\n",
      "Processed and saved: preprocessed_images\\frame_0294_jpg.rf.500044d5800b3aac213113fd35fa9e3f.jpg\n",
      "Processed and saved: preprocessed_images\\frame_0295_jpg.rf.eaee52c28491e71153b2e7f30e350675.jpg\n",
      "Processed and saved: preprocessed_images\\frame_0306_jpg.rf.a8aad8884ced4898949c1a3117dda130.jpg\n",
      "Processed and saved: preprocessed_images\\frame_0308_jpg.rf.9e547e0309da331cff143ca0d272dfd9.jpg\n",
      "Processed and saved: preprocessed_images\\frame_0311_jpg.rf.e214f1d0a4947ac1e1f6f3a222ca8447.jpg\n",
      "Processed and saved: preprocessed_images\\frame_0312_jpg.rf.ca90f8ac5dd57bf1e1500cc4e5a5d63a.jpg\n",
      "Processed and saved: preprocessed_images\\frame_0314_jpg.rf.51cf4f312849e7d9e99c590a622e630e.jpg\n",
      "Processed and saved: preprocessed_images\\frame_0314_jpg.rf.534af2af8ab753a2a3e0907f26f3f8d5.jpg\n",
      "Processed and saved: preprocessed_images\\frame_0315_jpg.rf.c527703828489de4c3f2ff21ac9a0e7d.jpg\n",
      "Processed and saved: preprocessed_images\\frame_0316_jpg.rf.95f0640c5050006b590f935f114b414e.jpg\n",
      "Processed and saved: preprocessed_images\\frame_0317_jpg.rf.92a2e96c239b5b657feed0f02faa6e64.jpg\n",
      "Processed and saved: preprocessed_images\\frame_0318_jpg.rf.847005af213fc1af60bea89ebb5cbb67.jpg\n",
      "Processed and saved: preprocessed_images\\frame_0320_jpg.rf.841725d785b97a80840e86eb759b15ce.jpg\n",
      "Processed and saved: preprocessed_images\\frame_0320_jpg.rf.b50ad23bf13229c8e6260caaf36c6dcf.jpg\n",
      "Processed and saved: preprocessed_images\\frame_0321_jpg.rf.24b2c831d217230ed62419a10a8a146c.jpg\n",
      "Processed and saved: preprocessed_images\\frame_0321_jpg.rf.382dc99f43bc709f2f64a16b6f302e89.jpg\n",
      "Processed and saved: preprocessed_images\\frame_0322_jpg.rf.6c56119908ed53714089cc0b0fd6c856.jpg\n",
      "Processed and saved: preprocessed_images\\frame_0322_jpg.rf.725f29f3f549ee5ce5b64ffe0506e579.jpg\n",
      "Processed and saved: preprocessed_images\\frame_0323_jpg.rf.90df4b89ff066a091d45fc421fb098cb.jpg\n",
      "Processed and saved: preprocessed_images\\frame_0323_jpg.rf.974bcc68823e4869f627ef741664ba9a.jpg\n",
      "Processed and saved: preprocessed_images\\frame_0323_jpg.rf.a6cf4578ef5230025101ad4b662727f2.jpg\n",
      "Processed and saved: preprocessed_images\\frame_0324_jpg.rf.06d7710949c6a9f5a69d4c2f3c39b34a.jpg\n",
      "Processed and saved: preprocessed_images\\frame_0324_jpg.rf.204dad581c52767867ce8f539687b7a1.jpg\n",
      "Processed and saved: preprocessed_images\\frame_0324_jpg.rf.d4fe07e9f3cfe7ff386deef551d5e8ba.jpg\n",
      "Processed and saved: preprocessed_images\\frame_0325_jpg.rf.1e6edbf5ec19d578727ec054b038650f.jpg\n",
      "Processed and saved: preprocessed_images\\frame_0325_jpg.rf.2b90e19b2b5652b6d76baed452573853.jpg\n",
      "Processed and saved: preprocessed_images\\frame_0326_jpg.rf.40a8078af044b0f4c4e56177dbb5b8ba.jpg\n",
      "Processed and saved: preprocessed_images\\frame_0326_jpg.rf.a759dc03cae6fd69dcc70362c3f2a6d5.jpg\n",
      "Processed and saved: preprocessed_images\\frame_0327_jpg.rf.0f3174e85ab7aaa77d2d59a0eda99179.jpg\n",
      "Processed and saved: preprocessed_images\\frame_0328_jpg.rf.011e2c552c38c9adf2b4d1acc78e4491.jpg\n",
      "Processed and saved: preprocessed_images\\frame_0329_jpg.rf.a614692544da7de323865a50ecc535ff.jpg\n",
      "Processed and saved: preprocessed_images\\frame_0330_jpg.rf.1e304a2d1887e73ab1e73bfc25aaa869.jpg\n",
      "Processed and saved: preprocessed_images\\frame_0332_jpg.rf.1a96f810e03957a96c0579773df75db7.jpg\n",
      "Processed and saved: preprocessed_images\\frame_0334_jpg.rf.32636c5b94a9b10689fa8745743e420f.jpg\n",
      "Processed and saved: preprocessed_images\\frame_0338_jpg.rf.a2225f21994e89c88e1c75302e6d2bfc.jpg\n",
      "Processed and saved: preprocessed_images\\frame_0354_jpg.rf.48b326d0fd7d48b5735c610d6f772400.jpg\n",
      "Processed and saved: preprocessed_images\\frame_0355_jpg.rf.e39a8c4d6a07cfa4a7e245949eed1132.jpg\n",
      "Processed and saved: preprocessed_images\\frame_0371_jpg.rf.146388392d03ca794f8086f0a47480f3.jpg\n",
      "Processed and saved: preprocessed_images\\frame_0371_jpg.rf.2ece5ff04e867423ac5b0c35d75ad9a1.jpg\n",
      "Processed and saved: preprocessed_images\\frame_0371_jpg.rf.b6db462efcec27795fa71e7781765603.jpg\n",
      "Processed and saved: preprocessed_images\\frame_0372_jpg.rf.ba67e02fd4f71bf1248c7b2e5aea6755.jpg\n",
      "Processed and saved: preprocessed_images\\frame_0372_jpg.rf.f3a1d2c494b5bf50a38b8fcb2151aa56.jpg\n",
      "Processed and saved: preprocessed_images\\frame_0373_jpg.rf.549a59c19c6ad5e85d9dd06b2c492b2d.jpg\n",
      "Processed and saved: preprocessed_images\\frame_0374_jpg.rf.626b0eced9b93fb9d9ba035ec6e13e9b.jpg\n",
      "Processed and saved: preprocessed_images\\frame_0374_jpg.rf.725307630fb85e805d2106f88c114790.jpg\n",
      "Processed and saved: preprocessed_images\\frame_0377_jpg.rf.b6d7f4ac335fcb7baa26a84158280fbd.jpg\n",
      "Processed and saved: preprocessed_images\\frame_0378_jpg.rf.79720e0733ffc495508126f1b8b215bb.jpg\n",
      "Processed and saved: preprocessed_images\\frame_0378_jpg.rf.ea2dea1f967f537ace54f21e5507de29.jpg\n",
      "Processed and saved: preprocessed_images\\frame_0384_jpg.rf.576879703ede7716cea5cc664c38de8a.jpg\n",
      "Processed and saved: preprocessed_images\\frame_0385_jpg.rf.a72d27a3274360c91a955984375ef45d.jpg\n",
      "Processed and saved: preprocessed_images\\frame_0386_jpg.rf.4dee0cab0c2d2bf13dbeb73b8c039a57.jpg\n",
      "Processed and saved: preprocessed_images\\frame_0386_jpg.rf.a59de749bff53d5d595ca9c1491a4c63.jpg\n",
      "Processed and saved: preprocessed_images\\frame_0387_jpg.rf.fb9111c8b41c4fd622598739145bf0da.jpg\n",
      "Processed and saved: preprocessed_images\\frame_0388_jpg.rf.6593746103baf61156f1a24bf9c37843.jpg\n",
      "Processed and saved: preprocessed_images\\frame_0389_jpg.rf.1ec292084103ecc0692bcfe6a85ffba7.jpg\n",
      "Processed and saved: preprocessed_images\\frame_0389_jpg.rf.2615b8d2a61a8dcbfadf7eb514cf6978.jpg\n",
      "Processed and saved: preprocessed_images\\frame_0390_jpg.rf.438caa7e0bb8f9f883ba86afff68ab6b.jpg\n",
      "Processed and saved: preprocessed_images\\frame_0392_jpg.rf.19253af47b7d216c2b3358589c7828bc.jpg\n",
      "Processed and saved: preprocessed_images\\frame_0393_jpg.rf.be7b60219683b6f12d77bff872567e9d.jpg\n",
      "Processed and saved: preprocessed_images\\frame_0394_jpg.rf.895aac03ee6a945e2d36f34bd39b259f.jpg\n",
      "Processed and saved: preprocessed_images\\frame_0395_jpg.rf.e5221c6178725340149c8fe32fc0870c.jpg\n",
      "Processed and saved: preprocessed_images\\frame_0401_jpg.rf.80d8f83f5767e7bbe9027b7f4bc2c109.jpg\n",
      "Processed and saved: preprocessed_images\\frame_0402_jpg.rf.0ac62fbbe428ce3dfe7b9bef114d37fd.jpg\n",
      "Processed and saved: preprocessed_images\\frame_0402_jpg.rf.3ec92aabf59920e1b45dfd41128c8316.jpg\n",
      "Processed and saved: preprocessed_images\\frame_0403_jpg.rf.9f220772aef6b282bd465aba14eaff4e.jpg\n",
      "Processed and saved: preprocessed_images\\frame_0404_jpg.rf.8e7eacce3c4d233221bd4772e0b755e7.jpg\n",
      "Processed and saved: preprocessed_images\\frame_0405_jpg.rf.8c6eef2ce3158519274e63f59ae3d7f7.jpg\n",
      "Processed and saved: preprocessed_images\\frame_0408_jpg.rf.78b4a1d626fbc10fa672979822452151.jpg\n",
      "Processed and saved: preprocessed_images\\frame_0410_jpg.rf.5e45ac166f54142c92c961f2f343fef7.jpg\n",
      "Processed and saved: preprocessed_images\\frame_0411_jpg.rf.b21b40e35cea507b5427b7df868a1b21.jpg\n",
      "Processed and saved: preprocessed_images\\frame_0425_jpg.rf.4e58ef32f5e92f0e7bf08bd378ac4edc.jpg\n",
      "Processed and saved: preprocessed_images\\frame_0442_jpg.rf.674fb5848cba8d9fb8157af79152069c.jpg\n",
      "Processed and saved: preprocessed_images\\frame_0444_jpg.rf.0fbe71a5620328139912f6b204a7c93f.jpg\n",
      "Processed and saved: preprocessed_images\\frame_0445_jpg.rf.bafed43d180c855255d31decf8f4eb10.jpg\n",
      "Processed and saved: preprocessed_images\\frame_0446_jpg.rf.9cb841306e4ea2a44fbdd7488ad5da12.jpg\n",
      "Processed and saved: preprocessed_images\\frame_0449_jpg.rf.caf6c0bb1508330d1bb94b59c8a5a13d.jpg\n",
      "Processed and saved: preprocessed_images\\frame_0466_jpg.rf.c1a394375bae3f407749728839d0f19c.jpg\n",
      "Processed and saved: preprocessed_images\\frame_0467_jpg.rf.04f6d3a59c0db27a94917f6712451cc1.jpg\n",
      "Processed and saved: preprocessed_images\\frame_0468_jpg.rf.4f97430909e0828f0919452937224119.jpg\n",
      "Processed and saved: preprocessed_images\\frame_0469_jpg.rf.73c59406b08f2362f352af738265db50.jpg\n",
      "Processed and saved: preprocessed_images\\frame_0470_jpg.rf.c742e42630e002a8935b53671c4d6f46.jpg\n",
      "Processed and saved: preprocessed_images\\frame_0471_jpg.rf.00e0688a54d7491078f033de914b3fcd.jpg\n",
      "Processed and saved: preprocessed_images\\frame_0471_jpg.rf.1cbb7b30d756f1de6d37e16ece93f117.jpg\n",
      "Processed and saved: preprocessed_images\\frame_0471_jpg.rf.5d31d059de479a0e51457e453c767fbe.jpg\n",
      "Processed and saved: preprocessed_images\\frame_0472_jpg.rf.1b5ca7f8dbb2284b2d9fd44619525a5d.jpg\n",
      "Processed and saved: preprocessed_images\\frame_0473_jpg.rf.54a354310debc3e12124b67316ebdeed.jpg\n",
      "Processed and saved: preprocessed_images\\frame_0475_jpg.rf.a095786adf71742630b0154aca77dfd7.jpg\n",
      "Processed and saved: preprocessed_images\\frame_0476_jpg.rf.2a9db0453d9d74935b7b048337dcf71d.jpg\n",
      "Processed and saved: preprocessed_images\\frame_0478_jpg.rf.e404c96b3b82b56903c8a9ebedf108f3.jpg\n",
      "Processed and saved: preprocessed_images\\frame_0479_jpg.rf.ca56af16c28356f1322eb4627ae8da61.jpg\n",
      "Processed and saved: preprocessed_images\\frame_0480_jpg.rf.fd9baf8b43d5ec8d15c3ec4da56a9ab9.jpg\n",
      "Processed and saved: preprocessed_images\\frame_0481_jpg.rf.70edae790c88ad6a047fe5a682596622.jpg\n",
      "Processed and saved: preprocessed_images\\frame_0482_jpg.rf.1ca3062f3c115dcf49df0780b8fc80ea.jpg\n",
      "Processed and saved: preprocessed_images\\frame_0596_jpg.rf.33188b579612bdea01dba7b5f18b8a25.jpg\n",
      "Processed and saved: preprocessed_images\\frame_0599_jpg.rf.69663a1138a6fa69f840eb2d4e4273d9.jpg\n",
      "Processed and saved: preprocessed_images\\frame_0600_jpg.rf.9ab556d9c69a589414c463ed2e60a3bd.jpg\n",
      "Processed and saved: preprocessed_images\\frame_0602_jpg.rf.cac3155b28b464d2275749710dcdde46.jpg\n",
      "Processed and saved: preprocessed_images\\frame_0603_jpg.rf.d425f398aea6c40fb16dce5b6ffd5437.jpg\n",
      "Processed and saved: preprocessed_images\\frame_0604_jpg.rf.edc127c932673c3a442671f09fe0e4f4.jpg\n",
      "Processed and saved: preprocessed_images\\frame_0616_jpg.rf.b9414c7bd04eb5c9bc3a1ea6a189aacb.jpg\n",
      "Processed and saved: preprocessed_images\\frame_0619_jpg.rf.1206d760f9419572cb9c83b228a78860.jpg\n",
      "Processed and saved: preprocessed_images\\frame_0620_jpg.rf.a2f3faf2798ca8d2b20d1e50c1bca255.jpg\n",
      "Processed and saved: preprocessed_images\\frame_0625_jpg.rf.8ee22cec68ebb615eb05b36b2cf890ba.jpg\n",
      "Processed and saved: preprocessed_images\\frame_0626_jpg.rf.8fbf9258db19a72da2a53603d3ece388.jpg\n",
      "Processed and saved: preprocessed_images\\frame_0627_jpg.rf.bbae3016f741c6e66a0ed8cade0fd2e9.jpg\n",
      "Processed and saved: preprocessed_images\\frame_0644_jpg.rf.35324c345cd88ece8f782959b0298c77.jpg\n",
      "Processed and saved: preprocessed_images\\frame_0645_jpg.rf.173d9971dedf5116c6e3917851602478.jpg\n",
      "Processed and saved: preprocessed_images\\frame_0645_jpg.rf.3df5ab0f41ab7256fc7cb3ae9d96693d.jpg\n",
      "Processed and saved: preprocessed_images\\frame_0645_jpg.rf.3faac116d31f82220b22f0f9998cec9f.jpg\n",
      "Processed and saved: preprocessed_images\\frame_0647_jpg.rf.a7cb91aac92c40a724c25ffc3c4f4a3c.jpg\n",
      "Processed and saved: preprocessed_images\\frame_0647_jpg.rf.dcf07306dfe1bdd6a4b2518a25cf13be.jpg\n",
      "Processed and saved: preprocessed_images\\frame_0650_jpg.rf.0b58fd6322b5d56c5decc37fff1e694f.jpg\n",
      "Processed and saved: preprocessed_images\\frame_0650_jpg.rf.0f06ecb29412f3f67ccda6e850e2c368.jpg\n",
      "Processed and saved: preprocessed_images\\frame_0650_jpg.rf.15e678da8266d6897e9b7dbfea3e2cc1.jpg\n",
      "Processed and saved: preprocessed_images\\frame_0651_jpg.rf.b10a2bca6113b4ca32905080702cf1fd.jpg\n",
      "Processed and saved: preprocessed_images\\frame_0652_jpg.rf.24045acd8759b908d138d1840de8dcb7.jpg\n",
      "Processed and saved: preprocessed_images\\frame_0652_jpg.rf.48727b07d72d42693542864b252ff9cf.jpg\n",
      "Processed and saved: preprocessed_images\\frame_0652_jpg.rf.ea5587a7f5faec339e235278aba36c05.jpg\n",
      "Processed and saved: preprocessed_images\\frame_0655_jpg.rf.2fb0d157fc792c6771e1479a7ca05fe9.jpg\n",
      "Processed and saved: preprocessed_images\\frame_0655_jpg.rf.7dade7d630ea8c172482980bb876e321.jpg\n",
      "Processed and saved: preprocessed_images\\frame_0656_jpg.rf.81b8b85e11bb6bfb1258525c0aa9be53.jpg\n",
      "Processed and saved: preprocessed_images\\frame_0656_jpg.rf.f14aba2794eff474d81ed9d232079e89.jpg\n",
      "Processed and saved: preprocessed_images\\frame_0657_jpg.rf.40614940b39647890cbe2b10b36f9776.jpg\n",
      "Processed and saved: preprocessed_images\\frame_0657_jpg.rf.d0c53634cbfd5221bf64df18a8842752.jpg\n",
      "Processed and saved: preprocessed_images\\frame_0658_jpg.rf.215a41b8712550e68b84862d08739be2.jpg\n",
      "Processed and saved: preprocessed_images\\frame_0658_jpg.rf.c54892b57c2d3639360605ef111b472c.jpg\n",
      "Processed and saved: preprocessed_images\\frame_0658_jpg.rf.f3001d5b0fb467cd7dcb571fb7ffd696.jpg\n",
      "Processed and saved: preprocessed_images\\frame_0659_jpg.rf.0742991831aa06eeb95f5b761757d6ec.jpg\n",
      "Processed and saved: preprocessed_images\\frame_0659_jpg.rf.82bcf78321f5b60bed8004bc2b24254e.jpg\n",
      "Processed and saved: preprocessed_images\\frame_0659_jpg.rf.f235912e7c81440a06fe6eded47efa43.jpg\n",
      "Processed and saved: preprocessed_images\\frame_0660_jpg.rf.8e4067a6ab2d517845b510aab5422b48.jpg\n",
      "Processed and saved: preprocessed_images\\frame_0661_jpg.rf.0c0cef43a2fb287b0967eb6bb160800c.jpg\n",
      "Processed and saved: preprocessed_images\\frame_0661_jpg.rf.14b4004cc168bd3b13b0e9e4598aefc5.jpg\n",
      "Processed and saved: preprocessed_images\\frame_0661_jpg.rf.c7b8a6a264350ac56f4719c75a90f6b8.jpg\n",
      "Processed and saved: preprocessed_images\\frame_0664_jpg.rf.236d3d7df73379b8e147fd8d22e8e6af.jpg\n",
      "Processed and saved: preprocessed_images\\frame_0664_jpg.rf.5f5237104cc035bcba8447566fb61136.jpg\n",
      "Processed and saved: preprocessed_images\\frame_0664_jpg.rf.a5c6411f872ef623d8191b466e9c2416.jpg\n",
      "Processed and saved: preprocessed_images\\frame_0666_jpg.rf.2069d250b2ec7ead9cac9bfc47f1dfa4.jpg\n",
      "Processed and saved: preprocessed_images\\frame_0666_jpg.rf.fc0738b226bf90ac1520e9f9844c1f47.jpg\n",
      "Processed and saved: preprocessed_images\\frame_0674_jpg.rf.c35cc1232cf425841b4ce4423c66c2f7.jpg\n",
      "Processed and saved: preprocessed_images\\frame_0674_jpg.rf.d1d6292f9535595091120a7516ceec54.jpg\n",
      "Processed and saved: preprocessed_images\\frame_0675_jpg.rf.5b267ebf412414836801eb1c4f74dbb8.jpg\n",
      "Processed and saved: preprocessed_images\\frame_0675_jpg.rf.cc1e83500c1b7b6dac4b76ba366d3241.jpg\n",
      "Processed and saved: preprocessed_images\\frame_0676_jpg.rf.8bcba91379f148d6e065a57f247e49d4.jpg\n",
      "Processed and saved: preprocessed_images\\frame_0676_jpg.rf.c76330cbfd2d7487a8e7b4701506ead5.jpg\n",
      "Processed and saved: preprocessed_images\\frame_0676_jpg.rf.f9e6dd39095269da01a23c81f64f5f71.jpg\n",
      "Processed and saved: preprocessed_images\\frame_0677_jpg.rf.9aa66b170dd1d12baff4c85afd4d3f8c.jpg\n",
      "Processed and saved: preprocessed_images\\frame_0678_jpg.rf.f73a76f064eb304b5c16bb09f366041a.jpg\n",
      "Processed and saved: preprocessed_images\\frame_0679_jpg.rf.c326e61ef09e5cc5011b60b4f1c40b18.jpg\n",
      "Processed and saved: preprocessed_images\\frame_0701_jpg.rf.600b604fa0afe939db4b6933e56dcc63.jpg\n",
      "Processed and saved: preprocessed_images\\frame_0704_jpg.rf.db28cbcf467973460e09f3fc4f73a07f.jpg\n",
      "Processed and saved: preprocessed_images\\frame_0705_jpg.rf.2b02b2cfb73ddf70dff76e55906e9073.jpg\n",
      "Processed and saved: preprocessed_images\\frame_0706_jpg.rf.f7d6172281e91b09c7c76735026d6562.jpg\n",
      "Processed and saved: preprocessed_images\\frame_0718_jpg.rf.dd5dbc4f32f0a061689db14cc99b57be.jpg\n",
      "Processed and saved: preprocessed_images\\frame_0725_jpg.rf.3d0a794ba1d281e277e6b6ea05393df7.jpg\n",
      "Processed and saved: preprocessed_images\\frame_0725_jpg.rf.9358f7dbdb9c64b165026c3240169394.jpg\n",
      "Processed and saved: preprocessed_images\\frame_0727_jpg.rf.09b28edd52ae324c66fc59bdd5e71ed0.jpg\n",
      "Processed and saved: preprocessed_images\\frame_0727_jpg.rf.37f730f3f7f42ac7ca425d5fd4458f90.jpg\n",
      "Processed and saved: preprocessed_images\\frame_0728_jpg.rf.387111129906e0d5dbed558a6c5e0cf0.jpg\n",
      "Processed and saved: preprocessed_images\\frame_0728_jpg.rf.3cc16aa4fbea6a3e35a20ca4f34cc9a1.jpg\n",
      "Processed and saved: preprocessed_images\\frame_0728_jpg.rf.710ea78c28eca128d106ecaf8976dec9.jpg\n",
      "Processed and saved: preprocessed_images\\frame_0731_jpg.rf.581d71dbdeef3e19d1edd60780715bed.jpg\n",
      "Processed and saved: preprocessed_images\\frame_0731_jpg.rf.5e06446cd9018820b13f64f9aedb6db2.jpg\n",
      "Processed and saved: preprocessed_images\\frame_0732_jpg.rf.02bc11bdb9c18d2a699feac7fb2a7205.jpg\n",
      "Processed and saved: preprocessed_images\\frame_0733_jpg.rf.4822fb98ed5f13f1f0f9e5a158eb0740.jpg\n",
      "Processed and saved: preprocessed_images\\frame_0733_jpg.rf.53591fca9bc7d0c4a1f2cc1fc594100d.jpg\n",
      "Processed and saved: preprocessed_images\\frame_0734_jpg.rf.287ceb45db6208c82cddcfb53f8566d0.jpg\n",
      "Processed and saved: preprocessed_images\\frame_0734_jpg.rf.e11272d8c112982b966537b95983af30.jpg\n",
      "Processed and saved: preprocessed_images\\frame_0735_jpg.rf.2b3b9231440fdcc3b9987a311471bc45.jpg\n",
      "Processed and saved: preprocessed_images\\frame_0735_jpg.rf.56db18d6f18eb810307d8d7784309de4.jpg\n",
      "Processed and saved: preprocessed_images\\frame_0737_jpg.rf.83c58105a1d36a1139f946a69de56f78.jpg\n",
      "Processed and saved: preprocessed_images\\frame_0737_jpg.rf.db0046f26bbd06cee5846dd195131bd2.jpg\n",
      "Processed and saved: preprocessed_images\\frame_0738_jpg.rf.1b13307c63ba2d974ea47093b215913d.jpg\n",
      "Processed and saved: preprocessed_images\\frame_0738_jpg.rf.912db4426ef834b4846c2a7d13c8da82.jpg\n",
      "Processed and saved: preprocessed_images\\frame_0739_jpg.rf.64a7b5eb00e4188346d81996fc3084dd.jpg\n",
      "Processed and saved: preprocessed_images\\frame_0739_jpg.rf.72cdb85ae3a8a4bd755e2ba0fd095dec.jpg\n",
      "Processed and saved: preprocessed_images\\frame_0739_jpg.rf.b4d3dc1df86fc39db5ae3e5bd1cb7c21.jpg\n",
      "Processed and saved: preprocessed_images\\frame_0740_jpg.rf.7d410116d7ee65b63f6873121ad20f12.jpg\n",
      "Processed and saved: preprocessed_images\\frame_0740_jpg.rf.9102f16998461bb4ae69371a2278d727.jpg\n",
      "Processed and saved: preprocessed_images\\frame_0740_jpg.rf.cdb8f90ffb484a371b9d3381b1394db7.jpg\n",
      "Processed and saved: preprocessed_images\\frame_0741_jpg.rf.71a3ec6a3bc5d2247914b7592293d393.jpg\n",
      "Processed and saved: preprocessed_images\\frame_0741_jpg.rf.c1064ff1597387496996907c03fb4727.jpg\n",
      "Processed and saved: preprocessed_images\\frame_0741_jpg.rf.db87480c3af2fe2d160e25b98e04ea5b.jpg\n",
      "Processed and saved: preprocessed_images\\frame_0742_jpg.rf.2b8fd8b2f7fa13f1fa23c9a5e9cf8d47.jpg\n",
      "Processed and saved: preprocessed_images\\frame_0742_jpg.rf.794f238e87c653d703e5d84f130e8cd4.jpg\n",
      "Processed and saved: preprocessed_images\\frame_0742_jpg.rf.82f0663d26399210ce8d36359cf3b332.jpg\n",
      "Processed and saved: preprocessed_images\\frame_0743_jpg.rf.24b5af6e89b5d16c4b8e3993acf4c0dd.jpg\n",
      "Processed and saved: preprocessed_images\\frame_0743_jpg.rf.cb51855b0c4b8b9ea04e5b8a4bfaf4aa.jpg\n",
      "Processed and saved: preprocessed_images\\frame_0746_jpg.rf.1cb03b18e9bf650b4e155e0a6d94fa14.jpg\n",
      "Processed and saved: preprocessed_images\\frame_0746_jpg.rf.5099b6a2d0577d07fb46ccd798c53260.jpg\n",
      "Processed and saved: preprocessed_images\\frame_0747_jpg.rf.2412af7ff71454b3161d49c73836ef7e.jpg\n",
      "Processed and saved: preprocessed_images\\frame_0747_jpg.rf.b36cd223dcd435040460f0247f61cc35.jpg\n",
      "Processed and saved: preprocessed_images\\frame_0749_jpg.rf.43d2d394738e113e59319049aacc796f.jpg\n",
      "Processed and saved: preprocessed_images\\frame_0749_jpg.rf.f74b20658e84b5407fa91e961dedeb91.jpg\n",
      "Processed and saved: preprocessed_images\\frame_0750_jpg.rf.0cb6a9f77ea8866f2171678e4c4457f6.jpg\n",
      "Processed and saved: preprocessed_images\\frame_0750_jpg.rf.2ef980f87859b48bc6262a6d314b83dc.jpg\n",
      "Processed and saved: preprocessed_images\\frame_0750_jpg.rf.af044c40098d9918aa014f7710b764c6.jpg\n",
      "Processed and saved: preprocessed_images\\frame_0755_jpg.rf.b079c67481b2025b374b1642efeaeab2.jpg\n",
      "Processed and saved: preprocessed_images\\frame_0761_jpg.rf.e084aae4b98ea35cb530ae1d2831216d.jpg\n",
      "Processed and saved: preprocessed_images\\frame_0764_jpg.rf.296738e6219ebe2c21a4e91f1eb8e90a.jpg\n",
      "Processed and saved: preprocessed_images\\frame_0767_jpg.rf.7db063d3c45631ea0aebd37314c54244.jpg\n",
      "Processed and saved: preprocessed_images\\frame_0769_jpg.rf.fa756b3c17edce0cf00934fa0786745c.jpg\n",
      "Processed and saved: preprocessed_images\\frame_0770_jpg.rf.fbb8b997dfdf4997e1dea58fe76e77b7.jpg\n",
      "Processed and saved: preprocessed_images\\frame_0778_jpg.rf.b4fbabfdd3fcda12ac60a4f76069a23c.jpg\n",
      "Processed and saved: preprocessed_images\\frame_0779_jpg.rf.ad67ffe9c8b625d364f1ae76534acf46.jpg\n",
      "Processed and saved: preprocessed_images\\frame_0780_jpg.rf.78db01432dfbaa8a0dd008d0d2933eaa.jpg\n",
      "Processed and saved: preprocessed_images\\frame_0781_jpg.rf.908aea03e1adec5626bb2dc6378f44d2.jpg\n",
      "Processed and saved: preprocessed_images\\frame_0782_jpg.rf.2853f3ab5ed046ce617e06929fff296c.jpg\n",
      "Processed and saved: preprocessed_images\\frame_0784_jpg.rf.435a8189b6089d86f8decb2158c49b67.jpg\n",
      "Processed and saved: preprocessed_images\\frame_0785_jpg.rf.8ffd1ec65d0d42018b5a5059aac84bb3.jpg\n",
      "Processed and saved: preprocessed_images\\frame_0787_jpg.rf.21603c539c938d7faa78fc3634017424.jpg\n",
      "Processed and saved: preprocessed_images\\frame_0789_jpg.rf.d7bc236a84443a765a9c40210adb0794.jpg\n",
      "Processed and saved: preprocessed_images\\frame_0790_jpg.rf.e386d6a448b2786e5b8978307ce091de.jpg\n",
      "Processed and saved: preprocessed_images\\frame_0792_jpg.rf.eb6778914a00bc8b28695d11dff1cebb.jpg\n",
      "Processed and saved: preprocessed_images\\frame_0793_jpg.rf.6de70068293d3f6c6c1234051625a5aa.jpg\n",
      "Processed and saved: preprocessed_images\\frame_0794_jpg.rf.a984b257a47475ccc2ee6bdf6a010ce3.jpg\n",
      "Processed and saved: preprocessed_images\\frame_0795_jpg.rf.8d19a1ab702b5dcc52ac78ab597e53ab.jpg\n",
      "Processed and saved: preprocessed_images\\frame_0795_jpg.rf.b9ca8d084b69417bca13d380e83b70df.jpg\n",
      "Processed and saved: preprocessed_images\\frame_0796_jpg.rf.d45a806d1c6ececf7cd0c74fe6d372eb.jpg\n",
      "Processed and saved: preprocessed_images\\frame_0796_jpg.rf.f6d4b8f6011c4ad9a50b6da735af900a.jpg\n",
      "Processed and saved: preprocessed_images\\frame_0797_jpg.rf.07f05d3001928ca1ca015b0125b046d2.jpg\n",
      "Processed and saved: preprocessed_images\\frame_0797_jpg.rf.269c95ae47bafd98258df1defece1902.jpg\n",
      "Processed and saved: preprocessed_images\\frame_0800_jpg.rf.147a93f6e2fd1e3aecf27e3618e37136.jpg\n",
      "Processed and saved: preprocessed_images\\frame_0803_jpg.rf.b4e627bacc501d26fb57eb43aa1c6a7e.jpg\n",
      "Processed and saved: preprocessed_images\\frame_0805_jpg.rf.5700f27cb83301c64baeba86c24fadc4.jpg\n",
      "Processed and saved: preprocessed_images\\frame_0806_jpg.rf.134e7db3f8515ea8c539c333cc90375e.jpg\n",
      "Processed and saved: preprocessed_images\\frame_0807_jpg.rf.61b2e6514fd8fc3f5d426ebfed9d4a4b.jpg\n",
      "Processed and saved: preprocessed_images\\frame_0807_jpg.rf.e77f3800ca73c63b52f703a42c37687a.jpg\n",
      "Processed and saved: preprocessed_images\\frame_0808_jpg.rf.7df09bc98c378f62ec73862f4c19e914.jpg\n",
      "Processed and saved: preprocessed_images\\frame_0808_jpg.rf.8a28ff88b0582b53deb31aa43df89de6.jpg\n",
      "Processed and saved: preprocessed_images\\frame_0810_jpg.rf.43e9f6677fa6029d95023d608d99d62b.jpg\n",
      "Processed and saved: preprocessed_images\\frame_0810_jpg.rf.bee8bd0bba4d138ca7fe5466080eca1f.jpg\n",
      "Processed and saved: preprocessed_images\\frame_0812_jpg.rf.005bf676ba1878737a61374d8c40bdf0.jpg\n",
      "Processed and saved: preprocessed_images\\frame_0812_jpg.rf.8e870be25d78716ebb94b80087880759.jpg\n",
      "Processed and saved: preprocessed_images\\frame_0813_jpg.rf.3918b625af59a9788711990e27b591be.jpg\n",
      "Processed and saved: preprocessed_images\\frame_0814_jpg.rf.9e87d291c5ce860fa47d29f81c2de4b0.jpg\n",
      "Processed and saved: preprocessed_images\\frame_0814_jpg.rf.ef29d0e35b6931ec4a038af206d9aab6.jpg\n",
      "Processed and saved: preprocessed_images\\frame_0816_jpg.rf.cfecb316ab65989e1204ff129e8fb807.jpg\n",
      "Processed and saved: preprocessed_images\\frame_0816_jpg.rf.dd5d609da043bc4915bb471182cbed46.jpg\n",
      "Processed and saved: preprocessed_images\\frame_0818_jpg.rf.8d7a4023d56fb2c8708c8c5cecc0e463.jpg\n",
      "Processed and saved: preprocessed_images\\frame_0818_jpg.rf.d469d80431a14bc884cf13789742e943.jpg\n",
      "Processed and saved: preprocessed_images\\frame_0828_jpg.rf.bfa06d701c2fa97cf40b2e3f3cb82a2f.jpg\n",
      "Processed and saved: preprocessed_images\\frame_0829_jpg.rf.5281e075f22c29453c87ebbf49d88502.jpg\n",
      "Processed and saved: preprocessed_images\\frame_0831_jpg.rf.0060f66cfdf2bba87d2baa1c88badd33.jpg\n",
      "Processed and saved: preprocessed_images\\frame_0831_jpg.rf.6e267a981fc3a70b4e3a9d65bfa4b1b9.jpg\n",
      "Processed and saved: preprocessed_images\\frame_0834_jpg.rf.81bf9d971775162b054bcde01d44806d.jpg\n",
      "Processed and saved: preprocessed_images\\frame_0834_jpg.rf.c3262bfaba1b11303f6a6f64975dacf3.jpg\n",
      "Processed and saved: preprocessed_images\\frame_0835_jpg.rf.1c3118a7c99b1ce0394e92802a0d1bca.jpg\n",
      "Processed and saved: preprocessed_images\\frame_0835_jpg.rf.25d3fa2f035252b706962c78bc25caf4.jpg\n",
      "Processed and saved: preprocessed_images\\frame_0837_jpg.rf.2ae7611ae657cb0f3c378effc11bb515.jpg\n",
      "Processed and saved: preprocessed_images\\frame_0837_jpg.rf.7a37c14959f079326a10a725ea93a728.jpg\n",
      "Processed and saved: preprocessed_images\\frame_0843_jpg.rf.0782d0e0d1cda6a9f247dfd69650a90e.jpg\n",
      "Processed and saved: preprocessed_images\\frame_0843_jpg.rf.9158afafad3180a87357166620a06824.jpg\n",
      "Processed and saved: preprocessed_images\\frame_0844_jpg.rf.509ec7525689d38caa0b694f9a7ace3c.jpg\n",
      "Processed and saved: preprocessed_images\\frame_0844_jpg.rf.d8f70f2e34b09299154449ffde3eab74.jpg\n",
      "Processed and saved: preprocessed_images\\frame_0848_jpg.rf.4aaa52d4f72878108d41c01fad8c2b84.jpg\n",
      "Processed and saved: preprocessed_images\\frame_0848_jpg.rf.b23f85c860153a5029f04a01f9d2c660.jpg\n",
      "Processed and saved: preprocessed_images\\frame_0849_jpg.rf.444942fd563d8b98ad2102ec87fabca1.jpg\n",
      "Processed and saved: preprocessed_images\\frame_0849_jpg.rf.d0b3696f5f516b99ea35b50a85d66ce9.jpg\n",
      "Processed and saved: preprocessed_images\\frame_0851_jpg.rf.52ebc43657223d51e02716a0fcd99851.jpg\n",
      "Processed and saved: preprocessed_images\\frame_0851_jpg.rf.c85c59d4ff1e4162ed86d3fc909fb93a.jpg\n",
      "Processed and saved: preprocessed_images\\frame_0852_jpg.rf.aa57c93a2e020223d900d2532760c889.jpg\n",
      "Processed and saved: preprocessed_images\\frame_0853_jpg.rf.5724cd417f20e56835858bc3c2ef9e34.jpg\n",
      "Processed and saved: preprocessed_images\\frame_0853_jpg.rf.e7137995d78734d0562f7f4e8bbf3357.jpg\n",
      "Processed and saved: preprocessed_images\\frame_0855_jpg.rf.4cf2d11849003532e672419c4a18d758.jpg\n",
      "Processed and saved: preprocessed_images\\frame_0856_jpg.rf.4ed00e54fdf3b5317f7575bee3d894cb.jpg\n",
      "Processed and saved: preprocessed_images\\frame_0856_jpg.rf.f8a75e237deb21cd6de437599f2a4f64.jpg\n",
      "Processed and saved: preprocessed_images\\frame_0857_jpg.rf.40c69f5ccf315ba25b8d91e8ac5c99af.jpg\n",
      "Processed and saved: preprocessed_images\\frame_0858_jpg.rf.2eaa48ff96619e2caf47550b158e68ec.jpg\n",
      "Processed and saved: preprocessed_images\\frame_0862_jpg.rf.0acf316900eb55cc3867bfc21000ffc0.jpg\n",
      "Processed and saved: preprocessed_images\\frame_0863_jpg.rf.4da13fdfed8a4c375881d7d9b5a9ebed.jpg\n",
      "Processed and saved: preprocessed_images\\frame_0864_jpg.rf.cd829450eb9553a78ec886eeb119969a.jpg\n",
      "Processed and saved: preprocessed_images\\frame_0865_jpg.rf.2a9da7a5ad121bf6dc56b352b8515356.jpg\n",
      "Processed and saved: preprocessed_images\\frame_1002_jpg.rf.041289706ecd8f0daa1c36aaccd147d4.jpg\n",
      "Processed and saved: preprocessed_images\\frame_1025_jpg.rf.4c927484440834415dfa316ed441160c.jpg\n",
      "Processed and saved: preprocessed_images\\frame_1026_jpg.rf.eacf1b082d6d95880015c128d8078b9c.jpg\n",
      "Processed and saved: preprocessed_images\\frame_1027_jpg.rf.1de19f8ea866a25e34d2cb8fd0a02857.jpg\n",
      "Processed and saved: preprocessed_images\\frame_1028_jpg.rf.7608890c34b9176055d61821e37b3a1c.jpg\n",
      "Processed and saved: preprocessed_images\\frame_1030_jpg.rf.70fa9bef193a9df88070242ac77c054c.jpg\n",
      "Processed and saved: preprocessed_images\\frame_1032_jpg.rf.e84b053b2148e95bc90916f9af43ab06.jpg\n",
      "Processed and saved: preprocessed_images\\frame_1036_jpg.rf.27a5cc54319be05afce461288c5e81c6.jpg\n",
      "Processed and saved: preprocessed_images\\frame_1048_jpg.rf.1d62a13d00c5d44bb1e54b7362533e35.jpg\n",
      "Processed and saved: preprocessed_images\\frame_1052_jpg.rf.daa284e8c697ac297cec36d46ada055f.jpg\n",
      "Processed and saved: preprocessed_images\\frame_1054_jpg.rf.8df3958434a6cbe171e88d5cb357a414.jpg\n",
      "Processed and saved: preprocessed_images\\frame_1065_jpg.rf.a0c18097fbd452ee1e215eedc6c9359c.jpg\n",
      "Processed and saved: preprocessed_images\\frame_1066_jpg.rf.71af95a900e9de7cb325993975a3ebfb.jpg\n",
      "Processed and saved: preprocessed_images\\frame_1070_jpg.rf.7ed91fc9872e2fd52f07a2b1642d7a05.jpg\n",
      "Processed and saved: preprocessed_images\\frame_1071_jpg.rf.907e9d472b04f5744695bcab05b69d13.jpg\n",
      "Processed and saved: preprocessed_images\\frame_1072_jpg.rf.45ab05351656409c079318a9fc016137.jpg\n",
      "Processed and saved: preprocessed_images\\frame_1073_jpg.rf.f304b1634104d134a1e5daeb0bb362da.jpg\n",
      "Processed and saved: preprocessed_images\\frame_1076_jpg.rf.38d846a1f5a71abc4b9cfc3ed47deb0c.jpg\n",
      "Processed and saved: preprocessed_images\\frame_1077_jpg.rf.323a25eb824261cfabc795dbf2f2710d.jpg\n",
      "Processed and saved: preprocessed_images\\frame_1078_jpg.rf.e9e49158895c3352b0b4cafdb7f9c28a.jpg\n",
      "Processed and saved: preprocessed_images\\frame_1079_jpg.rf.5bee60662e7959381485f79e3ec4c090.jpg\n",
      "Processed and saved: preprocessed_images\\frame_1080_jpg.rf.44973309baee977d91c23985279e683e.jpg\n",
      "Processed and saved: preprocessed_images\\frame_1081_jpg.rf.6a2073aad6df7479ce770dfa2b9ee80e.jpg\n",
      "Processed and saved: preprocessed_images\\frame_1083_jpg.rf.e3b62862940963023645370e4818947f.jpg\n",
      "Processed and saved: preprocessed_images\\frame_1091_jpg.rf.bc0561f2a7606e4c0e80ed71353dcf67.jpg\n",
      "Processed and saved: preprocessed_images\\frame_1244_jpg.rf.1a79f4879f1673dcfa415a02f17dbf55.jpg\n",
      "Processed and saved: preprocessed_images\\frame_1257_jpg.rf.02ecc724fdfe423e76869c210ebafd05.jpg\n",
      "Processed and saved: preprocessed_images\\frame_1258_jpg.rf.b01a87c50306393871b93f9af6a37d8a.jpg\n",
      "Processed and saved: preprocessed_images\\frame_1259_jpg.rf.005aeff34e43cbdc35e50b86c1065049.jpg\n",
      "Processed and saved: preprocessed_images\\frame_1260_jpg.rf.2246bb544de2208894ad86fd2bac33b9.jpg\n",
      "Processed and saved: preprocessed_images\\frame_1262_jpg.rf.8a6bc41d627340ca48b320565276e8f8.jpg\n",
      "Processed and saved: preprocessed_images\\frame_1264_jpg.rf.11e0129f93b7d735afa659de1fc33857.jpg\n",
      "Processed and saved: preprocessed_images\\frame_1265_jpg.rf.dda895c26866e1646faf938e091430cb.jpg\n",
      "Processed and saved: preprocessed_images\\frame_1269_jpg.rf.67ded5a04e31c323860a065de471c6c3.jpg\n",
      "Processed and saved: preprocessed_images\\frame_1270_jpg.rf.0c53a1b7c3d59cd12323425e420e9f7a.jpg\n",
      "Processed and saved: preprocessed_images\\frame_1271_jpg.rf.574a3deeb5c59010002aef69c3a48f60.jpg\n",
      "Processed and saved: preprocessed_images\\frame_1272_jpg.rf.33e8cba67f827dc7a55b2f07b2466588.jpg\n",
      "Processed and saved: preprocessed_images\\frame_1273_jpg.rf.e3dbd27465b02f0ea522500f2347e01a.jpg\n",
      "Processed and saved: preprocessed_images\\frame_1274_jpg.rf.0c65c979ca7d57c4f2397acfbd3cae3a.jpg\n",
      "Processed and saved: preprocessed_images\\frame_1285_jpg.rf.0ca315c2d8badc831dd4ec34ad50625f.jpg\n",
      "Processed and saved: preprocessed_images\\frame_1286_jpg.rf.f78eeed447515e90c243e01332d15dd7.jpg\n",
      "Processed and saved: preprocessed_images\\frame_1287_jpg.rf.8e88218c503dca70ee56bdbdcbf3d063.jpg\n",
      "Processed and saved: preprocessed_images\\frame_1288_jpg.rf.e94599a90479f8643f40eb34fe0efed5.jpg\n",
      "Processed and saved: preprocessed_images\\frame_1289_jpg.rf.ee0f13c4cc8893ad98dbb26c853dc716.jpg\n",
      "Processed and saved: preprocessed_images\\frame_1290_jpg.rf.b900ae3d054b16a81aa63c21bca15ea8.jpg\n",
      "Processed and saved: preprocessed_images\\frame_1295_jpg.rf.bec9e36e7f7e905352d2a94e636f376e.jpg\n",
      "Processed and saved: preprocessed_images\\frame_1319_jpg.rf.5f9d1bfbfaba67fdcd4006c83aef068c.jpg\n",
      "Processed and saved: preprocessed_images\\frame_1320_jpg.rf.e58166a6f04d759581e9e2b1942bdbdd.jpg\n",
      "Processed and saved: preprocessed_images\\frame_1321_jpg.rf.4350ee20b6b8379ed0ecc2404aa44c0d.jpg\n",
      "Processed and saved: preprocessed_images\\frame_1322_jpg.rf.8c02517137d93d6ee3a8c14ba7358bc3.jpg\n",
      "Processed and saved: preprocessed_images\\frame_1323_jpg.rf.0ca92c095cf763f7eeac7bc8e2f5af93.jpg\n",
      "Processed and saved: preprocessed_images\\frame_1324_jpg.rf.54390cd49463aaaf4bfa585439f1d0f5.jpg\n",
      "Processed and saved: preprocessed_images\\frame_1325_jpg.rf.c461959e74c87a9ed69c372300353619.jpg\n",
      "Processed and saved: preprocessed_images\\frame_1376_jpg.rf.37b7611a2b74ff4c5ecfcfd95bd4fd4e.jpg\n",
      "Processed and saved: preprocessed_images\\frame_1377_jpg.rf.14190334601d401a6366b122fb27f089.jpg\n",
      "Processed and saved: preprocessed_images\\frame_1378_jpg.rf.dc6d3b713b81a189a976c29ae8bebe8f.jpg\n",
      "Processed and saved: preprocessed_images\\frame_1379_jpg.rf.ac5c85971701bf5e9cd99e8850cc18e2.jpg\n",
      "Processed and saved: preprocessed_images\\frame_1381_jpg.rf.583e057c145906b13eebb854f57e14af.jpg\n",
      "Processed and saved: preprocessed_images\\frame_1385_jpg.rf.a06322d7ea266ec818cb4da383bb9f44.jpg\n",
      "Processed and saved: preprocessed_images\\frame_1406_jpg.rf.e00d797fc286dbdeeb908ea562baba1d.jpg\n",
      "Processed and saved: preprocessed_images\\frame_1407_jpg.rf.3f9fb877a0ce409bced14474f4a7ccff.jpg\n",
      "Processed and saved: preprocessed_images\\frame_1408_jpg.rf.f7983cd1ddcf0f747681eaf5de01fa9a.jpg\n",
      "Processed and saved: preprocessed_images\\frame_1409_jpg.rf.90fec50600b2afac6f9366c19c510eb1.jpg\n",
      "Processed and saved: preprocessed_images\\frame_1410_jpg.rf.f544c5e710dca0a34883123de0fe3ddf.jpg\n",
      "Processed and saved: preprocessed_images\\frame_1417_jpg.rf.4ba3c2233c21f72dd1f9f2380d86aa82.jpg\n",
      "Processed and saved: preprocessed_images\\frame_1418_jpg.rf.0d95549d61895cc89730f5620821ae9a.jpg\n",
      "Processed and saved: preprocessed_images\\frame_1423_jpg.rf.c00d712aee8ee859baf165e5be0307a1.jpg\n",
      "Processed and saved: preprocessed_images\\frame_1424_jpg.rf.5888ad6867d2cc62793a7cd035479ee8.jpg\n",
      "Processed and saved: preprocessed_images\\frame_1425_jpg.rf.683477ae242cc709d6c6d797213dd6b2.jpg\n",
      "Processed and saved: preprocessed_images\\frame_1426_jpg.rf.8544ecca56864445fb9c707d9bce9395.jpg\n",
      "Processed and saved: preprocessed_images\\frame_1427_jpg.rf.0677c4327f03b279aa7b51d02ce50e38.jpg\n",
      "Processed and saved: preprocessed_images\\frame_1428_jpg.rf.578595e0cc00062b71e70b99ccb947b3.jpg\n",
      "Processed and saved: preprocessed_images\\frame_1429_jpg.rf.176dea4ab52c87f2805f1b398e8c4fee.jpg\n",
      "Processed and saved: preprocessed_images\\frame_1430_jpg.rf.d02d372548d7624a7b08ed19cdf0906d.jpg\n",
      "Processed and saved: preprocessed_images\\frame_1431_jpg.rf.441935fdafc4f2dae81256a35012f651.jpg\n",
      "Processed and saved: preprocessed_images\\frame_1432_jpg.rf.c75b509af9165084d669519e3e48691d.jpg\n",
      "Processed and saved: preprocessed_images\\frame_1433_jpg.rf.8a8fba68b62de1d5d1c39464a6667030.jpg\n",
      "Processed and saved: preprocessed_images\\frame_1434_jpg.rf.bec31f50dcd0810ce34dc442e9b0e4f4.jpg\n",
      "Processed and saved: preprocessed_images\\frame_1435_jpg.rf.742107f03c4de03edb1290549607d99d.jpg\n",
      "Processed and saved: preprocessed_images\\frame_1436_jpg.rf.06c32ed74d692c2acef83426b66ae401.jpg\n",
      "Processed and saved: preprocessed_images\\frame_1437_jpg.rf.4bcc99ac488101cee0c429e3a84d01fc.jpg\n",
      "Processed and saved: preprocessed_images\\frame_1438_jpg.rf.fc80fd86a028253907d3f7501e2486c2.jpg\n",
      "Processed and saved: preprocessed_images\\frame_1439_jpg.rf.682d948f2b027275227374b11bff5940.jpg\n",
      "Processed and saved: preprocessed_images\\frame_1440_jpg.rf.388ee90b1d321db8d0251753c08c0c61.jpg\n",
      "Processed and saved: preprocessed_images\\frame_1442_jpg.rf.5ded22550683284a20b6df6220dd672a.jpg\n",
      "Processed and saved: preprocessed_images\\frame_1444_jpg.rf.5ae8a1e72381ec0435b943e1a922a186.jpg\n",
      "Processed and saved: preprocessed_images\\frame_1445_jpg.rf.a70c04ead1a12737ccc2ba47293c5bbf.jpg\n",
      "Processed and saved: preprocessed_images\\frame_1446_jpg.rf.c5e6ab4d99122eb345a34dc820ac56b7.jpg\n",
      "Processed and saved: preprocessed_images\\frame_1447_jpg.rf.893a6c4d530855f95309b4a9171771f6.jpg\n",
      "Processed and saved: preprocessed_images\\frame_1448_jpg.rf.a0b50b8aa04d4e64d99cd86d136e0aff.jpg\n",
      "Processed and saved: preprocessed_images\\frame_1449_jpg.rf.a4cae95686bd6a7652febd8f73a97785.jpg\n",
      "Processed and saved: preprocessed_images\\frame_1450_jpg.rf.e3cf9bd20ed159b4cd4f2a181a04cdfd.jpg\n",
      "Processed and saved: preprocessed_images\\frame_1451_jpg.rf.e2f999e46f7666b412aea50860f2d3fd.jpg\n",
      "Processed and saved: preprocessed_images\\frame_1452_jpg.rf.0d3da176af60eca54edeffe1d730d484.jpg\n",
      "Processed and saved: preprocessed_images\\frame_1453_jpg.rf.9ddc1690084e70743b4a58afc15d7b3e.jpg\n",
      "Processed and saved: preprocessed_images\\frame_1454_jpg.rf.bc1e0dc93b8af4be6e81f48a049b94a9.jpg\n",
      "Processed and saved: preprocessed_images\\frame_1455_jpg.rf.1882fd1187364318b6eefd72ffa73a4a.jpg\n",
      "Processed and saved: preprocessed_images\\frame_1456_jpg.rf.e295a3072f07de084321c7a57f1c7be9.jpg\n",
      "Processed and saved: preprocessed_images\\frame_1457_jpg.rf.9a2911834d696ce7f41dd54e8f6b4e3e.jpg\n",
      "Processed and saved: preprocessed_images\\frame_1459_jpg.rf.d7edcb94422a3899e59e0f94c8229666.jpg\n",
      "Processed and saved: preprocessed_images\\frame_1461_jpg.rf.f04da389cfe6179f811eafc1246f905a.jpg\n",
      "Processed and saved: preprocessed_images\\frame_1466_jpg.rf.9cd8e3702eafd1f7237d73333474c36a.jpg\n",
      "Processed and saved: preprocessed_images\\frame_1467_jpg.rf.876ead8ac314ed932ac334dc38af6fd5.jpg\n",
      "Processed and saved: preprocessed_images\\frame_1468_jpg.rf.9edc6bc0c9ae6d5c3958d35b9dddf609.jpg\n",
      "Processed and saved: preprocessed_images\\frame_1469_jpg.rf.b3af9ebcab7fd29b0c6e289adcf2eb0a.jpg\n",
      "Processed and saved: preprocessed_images\\frame_1470_jpg.rf.b3b4a8c5901c92b3ea7a09773d37e924.jpg\n",
      "Processed and saved: preprocessed_images\\frame_1472_jpg.rf.d67d095d1a5f039ede117f56a485ff70.jpg\n",
      "Processed and saved: preprocessed_images\\frame_1474_jpg.rf.f7bdada92e8a7a44a87dae6175dc624b.jpg\n",
      "Processed and saved: preprocessed_images\\frame_1475_jpg.rf.ab4d7b472829202b0bd1e7e1a0e77892.jpg\n"
     ]
    }
   ],
   "source": [
    "#preprocess the images \n",
    "import os\n",
    "import cv2\n",
    "import numpy as np\n",
    "\n",
    "def preprocess_underwater_image(image):\n",
    "    lab_image = cv2.cvtColor(image, cv2.COLOR_BGR2LAB)\n",
    "\n",
    "    l_channel, a_channel, b_channel = cv2.split(lab_image)\n",
    "\n",
    "    clahe = cv2.createCLAHE(clipLimit=2.0, tileGridSize=(8, 8))\n",
    "    enhanced_l_channel = clahe.apply(l_channel)\n",
    "\n",
    "    enhanced_lab_image = cv2.merge([enhanced_l_channel, a_channel, b_channel])\n",
    "\n",
    "    enhanced_image = cv2.cvtColor(enhanced_lab_image, cv2.COLOR_LAB2BGR)\n",
    "\n",
    "    gamma = 1.5\n",
    "    enhanced_image = np.power(enhanced_image / 255.0, gamma)\n",
    "    enhanced_image = np.uint8(enhanced_image * 255)\n",
    "\n",
    "    return enhanced_image\n",
    "\n",
    "def preprocess_images_in_folder(input_folder, output_folder):\n",
    "    os.makedirs(output_folder, exist_ok=True)\n",
    "\n",
    "    for filename in os.listdir(input_folder):\n",
    "        input_path = os.path.join(input_folder, filename)\n",
    "        if os.path.isfile(input_path) and filename.lower().endswith(('.png', '.jpg', '.jpeg')):\n",
    "            image = cv2.imread(input_path)\n",
    "            preprocessed_image = preprocess_underwater_image(image)\n",
    "            output_path = os.path.join(output_folder, filename)\n",
    "            cv2.imwrite(output_path, preprocessed_image)\n",
    "            print(f\"Processed and saved: {output_path}\")\n",
    "\n",
    "# Define input and output folders\n",
    "input_folder = r'DePondFi24_Train\\DePoondFi24_Train\\Images'\n",
    "output_folder = r'preprocessed_images'\n",
    "\n",
    "preprocess_images_in_folder(input_folder, output_folder)\n"
   ]
  },
  {
   "cell_type": "code",
   "execution_count": 12,
   "metadata": {},
   "outputs": [
    {
     "name": "stdout",
     "output_type": "stream",
     "text": [
      "Created the output folder\n"
     ]
    }
   ],
   "source": [
    "#converting anotations to yolo format\n",
    "# Set the paths for the image and keypoint folders\n",
    "keypoint_folder = 'DePondFi24_Train\\DePoondFi24_Train\\Keypoints'\n",
    "\n",
    "# Set the output folder for the YOLO annotations\n",
    "output_folder = 'YOLO_annotations_updated'\n",
    "height = 640\n",
    "width = 640\n",
    "os.makedirs(output_folder, exist_ok=True)\n",
    "print(\"Created the output folder\")\n",
    "# Loop through all images in the image folder\n",
    "for filename in os.listdir(input_folder):\n",
    "    if filename.endswith('.jpg') or filename.endswith('.png'):\n",
    "        image_path = os.path.join(input_folder, filename)\n",
    "        image = cv2.imread(image_path)\n",
    "\n",
    "        base_name = os.path.splitext(filename)[0]\n",
    "        keypoint_file = os.path.join(keypoint_folder, f'{base_name}.txt')\n",
    "\n",
    "        keypoints = []\n",
    "        with open(keypoint_file, 'r') as f:\n",
    "            for line in f:\n",
    "                x, y = map(float, line.strip().split(','))\n",
    "                keypoints.append((x, y))\n",
    "\n",
    "        output_file = os.path.join(output_folder, f'{base_name}.txt')\n",
    "        with open(output_file, 'w') as f:\n",
    "            for i in range(0, len(keypoints), 9):\n",
    "                # Extract the x and y coordinates\n",
    "                x_coords = [x for x, y in keypoints[i:i+9]]\n",
    "                y_coords = [y for x, y in keypoints[i:i+9]]\n",
    "                # Calculate the bounding box coordinates\n",
    "                fish_center_x, fish_center_y = x_coords[3] , y_coords[3]\n",
    "                # Calculate the center of the bounding box\n",
    "                x_center = fish_center_x / width\n",
    "                y_center = fish_center_y / height\n",
    "                bbw = (max(x_coords) - min(x_coords)) / width\n",
    "                bbh = (max(y_coords) - min(y_coords)) / height\n",
    "                # Calculate the width and height of the bounding box\n",
    "                # Write the annotation to the file\n",
    "                mouth_x , mouth_y = x_coords[0]/width, y_coords[0]/height\n",
    "                eye_x, eye_y = x_coords[1]/width, y_coords[1]/height\n",
    "                top_fin_x, top_fin_y = x_coords[2]/width, y_coords[2]/height\n",
    "                fish_center_x , fish_center_y = fish_center_x/width, fish_center_y/height\n",
    "                bottom_center_x , bottom_center_y = x_coords[4]/width , y_coords[4]/height\n",
    "                start_point_tail_x, start_point_tail_y = x_coords[5]/width, y_coords[5]/height\n",
    "                top_outline_tail_x , top_outline_tail_y = x_coords[6]/width, y_coords[6]/height\n",
    "                mid_outline_tail_x , mid_outline_tail_y = x_coords[7]/width, y_coords[7]/height\n",
    "                bottom_outline_tail_x , bottom_outline_tail_y = x_coords[8]/width, y_coords[8]/height\n",
    "                f.write(f'0 {x_center} {y_center} {bbw} {bbh} {mouth_x} {mouth_y} {eye_x} {eye_y} {top_fin_x} {top_fin_y} {fish_center_x} {fish_center_y} {bottom_center_x} {bottom_center_y} {start_point_tail_x} {start_point_tail_y} {top_outline_tail_x} {top_outline_tail_y} {mid_outline_tail_x} {mid_outline_tail_y} {bottom_outline_tail_x} {bottom_outline_tail_y}\\n')\n"
   ]
  },
  {
   "cell_type": "code",
   "execution_count": 13,
   "metadata": {},
   "outputs": [
    {
     "name": "stdout",
     "output_type": "stream",
     "text": [
      "Dataset split and copied successfully.\n"
     ]
    }
   ],
   "source": [
    "#dividing the images into train and test for YOlO \n",
    "import os\n",
    "import random\n",
    "import shutil\n",
    "from sklearn.model_selection import train_test_split\n",
    "\n",
    "# Paths\n",
    "images_dir = 'preprocessed_images'\n",
    "annotations_dir = 'YOLO_annotations_updated'\n",
    "output_dir = 'YOLO_training/'\n",
    "\n",
    "# Create output directories\n",
    "train_images_dir = os.path.join(output_dir, 'images', 'train')\n",
    "train_labels_dir = os.path.join(output_dir, 'labels', 'train')\n",
    "val_images_dir = os.path.join(output_dir, 'images', 'val')\n",
    "val_labels_dir = os.path.join(output_dir, 'labels', 'val')\n",
    "\n",
    "os.makedirs(train_images_dir, exist_ok=True)\n",
    "os.makedirs(train_labels_dir, exist_ok=True)\n",
    "os.makedirs(val_images_dir, exist_ok=True)\n",
    "os.makedirs(val_labels_dir, exist_ok=True)\n",
    "\n",
    "image_files = [f for f in os.listdir(images_dir) if f.endswith(('.png', '.jpg', '.jpeg'))]\n",
    "\n",
    "# Split the dataset into train and test\n",
    "train_files, test_files = train_test_split(image_files, test_size=0.2, random_state=42)\n",
    "\n",
    "def copy_files(files, src_dir, dst_dir, extension):\n",
    "    for file in files:\n",
    "        name, _ = os.path.splitext(file)\n",
    "        src_path = os.path.join(src_dir, f\"{name}{extension}\")\n",
    "        dst_path = os.path.join(dst_dir, f\"{name}{extension}\")\n",
    "        if os.path.exists(src_path):\n",
    "            shutil.copy(src_path, dst_path)\n",
    "\n",
    "copy_files(train_files, images_dir, train_images_dir, '.jpg')\n",
    "copy_files(train_files, annotations_dir, train_labels_dir, '.txt')\n",
    "\n",
    "copy_files(test_files, images_dir,val_images_dir, '.jpg')\n",
    "copy_files(test_files, annotations_dir, val_labels_dir, '.txt')\n",
    "\n",
    "print(\"Dataset split and copied successfully.\")\n"
   ]
  },
  {
   "cell_type": "code",
   "execution_count": 14,
   "metadata": {},
   "outputs": [
    {
     "name": "stdout",
     "output_type": "stream",
     "text": [
      "data.yaml file created successfully.\n"
     ]
    },
    {
     "data": {
      "text/plain": [
       "\"\\nsettings_version: 0.0.4\\ndatasets_dir: path_to_source_directory\\\\Pondifyweights_dir: weights\\nruns_dir: runs\\nuuid: xxxxxxxx-xxxx-xxxx-xxxx-xxxxxxxxxxxx\\nsync: true\\napi_key: ''\\nopenai_api_key: ''\\nclearml: true\\ncomet: true\\ndvc: true\\nhub: true\\nmlflow: true\\nneptune: true\\nraytune: true\\ntensorboard: true\\nwandb: true\\n\""
      ]
     },
     "execution_count": 14,
     "metadata": {},
     "output_type": "execute_result"
    }
   ],
   "source": [
    "#create a data.yaml file\n",
    "data_yaml = f\"\"\"\n",
    "# Train/val/test sets as 1) dir: path/to/imgs, 2) file: path/to/imgs.txt, or 3) list: [path/to/imgs1, path/to/imgs2, ..]\n",
    "path: YOLO_training # dataset root dir\n",
    "train: images/train  # train images (relative to 'path') 4 images\n",
    "val: images/val  # val images (relative to 'path') 4 images\n",
    "\n",
    "# Keypoints\n",
    "kpt_shape: [9, 2]  # number of keypoints, number of dims (2 for x,y or 3 for x,y,visible)\n",
    "\n",
    "# Classes dictionary\n",
    "names:\n",
    "  0: fish\n",
    "\"\"\"\n",
    "\n",
    "# Save the data.yaml file\n",
    "directory = 'YOLO_training'\n",
    "file_name = 'data.yaml'\n",
    "file_path = os.path.join(directory, file_name)\n",
    "\n",
    "with open(file_path, 'w') as f:\n",
    "    f.write(data_yaml)\n",
    "print(\"data.yaml file created successfully.\")\n",
    "\n",
    "#Also ensure that in the settings.yaml file is created and datasets_dir is set to the directory containing the YOLO_training folder.\n",
    "#The location of this file varies depending on the installation method, but it is typically located inside AppData/Roaming/Roboflow/settings.yaml on Windows or ~/.roboflow/settings.yaml on Linux or MacOS.\n",
    "#The settings.yaml file should look like this:\n",
    "'''\n",
    "settings_version: 0.0.4\n",
    "datasets_dir: path_to_source_directory\\Pondify\\\n",
    "weights_dir: weights\n",
    "runs_dir: runs\n",
    "uuid: xxxxxxxx-xxxx-xxxx-xxxx-xxxxxxxxxxxx\n",
    "sync: true\n",
    "api_key: ''\n",
    "openai_api_key: ''\n",
    "clearml: true\n",
    "comet: true\n",
    "dvc: true\n",
    "hub: true\n",
    "mlflow: true\n",
    "neptune: true\n",
    "raytune: true\n",
    "tensorboard: true\n",
    "wandb: true\n",
    "'''\n"
   ]
  },
  {
   "cell_type": "code",
   "execution_count": 15,
   "metadata": {},
   "outputs": [
    {
     "name": "stdout",
     "output_type": "stream",
     "text": [
      "Total time taken: 30.470528841018677 seconds\n"
     ]
    }
   ],
   "source": [
    "end_time = time.time()\n",
    "total_time = end_time - start_time\n",
    "print(f\"Total time taken: {end_time - start_time} seconds\")\n"
   ]
  },
  {
   "cell_type": "code",
   "execution_count": 2,
   "metadata": {},
   "outputs": [
    {
     "name": "stdout",
     "output_type": "stream",
     "text": [
      "Using device: cuda\n",
      "Transferred 397/397 items from pretrained weights\n",
      "New https://pypi.org/project/ultralytics/8.2.32 available  Update with 'pip install -U ultralytics'\n",
      "Ultralytics YOLOv8.2.12  Python-3.11.5 torch-2.3.1+cu121 CUDA:0 (NVIDIA GeForce RTX 4050 Laptop GPU, 6140MiB)\n",
      "\u001b[34m\u001b[1mengine\\trainer: \u001b[0mtask=pose, mode=train, model=yolov8n-pose.yaml, data=YOLO_training\\data.yaml, epochs=100, time=None, patience=10, batch=40, imgsz=640, save=True, save_period=-1, cache=False, device=cuda, workers=8, project=Pondify, name=yolov8n-pose_test_11, exist_ok=True, pretrained=True, optimizer=auto, verbose=True, seed=0, deterministic=True, single_cls=False, rect=False, cos_lr=True, close_mosaic=10, resume=False, amp=True, fraction=1.0, profile=False, freeze=None, multi_scale=False, overlap_mask=True, mask_ratio=4, dropout=0.0, val=True, split=val, save_json=False, save_hybrid=False, conf=None, iou=0.7, max_det=300, half=False, dnn=False, plots=True, source=None, vid_stride=1, stream_buffer=False, visualize=False, augment=False, agnostic_nms=False, classes=None, retina_masks=False, embed=None, show=False, save_frames=False, save_txt=False, save_conf=False, save_crop=False, show_labels=True, show_conf=True, show_boxes=True, line_width=None, format=torchscript, keras=False, optimize=False, int8=False, dynamic=False, simplify=False, opset=None, workspace=4, nms=False, lr0=0.01, lrf=0.01, momentum=0.937, weight_decay=0.0005, warmup_epochs=3.0, warmup_momentum=0.8, warmup_bias_lr=0.1, box=12.0, cls=0.5, dfl=1.5, pose=15.0, kobj=1.0, label_smoothing=0.0, nbs=64, hsv_h=0.015, hsv_s=0.7, hsv_v=0.4, degrees=0.0, translate=0.1, scale=0.5, shear=0.0, perspective=0.0, flipud=0.0, fliplr=0.5, bgr=0.0, mosaic=1.0, mixup=0.0, copy_paste=0.0, auto_augment=randaugment, erasing=0.4, crop_fraction=1.0, cfg=None, tracker=botsort.yaml, save_dir=Pondify\\yolov8n-pose_test_11\n",
      "WARNING:tensorflow:From c:\\Users\\sudee\\AppData\\Local\\Programs\\Python\\Python311\\Lib\\site-packages\\keras\\src\\losses.py:2976: The name tf.losses.sparse_softmax_cross_entropy is deprecated. Please use tf.compat.v1.losses.sparse_softmax_cross_entropy instead.\n",
      "\n",
      "Overriding model.yaml kpt_shape=[17, 3] with kpt_shape=[9, 2]\n",
      "\n",
      "                   from  n    params  module                                       arguments                     \n",
      "  0                  -1  1       464  ultralytics.nn.modules.conv.Conv             [3, 16, 3, 2]                 \n",
      "  1                  -1  1      4672  ultralytics.nn.modules.conv.Conv             [16, 32, 3, 2]                \n",
      "  2                  -1  1      7360  ultralytics.nn.modules.block.C2f             [32, 32, 1, True]             \n",
      "  3                  -1  1     18560  ultralytics.nn.modules.conv.Conv             [32, 64, 3, 2]                \n",
      "  4                  -1  2     49664  ultralytics.nn.modules.block.C2f             [64, 64, 2, True]             \n",
      "  5                  -1  1     73984  ultralytics.nn.modules.conv.Conv             [64, 128, 3, 2]               \n",
      "  6                  -1  2    197632  ultralytics.nn.modules.block.C2f             [128, 128, 2, True]           \n",
      "  7                  -1  1    295424  ultralytics.nn.modules.conv.Conv             [128, 256, 3, 2]              \n",
      "  8                  -1  1    460288  ultralytics.nn.modules.block.C2f             [256, 256, 1, True]           \n",
      "  9                  -1  1    164608  ultralytics.nn.modules.block.SPPF            [256, 256, 5]                 \n",
      " 10                  -1  1         0  torch.nn.modules.upsampling.Upsample         [None, 2, 'nearest']          \n",
      " 11             [-1, 6]  1         0  ultralytics.nn.modules.conv.Concat           [1]                           \n",
      " 12                  -1  1    148224  ultralytics.nn.modules.block.C2f             [384, 128, 1]                 \n",
      " 13                  -1  1         0  torch.nn.modules.upsampling.Upsample         [None, 2, 'nearest']          \n",
      " 14             [-1, 4]  1         0  ultralytics.nn.modules.conv.Concat           [1]                           \n",
      " 15                  -1  1     37248  ultralytics.nn.modules.block.C2f             [192, 64, 1]                  \n",
      " 16                  -1  1     36992  ultralytics.nn.modules.conv.Conv             [64, 64, 3, 2]                \n",
      " 17            [-1, 12]  1         0  ultralytics.nn.modules.conv.Concat           [1]                           \n",
      " 18                  -1  1    123648  ultralytics.nn.modules.block.C2f             [192, 128, 1]                 \n",
      " 19                  -1  1    147712  ultralytics.nn.modules.conv.Conv             [128, 128, 3, 2]              \n",
      " 20             [-1, 9]  1         0  ultralytics.nn.modules.conv.Concat           [1]                           \n",
      " 21                  -1  1    493056  ultralytics.nn.modules.block.C2f             [384, 256, 1]                 \n",
      " 22        [15, 18, 21]  1    834073  ultralytics.nn.modules.head.Pose             [1, [9, 2], [64, 128, 256]]   \n",
      "YOLOv8n-pose summary: 250 layers, 3093609 parameters, 3093593 gradients, 8.5 GFLOPs\n",
      "\n",
      "Transferred 361/397 items from pretrained weights\n",
      "\u001b[34m\u001b[1mTensorBoard: \u001b[0mStart with 'tensorboard --logdir Pondify\\yolov8n-pose_test_11', view at http://localhost:6006/\n",
      "Freezing layer 'model.22.dfl.conv.weight'\n",
      "\u001b[34m\u001b[1mAMP: \u001b[0mrunning Automatic Mixed Precision (AMP) checks with YOLOv8n...\n",
      "\u001b[34m\u001b[1mAMP: \u001b[0mchecks passed \n"
     ]
    },
    {
     "name": "stderr",
     "output_type": "stream",
     "text": [
      "\u001b[34m\u001b[1mtrain: \u001b[0mScanning C:\\Users\\sudee\\Documents\\Projects\\Pondify\\YOLO_training\\labels\\train.cache... 448 images, 0 backgrounds, 0 corrupt: 100%|██████████| 448/448 [00:00<?, ?it/s]"
     ]
    },
    {
     "name": "stdout",
     "output_type": "stream",
     "text": [
      "WARNING  No 'flip_idx' array defined in data.yaml, setting augmentation 'fliplr=0.0'\n"
     ]
    },
    {
     "name": "stderr",
     "output_type": "stream",
     "text": [
      "\n",
      "\u001b[34m\u001b[1mval: \u001b[0mScanning C:\\Users\\sudee\\Documents\\Projects\\Pondify\\YOLO_training\\labels\\val.cache... 112 images, 0 backgrounds, 0 corrupt: 100%|██████████| 112/112 [00:00<?, ?it/s]\n"
     ]
    },
    {
     "name": "stdout",
     "output_type": "stream",
     "text": [
      "Plotting labels to Pondify\\yolov8n-pose_test_11\\labels.jpg... \n",
      "\u001b[34m\u001b[1moptimizer:\u001b[0m 'optimizer=auto' found, ignoring 'lr0=0.01' and 'momentum=0.937' and determining best 'optimizer', 'lr0' and 'momentum' automatically... \n",
      "\u001b[34m\u001b[1moptimizer:\u001b[0m AdamW(lr=0.002, momentum=0.9) with parameter groups 63 weight(decay=0.0), 73 weight(decay=0.000625), 72 bias(decay=0.0)\n",
      "\u001b[34m\u001b[1mTensorBoard: \u001b[0mmodel graph visualization added \n",
      "Image sizes 640 train, 640 val\n",
      "Using 8 dataloader workers\n",
      "Logging results to \u001b[1mPondify\\yolov8n-pose_test_11\u001b[0m\n",
      "Starting training for 100 epochs...\n",
      "\n",
      "      Epoch    GPU_mem   box_loss  pose_loss  kobj_loss   cls_loss   dfl_loss  Instances       Size\n"
     ]
    },
    {
     "name": "stderr",
     "output_type": "stream",
     "text": [
      "      1/100      6.13G      3.899      12.27          0       3.73      2.402         37        640: 100%|██████████| 12/12 [00:05<00:00,  2.03it/s]\n",
      "                 Class     Images  Instances      Box(P          R      mAP50  mAP50-95)     Pose(P          R      mAP50  mAP50-95): 100%|██████████| 2/2 [00:02<00:00,  1.08s/it]"
     ]
    },
    {
     "name": "stdout",
     "output_type": "stream",
     "text": [
      "                   all        112        309      0.632      0.392      0.428      0.176          0          0          0          0\n"
     ]
    },
    {
     "name": "stderr",
     "output_type": "stream",
     "text": [
      "\n"
     ]
    },
    {
     "name": "stdout",
     "output_type": "stream",
     "text": [
      "\n",
      "      Epoch    GPU_mem   box_loss  pose_loss  kobj_loss   cls_loss   dfl_loss  Instances       Size\n"
     ]
    },
    {
     "name": "stderr",
     "output_type": "stream",
     "text": [
      "      2/100      5.67G      3.089      11.67          0      1.831       1.82         22        640: 100%|██████████| 12/12 [00:03<00:00,  3.07it/s]\n",
      "                 Class     Images  Instances      Box(P          R      mAP50  mAP50-95)     Pose(P          R      mAP50  mAP50-95): 100%|██████████| 2/2 [00:01<00:00,  1.16it/s]"
     ]
    },
    {
     "name": "stdout",
     "output_type": "stream",
     "text": [
      "                   all        112        309      0.633      0.408      0.453      0.193          0          0          0          0\n"
     ]
    },
    {
     "name": "stderr",
     "output_type": "stream",
     "text": [
      "\n"
     ]
    },
    {
     "name": "stdout",
     "output_type": "stream",
     "text": [
      "\n",
      "      Epoch    GPU_mem   box_loss  pose_loss  kobj_loss   cls_loss   dfl_loss  Instances       Size\n"
     ]
    },
    {
     "name": "stderr",
     "output_type": "stream",
     "text": [
      "      3/100      5.68G       2.88      10.82          0      1.532      1.702         31        640: 100%|██████████| 12/12 [00:03<00:00,  3.01it/s]\n",
      "                 Class     Images  Instances      Box(P          R      mAP50  mAP50-95)     Pose(P          R      mAP50  mAP50-95): 100%|██████████| 2/2 [00:01<00:00,  1.22it/s]"
     ]
    },
    {
     "name": "stdout",
     "output_type": "stream",
     "text": [
      "                   all        112        309      0.509      0.272      0.291       0.11          0          0          0          0\n"
     ]
    },
    {
     "name": "stderr",
     "output_type": "stream",
     "text": [
      "\n"
     ]
    },
    {
     "name": "stdout",
     "output_type": "stream",
     "text": [
      "\n",
      "      Epoch    GPU_mem   box_loss  pose_loss  kobj_loss   cls_loss   dfl_loss  Instances       Size\n"
     ]
    },
    {
     "name": "stderr",
     "output_type": "stream",
     "text": [
      "      4/100      5.68G      2.878      10.28          0       1.46      1.678         33        640: 100%|██████████| 12/12 [00:03<00:00,  3.09it/s]\n",
      "                 Class     Images  Instances      Box(P          R      mAP50  mAP50-95)     Pose(P          R      mAP50  mAP50-95): 100%|██████████| 2/2 [00:01<00:00,  1.18it/s]"
     ]
    },
    {
     "name": "stdout",
     "output_type": "stream",
     "text": [
      "                   all        112        309      0.668      0.485      0.529      0.208          0          0          0          0\n"
     ]
    },
    {
     "name": "stderr",
     "output_type": "stream",
     "text": [
      "\n"
     ]
    },
    {
     "name": "stdout",
     "output_type": "stream",
     "text": [
      "\n",
      "      Epoch    GPU_mem   box_loss  pose_loss  kobj_loss   cls_loss   dfl_loss  Instances       Size\n"
     ]
    },
    {
     "name": "stderr",
     "output_type": "stream",
     "text": [
      "      5/100      5.67G      2.804      9.954          0      1.384      1.617         32        640: 100%|██████████| 12/12 [00:04<00:00,  2.97it/s]\n",
      "                 Class     Images  Instances      Box(P          R      mAP50  mAP50-95)     Pose(P          R      mAP50  mAP50-95): 100%|██████████| 2/2 [00:01<00:00,  1.49it/s]"
     ]
    },
    {
     "name": "stdout",
     "output_type": "stream",
     "text": [
      "                   all        112        309      0.372      0.456      0.359      0.146    0.00739    0.00647   0.000192   3.35e-05\n"
     ]
    },
    {
     "name": "stderr",
     "output_type": "stream",
     "text": [
      "\n"
     ]
    },
    {
     "name": "stdout",
     "output_type": "stream",
     "text": [
      "\n",
      "      Epoch    GPU_mem   box_loss  pose_loss  kobj_loss   cls_loss   dfl_loss  Instances       Size\n"
     ]
    },
    {
     "name": "stderr",
     "output_type": "stream",
     "text": [
      "      6/100       5.6G      2.726      9.433          0      1.378      1.608         36        640: 100%|██████████| 12/12 [00:04<00:00,  2.95it/s]\n",
      "                 Class     Images  Instances      Box(P          R      mAP50  mAP50-95)     Pose(P          R      mAP50  mAP50-95): 100%|██████████| 2/2 [00:01<00:00,  1.53it/s]"
     ]
    },
    {
     "name": "stdout",
     "output_type": "stream",
     "text": [
      "                   all        112        309      0.372      0.434      0.353      0.128    0.00389     0.0129   0.000513    8.3e-05\n"
     ]
    },
    {
     "name": "stderr",
     "output_type": "stream",
     "text": [
      "\n"
     ]
    },
    {
     "name": "stdout",
     "output_type": "stream",
     "text": [
      "\n",
      "      Epoch    GPU_mem   box_loss  pose_loss  kobj_loss   cls_loss   dfl_loss  Instances       Size\n"
     ]
    },
    {
     "name": "stderr",
     "output_type": "stream",
     "text": [
      "      7/100      5.73G      2.795       9.07          0      1.378      1.649         32        640: 100%|██████████| 12/12 [00:04<00:00,  2.95it/s]\n",
      "                 Class     Images  Instances      Box(P          R      mAP50  mAP50-95)     Pose(P          R      mAP50  mAP50-95): 100%|██████████| 2/2 [00:01<00:00,  1.32it/s]"
     ]
    },
    {
     "name": "stdout",
     "output_type": "stream",
     "text": [
      "                   all        112        309      0.236      0.227      0.156     0.0497    0.00675     0.0194    0.00171   0.000234\n"
     ]
    },
    {
     "name": "stderr",
     "output_type": "stream",
     "text": [
      "\n"
     ]
    },
    {
     "name": "stdout",
     "output_type": "stream",
     "text": [
      "\n",
      "      Epoch    GPU_mem   box_loss  pose_loss  kobj_loss   cls_loss   dfl_loss  Instances       Size\n"
     ]
    },
    {
     "name": "stderr",
     "output_type": "stream",
     "text": [
      "      8/100       5.7G      2.717      8.831          0      1.302      1.603         27        640: 100%|██████████| 12/12 [00:03<00:00,  3.11it/s]\n",
      "                 Class     Images  Instances      Box(P          R      mAP50  mAP50-95)     Pose(P          R      mAP50  mAP50-95): 100%|██████████| 2/2 [00:01<00:00,  1.26it/s]"
     ]
    },
    {
     "name": "stdout",
     "output_type": "stream",
     "text": [
      "                   all        112        309      0.491      0.271      0.264     0.0968     0.0455     0.0259    0.00358   0.000497\n"
     ]
    },
    {
     "name": "stderr",
     "output_type": "stream",
     "text": [
      "\n"
     ]
    },
    {
     "name": "stdout",
     "output_type": "stream",
     "text": [
      "\n",
      "      Epoch    GPU_mem   box_loss  pose_loss  kobj_loss   cls_loss   dfl_loss  Instances       Size\n"
     ]
    },
    {
     "name": "stderr",
     "output_type": "stream",
     "text": [
      "      9/100      5.69G      2.695      8.537          0       1.28      1.591         31        640: 100%|██████████| 12/12 [00:03<00:00,  3.25it/s]\n",
      "                 Class     Images  Instances      Box(P          R      mAP50  mAP50-95)     Pose(P          R      mAP50  mAP50-95): 100%|██████████| 2/2 [00:01<00:00,  1.45it/s]"
     ]
    },
    {
     "name": "stdout",
     "output_type": "stream",
     "text": [
      "                   all        112        309      0.628      0.491      0.553      0.261      0.147     0.0906     0.0266    0.00507\n"
     ]
    },
    {
     "name": "stderr",
     "output_type": "stream",
     "text": [
      "\n"
     ]
    },
    {
     "name": "stdout",
     "output_type": "stream",
     "text": [
      "\n",
      "      Epoch    GPU_mem   box_loss  pose_loss  kobj_loss   cls_loss   dfl_loss  Instances       Size\n"
     ]
    },
    {
     "name": "stderr",
     "output_type": "stream",
     "text": [
      "     10/100      5.69G      2.595      8.305          0      1.278      1.569         23        640: 100%|██████████| 12/12 [00:03<00:00,  3.24it/s]\n",
      "                 Class     Images  Instances      Box(P          R      mAP50  mAP50-95)     Pose(P          R      mAP50  mAP50-95): 100%|██████████| 2/2 [00:01<00:00,  1.34it/s]"
     ]
    },
    {
     "name": "stdout",
     "output_type": "stream",
     "text": [
      "                   all        112        309      0.654      0.608      0.638      0.302      0.149      0.113     0.0365    0.00741\n"
     ]
    },
    {
     "name": "stderr",
     "output_type": "stream",
     "text": [
      "\n"
     ]
    },
    {
     "name": "stdout",
     "output_type": "stream",
     "text": [
      "\n",
      "      Epoch    GPU_mem   box_loss  pose_loss  kobj_loss   cls_loss   dfl_loss  Instances       Size\n"
     ]
    },
    {
     "name": "stderr",
     "output_type": "stream",
     "text": [
      "     11/100      5.69G      2.579      8.292          0      1.213      1.565         26        640: 100%|██████████| 12/12 [00:03<00:00,  3.23it/s]\n",
      "                 Class     Images  Instances      Box(P          R      mAP50  mAP50-95)     Pose(P          R      mAP50  mAP50-95): 100%|██████████| 2/2 [00:01<00:00,  1.21it/s]"
     ]
    },
    {
     "name": "stdout",
     "output_type": "stream",
     "text": [
      "                   all        112        309      0.731      0.709      0.744      0.359        0.2      0.129     0.0449    0.00832\n"
     ]
    },
    {
     "name": "stderr",
     "output_type": "stream",
     "text": [
      "\n"
     ]
    },
    {
     "name": "stdout",
     "output_type": "stream",
     "text": [
      "\n",
      "      Epoch    GPU_mem   box_loss  pose_loss  kobj_loss   cls_loss   dfl_loss  Instances       Size\n"
     ]
    },
    {
     "name": "stderr",
     "output_type": "stream",
     "text": [
      "     12/100      5.69G      2.596      8.088          0      1.217       1.54         36        640: 100%|██████████| 12/12 [00:03<00:00,  3.18it/s]\n",
      "                 Class     Images  Instances      Box(P          R      mAP50  mAP50-95)     Pose(P          R      mAP50  mAP50-95): 100%|██████████| 2/2 [00:01<00:00,  1.27it/s]"
     ]
    },
    {
     "name": "stdout",
     "output_type": "stream",
     "text": [
      "                   all        112        309      0.651      0.634      0.665      0.319      0.171      0.126     0.0367    0.00693\n"
     ]
    },
    {
     "name": "stderr",
     "output_type": "stream",
     "text": [
      "\n"
     ]
    },
    {
     "name": "stdout",
     "output_type": "stream",
     "text": [
      "\n",
      "      Epoch    GPU_mem   box_loss  pose_loss  kobj_loss   cls_loss   dfl_loss  Instances       Size\n"
     ]
    },
    {
     "name": "stderr",
     "output_type": "stream",
     "text": [
      "     13/100      5.69G      2.545      7.735          0      1.172      1.529         40        640: 100%|██████████| 12/12 [00:03<00:00,  3.16it/s]\n",
      "                 Class     Images  Instances      Box(P          R      mAP50  mAP50-95)     Pose(P          R      mAP50  mAP50-95): 100%|██████████| 2/2 [00:01<00:00,  1.57it/s]"
     ]
    },
    {
     "name": "stdout",
     "output_type": "stream",
     "text": [
      "                   all        112        309      0.698      0.602      0.638      0.307      0.228      0.217     0.0706     0.0144\n"
     ]
    },
    {
     "name": "stderr",
     "output_type": "stream",
     "text": [
      "\n"
     ]
    },
    {
     "name": "stdout",
     "output_type": "stream",
     "text": [
      "\n",
      "      Epoch    GPU_mem   box_loss  pose_loss  kobj_loss   cls_loss   dfl_loss  Instances       Size\n"
     ]
    },
    {
     "name": "stderr",
     "output_type": "stream",
     "text": [
      "     14/100      5.75G      2.449      7.323          0      1.113      1.475         53        640: 100%|██████████| 12/12 [00:03<00:00,  3.15it/s]\n",
      "                 Class     Images  Instances      Box(P          R      mAP50  mAP50-95)     Pose(P          R      mAP50  mAP50-95): 100%|██████████| 2/2 [00:01<00:00,  1.59it/s]"
     ]
    },
    {
     "name": "stdout",
     "output_type": "stream",
     "text": [
      "                   all        112        309      0.741      0.657        0.7      0.339      0.234      0.194     0.0614     0.0139\n"
     ]
    },
    {
     "name": "stderr",
     "output_type": "stream",
     "text": [
      "\n"
     ]
    },
    {
     "name": "stdout",
     "output_type": "stream",
     "text": [
      "\n",
      "      Epoch    GPU_mem   box_loss  pose_loss  kobj_loss   cls_loss   dfl_loss  Instances       Size\n"
     ]
    },
    {
     "name": "stderr",
     "output_type": "stream",
     "text": [
      "     15/100      5.74G      2.441      7.024          0      1.145      1.486         40        640: 100%|██████████| 12/12 [00:03<00:00,  3.24it/s]\n",
      "                 Class     Images  Instances      Box(P          R      mAP50  mAP50-95)     Pose(P          R      mAP50  mAP50-95): 100%|██████████| 2/2 [00:01<00:00,  1.73it/s]"
     ]
    },
    {
     "name": "stdout",
     "output_type": "stream",
     "text": [
      "                   all        112        309      0.785      0.718      0.798      0.399      0.422      0.262      0.173     0.0316\n"
     ]
    },
    {
     "name": "stderr",
     "output_type": "stream",
     "text": [
      "\n"
     ]
    },
    {
     "name": "stdout",
     "output_type": "stream",
     "text": [
      "\n",
      "      Epoch    GPU_mem   box_loss  pose_loss  kobj_loss   cls_loss   dfl_loss  Instances       Size\n"
     ]
    },
    {
     "name": "stderr",
     "output_type": "stream",
     "text": [
      "     16/100      5.69G      2.443      7.085          0      1.104      1.452         41        640: 100%|██████████| 12/12 [00:03<00:00,  3.24it/s]\n",
      "                 Class     Images  Instances      Box(P          R      mAP50  mAP50-95)     Pose(P          R      mAP50  mAP50-95): 100%|██████████| 2/2 [00:01<00:00,  1.60it/s]"
     ]
    },
    {
     "name": "stdout",
     "output_type": "stream",
     "text": [
      "                   all        112        309      0.799      0.693      0.781      0.393      0.482      0.343      0.259     0.0648\n"
     ]
    },
    {
     "name": "stderr",
     "output_type": "stream",
     "text": [
      "\n"
     ]
    },
    {
     "name": "stdout",
     "output_type": "stream",
     "text": [
      "\n",
      "      Epoch    GPU_mem   box_loss  pose_loss  kobj_loss   cls_loss   dfl_loss  Instances       Size\n"
     ]
    },
    {
     "name": "stderr",
     "output_type": "stream",
     "text": [
      "     17/100      5.74G      2.369      6.621          0      1.071       1.44         45        640: 100%|██████████| 12/12 [00:03<00:00,  3.13it/s]\n",
      "                 Class     Images  Instances      Box(P          R      mAP50  mAP50-95)     Pose(P          R      mAP50  mAP50-95): 100%|██████████| 2/2 [00:01<00:00,  1.29it/s]"
     ]
    },
    {
     "name": "stdout",
     "output_type": "stream",
     "text": [
      "                   all        112        309      0.771      0.715      0.772      0.375      0.399      0.327      0.188     0.0486\n"
     ]
    },
    {
     "name": "stderr",
     "output_type": "stream",
     "text": [
      "\n"
     ]
    },
    {
     "name": "stdout",
     "output_type": "stream",
     "text": [
      "\n",
      "      Epoch    GPU_mem   box_loss  pose_loss  kobj_loss   cls_loss   dfl_loss  Instances       Size\n"
     ]
    },
    {
     "name": "stderr",
     "output_type": "stream",
     "text": [
      "     18/100      5.74G      2.374      6.542          0       1.06      1.438         47        640: 100%|██████████| 12/12 [00:03<00:00,  3.26it/s]\n",
      "                 Class     Images  Instances      Box(P          R      mAP50  mAP50-95)     Pose(P          R      mAP50  mAP50-95): 100%|██████████| 2/2 [00:01<00:00,  1.61it/s]"
     ]
    },
    {
     "name": "stdout",
     "output_type": "stream",
     "text": [
      "                   all        112        309      0.731      0.706       0.72      0.372      0.445      0.368       0.21     0.0544\n"
     ]
    },
    {
     "name": "stderr",
     "output_type": "stream",
     "text": [
      "\n"
     ]
    },
    {
     "name": "stdout",
     "output_type": "stream",
     "text": [
      "\n",
      "      Epoch    GPU_mem   box_loss  pose_loss  kobj_loss   cls_loss   dfl_loss  Instances       Size\n"
     ]
    },
    {
     "name": "stderr",
     "output_type": "stream",
     "text": [
      "     19/100      5.68G      2.353      6.278          0      1.038      1.434         50        640: 100%|██████████| 12/12 [00:03<00:00,  3.24it/s]\n",
      "                 Class     Images  Instances      Box(P          R      mAP50  mAP50-95)     Pose(P          R      mAP50  mAP50-95): 100%|██████████| 2/2 [00:01<00:00,  1.70it/s]"
     ]
    },
    {
     "name": "stdout",
     "output_type": "stream",
     "text": [
      "                   all        112        309      0.747      0.715      0.737      0.371      0.477      0.428      0.307     0.0837\n"
     ]
    },
    {
     "name": "stderr",
     "output_type": "stream",
     "text": [
      "\n"
     ]
    },
    {
     "name": "stdout",
     "output_type": "stream",
     "text": [
      "\n",
      "      Epoch    GPU_mem   box_loss  pose_loss  kobj_loss   cls_loss   dfl_loss  Instances       Size\n"
     ]
    },
    {
     "name": "stderr",
     "output_type": "stream",
     "text": [
      "     20/100      5.68G      2.342      6.111          0      1.031      1.434         37        640: 100%|██████████| 12/12 [00:03<00:00,  3.21it/s]\n",
      "                 Class     Images  Instances      Box(P          R      mAP50  mAP50-95)     Pose(P          R      mAP50  mAP50-95): 100%|██████████| 2/2 [00:01<00:00,  1.63it/s]"
     ]
    },
    {
     "name": "stdout",
     "output_type": "stream",
     "text": [
      "                   all        112        309      0.811      0.654      0.761      0.402      0.599       0.43      0.348      0.103\n"
     ]
    },
    {
     "name": "stderr",
     "output_type": "stream",
     "text": [
      "\n"
     ]
    },
    {
     "name": "stdout",
     "output_type": "stream",
     "text": [
      "\n",
      "      Epoch    GPU_mem   box_loss  pose_loss  kobj_loss   cls_loss   dfl_loss  Instances       Size\n"
     ]
    },
    {
     "name": "stderr",
     "output_type": "stream",
     "text": [
      "     21/100      5.68G       2.34      6.096          0      1.021      1.428         28        640: 100%|██████████| 12/12 [00:03<00:00,  3.19it/s]\n",
      "                 Class     Images  Instances      Box(P          R      mAP50  mAP50-95)     Pose(P          R      mAP50  mAP50-95): 100%|██████████| 2/2 [00:01<00:00,  1.70it/s]"
     ]
    },
    {
     "name": "stdout",
     "output_type": "stream",
     "text": [
      "                   all        112        309       0.78      0.718      0.784      0.408      0.568      0.429       0.39      0.117\n"
     ]
    },
    {
     "name": "stderr",
     "output_type": "stream",
     "text": [
      "\n"
     ]
    },
    {
     "name": "stdout",
     "output_type": "stream",
     "text": [
      "\n",
      "      Epoch    GPU_mem   box_loss  pose_loss  kobj_loss   cls_loss   dfl_loss  Instances       Size\n"
     ]
    },
    {
     "name": "stderr",
     "output_type": "stream",
     "text": [
      "     22/100      5.73G      2.338      5.719          0      1.048      1.444         37        640: 100%|██████████| 12/12 [00:03<00:00,  3.22it/s]\n",
      "                 Class     Images  Instances      Box(P          R      mAP50  mAP50-95)     Pose(P          R      mAP50  mAP50-95): 100%|██████████| 2/2 [00:01<00:00,  1.79it/s]"
     ]
    },
    {
     "name": "stdout",
     "output_type": "stream",
     "text": [
      "                   all        112        309       0.85      0.714      0.795      0.424      0.681       0.56      0.533      0.182\n"
     ]
    },
    {
     "name": "stderr",
     "output_type": "stream",
     "text": [
      "\n"
     ]
    },
    {
     "name": "stdout",
     "output_type": "stream",
     "text": [
      "\n",
      "      Epoch    GPU_mem   box_loss  pose_loss  kobj_loss   cls_loss   dfl_loss  Instances       Size\n"
     ]
    },
    {
     "name": "stderr",
     "output_type": "stream",
     "text": [
      "     23/100      5.68G      2.359       5.88          0      1.012      1.428         38        640: 100%|██████████| 12/12 [00:03<00:00,  3.24it/s]\n",
      "                 Class     Images  Instances      Box(P          R      mAP50  mAP50-95)     Pose(P          R      mAP50  mAP50-95): 100%|██████████| 2/2 [00:01<00:00,  1.68it/s]"
     ]
    },
    {
     "name": "stdout",
     "output_type": "stream",
     "text": [
      "                   all        112        309      0.808      0.777      0.835      0.458      0.651      0.513      0.447      0.124\n"
     ]
    },
    {
     "name": "stderr",
     "output_type": "stream",
     "text": [
      "\n"
     ]
    },
    {
     "name": "stdout",
     "output_type": "stream",
     "text": [
      "\n",
      "      Epoch    GPU_mem   box_loss  pose_loss  kobj_loss   cls_loss   dfl_loss  Instances       Size\n"
     ]
    },
    {
     "name": "stderr",
     "output_type": "stream",
     "text": [
      "     24/100      5.69G      2.372      5.657          0      1.003      1.444         33        640: 100%|██████████| 12/12 [00:03<00:00,  3.25it/s]\n",
      "                 Class     Images  Instances      Box(P          R      mAP50  mAP50-95)     Pose(P          R      mAP50  mAP50-95): 100%|██████████| 2/2 [00:01<00:00,  1.69it/s]"
     ]
    },
    {
     "name": "stdout",
     "output_type": "stream",
     "text": [
      "                   all        112        309      0.823      0.761      0.811      0.434      0.665      0.553      0.495      0.142\n"
     ]
    },
    {
     "name": "stderr",
     "output_type": "stream",
     "text": [
      "\n"
     ]
    },
    {
     "name": "stdout",
     "output_type": "stream",
     "text": [
      "\n",
      "      Epoch    GPU_mem   box_loss  pose_loss  kobj_loss   cls_loss   dfl_loss  Instances       Size\n"
     ]
    },
    {
     "name": "stderr",
     "output_type": "stream",
     "text": [
      "     25/100      5.75G      2.296      5.688          0      1.013      1.413         35        640: 100%|██████████| 12/12 [00:03<00:00,  3.21it/s]\n",
      "                 Class     Images  Instances      Box(P          R      mAP50  mAP50-95)     Pose(P          R      mAP50  mAP50-95): 100%|██████████| 2/2 [00:01<00:00,  1.66it/s]"
     ]
    },
    {
     "name": "stdout",
     "output_type": "stream",
     "text": [
      "                   all        112        309      0.744      0.771      0.806      0.418      0.691      0.579      0.528      0.181\n"
     ]
    },
    {
     "name": "stderr",
     "output_type": "stream",
     "text": [
      "\n"
     ]
    },
    {
     "name": "stdout",
     "output_type": "stream",
     "text": [
      "\n",
      "      Epoch    GPU_mem   box_loss  pose_loss  kobj_loss   cls_loss   dfl_loss  Instances       Size\n"
     ]
    },
    {
     "name": "stderr",
     "output_type": "stream",
     "text": [
      "     26/100      5.75G      2.302      5.407          0      1.003      1.396         31        640: 100%|██████████| 12/12 [00:03<00:00,  3.24it/s]\n",
      "                 Class     Images  Instances      Box(P          R      mAP50  mAP50-95)     Pose(P          R      mAP50  mAP50-95): 100%|██████████| 2/2 [00:01<00:00,  1.68it/s]"
     ]
    },
    {
     "name": "stdout",
     "output_type": "stream",
     "text": [
      "                   all        112        309      0.844      0.799      0.848      0.462      0.715      0.647      0.606      0.236\n"
     ]
    },
    {
     "name": "stderr",
     "output_type": "stream",
     "text": [
      "\n"
     ]
    },
    {
     "name": "stdout",
     "output_type": "stream",
     "text": [
      "\n",
      "      Epoch    GPU_mem   box_loss  pose_loss  kobj_loss   cls_loss   dfl_loss  Instances       Size\n"
     ]
    },
    {
     "name": "stderr",
     "output_type": "stream",
     "text": [
      "     27/100      5.73G      2.259      5.428          0     0.9717      1.412         29        640: 100%|██████████| 12/12 [00:03<00:00,  3.22it/s]\n",
      "                 Class     Images  Instances      Box(P          R      mAP50  mAP50-95)     Pose(P          R      mAP50  mAP50-95): 100%|██████████| 2/2 [00:01<00:00,  1.73it/s]"
     ]
    },
    {
     "name": "stdout",
     "output_type": "stream",
     "text": [
      "                   all        112        309      0.759      0.786      0.804      0.426      0.729      0.565      0.536      0.199\n"
     ]
    },
    {
     "name": "stderr",
     "output_type": "stream",
     "text": [
      "\n"
     ]
    },
    {
     "name": "stdout",
     "output_type": "stream",
     "text": [
      "\n",
      "      Epoch    GPU_mem   box_loss  pose_loss  kobj_loss   cls_loss   dfl_loss  Instances       Size\n"
     ]
    },
    {
     "name": "stderr",
     "output_type": "stream",
     "text": [
      "     28/100      5.69G      2.227      5.372          0     0.9786      1.374         36        640: 100%|██████████| 12/12 [00:03<00:00,  3.22it/s]\n",
      "                 Class     Images  Instances      Box(P          R      mAP50  mAP50-95)     Pose(P          R      mAP50  mAP50-95): 100%|██████████| 2/2 [00:01<00:00,  1.72it/s]"
     ]
    },
    {
     "name": "stdout",
     "output_type": "stream",
     "text": [
      "                   all        112        309      0.805      0.722        0.8      0.422      0.721       0.55      0.542      0.203\n"
     ]
    },
    {
     "name": "stderr",
     "output_type": "stream",
     "text": [
      "\n"
     ]
    },
    {
     "name": "stdout",
     "output_type": "stream",
     "text": [
      "\n",
      "      Epoch    GPU_mem   box_loss  pose_loss  kobj_loss   cls_loss   dfl_loss  Instances       Size\n"
     ]
    },
    {
     "name": "stderr",
     "output_type": "stream",
     "text": [
      "     29/100      5.73G      2.183      5.388          0     0.9546      1.382         35        640: 100%|██████████| 12/12 [00:03<00:00,  3.22it/s]\n",
      "                 Class     Images  Instances      Box(P          R      mAP50  mAP50-95)     Pose(P          R      mAP50  mAP50-95): 100%|██████████| 2/2 [00:01<00:00,  1.41it/s]"
     ]
    },
    {
     "name": "stdout",
     "output_type": "stream",
     "text": [
      "                   all        112        309       0.85      0.771      0.835      0.449      0.647      0.576      0.467      0.151\n"
     ]
    },
    {
     "name": "stderr",
     "output_type": "stream",
     "text": [
      "\n"
     ]
    },
    {
     "name": "stdout",
     "output_type": "stream",
     "text": [
      "\n",
      "      Epoch    GPU_mem   box_loss  pose_loss  kobj_loss   cls_loss   dfl_loss  Instances       Size\n"
     ]
    },
    {
     "name": "stderr",
     "output_type": "stream",
     "text": [
      "     30/100      5.69G      2.187      5.226          0     0.9597      1.373         34        640: 100%|██████████| 12/12 [00:03<00:00,  3.24it/s]\n",
      "                 Class     Images  Instances      Box(P          R      mAP50  mAP50-95)     Pose(P          R      mAP50  mAP50-95): 100%|██████████| 2/2 [00:01<00:00,  1.69it/s]"
     ]
    },
    {
     "name": "stdout",
     "output_type": "stream",
     "text": [
      "                   all        112        309       0.83      0.735      0.816      0.442      0.757      0.614      0.621      0.239\n"
     ]
    },
    {
     "name": "stderr",
     "output_type": "stream",
     "text": [
      "\n"
     ]
    },
    {
     "name": "stdout",
     "output_type": "stream",
     "text": [
      "\n",
      "      Epoch    GPU_mem   box_loss  pose_loss  kobj_loss   cls_loss   dfl_loss  Instances       Size\n"
     ]
    },
    {
     "name": "stderr",
     "output_type": "stream",
     "text": [
      "     31/100      5.77G      2.231      5.348          0     0.9637      1.396         39        640: 100%|██████████| 12/12 [00:03<00:00,  3.27it/s]\n",
      "                 Class     Images  Instances      Box(P          R      mAP50  mAP50-95)     Pose(P          R      mAP50  mAP50-95): 100%|██████████| 2/2 [00:01<00:00,  1.63it/s]"
     ]
    },
    {
     "name": "stdout",
     "output_type": "stream",
     "text": [
      "                   all        112        309      0.814      0.793      0.853      0.448      0.746      0.599      0.571      0.213\n"
     ]
    },
    {
     "name": "stderr",
     "output_type": "stream",
     "text": [
      "\n"
     ]
    },
    {
     "name": "stdout",
     "output_type": "stream",
     "text": [
      "\n",
      "      Epoch    GPU_mem   box_loss  pose_loss  kobj_loss   cls_loss   dfl_loss  Instances       Size\n"
     ]
    },
    {
     "name": "stderr",
     "output_type": "stream",
     "text": [
      "     32/100      5.67G      2.206      5.117          0     0.9706      1.376         30        640: 100%|██████████| 12/12 [00:03<00:00,  3.22it/s]\n",
      "                 Class     Images  Instances      Box(P          R      mAP50  mAP50-95)     Pose(P          R      mAP50  mAP50-95): 100%|██████████| 2/2 [00:01<00:00,  1.77it/s]"
     ]
    },
    {
     "name": "stdout",
     "output_type": "stream",
     "text": [
      "                   all        112        309      0.772      0.803      0.832      0.454      0.718      0.641      0.644      0.265\n"
     ]
    },
    {
     "name": "stderr",
     "output_type": "stream",
     "text": [
      "\n"
     ]
    },
    {
     "name": "stdout",
     "output_type": "stream",
     "text": [
      "\n",
      "      Epoch    GPU_mem   box_loss  pose_loss  kobj_loss   cls_loss   dfl_loss  Instances       Size\n"
     ]
    },
    {
     "name": "stderr",
     "output_type": "stream",
     "text": [
      "     33/100      5.67G      2.209      5.038          0     0.9409      1.365         44        640: 100%|██████████| 12/12 [00:03<00:00,  3.23it/s]\n",
      "                 Class     Images  Instances      Box(P          R      mAP50  mAP50-95)     Pose(P          R      mAP50  mAP50-95): 100%|██████████| 2/2 [00:01<00:00,  1.72it/s]"
     ]
    },
    {
     "name": "stdout",
     "output_type": "stream",
     "text": [
      "                   all        112        309      0.818      0.777      0.837      0.432      0.704      0.644      0.633      0.225\n"
     ]
    },
    {
     "name": "stderr",
     "output_type": "stream",
     "text": [
      "\n"
     ]
    },
    {
     "name": "stdout",
     "output_type": "stream",
     "text": [
      "\n",
      "      Epoch    GPU_mem   box_loss  pose_loss  kobj_loss   cls_loss   dfl_loss  Instances       Size\n"
     ]
    },
    {
     "name": "stderr",
     "output_type": "stream",
     "text": [
      "     34/100      5.69G       2.18      4.637          0     0.9468      1.354         51        640: 100%|██████████| 12/12 [00:03<00:00,  3.24it/s]\n",
      "                 Class     Images  Instances      Box(P          R      mAP50  mAP50-95)     Pose(P          R      mAP50  mAP50-95): 100%|██████████| 2/2 [00:01<00:00,  1.69it/s]"
     ]
    },
    {
     "name": "stdout",
     "output_type": "stream",
     "text": [
      "                   all        112        309      0.811      0.799      0.841      0.439      0.773      0.683      0.676      0.275\n"
     ]
    },
    {
     "name": "stderr",
     "output_type": "stream",
     "text": [
      "\n"
     ]
    },
    {
     "name": "stdout",
     "output_type": "stream",
     "text": [
      "\n",
      "      Epoch    GPU_mem   box_loss  pose_loss  kobj_loss   cls_loss   dfl_loss  Instances       Size\n"
     ]
    },
    {
     "name": "stderr",
     "output_type": "stream",
     "text": [
      "     35/100      5.67G      2.177      4.514          0     0.9282      1.353         27        640: 100%|██████████| 12/12 [00:03<00:00,  3.24it/s]\n",
      "                 Class     Images  Instances      Box(P          R      mAP50  mAP50-95)     Pose(P          R      mAP50  mAP50-95): 100%|██████████| 2/2 [00:01<00:00,  1.73it/s]"
     ]
    },
    {
     "name": "stdout",
     "output_type": "stream",
     "text": [
      "                   all        112        309      0.784      0.825       0.86      0.441      0.776      0.667      0.694      0.276\n"
     ]
    },
    {
     "name": "stderr",
     "output_type": "stream",
     "text": [
      "\n"
     ]
    },
    {
     "name": "stdout",
     "output_type": "stream",
     "text": [
      "\n",
      "      Epoch    GPU_mem   box_loss  pose_loss  kobj_loss   cls_loss   dfl_loss  Instances       Size\n"
     ]
    },
    {
     "name": "stderr",
     "output_type": "stream",
     "text": [
      "     36/100      5.67G      2.165      4.479          0     0.9232      1.364         29        640: 100%|██████████| 12/12 [00:03<00:00,  3.25it/s]\n",
      "                 Class     Images  Instances      Box(P          R      mAP50  mAP50-95)     Pose(P          R      mAP50  mAP50-95): 100%|██████████| 2/2 [00:01<00:00,  1.73it/s]"
     ]
    },
    {
     "name": "stdout",
     "output_type": "stream",
     "text": [
      "                   all        112        309      0.867      0.779      0.849      0.439       0.78      0.696      0.671      0.291\n"
     ]
    },
    {
     "name": "stderr",
     "output_type": "stream",
     "text": [
      "\n"
     ]
    },
    {
     "name": "stdout",
     "output_type": "stream",
     "text": [
      "\n",
      "      Epoch    GPU_mem   box_loss  pose_loss  kobj_loss   cls_loss   dfl_loss  Instances       Size\n"
     ]
    },
    {
     "name": "stderr",
     "output_type": "stream",
     "text": [
      "     37/100      5.68G      2.211      4.649          0     0.9344      1.373         24        640: 100%|██████████| 12/12 [00:03<00:00,  3.23it/s]\n",
      "                 Class     Images  Instances      Box(P          R      mAP50  mAP50-95)     Pose(P          R      mAP50  mAP50-95): 100%|██████████| 2/2 [00:01<00:00,  1.70it/s]"
     ]
    },
    {
     "name": "stdout",
     "output_type": "stream",
     "text": [
      "                   all        112        309      0.835      0.796      0.836      0.462      0.811      0.696      0.713      0.333\n"
     ]
    },
    {
     "name": "stderr",
     "output_type": "stream",
     "text": [
      "\n"
     ]
    },
    {
     "name": "stdout",
     "output_type": "stream",
     "text": [
      "\n",
      "      Epoch    GPU_mem   box_loss  pose_loss  kobj_loss   cls_loss   dfl_loss  Instances       Size\n"
     ]
    },
    {
     "name": "stderr",
     "output_type": "stream",
     "text": [
      "     38/100      5.67G      2.084      4.347          0     0.8987      1.339         31        640: 100%|██████████| 12/12 [00:03<00:00,  3.29it/s]\n",
      "                 Class     Images  Instances      Box(P          R      mAP50  mAP50-95)     Pose(P          R      mAP50  mAP50-95): 100%|██████████| 2/2 [00:01<00:00,  1.73it/s]"
     ]
    },
    {
     "name": "stdout",
     "output_type": "stream",
     "text": [
      "                   all        112        309      0.837       0.79      0.841      0.458        0.8      0.676      0.706      0.314\n"
     ]
    },
    {
     "name": "stderr",
     "output_type": "stream",
     "text": [
      "\n"
     ]
    },
    {
     "name": "stdout",
     "output_type": "stream",
     "text": [
      "\n",
      "      Epoch    GPU_mem   box_loss  pose_loss  kobj_loss   cls_loss   dfl_loss  Instances       Size\n"
     ]
    },
    {
     "name": "stderr",
     "output_type": "stream",
     "text": [
      "     39/100      5.69G      2.102      4.208          0     0.8974      1.342         32        640: 100%|██████████| 12/12 [00:03<00:00,  3.25it/s]\n",
      "                 Class     Images  Instances      Box(P          R      mAP50  mAP50-95)     Pose(P          R      mAP50  mAP50-95): 100%|██████████| 2/2 [00:01<00:00,  1.74it/s]"
     ]
    },
    {
     "name": "stdout",
     "output_type": "stream",
     "text": [
      "                   all        112        309       0.82      0.761      0.832      0.458      0.759       0.66      0.675        0.3\n"
     ]
    },
    {
     "name": "stderr",
     "output_type": "stream",
     "text": [
      "\n"
     ]
    },
    {
     "name": "stdout",
     "output_type": "stream",
     "text": [
      "\n",
      "      Epoch    GPU_mem   box_loss  pose_loss  kobj_loss   cls_loss   dfl_loss  Instances       Size\n"
     ]
    },
    {
     "name": "stderr",
     "output_type": "stream",
     "text": [
      "     40/100      5.73G      2.035      4.059          0     0.8794      1.297         34        640: 100%|██████████| 12/12 [00:03<00:00,  3.25it/s]\n",
      "                 Class     Images  Instances      Box(P          R      mAP50  mAP50-95)     Pose(P          R      mAP50  mAP50-95): 100%|██████████| 2/2 [00:01<00:00,  1.63it/s]"
     ]
    },
    {
     "name": "stdout",
     "output_type": "stream",
     "text": [
      "                   all        112        309       0.81      0.796      0.847      0.458      0.801      0.657      0.675      0.312\n"
     ]
    },
    {
     "name": "stderr",
     "output_type": "stream",
     "text": [
      "\n"
     ]
    },
    {
     "name": "stdout",
     "output_type": "stream",
     "text": [
      "\n",
      "      Epoch    GPU_mem   box_loss  pose_loss  kobj_loss   cls_loss   dfl_loss  Instances       Size\n"
     ]
    },
    {
     "name": "stderr",
     "output_type": "stream",
     "text": [
      "     41/100      5.74G       2.02      4.173          0     0.8771      1.316         52        640: 100%|██████████| 12/12 [00:03<00:00,  3.27it/s]\n",
      "                 Class     Images  Instances      Box(P          R      mAP50  mAP50-95)     Pose(P          R      mAP50  mAP50-95): 100%|██████████| 2/2 [00:01<00:00,  1.69it/s]"
     ]
    },
    {
     "name": "stdout",
     "output_type": "stream",
     "text": [
      "                   all        112        309      0.842       0.79       0.84      0.465      0.788      0.715      0.729       0.36\n"
     ]
    },
    {
     "name": "stderr",
     "output_type": "stream",
     "text": [
      "\n"
     ]
    },
    {
     "name": "stdout",
     "output_type": "stream",
     "text": [
      "\n",
      "      Epoch    GPU_mem   box_loss  pose_loss  kobj_loss   cls_loss   dfl_loss  Instances       Size\n"
     ]
    },
    {
     "name": "stderr",
     "output_type": "stream",
     "text": [
      "     42/100      5.75G      2.101      4.176          0     0.9052      1.364         26        640: 100%|██████████| 12/12 [00:03<00:00,  3.22it/s]\n",
      "                 Class     Images  Instances      Box(P          R      mAP50  mAP50-95)     Pose(P          R      mAP50  mAP50-95): 100%|██████████| 2/2 [00:01<00:00,  1.66it/s]"
     ]
    },
    {
     "name": "stdout",
     "output_type": "stream",
     "text": [
      "                   all        112        309      0.838      0.809      0.872      0.474      0.782      0.754      0.749      0.349\n"
     ]
    },
    {
     "name": "stderr",
     "output_type": "stream",
     "text": [
      "\n"
     ]
    },
    {
     "name": "stdout",
     "output_type": "stream",
     "text": [
      "\n",
      "      Epoch    GPU_mem   box_loss  pose_loss  kobj_loss   cls_loss   dfl_loss  Instances       Size\n"
     ]
    },
    {
     "name": "stderr",
     "output_type": "stream",
     "text": [
      "     43/100      5.73G      1.976      3.858          0     0.8408      1.311         36        640: 100%|██████████| 12/12 [00:03<00:00,  3.28it/s]\n",
      "                 Class     Images  Instances      Box(P          R      mAP50  mAP50-95)     Pose(P          R      mAP50  mAP50-95): 100%|██████████| 2/2 [00:01<00:00,  1.73it/s]"
     ]
    },
    {
     "name": "stdout",
     "output_type": "stream",
     "text": [
      "                   all        112        309       0.83       0.74      0.831      0.444      0.767      0.683      0.679      0.313\n"
     ]
    },
    {
     "name": "stderr",
     "output_type": "stream",
     "text": [
      "\n"
     ]
    },
    {
     "name": "stdout",
     "output_type": "stream",
     "text": [
      "\n",
      "      Epoch    GPU_mem   box_loss  pose_loss  kobj_loss   cls_loss   dfl_loss  Instances       Size\n"
     ]
    },
    {
     "name": "stderr",
     "output_type": "stream",
     "text": [
      "     44/100      5.73G      1.977      3.702          0     0.8381      1.297         30        640: 100%|██████████| 12/12 [00:03<00:00,  3.25it/s]\n",
      "                 Class     Images  Instances      Box(P          R      mAP50  mAP50-95)     Pose(P          R      mAP50  mAP50-95): 100%|██████████| 2/2 [00:01<00:00,  1.67it/s]"
     ]
    },
    {
     "name": "stdout",
     "output_type": "stream",
     "text": [
      "                   all        112        309      0.842      0.757      0.855      0.479      0.835      0.693      0.755      0.365\n"
     ]
    },
    {
     "name": "stderr",
     "output_type": "stream",
     "text": [
      "\n"
     ]
    },
    {
     "name": "stdout",
     "output_type": "stream",
     "text": [
      "\n",
      "      Epoch    GPU_mem   box_loss  pose_loss  kobj_loss   cls_loss   dfl_loss  Instances       Size\n"
     ]
    },
    {
     "name": "stderr",
     "output_type": "stream",
     "text": [
      "     45/100      5.74G          2      3.839          0     0.8268      1.294         35        640: 100%|██████████| 12/12 [00:03<00:00,  3.28it/s]\n",
      "                 Class     Images  Instances      Box(P          R      mAP50  mAP50-95)     Pose(P          R      mAP50  mAP50-95): 100%|██████████| 2/2 [00:01<00:00,  1.74it/s]"
     ]
    },
    {
     "name": "stdout",
     "output_type": "stream",
     "text": [
      "                   all        112        309      0.923      0.732       0.86      0.471      0.871      0.686      0.743      0.348\n"
     ]
    },
    {
     "name": "stderr",
     "output_type": "stream",
     "text": [
      "\n"
     ]
    },
    {
     "name": "stdout",
     "output_type": "stream",
     "text": [
      "\n",
      "      Epoch    GPU_mem   box_loss  pose_loss  kobj_loss   cls_loss   dfl_loss  Instances       Size\n"
     ]
    },
    {
     "name": "stderr",
     "output_type": "stream",
     "text": [
      "     46/100      5.69G      1.951      3.839          0     0.8247      1.284         33        640: 100%|██████████| 12/12 [00:03<00:00,  3.28it/s]\n",
      "                 Class     Images  Instances      Box(P          R      mAP50  mAP50-95)     Pose(P          R      mAP50  mAP50-95): 100%|██████████| 2/2 [00:01<00:00,  1.41it/s]"
     ]
    },
    {
     "name": "stdout",
     "output_type": "stream",
     "text": [
      "                   all        112        309      0.897       0.77      0.866        0.5      0.835      0.718      0.769      0.368\n"
     ]
    },
    {
     "name": "stderr",
     "output_type": "stream",
     "text": [
      "\n"
     ]
    },
    {
     "name": "stdout",
     "output_type": "stream",
     "text": [
      "\n",
      "      Epoch    GPU_mem   box_loss  pose_loss  kobj_loss   cls_loss   dfl_loss  Instances       Size\n"
     ]
    },
    {
     "name": "stderr",
     "output_type": "stream",
     "text": [
      "     47/100      5.73G      1.972      3.877          0     0.8203      1.293         42        640: 100%|██████████| 12/12 [00:03<00:00,  3.28it/s]\n",
      "                 Class     Images  Instances      Box(P          R      mAP50  mAP50-95)     Pose(P          R      mAP50  mAP50-95): 100%|██████████| 2/2 [00:01<00:00,  1.76it/s]"
     ]
    },
    {
     "name": "stdout",
     "output_type": "stream",
     "text": [
      "                   all        112        309       0.87      0.783      0.869      0.485      0.841      0.752      0.775      0.379\n"
     ]
    },
    {
     "name": "stderr",
     "output_type": "stream",
     "text": [
      "\n"
     ]
    },
    {
     "name": "stdout",
     "output_type": "stream",
     "text": [
      "\n",
      "      Epoch    GPU_mem   box_loss  pose_loss  kobj_loss   cls_loss   dfl_loss  Instances       Size\n"
     ]
    },
    {
     "name": "stderr",
     "output_type": "stream",
     "text": [
      "     48/100      5.66G      1.956      3.781          0     0.8112      1.281         34        640: 100%|██████████| 12/12 [00:03<00:00,  3.28it/s]\n",
      "                 Class     Images  Instances      Box(P          R      mAP50  mAP50-95)     Pose(P          R      mAP50  mAP50-95): 100%|██████████| 2/2 [00:01<00:00,  1.81it/s]"
     ]
    },
    {
     "name": "stdout",
     "output_type": "stream",
     "text": [
      "                   all        112        309      0.865      0.806      0.875      0.491      0.853       0.75      0.778      0.387\n"
     ]
    },
    {
     "name": "stderr",
     "output_type": "stream",
     "text": [
      "\n"
     ]
    },
    {
     "name": "stdout",
     "output_type": "stream",
     "text": [
      "\n",
      "      Epoch    GPU_mem   box_loss  pose_loss  kobj_loss   cls_loss   dfl_loss  Instances       Size\n"
     ]
    },
    {
     "name": "stderr",
     "output_type": "stream",
     "text": [
      "     49/100      5.74G      1.929      3.828          0     0.7929      1.287         30        640: 100%|██████████| 12/12 [00:03<00:00,  3.29it/s]\n",
      "                 Class     Images  Instances      Box(P          R      mAP50  mAP50-95)     Pose(P          R      mAP50  mAP50-95): 100%|██████████| 2/2 [00:01<00:00,  1.61it/s]"
     ]
    },
    {
     "name": "stdout",
     "output_type": "stream",
     "text": [
      "                   all        112        309      0.868      0.773      0.864       0.47      0.812      0.729      0.745      0.351\n"
     ]
    },
    {
     "name": "stderr",
     "output_type": "stream",
     "text": [
      "\n"
     ]
    },
    {
     "name": "stdout",
     "output_type": "stream",
     "text": [
      "\n",
      "      Epoch    GPU_mem   box_loss  pose_loss  kobj_loss   cls_loss   dfl_loss  Instances       Size\n"
     ]
    },
    {
     "name": "stderr",
     "output_type": "stream",
     "text": [
      "     50/100      5.74G      1.941      3.749          0      0.806      1.283         20        640: 100%|██████████| 12/12 [00:03<00:00,  3.24it/s]\n",
      "                 Class     Images  Instances      Box(P          R      mAP50  mAP50-95)     Pose(P          R      mAP50  mAP50-95): 100%|██████████| 2/2 [00:01<00:00,  1.69it/s]"
     ]
    },
    {
     "name": "stdout",
     "output_type": "stream",
     "text": [
      "                   all        112        309      0.869      0.774      0.863      0.491      0.819      0.728      0.769      0.385\n"
     ]
    },
    {
     "name": "stderr",
     "output_type": "stream",
     "text": [
      "\n"
     ]
    },
    {
     "name": "stdout",
     "output_type": "stream",
     "text": [
      "\n",
      "      Epoch    GPU_mem   box_loss  pose_loss  kobj_loss   cls_loss   dfl_loss  Instances       Size\n"
     ]
    },
    {
     "name": "stderr",
     "output_type": "stream",
     "text": [
      "     51/100      5.68G      1.943      3.725          0     0.8124      1.273         34        640: 100%|██████████| 12/12 [00:03<00:00,  3.25it/s]\n",
      "                 Class     Images  Instances      Box(P          R      mAP50  mAP50-95)     Pose(P          R      mAP50  mAP50-95): 100%|██████████| 2/2 [00:01<00:00,  1.78it/s]"
     ]
    },
    {
     "name": "stdout",
     "output_type": "stream",
     "text": [
      "                   all        112        309      0.906      0.751      0.871      0.492       0.86      0.709      0.758      0.374\n"
     ]
    },
    {
     "name": "stderr",
     "output_type": "stream",
     "text": [
      "\n"
     ]
    },
    {
     "name": "stdout",
     "output_type": "stream",
     "text": [
      "\n",
      "      Epoch    GPU_mem   box_loss  pose_loss  kobj_loss   cls_loss   dfl_loss  Instances       Size\n"
     ]
    },
    {
     "name": "stderr",
     "output_type": "stream",
     "text": [
      "     52/100      5.68G      1.883      3.682          0     0.7826      1.256         31        640: 100%|██████████| 12/12 [00:03<00:00,  3.19it/s]\n",
      "                 Class     Images  Instances      Box(P          R      mAP50  mAP50-95)     Pose(P          R      mAP50  mAP50-95): 100%|██████████| 2/2 [00:01<00:00,  1.54it/s]"
     ]
    },
    {
     "name": "stdout",
     "output_type": "stream",
     "text": [
      "                   all        112        309      0.915       0.77      0.869      0.484      0.876      0.733      0.788      0.396\n"
     ]
    },
    {
     "name": "stderr",
     "output_type": "stream",
     "text": [
      "\n"
     ]
    },
    {
     "name": "stdout",
     "output_type": "stream",
     "text": [
      "\n",
      "      Epoch    GPU_mem   box_loss  pose_loss  kobj_loss   cls_loss   dfl_loss  Instances       Size\n"
     ]
    },
    {
     "name": "stderr",
     "output_type": "stream",
     "text": [
      "     53/100      5.74G      1.893      3.547          0     0.7979      1.257         21        640: 100%|██████████| 12/12 [00:03<00:00,  3.27it/s]\n",
      "                 Class     Images  Instances      Box(P          R      mAP50  mAP50-95)     Pose(P          R      mAP50  mAP50-95): 100%|██████████| 2/2 [00:01<00:00,  1.66it/s]"
     ]
    },
    {
     "name": "stdout",
     "output_type": "stream",
     "text": [
      "                   all        112        309      0.831       0.79      0.848      0.477      0.853      0.689      0.765      0.373\n"
     ]
    },
    {
     "name": "stderr",
     "output_type": "stream",
     "text": [
      "\n"
     ]
    },
    {
     "name": "stdout",
     "output_type": "stream",
     "text": [
      "\n",
      "      Epoch    GPU_mem   box_loss  pose_loss  kobj_loss   cls_loss   dfl_loss  Instances       Size\n"
     ]
    },
    {
     "name": "stderr",
     "output_type": "stream",
     "text": [
      "     54/100      5.73G      1.839        3.4          0     0.7538      1.221         24        640: 100%|██████████| 12/12 [00:03<00:00,  3.26it/s]\n",
      "                 Class     Images  Instances      Box(P          R      mAP50  mAP50-95)     Pose(P          R      mAP50  mAP50-95): 100%|██████████| 2/2 [00:01<00:00,  1.63it/s]"
     ]
    },
    {
     "name": "stdout",
     "output_type": "stream",
     "text": [
      "                   all        112        309      0.839      0.793      0.856      0.481      0.845      0.718      0.747      0.385\n"
     ]
    },
    {
     "name": "stderr",
     "output_type": "stream",
     "text": [
      "\n"
     ]
    },
    {
     "name": "stdout",
     "output_type": "stream",
     "text": [
      "\n",
      "      Epoch    GPU_mem   box_loss  pose_loss  kobj_loss   cls_loss   dfl_loss  Instances       Size\n"
     ]
    },
    {
     "name": "stderr",
     "output_type": "stream",
     "text": [
      "     55/100      5.73G      1.877      3.676          0     0.8007      1.252         21        640: 100%|██████████| 12/12 [00:03<00:00,  3.26it/s]\n",
      "                 Class     Images  Instances      Box(P          R      mAP50  mAP50-95)     Pose(P          R      mAP50  mAP50-95): 100%|██████████| 2/2 [00:01<00:00,  1.73it/s]"
     ]
    },
    {
     "name": "stdout",
     "output_type": "stream",
     "text": [
      "                   all        112        309      0.818      0.801      0.857      0.482      0.762      0.747      0.754      0.387\n"
     ]
    },
    {
     "name": "stderr",
     "output_type": "stream",
     "text": [
      "\n"
     ]
    },
    {
     "name": "stdout",
     "output_type": "stream",
     "text": [
      "\n",
      "      Epoch    GPU_mem   box_loss  pose_loss  kobj_loss   cls_loss   dfl_loss  Instances       Size\n"
     ]
    },
    {
     "name": "stderr",
     "output_type": "stream",
     "text": [
      "     56/100      5.69G      1.854      3.501          0     0.7972      1.239         31        640: 100%|██████████| 12/12 [00:03<00:00,  3.22it/s]\n",
      "                 Class     Images  Instances      Box(P          R      mAP50  mAP50-95)     Pose(P          R      mAP50  mAP50-95): 100%|██████████| 2/2 [00:01<00:00,  1.71it/s]"
     ]
    },
    {
     "name": "stdout",
     "output_type": "stream",
     "text": [
      "                   all        112        309      0.823      0.799      0.855      0.489      0.773      0.741      0.754      0.401\n"
     ]
    },
    {
     "name": "stderr",
     "output_type": "stream",
     "text": [
      "\n"
     ]
    },
    {
     "name": "stdout",
     "output_type": "stream",
     "text": [
      "\n",
      "      Epoch    GPU_mem   box_loss  pose_loss  kobj_loss   cls_loss   dfl_loss  Instances       Size\n"
     ]
    },
    {
     "name": "stderr",
     "output_type": "stream",
     "text": [
      "     57/100      5.69G      1.825      3.463          0     0.7455       1.22         31        640: 100%|██████████| 12/12 [00:03<00:00,  3.21it/s]\n",
      "                 Class     Images  Instances      Box(P          R      mAP50  mAP50-95)     Pose(P          R      mAP50  mAP50-95): 100%|██████████| 2/2 [00:01<00:00,  1.69it/s]"
     ]
    },
    {
     "name": "stdout",
     "output_type": "stream",
     "text": [
      "                   all        112        309      0.862      0.793      0.864      0.494      0.853      0.744      0.777       0.41\n"
     ]
    },
    {
     "name": "stderr",
     "output_type": "stream",
     "text": [
      "\n"
     ]
    },
    {
     "name": "stdout",
     "output_type": "stream",
     "text": [
      "\n",
      "      Epoch    GPU_mem   box_loss  pose_loss  kobj_loss   cls_loss   dfl_loss  Instances       Size\n"
     ]
    },
    {
     "name": "stderr",
     "output_type": "stream",
     "text": [
      "     58/100      5.76G      1.834      3.505          0     0.7768      1.232         52        640: 100%|██████████| 12/12 [00:03<00:00,  3.25it/s]\n",
      "                 Class     Images  Instances      Box(P          R      mAP50  mAP50-95)     Pose(P          R      mAP50  mAP50-95): 100%|██████████| 2/2 [00:01<00:00,  1.49it/s]"
     ]
    },
    {
     "name": "stdout",
     "output_type": "stream",
     "text": [
      "                   all        112        309      0.868      0.767      0.851      0.483      0.824      0.728      0.751      0.371\n"
     ]
    },
    {
     "name": "stderr",
     "output_type": "stream",
     "text": [
      "\n"
     ]
    },
    {
     "name": "stdout",
     "output_type": "stream",
     "text": [
      "\n",
      "      Epoch    GPU_mem   box_loss  pose_loss  kobj_loss   cls_loss   dfl_loss  Instances       Size\n"
     ]
    },
    {
     "name": "stderr",
     "output_type": "stream",
     "text": [
      "     59/100      5.69G      1.824      3.547          0     0.7406      1.235         31        640: 100%|██████████| 12/12 [00:03<00:00,  3.28it/s]\n",
      "                 Class     Images  Instances      Box(P          R      mAP50  mAP50-95)     Pose(P          R      mAP50  mAP50-95): 100%|██████████| 2/2 [00:01<00:00,  1.73it/s]"
     ]
    },
    {
     "name": "stdout",
     "output_type": "stream",
     "text": [
      "                   all        112        309      0.883       0.78      0.846      0.473      0.828      0.731      0.726      0.376\n"
     ]
    },
    {
     "name": "stderr",
     "output_type": "stream",
     "text": [
      "\n"
     ]
    },
    {
     "name": "stdout",
     "output_type": "stream",
     "text": [
      "\n",
      "      Epoch    GPU_mem   box_loss  pose_loss  kobj_loss   cls_loss   dfl_loss  Instances       Size\n"
     ]
    },
    {
     "name": "stderr",
     "output_type": "stream",
     "text": [
      "     60/100      5.74G      1.827      3.498          0     0.7431      1.219         27        640: 100%|██████████| 12/12 [00:03<00:00,  3.26it/s]\n",
      "                 Class     Images  Instances      Box(P          R      mAP50  mAP50-95)     Pose(P          R      mAP50  mAP50-95): 100%|██████████| 2/2 [00:01<00:00,  1.68it/s]"
     ]
    },
    {
     "name": "stdout",
     "output_type": "stream",
     "text": [
      "                   all        112        309      0.822      0.809      0.852      0.481       0.78      0.767      0.743      0.383\n"
     ]
    },
    {
     "name": "stderr",
     "output_type": "stream",
     "text": [
      "\n"
     ]
    },
    {
     "name": "stdout",
     "output_type": "stream",
     "text": [
      "\n",
      "      Epoch    GPU_mem   box_loss  pose_loss  kobj_loss   cls_loss   dfl_loss  Instances       Size\n"
     ]
    },
    {
     "name": "stderr",
     "output_type": "stream",
     "text": [
      "     61/100      5.69G      1.835       3.53          0     0.7563      1.236         24        640: 100%|██████████| 12/12 [00:03<00:00,  3.25it/s]\n",
      "                 Class     Images  Instances      Box(P          R      mAP50  mAP50-95)     Pose(P          R      mAP50  mAP50-95): 100%|██████████| 2/2 [00:01<00:00,  1.64it/s]"
     ]
    },
    {
     "name": "stdout",
     "output_type": "stream",
     "text": [
      "                   all        112        309      0.844      0.806      0.874      0.484      0.833      0.751      0.779      0.408\n"
     ]
    },
    {
     "name": "stderr",
     "output_type": "stream",
     "text": [
      "\n"
     ]
    },
    {
     "name": "stdout",
     "output_type": "stream",
     "text": [
      "\n",
      "      Epoch    GPU_mem   box_loss  pose_loss  kobj_loss   cls_loss   dfl_loss  Instances       Size\n"
     ]
    },
    {
     "name": "stderr",
     "output_type": "stream",
     "text": [
      "     62/100      5.75G      1.783      3.403          0     0.7355      1.212         23        640: 100%|██████████| 12/12 [00:03<00:00,  3.24it/s]\n",
      "                 Class     Images  Instances      Box(P          R      mAP50  mAP50-95)     Pose(P          R      mAP50  mAP50-95): 100%|██████████| 2/2 [00:01<00:00,  1.67it/s]"
     ]
    },
    {
     "name": "stdout",
     "output_type": "stream",
     "text": [
      "                   all        112        309      0.866      0.786      0.882        0.5      0.866      0.734      0.787      0.424\n"
     ]
    },
    {
     "name": "stderr",
     "output_type": "stream",
     "text": [
      "\n"
     ]
    },
    {
     "name": "stdout",
     "output_type": "stream",
     "text": [
      "\n",
      "      Epoch    GPU_mem   box_loss  pose_loss  kobj_loss   cls_loss   dfl_loss  Instances       Size\n"
     ]
    },
    {
     "name": "stderr",
     "output_type": "stream",
     "text": [
      "     63/100      5.67G      1.749      3.346          0     0.7203      1.198         41        640: 100%|██████████| 12/12 [00:03<00:00,  3.27it/s]\n",
      "                 Class     Images  Instances      Box(P          R      mAP50  mAP50-95)     Pose(P          R      mAP50  mAP50-95): 100%|██████████| 2/2 [00:01<00:00,  1.80it/s]"
     ]
    },
    {
     "name": "stdout",
     "output_type": "stream",
     "text": [
      "                   all        112        309      0.887      0.788      0.874      0.507      0.855      0.742      0.776      0.414\n"
     ]
    },
    {
     "name": "stderr",
     "output_type": "stream",
     "text": [
      "\n"
     ]
    },
    {
     "name": "stdout",
     "output_type": "stream",
     "text": [
      "\n",
      "      Epoch    GPU_mem   box_loss  pose_loss  kobj_loss   cls_loss   dfl_loss  Instances       Size\n"
     ]
    },
    {
     "name": "stderr",
     "output_type": "stream",
     "text": [
      "     64/100      5.74G      1.742      3.334          0     0.7167       1.21         33        640: 100%|██████████| 12/12 [00:03<00:00,  3.26it/s]\n",
      "                 Class     Images  Instances      Box(P          R      mAP50  mAP50-95)     Pose(P          R      mAP50  mAP50-95): 100%|██████████| 2/2 [00:01<00:00,  1.66it/s]\n"
     ]
    },
    {
     "name": "stdout",
     "output_type": "stream",
     "text": [
      "                   all        112        309      0.874      0.785      0.881      0.519      0.862      0.722      0.783      0.428\n",
      "\n",
      "      Epoch    GPU_mem   box_loss  pose_loss  kobj_loss   cls_loss   dfl_loss  Instances       Size\n"
     ]
    },
    {
     "name": "stderr",
     "output_type": "stream",
     "text": [
      "     65/100      5.66G      1.695      3.365          0     0.7169      1.188         34        640: 100%|██████████| 12/12 [00:03<00:00,  3.25it/s]\n",
      "                 Class     Images  Instances      Box(P          R      mAP50  mAP50-95)     Pose(P          R      mAP50  mAP50-95): 100%|██████████| 2/2 [00:01<00:00,  1.74it/s]"
     ]
    },
    {
     "name": "stdout",
     "output_type": "stream",
     "text": [
      "                   all        112        309      0.894      0.794      0.888      0.516      0.843      0.741      0.777      0.436\n"
     ]
    },
    {
     "name": "stderr",
     "output_type": "stream",
     "text": [
      "\n"
     ]
    },
    {
     "name": "stdout",
     "output_type": "stream",
     "text": [
      "\n",
      "      Epoch    GPU_mem   box_loss  pose_loss  kobj_loss   cls_loss   dfl_loss  Instances       Size\n"
     ]
    },
    {
     "name": "stderr",
     "output_type": "stream",
     "text": [
      "     66/100      5.73G      1.683      3.346          0     0.6957      1.178         31        640: 100%|██████████| 12/12 [00:03<00:00,  3.26it/s]\n",
      "                 Class     Images  Instances      Box(P          R      mAP50  mAP50-95)     Pose(P          R      mAP50  mAP50-95): 100%|██████████| 2/2 [00:01<00:00,  1.69it/s]"
     ]
    },
    {
     "name": "stdout",
     "output_type": "stream",
     "text": [
      "                   all        112        309      0.837      0.828      0.879      0.517      0.868      0.744      0.802      0.438\n"
     ]
    },
    {
     "name": "stderr",
     "output_type": "stream",
     "text": [
      "\n"
     ]
    },
    {
     "name": "stdout",
     "output_type": "stream",
     "text": [
      "\n",
      "      Epoch    GPU_mem   box_loss  pose_loss  kobj_loss   cls_loss   dfl_loss  Instances       Size\n"
     ]
    },
    {
     "name": "stderr",
     "output_type": "stream",
     "text": [
      "     67/100      5.74G      1.698      3.323          0     0.6922      1.169         48        640: 100%|██████████| 12/12 [00:03<00:00,  3.26it/s]\n",
      "                 Class     Images  Instances      Box(P          R      mAP50  mAP50-95)     Pose(P          R      mAP50  mAP50-95): 100%|██████████| 2/2 [00:01<00:00,  1.73it/s]"
     ]
    },
    {
     "name": "stdout",
     "output_type": "stream",
     "text": [
      "                   all        112        309      0.908      0.767      0.884      0.507      0.873      0.718      0.784      0.434\n"
     ]
    },
    {
     "name": "stderr",
     "output_type": "stream",
     "text": [
      "\n"
     ]
    },
    {
     "name": "stdout",
     "output_type": "stream",
     "text": [
      "\n",
      "      Epoch    GPU_mem   box_loss  pose_loss  kobj_loss   cls_loss   dfl_loss  Instances       Size\n"
     ]
    },
    {
     "name": "stderr",
     "output_type": "stream",
     "text": [
      "     68/100      5.69G      1.697      3.425          0     0.6822      1.166         39        640: 100%|██████████| 12/12 [00:03<00:00,  3.28it/s]\n",
      "                 Class     Images  Instances      Box(P          R      mAP50  mAP50-95)     Pose(P          R      mAP50  mAP50-95): 100%|██████████| 2/2 [00:01<00:00,  1.73it/s]"
     ]
    },
    {
     "name": "stdout",
     "output_type": "stream",
     "text": [
      "                   all        112        309      0.884       0.78       0.87      0.502      0.852      0.727      0.775      0.422\n"
     ]
    },
    {
     "name": "stderr",
     "output_type": "stream",
     "text": [
      "\n"
     ]
    },
    {
     "name": "stdout",
     "output_type": "stream",
     "text": [
      "\n",
      "      Epoch    GPU_mem   box_loss  pose_loss  kobj_loss   cls_loss   dfl_loss  Instances       Size\n"
     ]
    },
    {
     "name": "stderr",
     "output_type": "stream",
     "text": [
      "     69/100      5.76G      1.661      3.432          0     0.7046      1.192         37        640: 100%|██████████| 12/12 [00:03<00:00,  3.24it/s]\n",
      "                 Class     Images  Instances      Box(P          R      mAP50  mAP50-95)     Pose(P          R      mAP50  mAP50-95): 100%|██████████| 2/2 [00:01<00:00,  1.41it/s]"
     ]
    },
    {
     "name": "stdout",
     "output_type": "stream",
     "text": [
      "                   all        112        309       0.85      0.819      0.871      0.513      0.808      0.774      0.786      0.422\n"
     ]
    },
    {
     "name": "stderr",
     "output_type": "stream",
     "text": [
      "\n"
     ]
    },
    {
     "name": "stdout",
     "output_type": "stream",
     "text": [
      "\n",
      "      Epoch    GPU_mem   box_loss  pose_loss  kobj_loss   cls_loss   dfl_loss  Instances       Size\n"
     ]
    },
    {
     "name": "stderr",
     "output_type": "stream",
     "text": [
      "     70/100      5.69G      1.638      3.152          0     0.6574      1.154         28        640: 100%|██████████| 12/12 [00:03<00:00,  3.26it/s]\n",
      "                 Class     Images  Instances      Box(P          R      mAP50  mAP50-95)     Pose(P          R      mAP50  mAP50-95): 100%|██████████| 2/2 [00:01<00:00,  1.43it/s]"
     ]
    },
    {
     "name": "stdout",
     "output_type": "stream",
     "text": [
      "                   all        112        309      0.867      0.806      0.868      0.508      0.853      0.753      0.784      0.429\n"
     ]
    },
    {
     "name": "stderr",
     "output_type": "stream",
     "text": [
      "\n"
     ]
    },
    {
     "name": "stdout",
     "output_type": "stream",
     "text": [
      "\n",
      "      Epoch    GPU_mem   box_loss  pose_loss  kobj_loss   cls_loss   dfl_loss  Instances       Size\n"
     ]
    },
    {
     "name": "stderr",
     "output_type": "stream",
     "text": [
      "     71/100      5.73G      1.683      3.372          0     0.6886      1.181         40        640: 100%|██████████| 12/12 [00:03<00:00,  3.24it/s]\n",
      "                 Class     Images  Instances      Box(P          R      mAP50  mAP50-95)     Pose(P          R      mAP50  mAP50-95): 100%|██████████| 2/2 [00:01<00:00,  1.73it/s]"
     ]
    },
    {
     "name": "stdout",
     "output_type": "stream",
     "text": [
      "                   all        112        309      0.878      0.803      0.883      0.518      0.837      0.762      0.789      0.441\n"
     ]
    },
    {
     "name": "stderr",
     "output_type": "stream",
     "text": [
      "\n"
     ]
    },
    {
     "name": "stdout",
     "output_type": "stream",
     "text": [
      "\n",
      "      Epoch    GPU_mem   box_loss  pose_loss  kobj_loss   cls_loss   dfl_loss  Instances       Size\n"
     ]
    },
    {
     "name": "stderr",
     "output_type": "stream",
     "text": [
      "     72/100      5.69G      1.582      3.121          0     0.6442      1.131         33        640: 100%|██████████| 12/12 [00:03<00:00,  3.25it/s]\n",
      "                 Class     Images  Instances      Box(P          R      mAP50  mAP50-95)     Pose(P          R      mAP50  mAP50-95): 100%|██████████| 2/2 [00:01<00:00,  1.64it/s]"
     ]
    },
    {
     "name": "stdout",
     "output_type": "stream",
     "text": [
      "                   all        112        309        0.9      0.796      0.875      0.514      0.862      0.754      0.785      0.435\n"
     ]
    },
    {
     "name": "stderr",
     "output_type": "stream",
     "text": [
      "\n"
     ]
    },
    {
     "name": "stdout",
     "output_type": "stream",
     "text": [
      "\n",
      "      Epoch    GPU_mem   box_loss  pose_loss  kobj_loss   cls_loss   dfl_loss  Instances       Size\n"
     ]
    },
    {
     "name": "stderr",
     "output_type": "stream",
     "text": [
      "     73/100      5.76G      1.686      3.287          0     0.6881      1.185         25        640: 100%|██████████| 12/12 [00:03<00:00,  3.23it/s]\n",
      "                 Class     Images  Instances      Box(P          R      mAP50  mAP50-95)     Pose(P          R      mAP50  mAP50-95): 100%|██████████| 2/2 [00:01<00:00,  1.61it/s]"
     ]
    },
    {
     "name": "stdout",
     "output_type": "stream",
     "text": [
      "                   all        112        309      0.875      0.799       0.87      0.515      0.842      0.764      0.794      0.439\n"
     ]
    },
    {
     "name": "stderr",
     "output_type": "stream",
     "text": [
      "\n"
     ]
    },
    {
     "name": "stdout",
     "output_type": "stream",
     "text": [
      "\n",
      "      Epoch    GPU_mem   box_loss  pose_loss  kobj_loss   cls_loss   dfl_loss  Instances       Size\n"
     ]
    },
    {
     "name": "stderr",
     "output_type": "stream",
     "text": [
      "     74/100      5.73G      1.593      3.236          0     0.6469      1.145         40        640: 100%|██████████| 12/12 [00:03<00:00,  3.25it/s]\n",
      "                 Class     Images  Instances      Box(P          R      mAP50  mAP50-95)     Pose(P          R      mAP50  mAP50-95): 100%|██████████| 2/2 [00:01<00:00,  1.70it/s]"
     ]
    },
    {
     "name": "stdout",
     "output_type": "stream",
     "text": [
      "                   all        112        309      0.848      0.822      0.874      0.518      0.809      0.783      0.792       0.44\n"
     ]
    },
    {
     "name": "stderr",
     "output_type": "stream",
     "text": [
      "\n"
     ]
    },
    {
     "name": "stdout",
     "output_type": "stream",
     "text": [
      "\n",
      "      Epoch    GPU_mem   box_loss  pose_loss  kobj_loss   cls_loss   dfl_loss  Instances       Size\n"
     ]
    },
    {
     "name": "stderr",
     "output_type": "stream",
     "text": [
      "     75/100      5.75G      1.612      3.278          0     0.6564       1.17         37        640: 100%|██████████| 12/12 [00:03<00:00,  3.28it/s]\n",
      "                 Class     Images  Instances      Box(P          R      mAP50  mAP50-95)     Pose(P          R      mAP50  mAP50-95): 100%|██████████| 2/2 [00:01<00:00,  1.58it/s]"
     ]
    },
    {
     "name": "stdout",
     "output_type": "stream",
     "text": [
      "                   all        112        309      0.846       0.82      0.879      0.517      0.807      0.783      0.798      0.441\n"
     ]
    },
    {
     "name": "stderr",
     "output_type": "stream",
     "text": [
      "\n"
     ]
    },
    {
     "name": "stdout",
     "output_type": "stream",
     "text": [
      "\n",
      "      Epoch    GPU_mem   box_loss  pose_loss  kobj_loss   cls_loss   dfl_loss  Instances       Size\n"
     ]
    },
    {
     "name": "stderr",
     "output_type": "stream",
     "text": [
      "     76/100      5.67G      1.605      3.151          0     0.6499      1.162         34        640: 100%|██████████| 12/12 [00:03<00:00,  3.19it/s]\n",
      "                 Class     Images  Instances      Box(P          R      mAP50  mAP50-95)     Pose(P          R      mAP50  mAP50-95): 100%|██████████| 2/2 [00:01<00:00,  1.31it/s]"
     ]
    },
    {
     "name": "stdout",
     "output_type": "stream",
     "text": [
      "                   all        112        309      0.853      0.828      0.881      0.521      0.817      0.786      0.807      0.445\n"
     ]
    },
    {
     "name": "stderr",
     "output_type": "stream",
     "text": [
      "\n"
     ]
    },
    {
     "name": "stdout",
     "output_type": "stream",
     "text": [
      "\n",
      "      Epoch    GPU_mem   box_loss  pose_loss  kobj_loss   cls_loss   dfl_loss  Instances       Size\n"
     ]
    },
    {
     "name": "stderr",
     "output_type": "stream",
     "text": [
      "     77/100      5.68G      1.557      3.092          0     0.6396      1.134         37        640: 100%|██████████| 12/12 [00:03<00:00,  3.20it/s]\n",
      "                 Class     Images  Instances      Box(P          R      mAP50  mAP50-95)     Pose(P          R      mAP50  mAP50-95): 100%|██████████| 2/2 [00:01<00:00,  1.43it/s]"
     ]
    },
    {
     "name": "stdout",
     "output_type": "stream",
     "text": [
      "                   all        112        309      0.871      0.809      0.875      0.521      0.844       0.77      0.801       0.44\n"
     ]
    },
    {
     "name": "stderr",
     "output_type": "stream",
     "text": [
      "\n"
     ]
    },
    {
     "name": "stdout",
     "output_type": "stream",
     "text": [
      "\n",
      "      Epoch    GPU_mem   box_loss  pose_loss  kobj_loss   cls_loss   dfl_loss  Instances       Size\n"
     ]
    },
    {
     "name": "stderr",
     "output_type": "stream",
     "text": [
      "     78/100      5.68G      1.611      3.329          0     0.6412      1.166         23        640: 100%|██████████| 12/12 [00:03<00:00,  3.19it/s]\n",
      "                 Class     Images  Instances      Box(P          R      mAP50  mAP50-95)     Pose(P          R      mAP50  mAP50-95): 100%|██████████| 2/2 [00:01<00:00,  1.53it/s]"
     ]
    },
    {
     "name": "stdout",
     "output_type": "stream",
     "text": [
      "                   all        112        309      0.865      0.809      0.871      0.513       0.82      0.766      0.788       0.44\n"
     ]
    },
    {
     "name": "stderr",
     "output_type": "stream",
     "text": [
      "\n"
     ]
    },
    {
     "name": "stdout",
     "output_type": "stream",
     "text": [
      "\n",
      "      Epoch    GPU_mem   box_loss  pose_loss  kobj_loss   cls_loss   dfl_loss  Instances       Size\n"
     ]
    },
    {
     "name": "stderr",
     "output_type": "stream",
     "text": [
      "     79/100      5.69G      1.537      3.069          0     0.6321       1.13         28        640: 100%|██████████| 12/12 [00:03<00:00,  3.21it/s]\n",
      "                 Class     Images  Instances      Box(P          R      mAP50  mAP50-95)     Pose(P          R      mAP50  mAP50-95): 100%|██████████| 2/2 [00:01<00:00,  1.57it/s]"
     ]
    },
    {
     "name": "stdout",
     "output_type": "stream",
     "text": [
      "                   all        112        309      0.897      0.764      0.874      0.513      0.856      0.729      0.783      0.444\n"
     ]
    },
    {
     "name": "stderr",
     "output_type": "stream",
     "text": [
      "\n"
     ]
    },
    {
     "name": "stdout",
     "output_type": "stream",
     "text": [
      "\n",
      "      Epoch    GPU_mem   box_loss  pose_loss  kobj_loss   cls_loss   dfl_loss  Instances       Size\n"
     ]
    },
    {
     "name": "stderr",
     "output_type": "stream",
     "text": [
      "     80/100      5.68G      1.541      2.954          0     0.6256      1.128         26        640: 100%|██████████| 12/12 [00:03<00:00,  3.22it/s]\n",
      "                 Class     Images  Instances      Box(P          R      mAP50  mAP50-95)     Pose(P          R      mAP50  mAP50-95): 100%|██████████| 2/2 [00:01<00:00,  1.60it/s]"
     ]
    },
    {
     "name": "stdout",
     "output_type": "stream",
     "text": [
      "                   all        112        309      0.897      0.777      0.882      0.523       0.86      0.736      0.805      0.456\n"
     ]
    },
    {
     "name": "stderr",
     "output_type": "stream",
     "text": [
      "\n"
     ]
    },
    {
     "name": "stdout",
     "output_type": "stream",
     "text": [
      "\n",
      "      Epoch    GPU_mem   box_loss  pose_loss  kobj_loss   cls_loss   dfl_loss  Instances       Size\n"
     ]
    },
    {
     "name": "stderr",
     "output_type": "stream",
     "text": [
      "     81/100      5.69G      1.535      3.117          0     0.6491      1.139         25        640: 100%|██████████| 12/12 [00:03<00:00,  3.21it/s]\n",
      "                 Class     Images  Instances      Box(P          R      mAP50  mAP50-95)     Pose(P          R      mAP50  mAP50-95): 100%|██████████| 2/2 [00:01<00:00,  1.73it/s]"
     ]
    },
    {
     "name": "stdout",
     "output_type": "stream",
     "text": [
      "                   all        112        309      0.901      0.764      0.883      0.526      0.862      0.744      0.814       0.46\n"
     ]
    },
    {
     "name": "stderr",
     "output_type": "stream",
     "text": [
      "\n"
     ]
    },
    {
     "name": "stdout",
     "output_type": "stream",
     "text": [
      "\n",
      "      Epoch    GPU_mem   box_loss  pose_loss  kobj_loss   cls_loss   dfl_loss  Instances       Size\n"
     ]
    },
    {
     "name": "stderr",
     "output_type": "stream",
     "text": [
      "     82/100      5.69G      1.511      2.946          0     0.6169      1.125         30        640: 100%|██████████| 12/12 [00:03<00:00,  3.24it/s]\n",
      "                 Class     Images  Instances      Box(P          R      mAP50  mAP50-95)     Pose(P          R      mAP50  mAP50-95): 100%|██████████| 2/2 [00:01<00:00,  1.51it/s]"
     ]
    },
    {
     "name": "stdout",
     "output_type": "stream",
     "text": [
      "                   all        112        309      0.841      0.819      0.884       0.53      0.843      0.747        0.8      0.464\n"
     ]
    },
    {
     "name": "stderr",
     "output_type": "stream",
     "text": [
      "\n"
     ]
    },
    {
     "name": "stdout",
     "output_type": "stream",
     "text": [
      "\n",
      "      Epoch    GPU_mem   box_loss  pose_loss  kobj_loss   cls_loss   dfl_loss  Instances       Size\n"
     ]
    },
    {
     "name": "stderr",
     "output_type": "stream",
     "text": [
      "     83/100      5.74G      1.501      3.029          0      0.615      1.121         35        640: 100%|██████████| 12/12 [00:03<00:00,  3.21it/s]\n",
      "                 Class     Images  Instances      Box(P          R      mAP50  mAP50-95)     Pose(P          R      mAP50  mAP50-95): 100%|██████████| 2/2 [00:01<00:00,  1.67it/s]"
     ]
    },
    {
     "name": "stdout",
     "output_type": "stream",
     "text": [
      "                   all        112        309      0.827      0.825      0.878      0.531      0.851      0.728      0.794      0.456\n"
     ]
    },
    {
     "name": "stderr",
     "output_type": "stream",
     "text": [
      "\n"
     ]
    },
    {
     "name": "stdout",
     "output_type": "stream",
     "text": [
      "\n",
      "      Epoch    GPU_mem   box_loss  pose_loss  kobj_loss   cls_loss   dfl_loss  Instances       Size\n"
     ]
    },
    {
     "name": "stderr",
     "output_type": "stream",
     "text": [
      "     84/100      5.75G      1.511       2.99          0     0.6211      1.124         36        640: 100%|██████████| 12/12 [00:03<00:00,  3.25it/s]\n",
      "                 Class     Images  Instances      Box(P          R      mAP50  mAP50-95)     Pose(P          R      mAP50  mAP50-95): 100%|██████████| 2/2 [00:01<00:00,  1.60it/s]"
     ]
    },
    {
     "name": "stdout",
     "output_type": "stream",
     "text": [
      "                   all        112        309       0.91      0.751      0.877      0.532       0.87      0.716      0.787      0.452\n"
     ]
    },
    {
     "name": "stderr",
     "output_type": "stream",
     "text": [
      "\n"
     ]
    },
    {
     "name": "stdout",
     "output_type": "stream",
     "text": [
      "\n",
      "      Epoch    GPU_mem   box_loss  pose_loss  kobj_loss   cls_loss   dfl_loss  Instances       Size\n"
     ]
    },
    {
     "name": "stderr",
     "output_type": "stream",
     "text": [
      "     85/100      5.69G      1.536      3.024          0     0.6201      1.131         50        640: 100%|██████████| 12/12 [00:03<00:00,  3.27it/s]\n",
      "                 Class     Images  Instances      Box(P          R      mAP50  mAP50-95)     Pose(P          R      mAP50  mAP50-95): 100%|██████████| 2/2 [00:01<00:00,  1.72it/s]"
     ]
    },
    {
     "name": "stdout",
     "output_type": "stream",
     "text": [
      "                   all        112        309      0.881      0.788      0.883      0.528      0.859       0.75      0.804      0.457\n"
     ]
    },
    {
     "name": "stderr",
     "output_type": "stream",
     "text": [
      "\n"
     ]
    },
    {
     "name": "stdout",
     "output_type": "stream",
     "text": [
      "\n",
      "      Epoch    GPU_mem   box_loss  pose_loss  kobj_loss   cls_loss   dfl_loss  Instances       Size\n"
     ]
    },
    {
     "name": "stderr",
     "output_type": "stream",
     "text": [
      "     86/100      5.75G      1.503      3.009          0     0.6191      1.121         25        640: 100%|██████████| 12/12 [00:03<00:00,  3.22it/s]\n",
      "                 Class     Images  Instances      Box(P          R      mAP50  mAP50-95)     Pose(P          R      mAP50  mAP50-95): 100%|██████████| 2/2 [00:01<00:00,  1.40it/s]"
     ]
    },
    {
     "name": "stdout",
     "output_type": "stream",
     "text": [
      "                   all        112        309       0.87      0.803      0.884      0.532      0.844      0.751      0.805      0.456\n"
     ]
    },
    {
     "name": "stderr",
     "output_type": "stream",
     "text": [
      "\n"
     ]
    },
    {
     "name": "stdout",
     "output_type": "stream",
     "text": [
      "\n",
      "      Epoch    GPU_mem   box_loss  pose_loss  kobj_loss   cls_loss   dfl_loss  Instances       Size\n"
     ]
    },
    {
     "name": "stderr",
     "output_type": "stream",
     "text": [
      "     87/100      5.73G      1.499      3.184          0     0.6329      1.134         28        640: 100%|██████████| 12/12 [00:03<00:00,  3.27it/s]\n",
      "                 Class     Images  Instances      Box(P          R      mAP50  mAP50-95)     Pose(P          R      mAP50  mAP50-95): 100%|██████████| 2/2 [00:01<00:00,  1.72it/s]"
     ]
    },
    {
     "name": "stdout",
     "output_type": "stream",
     "text": [
      "                   all        112        309      0.843       0.82      0.886      0.534      0.811      0.764      0.803      0.458\n"
     ]
    },
    {
     "name": "stderr",
     "output_type": "stream",
     "text": [
      "\n"
     ]
    },
    {
     "name": "stdout",
     "output_type": "stream",
     "text": [
      "\n",
      "      Epoch    GPU_mem   box_loss  pose_loss  kobj_loss   cls_loss   dfl_loss  Instances       Size\n"
     ]
    },
    {
     "name": "stderr",
     "output_type": "stream",
     "text": [
      "     88/100      5.75G      1.512      3.089          0     0.6293      1.133         22        640: 100%|██████████| 12/12 [00:03<00:00,  3.24it/s]\n",
      "                 Class     Images  Instances      Box(P          R      mAP50  mAP50-95)     Pose(P          R      mAP50  mAP50-95): 100%|██████████| 2/2 [00:01<00:00,  1.48it/s]"
     ]
    },
    {
     "name": "stdout",
     "output_type": "stream",
     "text": [
      "                   all        112        309       0.83      0.825      0.886      0.535      0.858      0.725      0.811      0.463\n"
     ]
    },
    {
     "name": "stderr",
     "output_type": "stream",
     "text": [
      "\n"
     ]
    },
    {
     "name": "stdout",
     "output_type": "stream",
     "text": [
      "\n",
      "      Epoch    GPU_mem   box_loss  pose_loss  kobj_loss   cls_loss   dfl_loss  Instances       Size\n"
     ]
    },
    {
     "name": "stderr",
     "output_type": "stream",
     "text": [
      "     89/100      5.73G      1.461      3.052          0     0.5995      1.104         40        640: 100%|██████████| 12/12 [00:03<00:00,  3.23it/s]\n",
      "                 Class     Images  Instances      Box(P          R      mAP50  mAP50-95)     Pose(P          R      mAP50  mAP50-95): 100%|██████████| 2/2 [00:01<00:00,  1.71it/s]"
     ]
    },
    {
     "name": "stdout",
     "output_type": "stream",
     "text": [
      "                   all        112        309      0.885      0.786      0.885      0.534      0.854      0.744      0.804      0.462\n"
     ]
    },
    {
     "name": "stderr",
     "output_type": "stream",
     "text": [
      "\n"
     ]
    },
    {
     "name": "stdout",
     "output_type": "stream",
     "text": [
      "\n",
      "      Epoch    GPU_mem   box_loss  pose_loss  kobj_loss   cls_loss   dfl_loss  Instances       Size\n"
     ]
    },
    {
     "name": "stderr",
     "output_type": "stream",
     "text": [
      "     90/100      5.73G      1.459      2.999          0     0.5986      1.119         29        640: 100%|██████████| 12/12 [00:03<00:00,  3.23it/s]\n",
      "                 Class     Images  Instances      Box(P          R      mAP50  mAP50-95)     Pose(P          R      mAP50  mAP50-95): 100%|██████████| 2/2 [00:01<00:00,  1.57it/s]"
     ]
    },
    {
     "name": "stdout",
     "output_type": "stream",
     "text": [
      "                   all        112        309      0.824      0.832      0.883      0.529      0.844      0.741      0.804      0.459\n"
     ]
    },
    {
     "name": "stderr",
     "output_type": "stream",
     "text": [
      "\n"
     ]
    },
    {
     "name": "stdout",
     "output_type": "stream",
     "text": [
      "Closing dataloader mosaic\n",
      "\n",
      "      Epoch    GPU_mem   box_loss  pose_loss  kobj_loss   cls_loss   dfl_loss  Instances       Size\n"
     ]
    },
    {
     "name": "stderr",
     "output_type": "stream",
     "text": [
      "     91/100      6.09G      1.425      2.509          0     0.5777      1.106         21        640: 100%|██████████| 12/12 [00:04<00:00,  2.77it/s]\n",
      "                 Class     Images  Instances      Box(P          R      mAP50  mAP50-95)     Pose(P          R      mAP50  mAP50-95): 100%|██████████| 2/2 [00:02<00:00,  1.10s/it]"
     ]
    },
    {
     "name": "stdout",
     "output_type": "stream",
     "text": [
      "                   all        112        309      0.875       0.79      0.879      0.522      0.839      0.742      0.795      0.444\n"
     ]
    },
    {
     "name": "stderr",
     "output_type": "stream",
     "text": [
      "\n"
     ]
    },
    {
     "name": "stdout",
     "output_type": "stream",
     "text": [
      "\n",
      "      Epoch    GPU_mem   box_loss  pose_loss  kobj_loss   cls_loss   dfl_loss  Instances       Size\n"
     ]
    },
    {
     "name": "stderr",
     "output_type": "stream",
     "text": [
      "     92/100      5.66G      1.342      2.243          0     0.5118      1.062         29        640: 100%|██████████| 12/12 [00:03<00:00,  3.26it/s]\n",
      "                 Class     Images  Instances      Box(P          R      mAP50  mAP50-95)     Pose(P          R      mAP50  mAP50-95): 100%|██████████| 2/2 [00:01<00:00,  1.15it/s]"
     ]
    },
    {
     "name": "stdout",
     "output_type": "stream",
     "text": [
      "                   all        112        309      0.876      0.802       0.88      0.528      0.877      0.715      0.796      0.448\n"
     ]
    },
    {
     "name": "stderr",
     "output_type": "stream",
     "text": [
      "\n"
     ]
    },
    {
     "name": "stdout",
     "output_type": "stream",
     "text": [
      "\n",
      "      Epoch    GPU_mem   box_loss  pose_loss  kobj_loss   cls_loss   dfl_loss  Instances       Size\n"
     ]
    },
    {
     "name": "stderr",
     "output_type": "stream",
     "text": [
      "     93/100      5.67G       1.33      2.321          0     0.5007      1.071         22        640: 100%|██████████| 12/12 [00:03<00:00,  3.16it/s]\n",
      "                 Class     Images  Instances      Box(P          R      mAP50  mAP50-95)     Pose(P          R      mAP50  mAP50-95): 100%|██████████| 2/2 [00:01<00:00,  1.13it/s]"
     ]
    },
    {
     "name": "stdout",
     "output_type": "stream",
     "text": [
      "                   all        112        309      0.872      0.795      0.879      0.527      0.874      0.725      0.797      0.453\n"
     ]
    },
    {
     "name": "stderr",
     "output_type": "stream",
     "text": [
      "\n"
     ]
    },
    {
     "name": "stdout",
     "output_type": "stream",
     "text": [
      "\n",
      "      Epoch    GPU_mem   box_loss  pose_loss  kobj_loss   cls_loss   dfl_loss  Instances       Size\n"
     ]
    },
    {
     "name": "stderr",
     "output_type": "stream",
     "text": [
      "     94/100      5.69G      1.324      2.313          0     0.5066      1.073         32        640: 100%|██████████| 12/12 [00:03<00:00,  3.28it/s]\n",
      "                 Class     Images  Instances      Box(P          R      mAP50  mAP50-95)     Pose(P          R      mAP50  mAP50-95): 100%|██████████| 2/2 [00:01<00:00,  1.26it/s]"
     ]
    },
    {
     "name": "stdout",
     "output_type": "stream",
     "text": [
      "                   all        112        309      0.866      0.803      0.883      0.532      0.854      0.738        0.8      0.454\n"
     ]
    },
    {
     "name": "stderr",
     "output_type": "stream",
     "text": [
      "\n"
     ]
    },
    {
     "name": "stdout",
     "output_type": "stream",
     "text": [
      "\n",
      "      Epoch    GPU_mem   box_loss  pose_loss  kobj_loss   cls_loss   dfl_loss  Instances       Size\n"
     ]
    },
    {
     "name": "stderr",
     "output_type": "stream",
     "text": [
      "     95/100      5.67G      1.295      2.184          0     0.4835      1.062         19        640: 100%|██████████| 12/12 [00:03<00:00,  3.29it/s]\n",
      "                 Class     Images  Instances      Box(P          R      mAP50  mAP50-95)     Pose(P          R      mAP50  mAP50-95): 100%|██████████| 2/2 [00:01<00:00,  1.27it/s]"
     ]
    },
    {
     "name": "stdout",
     "output_type": "stream",
     "text": [
      "                   all        112        309      0.848       0.83      0.881      0.529      0.851      0.751      0.801      0.456\n"
     ]
    },
    {
     "name": "stderr",
     "output_type": "stream",
     "text": [
      "\n"
     ]
    },
    {
     "name": "stdout",
     "output_type": "stream",
     "text": [
      "\n",
      "      Epoch    GPU_mem   box_loss  pose_loss  kobj_loss   cls_loss   dfl_loss  Instances       Size\n"
     ]
    },
    {
     "name": "stderr",
     "output_type": "stream",
     "text": [
      "     96/100      5.67G      1.301      2.303          0     0.4985       1.06         20        640: 100%|██████████| 12/12 [00:03<00:00,  3.17it/s]\n",
      "                 Class     Images  Instances      Box(P          R      mAP50  mAP50-95)     Pose(P          R      mAP50  mAP50-95): 100%|██████████| 2/2 [00:01<00:00,  1.36it/s]"
     ]
    },
    {
     "name": "stdout",
     "output_type": "stream",
     "text": [
      "                   all        112        309      0.884      0.793      0.883      0.528      0.855      0.757      0.799      0.456\n"
     ]
    },
    {
     "name": "stderr",
     "output_type": "stream",
     "text": [
      "\n"
     ]
    },
    {
     "name": "stdout",
     "output_type": "stream",
     "text": [
      "\n",
      "      Epoch    GPU_mem   box_loss  pose_loss  kobj_loss   cls_loss   dfl_loss  Instances       Size\n"
     ]
    },
    {
     "name": "stderr",
     "output_type": "stream",
     "text": [
      "     97/100      5.65G      1.308      2.251          0     0.4942      1.067         28        640: 100%|██████████| 12/12 [00:03<00:00,  3.30it/s]\n",
      "                 Class     Images  Instances      Box(P          R      mAP50  mAP50-95)     Pose(P          R      mAP50  mAP50-95): 100%|██████████| 2/2 [00:01<00:00,  1.54it/s]"
     ]
    },
    {
     "name": "stdout",
     "output_type": "stream",
     "text": [
      "                   all        112        309      0.894      0.799      0.881      0.528      0.851      0.757      0.801      0.458\n"
     ]
    },
    {
     "name": "stderr",
     "output_type": "stream",
     "text": [
      "\n"
     ]
    },
    {
     "name": "stdout",
     "output_type": "stream",
     "text": [
      "\n",
      "      Epoch    GPU_mem   box_loss  pose_loss  kobj_loss   cls_loss   dfl_loss  Instances       Size\n"
     ]
    },
    {
     "name": "stderr",
     "output_type": "stream",
     "text": [
      "     98/100      5.66G      1.281      2.168          0     0.4884      1.048         28        640: 100%|██████████| 12/12 [00:03<00:00,  3.18it/s]\n",
      "                 Class     Images  Instances      Box(P          R      mAP50  mAP50-95)     Pose(P          R      mAP50  mAP50-95): 100%|██████████| 2/2 [00:01<00:00,  1.64it/s]"
     ]
    },
    {
     "name": "stdout",
     "output_type": "stream",
     "text": [
      "                   all        112        309      0.894      0.795       0.88      0.528       0.85      0.757      0.802      0.457\n",
      "\u001b[34m\u001b[1mEarlyStopping: \u001b[0mTraining stopped early as no improvement observed in last 10 epochs. Best results observed at epoch 88, best model saved as best.pt.\n",
      "To update EarlyStopping(patience=10) pass a new patience value, i.e. `patience=300` or use `patience=0` to disable EarlyStopping.\n"
     ]
    },
    {
     "name": "stderr",
     "output_type": "stream",
     "text": [
      "\n"
     ]
    },
    {
     "name": "stdout",
     "output_type": "stream",
     "text": [
      "\n",
      "98 epochs completed in 0.162 hours.\n",
      "Optimizer stripped from Pondify\\yolov8n-pose_test_11\\weights\\last.pt, 6.4MB\n",
      "Optimizer stripped from Pondify\\yolov8n-pose_test_11\\weights\\best.pt, 6.4MB\n",
      "\n",
      "Validating Pondify\\yolov8n-pose_test_11\\weights\\best.pt...\n",
      "Ultralytics YOLOv8.2.12  Python-3.11.5 torch-2.3.1+cu121 CUDA:0 (NVIDIA GeForce RTX 4050 Laptop GPU, 6140MiB)\n",
      "YOLOv8n-pose summary (fused): 187 layers, 3088301 parameters, 0 gradients, 8.4 GFLOPs\n"
     ]
    },
    {
     "name": "stderr",
     "output_type": "stream",
     "text": [
      "                 Class     Images  Instances      Box(P          R      mAP50  mAP50-95)     Pose(P          R      mAP50  mAP50-95): 100%|██████████| 2/2 [00:00<00:00,  2.30it/s]\n"
     ]
    },
    {
     "name": "stdout",
     "output_type": "stream",
     "text": [
      "                   all        112        309      0.829      0.825      0.886      0.535      0.858      0.726      0.811      0.463\n",
      "Speed: 0.2ms preprocess, 2.1ms inference, 0.0ms loss, 0.7ms postprocess per image\n",
      "Results saved to \u001b[1mPondify\\yolov8n-pose_test_11\u001b[0m\n"
     ]
    }
   ],
   "source": [
    "import torch\n",
    "from ultralytics import YOLO\n",
    "\n",
    "# Check if CUDA is available\n",
    "device = 'cuda' if torch.cuda.is_available() else 'cpu'\n",
    "print(f\"Using device: {device}\")\n",
    "\n",
    "model = YOLO(\"yolov8n-pose.yaml\").load(\"yolov8n-pose.pt\")  # build from YAML and transfer weights\n",
    "#change the paths accordingly\n",
    "results = model.train(data=\"YOLO_training\\data.yaml\", epochs=100, imgsz=640,device=device,batch = 40, plots = True, box = 12.0, pose = 15.0,patience = 10, cos_lr = True, project = \"Pondify\", name = \"yolov8n-pose_test_11\", exist_ok = True)"
   ]
  },
  {
   "cell_type": "code",
   "execution_count": 24,
   "metadata": {},
   "outputs": [
    {
     "name": "stdout",
     "output_type": "stream",
     "text": [
      "\n",
      "image 1/1 c:\\Users\\sudee\\Documents\\Projects\\Pondify\\preprocessed_images\\frame120_jpg.rf.08bec5e869c708b0da1cbe514c645ca9.jpg: 640x640 4 fishs, 44.1ms\n",
      "Speed: 4.0ms preprocess, 44.1ms inference, 8.0ms postprocess per image at shape (1, 3, 640, 640)\n",
      "Processed and saved: results\\frame120_jpg.rf.08bec5e869c708b0da1cbe514c645ca9.jpg\n",
      "Processed and saved: keypoint_predictions\\frame120_jpg.rf.08bec5e869c708b0da1cbe514c645ca9.txt\n",
      "\n",
      "image 1/1 c:\\Users\\sudee\\Documents\\Projects\\Pondify\\preprocessed_images\\frame120_jpg.rf.3fade6ea16a9f21b1c75d46195dcbcf9.jpg: 640x640 3 fishs, 28.0ms\n",
      "Speed: 3.0ms preprocess, 28.0ms inference, 4.0ms postprocess per image at shape (1, 3, 640, 640)\n",
      "Processed and saved: results\\frame120_jpg.rf.3fade6ea16a9f21b1c75d46195dcbcf9.jpg\n",
      "Processed and saved: keypoint_predictions\\frame120_jpg.rf.3fade6ea16a9f21b1c75d46195dcbcf9.txt\n",
      "\n",
      "image 1/1 c:\\Users\\sudee\\Documents\\Projects\\Pondify\\preprocessed_images\\frame120_jpg.rf.4783b65913220f1faf185952cc71f7f2.jpg: 640x640 3 fishs, 30.0ms\n",
      "Speed: 4.1ms preprocess, 30.0ms inference, 3.0ms postprocess per image at shape (1, 3, 640, 640)\n",
      "Processed and saved: results\\frame120_jpg.rf.4783b65913220f1faf185952cc71f7f2.jpg\n",
      "Processed and saved: keypoint_predictions\\frame120_jpg.rf.4783b65913220f1faf185952cc71f7f2.txt\n",
      "\n",
      "image 1/1 c:\\Users\\sudee\\Documents\\Projects\\Pondify\\preprocessed_images\\frame120_jpg.rf.66f91f5e163c7f721bddd57660866af7.jpg: 640x640 3 fishs, 28.0ms\n",
      "Speed: 3.0ms preprocess, 28.0ms inference, 4.0ms postprocess per image at shape (1, 3, 640, 640)\n",
      "Processed and saved: results\\frame120_jpg.rf.66f91f5e163c7f721bddd57660866af7.jpg\n",
      "Processed and saved: keypoint_predictions\\frame120_jpg.rf.66f91f5e163c7f721bddd57660866af7.txt\n",
      "\n",
      "image 1/1 c:\\Users\\sudee\\Documents\\Projects\\Pondify\\preprocessed_images\\frame120_jpg.rf.972c05f94e5ad3a60ba28127970fa4c0.jpg: 640x640 4 fishs, 33.0ms\n",
      "Speed: 2.9ms preprocess, 33.0ms inference, 3.1ms postprocess per image at shape (1, 3, 640, 640)\n",
      "Processed and saved: results\\frame120_jpg.rf.972c05f94e5ad3a60ba28127970fa4c0.jpg\n",
      "Processed and saved: keypoint_predictions\\frame120_jpg.rf.972c05f94e5ad3a60ba28127970fa4c0.txt\n",
      "\n",
      "image 1/1 c:\\Users\\sudee\\Documents\\Projects\\Pondify\\preprocessed_images\\frame120_jpg.rf.9a1736782243ca59cb5f401670b3ce80.jpg: 640x640 5 fishs, 30.1ms\n",
      "Speed: 3.0ms preprocess, 30.1ms inference, 3.0ms postprocess per image at shape (1, 3, 640, 640)\n",
      "Processed and saved: results\\frame120_jpg.rf.9a1736782243ca59cb5f401670b3ce80.jpg\n",
      "Processed and saved: keypoint_predictions\\frame120_jpg.rf.9a1736782243ca59cb5f401670b3ce80.txt\n",
      "\n",
      "image 1/1 c:\\Users\\sudee\\Documents\\Projects\\Pondify\\preprocessed_images\\frame122_jpg.rf.2af2993938c997bc32377028f1e1f9e7.jpg: 640x640 4 fishs, 26.0ms\n",
      "Speed: 3.0ms preprocess, 26.0ms inference, 4.0ms postprocess per image at shape (1, 3, 640, 640)\n",
      "Processed and saved: results\\frame122_jpg.rf.2af2993938c997bc32377028f1e1f9e7.jpg\n",
      "Processed and saved: keypoint_predictions\\frame122_jpg.rf.2af2993938c997bc32377028f1e1f9e7.txt\n",
      "\n",
      "image 1/1 c:\\Users\\sudee\\Documents\\Projects\\Pondify\\preprocessed_images\\frame122_jpg.rf.7d74cc9befdf8f75b7ad92faded636c2.jpg: 640x640 7 fishs, 36.2ms\n",
      "Speed: 4.0ms preprocess, 36.2ms inference, 8.3ms postprocess per image at shape (1, 3, 640, 640)\n",
      "Processed and saved: results\\frame122_jpg.rf.7d74cc9befdf8f75b7ad92faded636c2.jpg\n",
      "Processed and saved: keypoint_predictions\\frame122_jpg.rf.7d74cc9befdf8f75b7ad92faded636c2.txt\n",
      "\n",
      "image 1/1 c:\\Users\\sudee\\Documents\\Projects\\Pondify\\preprocessed_images\\frame122_jpg.rf.e7eb1250d321e81932f5cfaa3525c2f8.jpg: 640x640 5 fishs, 28.0ms\n",
      "Speed: 4.0ms preprocess, 28.0ms inference, 4.0ms postprocess per image at shape (1, 3, 640, 640)\n",
      "Processed and saved: results\\frame122_jpg.rf.e7eb1250d321e81932f5cfaa3525c2f8.jpg\n",
      "Processed and saved: keypoint_predictions\\frame122_jpg.rf.e7eb1250d321e81932f5cfaa3525c2f8.txt\n",
      "\n",
      "image 1/1 c:\\Users\\sudee\\Documents\\Projects\\Pondify\\preprocessed_images\\frame124_jpg.rf.10bac02292dc819c365171299e9e4cf2.jpg: 640x640 4 fishs, 28.0ms\n",
      "Speed: 3.0ms preprocess, 28.0ms inference, 4.1ms postprocess per image at shape (1, 3, 640, 640)\n",
      "Processed and saved: results\\frame124_jpg.rf.10bac02292dc819c365171299e9e4cf2.jpg\n",
      "Processed and saved: keypoint_predictions\\frame124_jpg.rf.10bac02292dc819c365171299e9e4cf2.txt\n",
      "\n",
      "image 1/1 c:\\Users\\sudee\\Documents\\Projects\\Pondify\\preprocessed_images\\frame129_jpg.rf.4de87e6a634ef1e8507942de0a5e312b.jpg: 640x640 7 fishs, 28.1ms\n",
      "Speed: 3.0ms preprocess, 28.1ms inference, 5.0ms postprocess per image at shape (1, 3, 640, 640)\n",
      "Processed and saved: results\\frame129_jpg.rf.4de87e6a634ef1e8507942de0a5e312b.jpg\n",
      "Processed and saved: keypoint_predictions\\frame129_jpg.rf.4de87e6a634ef1e8507942de0a5e312b.txt\n",
      "\n",
      "image 1/1 c:\\Users\\sudee\\Documents\\Projects\\Pondify\\preprocessed_images\\frame136_jpg.rf.76a6597c6b43d6ae2cf60b66a0dac8f3.jpg: 640x640 5 fishs, 27.0ms\n",
      "Speed: 6.0ms preprocess, 27.0ms inference, 4.0ms postprocess per image at shape (1, 3, 640, 640)\n",
      "Processed and saved: results\\frame136_jpg.rf.76a6597c6b43d6ae2cf60b66a0dac8f3.jpg\n",
      "Processed and saved: keypoint_predictions\\frame136_jpg.rf.76a6597c6b43d6ae2cf60b66a0dac8f3.txt\n",
      "\n",
      "image 1/1 c:\\Users\\sudee\\Documents\\Projects\\Pondify\\preprocessed_images\\frame136_jpg.rf.b5e1e5b3976129aa4cc9b076e9410fe5.jpg: 640x640 4 fishs, 24.0ms\n",
      "Speed: 4.0ms preprocess, 24.0ms inference, 2.0ms postprocess per image at shape (1, 3, 640, 640)\n",
      "Processed and saved: results\\frame136_jpg.rf.b5e1e5b3976129aa4cc9b076e9410fe5.jpg\n",
      "Processed and saved: keypoint_predictions\\frame136_jpg.rf.b5e1e5b3976129aa4cc9b076e9410fe5.txt\n",
      "\n",
      "image 1/1 c:\\Users\\sudee\\Documents\\Projects\\Pondify\\preprocessed_images\\frame136_jpg.rf.e1e185ebed1053c3e8193f75827c649b.jpg: 640x640 5 fishs, 24.1ms\n",
      "Speed: 3.0ms preprocess, 24.1ms inference, 5.0ms postprocess per image at shape (1, 3, 640, 640)\n",
      "Processed and saved: results\\frame136_jpg.rf.e1e185ebed1053c3e8193f75827c649b.jpg\n",
      "Processed and saved: keypoint_predictions\\frame136_jpg.rf.e1e185ebed1053c3e8193f75827c649b.txt\n",
      "\n",
      "image 1/1 c:\\Users\\sudee\\Documents\\Projects\\Pondify\\preprocessed_images\\frame138_jpg.rf.da5d0640baeba322f9d7038913787251.jpg: 640x640 5 fishs, 27.0ms\n",
      "Speed: 5.0ms preprocess, 27.0ms inference, 2.0ms postprocess per image at shape (1, 3, 640, 640)\n",
      "Processed and saved: results\\frame138_jpg.rf.da5d0640baeba322f9d7038913787251.jpg\n",
      "Processed and saved: keypoint_predictions\\frame138_jpg.rf.da5d0640baeba322f9d7038913787251.txt\n",
      "\n",
      "image 1/1 c:\\Users\\sudee\\Documents\\Projects\\Pondify\\preprocessed_images\\frame144_jpg.rf.b2564cb8e95175d184e692641bbaa500.jpg: 640x640 3 fishs, 31.0ms\n",
      "Speed: 3.9ms preprocess, 31.0ms inference, 4.0ms postprocess per image at shape (1, 3, 640, 640)\n",
      "Processed and saved: results\\frame144_jpg.rf.b2564cb8e95175d184e692641bbaa500.jpg\n",
      "Processed and saved: keypoint_predictions\\frame144_jpg.rf.b2564cb8e95175d184e692641bbaa500.txt\n",
      "\n",
      "image 1/1 c:\\Users\\sudee\\Documents\\Projects\\Pondify\\preprocessed_images\\frame146_jpg.rf.6488c9001636511396e308096e6d20d5.jpg: 640x640 4 fishs, 27.1ms\n",
      "Speed: 3.0ms preprocess, 27.1ms inference, 3.9ms postprocess per image at shape (1, 3, 640, 640)\n",
      "Processed and saved: results\\frame146_jpg.rf.6488c9001636511396e308096e6d20d5.jpg\n",
      "Processed and saved: keypoint_predictions\\frame146_jpg.rf.6488c9001636511396e308096e6d20d5.txt\n",
      "\n",
      "image 1/1 c:\\Users\\sudee\\Documents\\Projects\\Pondify\\preprocessed_images\\frame148_jpg.rf.0659431817522460e0d6dd9e297fe441.jpg: 640x640 6 fishs, 32.0ms\n",
      "Speed: 4.0ms preprocess, 32.0ms inference, 7.0ms postprocess per image at shape (1, 3, 640, 640)\n",
      "Processed and saved: results\\frame148_jpg.rf.0659431817522460e0d6dd9e297fe441.jpg\n",
      "Processed and saved: keypoint_predictions\\frame148_jpg.rf.0659431817522460e0d6dd9e297fe441.txt\n",
      "\n",
      "image 1/1 c:\\Users\\sudee\\Documents\\Projects\\Pondify\\preprocessed_images\\frame154_jpg.rf.815cd506bcc5cc05286cde6779c951ff.jpg: 640x640 4 fishs, 27.0ms\n",
      "Speed: 4.9ms preprocess, 27.0ms inference, 4.1ms postprocess per image at shape (1, 3, 640, 640)\n",
      "Processed and saved: results\\frame154_jpg.rf.815cd506bcc5cc05286cde6779c951ff.jpg\n",
      "Processed and saved: keypoint_predictions\\frame154_jpg.rf.815cd506bcc5cc05286cde6779c951ff.txt\n",
      "\n",
      "image 1/1 c:\\Users\\sudee\\Documents\\Projects\\Pondify\\preprocessed_images\\frame158_jpg.rf.bbfbc15661679a5c58a23c3928cc1ca4.jpg: 640x640 2 fishs, 28.9ms\n",
      "Speed: 4.1ms preprocess, 28.9ms inference, 4.0ms postprocess per image at shape (1, 3, 640, 640)\n",
      "Processed and saved: results\\frame158_jpg.rf.bbfbc15661679a5c58a23c3928cc1ca4.jpg\n",
      "Processed and saved: keypoint_predictions\\frame158_jpg.rf.bbfbc15661679a5c58a23c3928cc1ca4.txt\n",
      "\n",
      "image 1/1 c:\\Users\\sudee\\Documents\\Projects\\Pondify\\preprocessed_images\\frame160_jpg.rf.874fd1b5e21f7dc349d4f44f6eb0fa7b.jpg: 640x640 3 fishs, 23.1ms\n",
      "Speed: 2.0ms preprocess, 23.1ms inference, 5.0ms postprocess per image at shape (1, 3, 640, 640)\n",
      "Processed and saved: results\\frame160_jpg.rf.874fd1b5e21f7dc349d4f44f6eb0fa7b.jpg\n",
      "Processed and saved: keypoint_predictions\\frame160_jpg.rf.874fd1b5e21f7dc349d4f44f6eb0fa7b.txt\n",
      "\n",
      "image 1/1 c:\\Users\\sudee\\Documents\\Projects\\Pondify\\preprocessed_images\\frame162_jpg.rf.cbf2edfbdb2362cbbf28c7917c2bfe6b.jpg: 640x640 3 fishs, 30.0ms\n",
      "Speed: 4.0ms preprocess, 30.0ms inference, 5.0ms postprocess per image at shape (1, 3, 640, 640)\n",
      "Processed and saved: results\\frame162_jpg.rf.cbf2edfbdb2362cbbf28c7917c2bfe6b.jpg\n",
      "Processed and saved: keypoint_predictions\\frame162_jpg.rf.cbf2edfbdb2362cbbf28c7917c2bfe6b.txt\n",
      "\n",
      "image 1/1 c:\\Users\\sudee\\Documents\\Projects\\Pondify\\preprocessed_images\\frame173_jpg.rf.d282fe7b421fbe999f92b8f5f84dcbd0.jpg: 640x640 8 fishs, 30.0ms\n",
      "Speed: 5.0ms preprocess, 30.0ms inference, 2.1ms postprocess per image at shape (1, 3, 640, 640)\n",
      "Processed and saved: results\\frame173_jpg.rf.d282fe7b421fbe999f92b8f5f84dcbd0.jpg\n",
      "Processed and saved: keypoint_predictions\\frame173_jpg.rf.d282fe7b421fbe999f92b8f5f84dcbd0.txt\n",
      "\n",
      "image 1/1 c:\\Users\\sudee\\Documents\\Projects\\Pondify\\preprocessed_images\\frame177_jpg.rf.47a13b5378178617efbea2f4b4a30484.jpg: 640x640 3 fishs, 35.0ms\n",
      "Speed: 5.0ms preprocess, 35.0ms inference, 3.0ms postprocess per image at shape (1, 3, 640, 640)\n",
      "Processed and saved: results\\frame177_jpg.rf.47a13b5378178617efbea2f4b4a30484.jpg\n",
      "Processed and saved: keypoint_predictions\\frame177_jpg.rf.47a13b5378178617efbea2f4b4a30484.txt\n",
      "\n",
      "image 1/1 c:\\Users\\sudee\\Documents\\Projects\\Pondify\\preprocessed_images\\frame_0003_jpg.rf.0263105ec77d2e2da055592023b9c365.jpg: 640x640 3 fishs, 28.0ms\n",
      "Speed: 5.9ms preprocess, 28.0ms inference, 3.0ms postprocess per image at shape (1, 3, 640, 640)\n",
      "Processed and saved: results\\frame_0003_jpg.rf.0263105ec77d2e2da055592023b9c365.jpg\n",
      "Processed and saved: keypoint_predictions\\frame_0003_jpg.rf.0263105ec77d2e2da055592023b9c365.txt\n",
      "\n",
      "image 1/1 c:\\Users\\sudee\\Documents\\Projects\\Pondify\\preprocessed_images\\frame_0004_jpg.rf.f21cc7af2807703eabb7929ebf6058cf.jpg: 640x640 2 fishs, 29.0ms\n",
      "Speed: 5.0ms preprocess, 29.0ms inference, 5.0ms postprocess per image at shape (1, 3, 640, 640)\n",
      "Processed and saved: results\\frame_0004_jpg.rf.f21cc7af2807703eabb7929ebf6058cf.jpg\n",
      "Processed and saved: keypoint_predictions\\frame_0004_jpg.rf.f21cc7af2807703eabb7929ebf6058cf.txt\n",
      "\n",
      "image 1/1 c:\\Users\\sudee\\Documents\\Projects\\Pondify\\preprocessed_images\\frame_0011_jpg.rf.2102209f6271db8d86e16e3598032180.jpg: 640x640 2 fishs, 26.0ms\n",
      "Speed: 5.0ms preprocess, 26.0ms inference, 5.0ms postprocess per image at shape (1, 3, 640, 640)\n",
      "Processed and saved: results\\frame_0011_jpg.rf.2102209f6271db8d86e16e3598032180.jpg\n",
      "Processed and saved: keypoint_predictions\\frame_0011_jpg.rf.2102209f6271db8d86e16e3598032180.txt\n",
      "\n",
      "image 1/1 c:\\Users\\sudee\\Documents\\Projects\\Pondify\\preprocessed_images\\frame_0012_jpg.rf.b3b8d851f0553337b709eed85868691b.jpg: 640x640 4 fishs, 26.0ms\n",
      "Speed: 6.0ms preprocess, 26.0ms inference, 2.1ms postprocess per image at shape (1, 3, 640, 640)\n",
      "Processed and saved: results\\frame_0012_jpg.rf.b3b8d851f0553337b709eed85868691b.jpg\n",
      "Processed and saved: keypoint_predictions\\frame_0012_jpg.rf.b3b8d851f0553337b709eed85868691b.txt\n",
      "\n",
      "image 1/1 c:\\Users\\sudee\\Documents\\Projects\\Pondify\\preprocessed_images\\frame_0013_jpg.rf.afec6e42f9e709fdaa1579ea9c0a78e1.jpg: 640x640 3 fishs, 29.0ms\n",
      "Speed: 4.0ms preprocess, 29.0ms inference, 5.0ms postprocess per image at shape (1, 3, 640, 640)\n",
      "Processed and saved: results\\frame_0013_jpg.rf.afec6e42f9e709fdaa1579ea9c0a78e1.jpg\n",
      "Processed and saved: keypoint_predictions\\frame_0013_jpg.rf.afec6e42f9e709fdaa1579ea9c0a78e1.txt\n",
      "\n",
      "image 1/1 c:\\Users\\sudee\\Documents\\Projects\\Pondify\\preprocessed_images\\frame_0013_jpg.rf.fc41e3ace2f43863502ea96bf381b92f.jpg: 640x640 3 fishs, 27.0ms\n",
      "Speed: 5.0ms preprocess, 27.0ms inference, 5.1ms postprocess per image at shape (1, 3, 640, 640)\n",
      "Processed and saved: results\\frame_0013_jpg.rf.fc41e3ace2f43863502ea96bf381b92f.jpg\n",
      "Processed and saved: keypoint_predictions\\frame_0013_jpg.rf.fc41e3ace2f43863502ea96bf381b92f.txt\n",
      "\n",
      "image 1/1 c:\\Users\\sudee\\Documents\\Projects\\Pondify\\preprocessed_images\\frame_0014_jpg.rf.21a2330d216a07e1808bbc667fb511b9.jpg: 640x640 2 fishs, 29.0ms\n",
      "Speed: 4.0ms preprocess, 29.0ms inference, 4.0ms postprocess per image at shape (1, 3, 640, 640)\n",
      "Processed and saved: results\\frame_0014_jpg.rf.21a2330d216a07e1808bbc667fb511b9.jpg\n",
      "Processed and saved: keypoint_predictions\\frame_0014_jpg.rf.21a2330d216a07e1808bbc667fb511b9.txt\n",
      "\n",
      "image 1/1 c:\\Users\\sudee\\Documents\\Projects\\Pondify\\preprocessed_images\\frame_0016_jpg.rf.442421a9b5f27ac9a8711de49b29d668.jpg: 640x640 2 fishs, 27.0ms\n",
      "Speed: 3.1ms preprocess, 27.0ms inference, 7.0ms postprocess per image at shape (1, 3, 640, 640)\n",
      "Processed and saved: results\\frame_0016_jpg.rf.442421a9b5f27ac9a8711de49b29d668.jpg\n",
      "Processed and saved: keypoint_predictions\\frame_0016_jpg.rf.442421a9b5f27ac9a8711de49b29d668.txt\n",
      "\n",
      "image 1/1 c:\\Users\\sudee\\Documents\\Projects\\Pondify\\preprocessed_images\\frame_0017_jpg.rf.6b7084a5df8a612cfcf0488e246c8647.jpg: 640x640 2 fishs, 23.0ms\n",
      "Speed: 4.0ms preprocess, 23.0ms inference, 6.0ms postprocess per image at shape (1, 3, 640, 640)\n",
      "Processed and saved: results\\frame_0017_jpg.rf.6b7084a5df8a612cfcf0488e246c8647.jpg\n",
      "Processed and saved: keypoint_predictions\\frame_0017_jpg.rf.6b7084a5df8a612cfcf0488e246c8647.txt\n",
      "\n",
      "image 1/1 c:\\Users\\sudee\\Documents\\Projects\\Pondify\\preprocessed_images\\frame_0017_jpg.rf.ac44196b30a713173ea01a117dadb181.jpg: 640x640 3 fishs, 24.0ms\n",
      "Speed: 4.0ms preprocess, 24.0ms inference, 5.0ms postprocess per image at shape (1, 3, 640, 640)\n",
      "Processed and saved: results\\frame_0017_jpg.rf.ac44196b30a713173ea01a117dadb181.jpg\n",
      "Processed and saved: keypoint_predictions\\frame_0017_jpg.rf.ac44196b30a713173ea01a117dadb181.txt\n",
      "\n",
      "image 1/1 c:\\Users\\sudee\\Documents\\Projects\\Pondify\\preprocessed_images\\frame_0019_jpg.rf.3862f8103317529478390eee157203c7.jpg: 640x640 2 fishs, 25.0ms\n",
      "Speed: 3.4ms preprocess, 25.0ms inference, 3.1ms postprocess per image at shape (1, 3, 640, 640)\n",
      "Processed and saved: results\\frame_0019_jpg.rf.3862f8103317529478390eee157203c7.jpg\n",
      "Processed and saved: keypoint_predictions\\frame_0019_jpg.rf.3862f8103317529478390eee157203c7.txt\n",
      "\n",
      "image 1/1 c:\\Users\\sudee\\Documents\\Projects\\Pondify\\preprocessed_images\\frame_0019_jpg.rf.d6f359ade9ffc97ad694811e06294203.jpg: 640x640 3 fishs, 16.0ms\n",
      "Speed: 3.0ms preprocess, 16.0ms inference, 4.0ms postprocess per image at shape (1, 3, 640, 640)\n",
      "Processed and saved: results\\frame_0019_jpg.rf.d6f359ade9ffc97ad694811e06294203.jpg\n",
      "Processed and saved: keypoint_predictions\\frame_0019_jpg.rf.d6f359ade9ffc97ad694811e06294203.txt\n",
      "\n",
      "image 1/1 c:\\Users\\sudee\\Documents\\Projects\\Pondify\\preprocessed_images\\frame_0020_jpg.rf.dbe63c1e466f1eeaec9ccf88baf4dc22.jpg: 640x640 4 fishs, 26.0ms\n",
      "Speed: 4.0ms preprocess, 26.0ms inference, 4.0ms postprocess per image at shape (1, 3, 640, 640)\n",
      "Processed and saved: results\\frame_0020_jpg.rf.dbe63c1e466f1eeaec9ccf88baf4dc22.jpg\n",
      "Processed and saved: keypoint_predictions\\frame_0020_jpg.rf.dbe63c1e466f1eeaec9ccf88baf4dc22.txt\n",
      "\n",
      "image 1/1 c:\\Users\\sudee\\Documents\\Projects\\Pondify\\preprocessed_images\\frame_0042_jpg.rf.7d6a22e3a2c2c325b435b74d0f100b4b.jpg: 640x640 3 fishs, 25.0ms\n",
      "Speed: 5.0ms preprocess, 25.0ms inference, 4.0ms postprocess per image at shape (1, 3, 640, 640)\n",
      "Processed and saved: results\\frame_0042_jpg.rf.7d6a22e3a2c2c325b435b74d0f100b4b.jpg\n",
      "Processed and saved: keypoint_predictions\\frame_0042_jpg.rf.7d6a22e3a2c2c325b435b74d0f100b4b.txt\n",
      "\n",
      "image 1/1 c:\\Users\\sudee\\Documents\\Projects\\Pondify\\preprocessed_images\\frame_0058_jpg.rf.d3546141c2bc056eae614cd85cd4182e.jpg: 640x640 2 fishs, 26.0ms\n",
      "Speed: 3.0ms preprocess, 26.0ms inference, 3.0ms postprocess per image at shape (1, 3, 640, 640)\n",
      "Processed and saved: results\\frame_0058_jpg.rf.d3546141c2bc056eae614cd85cd4182e.jpg\n",
      "Processed and saved: keypoint_predictions\\frame_0058_jpg.rf.d3546141c2bc056eae614cd85cd4182e.txt\n",
      "\n",
      "image 1/1 c:\\Users\\sudee\\Documents\\Projects\\Pondify\\preprocessed_images\\frame_0066_jpg.rf.325a3186f92075d66807111c8f207bcc.jpg: 640x640 1 fish, 27.1ms\n",
      "Speed: 5.0ms preprocess, 27.1ms inference, 5.9ms postprocess per image at shape (1, 3, 640, 640)\n",
      "Processed and saved: results\\frame_0066_jpg.rf.325a3186f92075d66807111c8f207bcc.jpg\n",
      "Processed and saved: keypoint_predictions\\frame_0066_jpg.rf.325a3186f92075d66807111c8f207bcc.txt\n",
      "\n",
      "image 1/1 c:\\Users\\sudee\\Documents\\Projects\\Pondify\\preprocessed_images\\frame_0082_jpg.rf.edbaeb99a8e2277b5cd271aa05224bbd.jpg: 640x640 2 fishs, 23.0ms\n",
      "Speed: 4.1ms preprocess, 23.0ms inference, 3.0ms postprocess per image at shape (1, 3, 640, 640)\n",
      "Processed and saved: results\\frame_0082_jpg.rf.edbaeb99a8e2277b5cd271aa05224bbd.jpg\n",
      "Processed and saved: keypoint_predictions\\frame_0082_jpg.rf.edbaeb99a8e2277b5cd271aa05224bbd.txt\n",
      "\n",
      "image 1/1 c:\\Users\\sudee\\Documents\\Projects\\Pondify\\preprocessed_images\\frame_0083_jpg.rf.a3e8fc71b38eaeddb2be176a7749e286.jpg: 640x640 2 fishs, 25.0ms\n",
      "Speed: 4.0ms preprocess, 25.0ms inference, 4.0ms postprocess per image at shape (1, 3, 640, 640)\n",
      "Processed and saved: results\\frame_0083_jpg.rf.a3e8fc71b38eaeddb2be176a7749e286.jpg\n",
      "Processed and saved: keypoint_predictions\\frame_0083_jpg.rf.a3e8fc71b38eaeddb2be176a7749e286.txt\n",
      "\n",
      "image 1/1 c:\\Users\\sudee\\Documents\\Projects\\Pondify\\preprocessed_images\\frame_0084_jpg.rf.70fa7063b158bd3daf9441ec0322bb1d.jpg: 640x640 2 fishs, 21.0ms\n",
      "Speed: 4.0ms preprocess, 21.0ms inference, 4.0ms postprocess per image at shape (1, 3, 640, 640)\n",
      "Processed and saved: results\\frame_0084_jpg.rf.70fa7063b158bd3daf9441ec0322bb1d.jpg\n",
      "Processed and saved: keypoint_predictions\\frame_0084_jpg.rf.70fa7063b158bd3daf9441ec0322bb1d.txt\n",
      "\n",
      "image 1/1 c:\\Users\\sudee\\Documents\\Projects\\Pondify\\preprocessed_images\\frame_0084_jpg.rf.b96363454e74596b5fccbfd02ad5768f.jpg: 640x640 2 fishs, 23.0ms\n",
      "Speed: 5.0ms preprocess, 23.0ms inference, 3.0ms postprocess per image at shape (1, 3, 640, 640)\n",
      "Processed and saved: results\\frame_0084_jpg.rf.b96363454e74596b5fccbfd02ad5768f.jpg\n",
      "Processed and saved: keypoint_predictions\\frame_0084_jpg.rf.b96363454e74596b5fccbfd02ad5768f.txt\n",
      "\n",
      "image 1/1 c:\\Users\\sudee\\Documents\\Projects\\Pondify\\preprocessed_images\\frame_0091_jpg.rf.d19f95ae3b5a7b74080b861ca8067985.jpg: 640x640 2 fishs, 22.0ms\n",
      "Speed: 5.0ms preprocess, 22.0ms inference, 3.0ms postprocess per image at shape (1, 3, 640, 640)\n",
      "Processed and saved: results\\frame_0091_jpg.rf.d19f95ae3b5a7b74080b861ca8067985.jpg\n",
      "Processed and saved: keypoint_predictions\\frame_0091_jpg.rf.d19f95ae3b5a7b74080b861ca8067985.txt\n",
      "\n",
      "image 1/1 c:\\Users\\sudee\\Documents\\Projects\\Pondify\\preprocessed_images\\frame_0092_jpg.rf.1eb54289223d883c45bbf9efc1b84bce.jpg: 640x640 4 fishs, 23.4ms\n",
      "Speed: 5.0ms preprocess, 23.4ms inference, 5.0ms postprocess per image at shape (1, 3, 640, 640)\n",
      "Processed and saved: results\\frame_0092_jpg.rf.1eb54289223d883c45bbf9efc1b84bce.jpg\n",
      "Processed and saved: keypoint_predictions\\frame_0092_jpg.rf.1eb54289223d883c45bbf9efc1b84bce.txt\n",
      "\n",
      "image 1/1 c:\\Users\\sudee\\Documents\\Projects\\Pondify\\preprocessed_images\\frame_0093_jpg.rf.0935f7d6f03a4351bd3f13275c937bb9.jpg: 640x640 4 fishs, 19.0ms\n",
      "Speed: 5.0ms preprocess, 19.0ms inference, 5.0ms postprocess per image at shape (1, 3, 640, 640)\n",
      "Processed and saved: results\\frame_0093_jpg.rf.0935f7d6f03a4351bd3f13275c937bb9.jpg\n",
      "Processed and saved: keypoint_predictions\\frame_0093_jpg.rf.0935f7d6f03a4351bd3f13275c937bb9.txt\n",
      "\n",
      "image 1/1 c:\\Users\\sudee\\Documents\\Projects\\Pondify\\preprocessed_images\\frame_0095_jpg.rf.1b14b52b7d244e1278b91154ca9b9e92.jpg: 640x640 2 fishs, 28.2ms\n",
      "Speed: 3.0ms preprocess, 28.2ms inference, 4.0ms postprocess per image at shape (1, 3, 640, 640)\n",
      "Processed and saved: results\\frame_0095_jpg.rf.1b14b52b7d244e1278b91154ca9b9e92.jpg\n",
      "Processed and saved: keypoint_predictions\\frame_0095_jpg.rf.1b14b52b7d244e1278b91154ca9b9e92.txt\n",
      "\n",
      "image 1/1 c:\\Users\\sudee\\Documents\\Projects\\Pondify\\preprocessed_images\\frame_0095_jpg.rf.985a5438bd36c4a0d37d9f731daf768e.jpg: 640x640 2 fishs, 24.0ms\n",
      "Speed: 4.0ms preprocess, 24.0ms inference, 4.0ms postprocess per image at shape (1, 3, 640, 640)\n",
      "Processed and saved: results\\frame_0095_jpg.rf.985a5438bd36c4a0d37d9f731daf768e.jpg\n",
      "Processed and saved: keypoint_predictions\\frame_0095_jpg.rf.985a5438bd36c4a0d37d9f731daf768e.txt\n",
      "\n",
      "image 1/1 c:\\Users\\sudee\\Documents\\Projects\\Pondify\\preprocessed_images\\frame_0096_jpg.rf.8db0b02b71fd1beda908611f2d17d277.jpg: 640x640 2 fishs, 20.0ms\n",
      "Speed: 4.0ms preprocess, 20.0ms inference, 4.0ms postprocess per image at shape (1, 3, 640, 640)\n",
      "Processed and saved: results\\frame_0096_jpg.rf.8db0b02b71fd1beda908611f2d17d277.jpg\n",
      "Processed and saved: keypoint_predictions\\frame_0096_jpg.rf.8db0b02b71fd1beda908611f2d17d277.txt\n",
      "\n",
      "image 1/1 c:\\Users\\sudee\\Documents\\Projects\\Pondify\\preprocessed_images\\frame_0099_jpg.rf.14f43cd2502335d4a69bb60bd3a1e64a.jpg: 640x640 4 fishs, 20.0ms\n",
      "Speed: 5.0ms preprocess, 20.0ms inference, 5.0ms postprocess per image at shape (1, 3, 640, 640)\n",
      "Processed and saved: results\\frame_0099_jpg.rf.14f43cd2502335d4a69bb60bd3a1e64a.jpg\n",
      "Processed and saved: keypoint_predictions\\frame_0099_jpg.rf.14f43cd2502335d4a69bb60bd3a1e64a.txt\n",
      "\n",
      "image 1/1 c:\\Users\\sudee\\Documents\\Projects\\Pondify\\preprocessed_images\\frame_0099_jpg.rf.f2100ef0f694eeb05b0b13b33b68cf91.jpg: 640x640 3 fishs, 22.0ms\n",
      "Speed: 4.0ms preprocess, 22.0ms inference, 4.0ms postprocess per image at shape (1, 3, 640, 640)\n",
      "Processed and saved: results\\frame_0099_jpg.rf.f2100ef0f694eeb05b0b13b33b68cf91.jpg\n",
      "Processed and saved: keypoint_predictions\\frame_0099_jpg.rf.f2100ef0f694eeb05b0b13b33b68cf91.txt\n",
      "\n",
      "image 1/1 c:\\Users\\sudee\\Documents\\Projects\\Pondify\\preprocessed_images\\frame_0100_jpg.rf.3681d1455638ff72b60083f51559a318.jpg: 640x640 2 fishs, 22.1ms\n",
      "Speed: 3.0ms preprocess, 22.1ms inference, 3.9ms postprocess per image at shape (1, 3, 640, 640)\n",
      "Processed and saved: results\\frame_0100_jpg.rf.3681d1455638ff72b60083f51559a318.jpg\n",
      "Processed and saved: keypoint_predictions\\frame_0100_jpg.rf.3681d1455638ff72b60083f51559a318.txt\n",
      "\n",
      "image 1/1 c:\\Users\\sudee\\Documents\\Projects\\Pondify\\preprocessed_images\\frame_0101_jpg.rf.d3ac092c03a2c3e08c3f36743978b4f8.jpg: 640x640 2 fishs, 25.0ms\n",
      "Speed: 5.0ms preprocess, 25.0ms inference, 4.0ms postprocess per image at shape (1, 3, 640, 640)\n",
      "Processed and saved: results\\frame_0101_jpg.rf.d3ac092c03a2c3e08c3f36743978b4f8.jpg\n",
      "Processed and saved: keypoint_predictions\\frame_0101_jpg.rf.d3ac092c03a2c3e08c3f36743978b4f8.txt\n",
      "\n",
      "image 1/1 c:\\Users\\sudee\\Documents\\Projects\\Pondify\\preprocessed_images\\frame_0105_jpg.rf.a11cc579730fb5f3a11856e573593e18.jpg: 640x640 2 fishs, 24.0ms\n",
      "Speed: 4.0ms preprocess, 24.0ms inference, 3.0ms postprocess per image at shape (1, 3, 640, 640)\n",
      "Processed and saved: results\\frame_0105_jpg.rf.a11cc579730fb5f3a11856e573593e18.jpg\n",
      "Processed and saved: keypoint_predictions\\frame_0105_jpg.rf.a11cc579730fb5f3a11856e573593e18.txt\n",
      "\n",
      "image 1/1 c:\\Users\\sudee\\Documents\\Projects\\Pondify\\preprocessed_images\\frame_0106_jpg.rf.3b76fb348a30bf632a2ec49a33b4f82e.jpg: 640x640 2 fishs, 23.0ms\n",
      "Speed: 4.0ms preprocess, 23.0ms inference, 3.0ms postprocess per image at shape (1, 3, 640, 640)\n",
      "Processed and saved: results\\frame_0106_jpg.rf.3b76fb348a30bf632a2ec49a33b4f82e.jpg\n",
      "Processed and saved: keypoint_predictions\\frame_0106_jpg.rf.3b76fb348a30bf632a2ec49a33b4f82e.txt\n",
      "\n",
      "image 1/1 c:\\Users\\sudee\\Documents\\Projects\\Pondify\\preprocessed_images\\frame_0106_jpg.rf.d4546194d6dbf00d85521e78a22bb19b.jpg: 640x640 3 fishs, 22.4ms\n",
      "Speed: 4.0ms preprocess, 22.4ms inference, 4.0ms postprocess per image at shape (1, 3, 640, 640)\n",
      "Processed and saved: results\\frame_0106_jpg.rf.d4546194d6dbf00d85521e78a22bb19b.jpg\n",
      "Processed and saved: keypoint_predictions\\frame_0106_jpg.rf.d4546194d6dbf00d85521e78a22bb19b.txt\n",
      "\n",
      "image 1/1 c:\\Users\\sudee\\Documents\\Projects\\Pondify\\preprocessed_images\\frame_0112_jpg.rf.d01d90f0af9820fe84471c5afb3f796c.jpg: 640x640 2 fishs, 23.0ms\n",
      "Speed: 4.0ms preprocess, 23.0ms inference, 5.0ms postprocess per image at shape (1, 3, 640, 640)\n",
      "Processed and saved: results\\frame_0112_jpg.rf.d01d90f0af9820fe84471c5afb3f796c.jpg\n",
      "Processed and saved: keypoint_predictions\\frame_0112_jpg.rf.d01d90f0af9820fe84471c5afb3f796c.txt\n",
      "\n",
      "image 1/1 c:\\Users\\sudee\\Documents\\Projects\\Pondify\\preprocessed_images\\frame_0114_jpg.rf.b375943cd194f22ed6d067c50421d241.jpg: 640x640 3 fishs, 22.0ms\n",
      "Speed: 4.0ms preprocess, 22.0ms inference, 3.0ms postprocess per image at shape (1, 3, 640, 640)\n",
      "Processed and saved: results\\frame_0114_jpg.rf.b375943cd194f22ed6d067c50421d241.jpg\n",
      "Processed and saved: keypoint_predictions\\frame_0114_jpg.rf.b375943cd194f22ed6d067c50421d241.txt\n",
      "\n",
      "image 1/1 c:\\Users\\sudee\\Documents\\Projects\\Pondify\\preprocessed_images\\frame_0115_jpg.rf.de95205cdf233550d9b2d74bea2f8562.jpg: 640x640 2 fishs, 24.0ms\n",
      "Speed: 4.0ms preprocess, 24.0ms inference, 4.0ms postprocess per image at shape (1, 3, 640, 640)\n",
      "Processed and saved: results\\frame_0115_jpg.rf.de95205cdf233550d9b2d74bea2f8562.jpg\n",
      "Processed and saved: keypoint_predictions\\frame_0115_jpg.rf.de95205cdf233550d9b2d74bea2f8562.txt\n",
      "\n",
      "image 1/1 c:\\Users\\sudee\\Documents\\Projects\\Pondify\\preprocessed_images\\frame_0116_jpg.rf.94d5d7e6579a22c9893553a8eb129e3a.jpg: 640x640 3 fishs, 22.0ms\n",
      "Speed: 3.9ms preprocess, 22.0ms inference, 4.0ms postprocess per image at shape (1, 3, 640, 640)\n",
      "Processed and saved: results\\frame_0116_jpg.rf.94d5d7e6579a22c9893553a8eb129e3a.jpg\n",
      "Processed and saved: keypoint_predictions\\frame_0116_jpg.rf.94d5d7e6579a22c9893553a8eb129e3a.txt\n",
      "\n",
      "image 1/1 c:\\Users\\sudee\\Documents\\Projects\\Pondify\\preprocessed_images\\frame_0116_jpg.rf.de17062ddaa962d39447ccb9ccaffea8.jpg: 640x640 3 fishs, 10.0ms\n",
      "Speed: 4.0ms preprocess, 10.0ms inference, 3.0ms postprocess per image at shape (1, 3, 640, 640)\n",
      "Processed and saved: results\\frame_0116_jpg.rf.de17062ddaa962d39447ccb9ccaffea8.jpg\n",
      "Processed and saved: keypoint_predictions\\frame_0116_jpg.rf.de17062ddaa962d39447ccb9ccaffea8.txt\n",
      "\n",
      "image 1/1 c:\\Users\\sudee\\Documents\\Projects\\Pondify\\preprocessed_images\\frame_0117_jpg.rf.d5ba064dc03c9f9ec1e9c0cfe5c1a1f2.jpg: 640x640 2 fishs, 22.0ms\n",
      "Speed: 5.0ms preprocess, 22.0ms inference, 4.0ms postprocess per image at shape (1, 3, 640, 640)\n",
      "Processed and saved: results\\frame_0117_jpg.rf.d5ba064dc03c9f9ec1e9c0cfe5c1a1f2.jpg\n",
      "Processed and saved: keypoint_predictions\\frame_0117_jpg.rf.d5ba064dc03c9f9ec1e9c0cfe5c1a1f2.txt\n",
      "\n",
      "image 1/1 c:\\Users\\sudee\\Documents\\Projects\\Pondify\\preprocessed_images\\frame_0118_jpg.rf.1ea51ed986163e5ec19f9a83a40c0276.jpg: 640x640 3 fishs, 22.0ms\n",
      "Speed: 4.0ms preprocess, 22.0ms inference, 4.0ms postprocess per image at shape (1, 3, 640, 640)\n",
      "Processed and saved: results\\frame_0118_jpg.rf.1ea51ed986163e5ec19f9a83a40c0276.jpg\n",
      "Processed and saved: keypoint_predictions\\frame_0118_jpg.rf.1ea51ed986163e5ec19f9a83a40c0276.txt\n",
      "\n",
      "image 1/1 c:\\Users\\sudee\\Documents\\Projects\\Pondify\\preprocessed_images\\frame_0118_jpg.rf.cfb4c2f0315c7697bb43c16daf169ef4.jpg: 640x640 3 fishs, 22.0ms\n",
      "Speed: 3.0ms preprocess, 22.0ms inference, 3.0ms postprocess per image at shape (1, 3, 640, 640)\n",
      "Processed and saved: results\\frame_0118_jpg.rf.cfb4c2f0315c7697bb43c16daf169ef4.jpg\n",
      "Processed and saved: keypoint_predictions\\frame_0118_jpg.rf.cfb4c2f0315c7697bb43c16daf169ef4.txt\n",
      "\n",
      "image 1/1 c:\\Users\\sudee\\Documents\\Projects\\Pondify\\preprocessed_images\\frame_0119_jpg.rf.6b6a04b4f32728cdc1f453476e271fd1.jpg: 640x640 2 fishs, 21.0ms\n",
      "Speed: 4.0ms preprocess, 21.0ms inference, 4.0ms postprocess per image at shape (1, 3, 640, 640)\n",
      "Processed and saved: results\\frame_0119_jpg.rf.6b6a04b4f32728cdc1f453476e271fd1.jpg\n",
      "Processed and saved: keypoint_predictions\\frame_0119_jpg.rf.6b6a04b4f32728cdc1f453476e271fd1.txt\n",
      "\n",
      "image 1/1 c:\\Users\\sudee\\Documents\\Projects\\Pondify\\preprocessed_images\\frame_0119_jpg.rf.b5f156fbb368956e85655fddde5fcc2e.jpg: 640x640 2 fishs, 27.1ms\n",
      "Speed: 2.9ms preprocess, 27.1ms inference, 3.0ms postprocess per image at shape (1, 3, 640, 640)\n",
      "Processed and saved: results\\frame_0119_jpg.rf.b5f156fbb368956e85655fddde5fcc2e.jpg\n",
      "Processed and saved: keypoint_predictions\\frame_0119_jpg.rf.b5f156fbb368956e85655fddde5fcc2e.txt\n",
      "\n",
      "image 1/1 c:\\Users\\sudee\\Documents\\Projects\\Pondify\\preprocessed_images\\frame_0120_jpg.rf.eab6516eb1624d3cf4f54aed800e1f94.jpg: 640x640 3 fishs, 21.0ms\n",
      "Speed: 4.0ms preprocess, 21.0ms inference, 3.0ms postprocess per image at shape (1, 3, 640, 640)\n",
      "Processed and saved: results\\frame_0120_jpg.rf.eab6516eb1624d3cf4f54aed800e1f94.jpg\n",
      "Processed and saved: keypoint_predictions\\frame_0120_jpg.rf.eab6516eb1624d3cf4f54aed800e1f94.txt\n",
      "\n",
      "image 1/1 c:\\Users\\sudee\\Documents\\Projects\\Pondify\\preprocessed_images\\frame_0125_jpg.rf.cb30ae58f95f22e497189a4a87c6ce27.jpg: 640x640 4 fishs, 24.0ms\n",
      "Speed: 3.0ms preprocess, 24.0ms inference, 5.0ms postprocess per image at shape (1, 3, 640, 640)\n",
      "Processed and saved: results\\frame_0125_jpg.rf.cb30ae58f95f22e497189a4a87c6ce27.jpg\n",
      "Processed and saved: keypoint_predictions\\frame_0125_jpg.rf.cb30ae58f95f22e497189a4a87c6ce27.txt\n",
      "\n",
      "image 1/1 c:\\Users\\sudee\\Documents\\Projects\\Pondify\\preprocessed_images\\frame_0129_jpg.rf.49dd724cb549360ad19dbdd87f3fe13b.jpg: 640x640 2 fishs, 20.0ms\n",
      "Speed: 5.0ms preprocess, 20.0ms inference, 4.0ms postprocess per image at shape (1, 3, 640, 640)\n",
      "Processed and saved: results\\frame_0129_jpg.rf.49dd724cb549360ad19dbdd87f3fe13b.jpg\n",
      "Processed and saved: keypoint_predictions\\frame_0129_jpg.rf.49dd724cb549360ad19dbdd87f3fe13b.txt\n",
      "\n",
      "image 1/1 c:\\Users\\sudee\\Documents\\Projects\\Pondify\\preprocessed_images\\frame_0134_jpg.rf.854024eba432a1bc802d00321ab54ae9.jpg: 640x640 2 fishs, 18.0ms\n",
      "Speed: 8.0ms preprocess, 18.0ms inference, 2.0ms postprocess per image at shape (1, 3, 640, 640)\n",
      "Processed and saved: results\\frame_0134_jpg.rf.854024eba432a1bc802d00321ab54ae9.jpg\n",
      "Processed and saved: keypoint_predictions\\frame_0134_jpg.rf.854024eba432a1bc802d00321ab54ae9.txt\n",
      "\n",
      "image 1/1 c:\\Users\\sudee\\Documents\\Projects\\Pondify\\preprocessed_images\\frame_0142_jpg.rf.920a78f415fe44a10810e39f8447b1e2.jpg: 640x640 3 fishs, 28.0ms\n",
      "Speed: 3.0ms preprocess, 28.0ms inference, 4.0ms postprocess per image at shape (1, 3, 640, 640)\n",
      "Processed and saved: results\\frame_0142_jpg.rf.920a78f415fe44a10810e39f8447b1e2.jpg\n",
      "Processed and saved: keypoint_predictions\\frame_0142_jpg.rf.920a78f415fe44a10810e39f8447b1e2.txt\n",
      "\n",
      "image 1/1 c:\\Users\\sudee\\Documents\\Projects\\Pondify\\preprocessed_images\\frame_0143_jpg.rf.e3f10a286c0cb791dd54a90d42e0de97.jpg: 640x640 1 fish, 20.3ms\n",
      "Speed: 5.0ms preprocess, 20.3ms inference, 5.0ms postprocess per image at shape (1, 3, 640, 640)\n",
      "Processed and saved: results\\frame_0143_jpg.rf.e3f10a286c0cb791dd54a90d42e0de97.jpg\n",
      "Processed and saved: keypoint_predictions\\frame_0143_jpg.rf.e3f10a286c0cb791dd54a90d42e0de97.txt\n",
      "\n",
      "image 1/1 c:\\Users\\sudee\\Documents\\Projects\\Pondify\\preprocessed_images\\frame_0150_jpg.rf.e1f159061a8c055e234e88cc1723d37b.jpg: 640x640 2 fishs, 22.0ms\n",
      "Speed: 4.0ms preprocess, 22.0ms inference, 5.0ms postprocess per image at shape (1, 3, 640, 640)\n",
      "Processed and saved: results\\frame_0150_jpg.rf.e1f159061a8c055e234e88cc1723d37b.jpg\n",
      "Processed and saved: keypoint_predictions\\frame_0150_jpg.rf.e1f159061a8c055e234e88cc1723d37b.txt\n",
      "\n",
      "image 1/1 c:\\Users\\sudee\\Documents\\Projects\\Pondify\\preprocessed_images\\frame_0151_jpg.rf.4087b395ec983ce618669266b31168c9.jpg: 640x640 4 fishs, 22.0ms\n",
      "Speed: 5.0ms preprocess, 22.0ms inference, 4.0ms postprocess per image at shape (1, 3, 640, 640)\n",
      "Processed and saved: results\\frame_0151_jpg.rf.4087b395ec983ce618669266b31168c9.jpg\n",
      "Processed and saved: keypoint_predictions\\frame_0151_jpg.rf.4087b395ec983ce618669266b31168c9.txt\n",
      "\n",
      "image 1/1 c:\\Users\\sudee\\Documents\\Projects\\Pondify\\preprocessed_images\\frame_0152_jpg.rf.18c8575832722c13833f13b9c8157e42.jpg: 640x640 3 fishs, 26.1ms\n",
      "Speed: 4.0ms preprocess, 26.1ms inference, 4.0ms postprocess per image at shape (1, 3, 640, 640)\n",
      "Processed and saved: results\\frame_0152_jpg.rf.18c8575832722c13833f13b9c8157e42.jpg\n",
      "Processed and saved: keypoint_predictions\\frame_0152_jpg.rf.18c8575832722c13833f13b9c8157e42.txt\n",
      "\n",
      "image 1/1 c:\\Users\\sudee\\Documents\\Projects\\Pondify\\preprocessed_images\\frame_0154_jpg.rf.4a243e503703a53ea7be790640c1df77.jpg: 640x640 4 fishs, 21.9ms\n",
      "Speed: 6.0ms preprocess, 21.9ms inference, 4.0ms postprocess per image at shape (1, 3, 640, 640)\n",
      "Processed and saved: results\\frame_0154_jpg.rf.4a243e503703a53ea7be790640c1df77.jpg\n",
      "Processed and saved: keypoint_predictions\\frame_0154_jpg.rf.4a243e503703a53ea7be790640c1df77.txt\n",
      "\n",
      "image 1/1 c:\\Users\\sudee\\Documents\\Projects\\Pondify\\preprocessed_images\\frame_0163_jpg.rf.997bf839599cf4166ee062abf3529a27.jpg: 640x640 2 fishs, 12.0ms\n",
      "Speed: 5.0ms preprocess, 12.0ms inference, 3.0ms postprocess per image at shape (1, 3, 640, 640)\n",
      "Processed and saved: results\\frame_0163_jpg.rf.997bf839599cf4166ee062abf3529a27.jpg\n",
      "Processed and saved: keypoint_predictions\\frame_0163_jpg.rf.997bf839599cf4166ee062abf3529a27.txt\n",
      "\n",
      "image 1/1 c:\\Users\\sudee\\Documents\\Projects\\Pondify\\preprocessed_images\\frame_0165_jpg.rf.9de88e3e4c17d0b22fe3d68b1aa5deae.jpg: 640x640 2 fishs, 21.0ms\n",
      "Speed: 4.0ms preprocess, 21.0ms inference, 4.0ms postprocess per image at shape (1, 3, 640, 640)\n",
      "Processed and saved: results\\frame_0165_jpg.rf.9de88e3e4c17d0b22fe3d68b1aa5deae.jpg\n",
      "Processed and saved: keypoint_predictions\\frame_0165_jpg.rf.9de88e3e4c17d0b22fe3d68b1aa5deae.txt\n",
      "\n",
      "image 1/1 c:\\Users\\sudee\\Documents\\Projects\\Pondify\\preprocessed_images\\frame_0166_jpg.rf.05680ce3c86ea13829bd0cd58f2b8be9.jpg: 640x640 4 fishs, 23.0ms\n",
      "Speed: 3.9ms preprocess, 23.0ms inference, 4.0ms postprocess per image at shape (1, 3, 640, 640)\n",
      "Processed and saved: results\\frame_0166_jpg.rf.05680ce3c86ea13829bd0cd58f2b8be9.jpg\n",
      "Processed and saved: keypoint_predictions\\frame_0166_jpg.rf.05680ce3c86ea13829bd0cd58f2b8be9.txt\n",
      "\n",
      "image 1/1 c:\\Users\\sudee\\Documents\\Projects\\Pondify\\preprocessed_images\\frame_0166_jpg.rf.9f8d1e68f07ed6585bec5961478334b9.jpg: 640x640 2 fishs, 30.1ms\n",
      "Speed: 4.0ms preprocess, 30.1ms inference, 4.0ms postprocess per image at shape (1, 3, 640, 640)\n",
      "Processed and saved: results\\frame_0166_jpg.rf.9f8d1e68f07ed6585bec5961478334b9.jpg\n",
      "Processed and saved: keypoint_predictions\\frame_0166_jpg.rf.9f8d1e68f07ed6585bec5961478334b9.txt\n",
      "\n",
      "image 1/1 c:\\Users\\sudee\\Documents\\Projects\\Pondify\\preprocessed_images\\frame_0167_jpg.rf.1ca673b329f2fd08cdee05bc3251c857.jpg: 640x640 3 fishs, 24.0ms\n",
      "Speed: 4.0ms preprocess, 24.0ms inference, 3.0ms postprocess per image at shape (1, 3, 640, 640)\n",
      "Processed and saved: results\\frame_0167_jpg.rf.1ca673b329f2fd08cdee05bc3251c857.jpg\n",
      "Processed and saved: keypoint_predictions\\frame_0167_jpg.rf.1ca673b329f2fd08cdee05bc3251c857.txt\n",
      "\n",
      "image 1/1 c:\\Users\\sudee\\Documents\\Projects\\Pondify\\preprocessed_images\\frame_0167_jpg.rf.41f60c6501b993940b5ea58d9f8c7aaa.jpg: 640x640 3 fishs, 22.0ms\n",
      "Speed: 5.4ms preprocess, 22.0ms inference, 6.0ms postprocess per image at shape (1, 3, 640, 640)\n",
      "Processed and saved: results\\frame_0167_jpg.rf.41f60c6501b993940b5ea58d9f8c7aaa.jpg\n",
      "Processed and saved: keypoint_predictions\\frame_0167_jpg.rf.41f60c6501b993940b5ea58d9f8c7aaa.txt\n",
      "\n",
      "image 1/1 c:\\Users\\sudee\\Documents\\Projects\\Pondify\\preprocessed_images\\frame_0168_jpg.rf.1fd830f2cd4cce78f4289648664b25d8.jpg: 640x640 1 fish, 21.0ms\n",
      "Speed: 4.0ms preprocess, 21.0ms inference, 6.0ms postprocess per image at shape (1, 3, 640, 640)\n",
      "Processed and saved: results\\frame_0168_jpg.rf.1fd830f2cd4cce78f4289648664b25d8.jpg\n",
      "Processed and saved: keypoint_predictions\\frame_0168_jpg.rf.1fd830f2cd4cce78f4289648664b25d8.txt\n",
      "\n",
      "image 1/1 c:\\Users\\sudee\\Documents\\Projects\\Pondify\\preprocessed_images\\frame_0169_jpg.rf.28cd8b42d1379715feeedd6d7d412069.jpg: 640x640 1 fish, 22.0ms\n",
      "Speed: 6.0ms preprocess, 22.0ms inference, 4.0ms postprocess per image at shape (1, 3, 640, 640)\n",
      "Processed and saved: results\\frame_0169_jpg.rf.28cd8b42d1379715feeedd6d7d412069.jpg\n",
      "Processed and saved: keypoint_predictions\\frame_0169_jpg.rf.28cd8b42d1379715feeedd6d7d412069.txt\n",
      "\n",
      "image 1/1 c:\\Users\\sudee\\Documents\\Projects\\Pondify\\preprocessed_images\\frame_0169_jpg.rf.d2bcdd9a7bc694fcf12833286fd3adfa.jpg: 640x640 2 fishs, 17.9ms\n",
      "Speed: 6.0ms preprocess, 17.9ms inference, 1.0ms postprocess per image at shape (1, 3, 640, 640)\n",
      "Processed and saved: results\\frame_0169_jpg.rf.d2bcdd9a7bc694fcf12833286fd3adfa.jpg\n",
      "Processed and saved: keypoint_predictions\\frame_0169_jpg.rf.d2bcdd9a7bc694fcf12833286fd3adfa.txt\n",
      "\n",
      "image 1/1 c:\\Users\\sudee\\Documents\\Projects\\Pondify\\preprocessed_images\\frame_0171_jpg.rf.7dc0fdfce68d212845501504266b926b.jpg: 640x640 3 fishs, 22.0ms\n",
      "Speed: 3.0ms preprocess, 22.0ms inference, 4.0ms postprocess per image at shape (1, 3, 640, 640)\n",
      "Processed and saved: results\\frame_0171_jpg.rf.7dc0fdfce68d212845501504266b926b.jpg\n",
      "Processed and saved: keypoint_predictions\\frame_0171_jpg.rf.7dc0fdfce68d212845501504266b926b.txt\n",
      "\n",
      "image 1/1 c:\\Users\\sudee\\Documents\\Projects\\Pondify\\preprocessed_images\\frame_0172_jpg.rf.2dda4c5448b6e7ede0e5c0502a539c89.jpg: 640x640 3 fishs, 22.0ms\n",
      "Speed: 4.0ms preprocess, 22.0ms inference, 4.0ms postprocess per image at shape (1, 3, 640, 640)\n",
      "Processed and saved: results\\frame_0172_jpg.rf.2dda4c5448b6e7ede0e5c0502a539c89.jpg\n",
      "Processed and saved: keypoint_predictions\\frame_0172_jpg.rf.2dda4c5448b6e7ede0e5c0502a539c89.txt\n",
      "\n",
      "image 1/1 c:\\Users\\sudee\\Documents\\Projects\\Pondify\\preprocessed_images\\frame_0173_jpg.rf.b9e46e00895f4f30ae97bd44fcac4d16.jpg: 640x640 2 fishs, 26.0ms\n",
      "Speed: 4.0ms preprocess, 26.0ms inference, 4.0ms postprocess per image at shape (1, 3, 640, 640)\n",
      "Processed and saved: results\\frame_0173_jpg.rf.b9e46e00895f4f30ae97bd44fcac4d16.jpg\n",
      "Processed and saved: keypoint_predictions\\frame_0173_jpg.rf.b9e46e00895f4f30ae97bd44fcac4d16.txt\n",
      "\n",
      "image 1/1 c:\\Users\\sudee\\Documents\\Projects\\Pondify\\preprocessed_images\\frame_0194_jpg.rf.059ecf0bc712bd163e21581628178910.jpg: 640x640 2 fishs, 22.0ms\n",
      "Speed: 5.0ms preprocess, 22.0ms inference, 3.0ms postprocess per image at shape (1, 3, 640, 640)\n",
      "Processed and saved: results\\frame_0194_jpg.rf.059ecf0bc712bd163e21581628178910.jpg\n",
      "Processed and saved: keypoint_predictions\\frame_0194_jpg.rf.059ecf0bc712bd163e21581628178910.txt\n",
      "\n",
      "image 1/1 c:\\Users\\sudee\\Documents\\Projects\\Pondify\\preprocessed_images\\frame_0204_jpg.rf.a59b5a47996a621b1343cc8ceac22134.jpg: 640x640 3 fishs, 21.1ms\n",
      "Speed: 4.0ms preprocess, 21.1ms inference, 2.9ms postprocess per image at shape (1, 3, 640, 640)\n",
      "Processed and saved: results\\frame_0204_jpg.rf.a59b5a47996a621b1343cc8ceac22134.jpg\n",
      "Processed and saved: keypoint_predictions\\frame_0204_jpg.rf.a59b5a47996a621b1343cc8ceac22134.txt\n",
      "\n",
      "image 1/1 c:\\Users\\sudee\\Documents\\Projects\\Pondify\\preprocessed_images\\frame_0205_jpg.rf.1a68386c118839307d1708902eb7dcf1.jpg: 640x640 2 fishs, 24.0ms\n",
      "Speed: 5.0ms preprocess, 24.0ms inference, 5.0ms postprocess per image at shape (1, 3, 640, 640)\n",
      "Processed and saved: results\\frame_0205_jpg.rf.1a68386c118839307d1708902eb7dcf1.jpg\n",
      "Processed and saved: keypoint_predictions\\frame_0205_jpg.rf.1a68386c118839307d1708902eb7dcf1.txt\n",
      "\n",
      "image 1/1 c:\\Users\\sudee\\Documents\\Projects\\Pondify\\preprocessed_images\\frame_0205_jpg.rf.653edf26a29d18d24b6a2786e85373c0.jpg: 640x640 3 fishs, 23.0ms\n",
      "Speed: 3.0ms preprocess, 23.0ms inference, 5.0ms postprocess per image at shape (1, 3, 640, 640)\n",
      "Processed and saved: results\\frame_0205_jpg.rf.653edf26a29d18d24b6a2786e85373c0.jpg\n",
      "Processed and saved: keypoint_predictions\\frame_0205_jpg.rf.653edf26a29d18d24b6a2786e85373c0.txt\n",
      "\n",
      "image 1/1 c:\\Users\\sudee\\Documents\\Projects\\Pondify\\preprocessed_images\\frame_0206_jpg.rf.003a668c84af8672f8feca3c47277e05.jpg: 640x640 4 fishs, 21.1ms\n",
      "Speed: 5.0ms preprocess, 21.1ms inference, 3.0ms postprocess per image at shape (1, 3, 640, 640)\n",
      "Processed and saved: results\\frame_0206_jpg.rf.003a668c84af8672f8feca3c47277e05.jpg\n",
      "Processed and saved: keypoint_predictions\\frame_0206_jpg.rf.003a668c84af8672f8feca3c47277e05.txt\n",
      "\n",
      "image 1/1 c:\\Users\\sudee\\Documents\\Projects\\Pondify\\preprocessed_images\\frame_0206_jpg.rf.b4e83162921bdf867ee451a11f37a02e.jpg: 640x640 2 fishs, 21.0ms\n",
      "Speed: 5.4ms preprocess, 21.0ms inference, 3.0ms postprocess per image at shape (1, 3, 640, 640)\n",
      "Processed and saved: results\\frame_0206_jpg.rf.b4e83162921bdf867ee451a11f37a02e.jpg\n",
      "Processed and saved: keypoint_predictions\\frame_0206_jpg.rf.b4e83162921bdf867ee451a11f37a02e.txt\n",
      "\n",
      "image 1/1 c:\\Users\\sudee\\Documents\\Projects\\Pondify\\preprocessed_images\\frame_0207_jpg.rf.2ffa7f12115865bd3a4143c4fbcda939.jpg: 640x640 3 fishs, 22.0ms\n",
      "Speed: 4.0ms preprocess, 22.0ms inference, 3.0ms postprocess per image at shape (1, 3, 640, 640)\n",
      "Processed and saved: results\\frame_0207_jpg.rf.2ffa7f12115865bd3a4143c4fbcda939.jpg\n",
      "Processed and saved: keypoint_predictions\\frame_0207_jpg.rf.2ffa7f12115865bd3a4143c4fbcda939.txt\n",
      "\n",
      "image 1/1 c:\\Users\\sudee\\Documents\\Projects\\Pondify\\preprocessed_images\\frame_0213_jpg.rf.8cbb383191d5e3a37560a28be649e96a.jpg: 640x640 3 fishs, 29.0ms\n",
      "Speed: 4.0ms preprocess, 29.0ms inference, 4.0ms postprocess per image at shape (1, 3, 640, 640)\n",
      "Processed and saved: results\\frame_0213_jpg.rf.8cbb383191d5e3a37560a28be649e96a.jpg\n",
      "Processed and saved: keypoint_predictions\\frame_0213_jpg.rf.8cbb383191d5e3a37560a28be649e96a.txt\n",
      "\n",
      "image 1/1 c:\\Users\\sudee\\Documents\\Projects\\Pondify\\preprocessed_images\\frame_0214_jpg.rf.e9daa2352647e38fc60bb3232cb2d387.jpg: 640x640 3 fishs, 21.9ms\n",
      "Speed: 4.0ms preprocess, 21.9ms inference, 4.0ms postprocess per image at shape (1, 3, 640, 640)\n",
      "Processed and saved: results\\frame_0214_jpg.rf.e9daa2352647e38fc60bb3232cb2d387.jpg\n",
      "Processed and saved: keypoint_predictions\\frame_0214_jpg.rf.e9daa2352647e38fc60bb3232cb2d387.txt\n",
      "\n",
      "image 1/1 c:\\Users\\sudee\\Documents\\Projects\\Pondify\\preprocessed_images\\frame_0216_jpg.rf.bb596a6ae346f28175bedffa7e09b627.jpg: 640x640 2 fishs, 24.0ms\n",
      "Speed: 4.0ms preprocess, 24.0ms inference, 4.0ms postprocess per image at shape (1, 3, 640, 640)\n",
      "Processed and saved: results\\frame_0216_jpg.rf.bb596a6ae346f28175bedffa7e09b627.jpg\n",
      "Processed and saved: keypoint_predictions\\frame_0216_jpg.rf.bb596a6ae346f28175bedffa7e09b627.txt\n",
      "\n",
      "image 1/1 c:\\Users\\sudee\\Documents\\Projects\\Pondify\\preprocessed_images\\frame_0222_jpg.rf.9a5aa9e228c37e4716eed41937ab8368.jpg: 640x640 2 fishs, 26.1ms\n",
      "Speed: 4.0ms preprocess, 26.1ms inference, 4.0ms postprocess per image at shape (1, 3, 640, 640)\n",
      "Processed and saved: results\\frame_0222_jpg.rf.9a5aa9e228c37e4716eed41937ab8368.jpg\n",
      "Processed and saved: keypoint_predictions\\frame_0222_jpg.rf.9a5aa9e228c37e4716eed41937ab8368.txt\n",
      "\n",
      "image 1/1 c:\\Users\\sudee\\Documents\\Projects\\Pondify\\preprocessed_images\\frame_0223_jpg.rf.88e20492470dee10b3fa67953db8349e.jpg: 640x640 2 fishs, 21.0ms\n",
      "Speed: 4.9ms preprocess, 21.0ms inference, 5.1ms postprocess per image at shape (1, 3, 640, 640)\n",
      "Processed and saved: results\\frame_0223_jpg.rf.88e20492470dee10b3fa67953db8349e.jpg\n",
      "Processed and saved: keypoint_predictions\\frame_0223_jpg.rf.88e20492470dee10b3fa67953db8349e.txt\n",
      "\n",
      "image 1/1 c:\\Users\\sudee\\Documents\\Projects\\Pondify\\preprocessed_images\\frame_0224_jpg.rf.f7eb6be9e719383b57d2969fadc22ea6.jpg: 640x640 2 fishs, 25.0ms\n",
      "Speed: 5.0ms preprocess, 25.0ms inference, 3.0ms postprocess per image at shape (1, 3, 640, 640)\n",
      "Processed and saved: results\\frame_0224_jpg.rf.f7eb6be9e719383b57d2969fadc22ea6.jpg\n",
      "Processed and saved: keypoint_predictions\\frame_0224_jpg.rf.f7eb6be9e719383b57d2969fadc22ea6.txt\n",
      "\n",
      "image 1/1 c:\\Users\\sudee\\Documents\\Projects\\Pondify\\preprocessed_images\\frame_0225_jpg.rf.f923a8fa1d9cc2f9c74dd6c153266fd6.jpg: 640x640 5 fishs, 27.0ms\n",
      "Speed: 5.0ms preprocess, 27.0ms inference, 4.0ms postprocess per image at shape (1, 3, 640, 640)\n",
      "Processed and saved: results\\frame_0225_jpg.rf.f923a8fa1d9cc2f9c74dd6c153266fd6.jpg\n",
      "Processed and saved: keypoint_predictions\\frame_0225_jpg.rf.f923a8fa1d9cc2f9c74dd6c153266fd6.txt\n",
      "\n",
      "image 1/1 c:\\Users\\sudee\\Documents\\Projects\\Pondify\\preprocessed_images\\frame_0225_jpg.rf.f9f3fa1cb8d0ca551cbdf3707c9bfdae.jpg: 640x640 4 fishs, 22.0ms\n",
      "Speed: 4.0ms preprocess, 22.0ms inference, 4.0ms postprocess per image at shape (1, 3, 640, 640)\n",
      "Processed and saved: results\\frame_0225_jpg.rf.f9f3fa1cb8d0ca551cbdf3707c9bfdae.jpg\n",
      "Processed and saved: keypoint_predictions\\frame_0225_jpg.rf.f9f3fa1cb8d0ca551cbdf3707c9bfdae.txt\n",
      "\n",
      "image 1/1 c:\\Users\\sudee\\Documents\\Projects\\Pondify\\preprocessed_images\\frame_0231_jpg.rf.9d2b9ee1c1be4fde550f73d8350a3e4f.jpg: 640x640 1 fish, 27.2ms\n",
      "Speed: 3.0ms preprocess, 27.2ms inference, 4.0ms postprocess per image at shape (1, 3, 640, 640)\n",
      "Processed and saved: results\\frame_0231_jpg.rf.9d2b9ee1c1be4fde550f73d8350a3e4f.jpg\n",
      "Processed and saved: keypoint_predictions\\frame_0231_jpg.rf.9d2b9ee1c1be4fde550f73d8350a3e4f.txt\n",
      "\n",
      "image 1/1 c:\\Users\\sudee\\Documents\\Projects\\Pondify\\preprocessed_images\\frame_0232_jpg.rf.56bc05564737db8fe6b1418bb8f32bc3.jpg: 640x640 3 fishs, 21.0ms\n",
      "Speed: 4.0ms preprocess, 21.0ms inference, 5.0ms postprocess per image at shape (1, 3, 640, 640)\n",
      "Processed and saved: results\\frame_0232_jpg.rf.56bc05564737db8fe6b1418bb8f32bc3.jpg\n",
      "Processed and saved: keypoint_predictions\\frame_0232_jpg.rf.56bc05564737db8fe6b1418bb8f32bc3.txt\n",
      "\n",
      "image 1/1 c:\\Users\\sudee\\Documents\\Projects\\Pondify\\preprocessed_images\\frame_0233_jpg.rf.2b5ad46cca411f96a186f47a24955483.jpg: 640x640 4 fishs, 22.0ms\n",
      "Speed: 4.0ms preprocess, 22.0ms inference, 6.0ms postprocess per image at shape (1, 3, 640, 640)\n",
      "Processed and saved: results\\frame_0233_jpg.rf.2b5ad46cca411f96a186f47a24955483.jpg\n",
      "Processed and saved: keypoint_predictions\\frame_0233_jpg.rf.2b5ad46cca411f96a186f47a24955483.txt\n",
      "\n",
      "image 1/1 c:\\Users\\sudee\\Documents\\Projects\\Pondify\\preprocessed_images\\frame_0246_jpg.rf.a479eeb9d90141ec1f7a3afcbc2b4747.jpg: 640x640 3 fishs, 20.1ms\n",
      "Speed: 3.0ms preprocess, 20.1ms inference, 4.0ms postprocess per image at shape (1, 3, 640, 640)\n",
      "Processed and saved: results\\frame_0246_jpg.rf.a479eeb9d90141ec1f7a3afcbc2b4747.jpg\n",
      "Processed and saved: keypoint_predictions\\frame_0246_jpg.rf.a479eeb9d90141ec1f7a3afcbc2b4747.txt\n",
      "\n",
      "image 1/1 c:\\Users\\sudee\\Documents\\Projects\\Pondify\\preprocessed_images\\frame_0247_jpg.rf.89888e52e6070497826689dcb9c2eadc.jpg: 640x640 3 fishs, 20.0ms\n",
      "Speed: 4.0ms preprocess, 20.0ms inference, 4.0ms postprocess per image at shape (1, 3, 640, 640)\n",
      "Processed and saved: results\\frame_0247_jpg.rf.89888e52e6070497826689dcb9c2eadc.jpg\n",
      "Processed and saved: keypoint_predictions\\frame_0247_jpg.rf.89888e52e6070497826689dcb9c2eadc.txt\n",
      "\n",
      "image 1/1 c:\\Users\\sudee\\Documents\\Projects\\Pondify\\preprocessed_images\\frame_0249_jpg.rf.2289ce8a469031ed00ef2a063daf132e.jpg: 640x640 3 fishs, 22.0ms\n",
      "Speed: 5.0ms preprocess, 22.0ms inference, 4.0ms postprocess per image at shape (1, 3, 640, 640)\n",
      "Processed and saved: results\\frame_0249_jpg.rf.2289ce8a469031ed00ef2a063daf132e.jpg\n",
      "Processed and saved: keypoint_predictions\\frame_0249_jpg.rf.2289ce8a469031ed00ef2a063daf132e.txt\n",
      "\n",
      "image 1/1 c:\\Users\\sudee\\Documents\\Projects\\Pondify\\preprocessed_images\\frame_0250_jpg.rf.eb7947cd0541942cdd83fcac62b85e73.jpg: 640x640 2 fishs, 20.1ms\n",
      "Speed: 3.0ms preprocess, 20.1ms inference, 4.0ms postprocess per image at shape (1, 3, 640, 640)\n",
      "Processed and saved: results\\frame_0250_jpg.rf.eb7947cd0541942cdd83fcac62b85e73.jpg\n",
      "Processed and saved: keypoint_predictions\\frame_0250_jpg.rf.eb7947cd0541942cdd83fcac62b85e73.txt\n",
      "\n",
      "image 1/1 c:\\Users\\sudee\\Documents\\Projects\\Pondify\\preprocessed_images\\frame_0251_jpg.rf.91ffd70491323c4575a59fdeadab1a67.jpg: 640x640 2 fishs, 20.5ms\n",
      "Speed: 4.0ms preprocess, 20.5ms inference, 4.0ms postprocess per image at shape (1, 3, 640, 640)\n",
      "Processed and saved: results\\frame_0251_jpg.rf.91ffd70491323c4575a59fdeadab1a67.jpg\n",
      "Processed and saved: keypoint_predictions\\frame_0251_jpg.rf.91ffd70491323c4575a59fdeadab1a67.txt\n",
      "\n",
      "image 1/1 c:\\Users\\sudee\\Documents\\Projects\\Pondify\\preprocessed_images\\frame_0252_jpg.rf.a0aa17c74a96ff74e236fe47337005c8.jpg: 640x640 2 fishs, 21.0ms\n",
      "Speed: 3.9ms preprocess, 21.0ms inference, 3.0ms postprocess per image at shape (1, 3, 640, 640)\n",
      "Processed and saved: results\\frame_0252_jpg.rf.a0aa17c74a96ff74e236fe47337005c8.jpg\n",
      "Processed and saved: keypoint_predictions\\frame_0252_jpg.rf.a0aa17c74a96ff74e236fe47337005c8.txt\n",
      "\n",
      "image 1/1 c:\\Users\\sudee\\Documents\\Projects\\Pondify\\preprocessed_images\\frame_0252_jpg.rf.baebd83ad273be9ef490d440b274b21f.jpg: 640x640 4 fishs, 25.0ms\n",
      "Speed: 5.1ms preprocess, 25.0ms inference, 5.9ms postprocess per image at shape (1, 3, 640, 640)\n",
      "Processed and saved: results\\frame_0252_jpg.rf.baebd83ad273be9ef490d440b274b21f.jpg\n",
      "Processed and saved: keypoint_predictions\\frame_0252_jpg.rf.baebd83ad273be9ef490d440b274b21f.txt\n",
      "\n",
      "image 1/1 c:\\Users\\sudee\\Documents\\Projects\\Pondify\\preprocessed_images\\frame_0253_jpg.rf.100a8524c8181ffe7fce2e1c1b5fe6f1.jpg: 640x640 4 fishs, 22.0ms\n",
      "Speed: 4.0ms preprocess, 22.0ms inference, 4.0ms postprocess per image at shape (1, 3, 640, 640)\n",
      "Processed and saved: results\\frame_0253_jpg.rf.100a8524c8181ffe7fce2e1c1b5fe6f1.jpg\n",
      "Processed and saved: keypoint_predictions\\frame_0253_jpg.rf.100a8524c8181ffe7fce2e1c1b5fe6f1.txt\n",
      "\n",
      "image 1/1 c:\\Users\\sudee\\Documents\\Projects\\Pondify\\preprocessed_images\\frame_0253_jpg.rf.7036caa03346895ba11741e4e97ba6ac.jpg: 640x640 2 fishs, 20.2ms\n",
      "Speed: 3.0ms preprocess, 20.2ms inference, 4.0ms postprocess per image at shape (1, 3, 640, 640)\n",
      "Processed and saved: results\\frame_0253_jpg.rf.7036caa03346895ba11741e4e97ba6ac.jpg\n",
      "Processed and saved: keypoint_predictions\\frame_0253_jpg.rf.7036caa03346895ba11741e4e97ba6ac.txt\n",
      "\n",
      "image 1/1 c:\\Users\\sudee\\Documents\\Projects\\Pondify\\preprocessed_images\\frame_0253_jpg.rf.b5a64ec3648c3565de8a4b9489b5c5fb.jpg: 640x640 3 fishs, 31.2ms\n",
      "Speed: 4.0ms preprocess, 31.2ms inference, 2.1ms postprocess per image at shape (1, 3, 640, 640)\n",
      "Processed and saved: results\\frame_0253_jpg.rf.b5a64ec3648c3565de8a4b9489b5c5fb.jpg\n",
      "Processed and saved: keypoint_predictions\\frame_0253_jpg.rf.b5a64ec3648c3565de8a4b9489b5c5fb.txt\n",
      "\n",
      "image 1/1 c:\\Users\\sudee\\Documents\\Projects\\Pondify\\preprocessed_images\\frame_0254_jpg.rf.0b5fc18796ed7a447aa7de0623fd65c3.jpg: 640x640 1 fish, 20.0ms\n",
      "Speed: 3.0ms preprocess, 20.0ms inference, 4.1ms postprocess per image at shape (1, 3, 640, 640)\n",
      "Processed and saved: results\\frame_0254_jpg.rf.0b5fc18796ed7a447aa7de0623fd65c3.jpg\n",
      "Processed and saved: keypoint_predictions\\frame_0254_jpg.rf.0b5fc18796ed7a447aa7de0623fd65c3.txt\n",
      "\n",
      "image 1/1 c:\\Users\\sudee\\Documents\\Projects\\Pondify\\preprocessed_images\\frame_0254_jpg.rf.48287dae4a0cb8ed9c2320428af3c3ed.jpg: 640x640 2 fishs, 25.0ms\n",
      "Speed: 3.0ms preprocess, 25.0ms inference, 8.0ms postprocess per image at shape (1, 3, 640, 640)\n",
      "Processed and saved: results\\frame_0254_jpg.rf.48287dae4a0cb8ed9c2320428af3c3ed.jpg\n",
      "Processed and saved: keypoint_predictions\\frame_0254_jpg.rf.48287dae4a0cb8ed9c2320428af3c3ed.txt\n",
      "\n",
      "image 1/1 c:\\Users\\sudee\\Documents\\Projects\\Pondify\\preprocessed_images\\frame_0255_jpg.rf.af539d86e38e22dd46dfa0b3956bc1ca.jpg: 640x640 2 fishs, 21.0ms\n",
      "Speed: 4.0ms preprocess, 21.0ms inference, 3.0ms postprocess per image at shape (1, 3, 640, 640)\n",
      "Processed and saved: results\\frame_0255_jpg.rf.af539d86e38e22dd46dfa0b3956bc1ca.jpg\n",
      "Processed and saved: keypoint_predictions\\frame_0255_jpg.rf.af539d86e38e22dd46dfa0b3956bc1ca.txt\n",
      "\n",
      "image 1/1 c:\\Users\\sudee\\Documents\\Projects\\Pondify\\preprocessed_images\\frame_0255_jpg.rf.e27f8e74adfb950abe61d9969b625c8f.jpg: 640x640 2 fishs, 21.0ms\n",
      "Speed: 4.0ms preprocess, 21.0ms inference, 4.0ms postprocess per image at shape (1, 3, 640, 640)\n",
      "Processed and saved: results\\frame_0255_jpg.rf.e27f8e74adfb950abe61d9969b625c8f.jpg\n",
      "Processed and saved: keypoint_predictions\\frame_0255_jpg.rf.e27f8e74adfb950abe61d9969b625c8f.txt\n",
      "\n",
      "image 1/1 c:\\Users\\sudee\\Documents\\Projects\\Pondify\\preprocessed_images\\frame_0256_jpg.rf.2011d6a26f6715cb49223133d83926c1.jpg: 640x640 2 fishs, 15.0ms\n",
      "Speed: 4.0ms preprocess, 15.0ms inference, 6.0ms postprocess per image at shape (1, 3, 640, 640)\n",
      "Processed and saved: results\\frame_0256_jpg.rf.2011d6a26f6715cb49223133d83926c1.jpg\n",
      "Processed and saved: keypoint_predictions\\frame_0256_jpg.rf.2011d6a26f6715cb49223133d83926c1.txt\n",
      "\n",
      "image 1/1 c:\\Users\\sudee\\Documents\\Projects\\Pondify\\preprocessed_images\\frame_0257_jpg.rf.a610a54cf7e763c08ddf1d399046afa0.jpg: 640x640 2 fishs, 22.0ms\n",
      "Speed: 5.0ms preprocess, 22.0ms inference, 3.0ms postprocess per image at shape (1, 3, 640, 640)\n",
      "Processed and saved: results\\frame_0257_jpg.rf.a610a54cf7e763c08ddf1d399046afa0.jpg\n",
      "Processed and saved: keypoint_predictions\\frame_0257_jpg.rf.a610a54cf7e763c08ddf1d399046afa0.txt\n",
      "\n",
      "image 1/1 c:\\Users\\sudee\\Documents\\Projects\\Pondify\\preprocessed_images\\frame_0258_jpg.rf.a07f00d5200a0d2dc4535944a3b2bd4f.jpg: 640x640 4 fishs, 21.0ms\n",
      "Speed: 4.0ms preprocess, 21.0ms inference, 4.0ms postprocess per image at shape (1, 3, 640, 640)\n",
      "Processed and saved: results\\frame_0258_jpg.rf.a07f00d5200a0d2dc4535944a3b2bd4f.jpg\n",
      "Processed and saved: keypoint_predictions\\frame_0258_jpg.rf.a07f00d5200a0d2dc4535944a3b2bd4f.txt\n",
      "\n",
      "image 1/1 c:\\Users\\sudee\\Documents\\Projects\\Pondify\\preprocessed_images\\frame_0259_jpg.rf.fe01c5e409637216dfd8ca601868b724.jpg: 640x640 5 fishs, 20.9ms\n",
      "Speed: 4.0ms preprocess, 20.9ms inference, 4.0ms postprocess per image at shape (1, 3, 640, 640)\n",
      "Processed and saved: results\\frame_0259_jpg.rf.fe01c5e409637216dfd8ca601868b724.jpg\n",
      "Processed and saved: keypoint_predictions\\frame_0259_jpg.rf.fe01c5e409637216dfd8ca601868b724.txt\n",
      "\n",
      "image 1/1 c:\\Users\\sudee\\Documents\\Projects\\Pondify\\preprocessed_images\\frame_0260_jpg.rf.8f0f0ebb8637bf5e325751c954bf6216.jpg: 640x640 2 fishs, 22.0ms\n",
      "Speed: 5.0ms preprocess, 22.0ms inference, 4.0ms postprocess per image at shape (1, 3, 640, 640)\n",
      "Processed and saved: results\\frame_0260_jpg.rf.8f0f0ebb8637bf5e325751c954bf6216.jpg\n",
      "Processed and saved: keypoint_predictions\\frame_0260_jpg.rf.8f0f0ebb8637bf5e325751c954bf6216.txt\n",
      "\n",
      "image 1/1 c:\\Users\\sudee\\Documents\\Projects\\Pondify\\preprocessed_images\\frame_0260_jpg.rf.9ab6b36b376dcbb18af5184c770cb493.jpg: 640x640 5 fishs, 22.1ms\n",
      "Speed: 4.0ms preprocess, 22.1ms inference, 3.0ms postprocess per image at shape (1, 3, 640, 640)\n",
      "Processed and saved: results\\frame_0260_jpg.rf.9ab6b36b376dcbb18af5184c770cb493.jpg\n",
      "Processed and saved: keypoint_predictions\\frame_0260_jpg.rf.9ab6b36b376dcbb18af5184c770cb493.txt\n",
      "\n",
      "image 1/1 c:\\Users\\sudee\\Documents\\Projects\\Pondify\\preprocessed_images\\frame_0261_jpg.rf.09015f73c9b47e072af568ef136e5007.jpg: 640x640 6 fishs, 22.0ms\n",
      "Speed: 4.0ms preprocess, 22.0ms inference, 5.0ms postprocess per image at shape (1, 3, 640, 640)\n",
      "Processed and saved: results\\frame_0261_jpg.rf.09015f73c9b47e072af568ef136e5007.jpg\n",
      "Processed and saved: keypoint_predictions\\frame_0261_jpg.rf.09015f73c9b47e072af568ef136e5007.txt\n",
      "\n",
      "image 1/1 c:\\Users\\sudee\\Documents\\Projects\\Pondify\\preprocessed_images\\frame_0261_jpg.rf.82dc71e06eb0372156434b3c32658af0.jpg: 640x640 3 fishs, 29.0ms\n",
      "Speed: 4.0ms preprocess, 29.0ms inference, 4.0ms postprocess per image at shape (1, 3, 640, 640)\n",
      "Processed and saved: results\\frame_0261_jpg.rf.82dc71e06eb0372156434b3c32658af0.jpg\n",
      "Processed and saved: keypoint_predictions\\frame_0261_jpg.rf.82dc71e06eb0372156434b3c32658af0.txt\n",
      "\n",
      "image 1/1 c:\\Users\\sudee\\Documents\\Projects\\Pondify\\preprocessed_images\\frame_0262_jpg.rf.53f10b989f5de36cc8f6eff052fde832.jpg: 640x640 7 fishs, 31.1ms\n",
      "Speed: 4.0ms preprocess, 31.1ms inference, 4.0ms postprocess per image at shape (1, 3, 640, 640)\n",
      "Processed and saved: results\\frame_0262_jpg.rf.53f10b989f5de36cc8f6eff052fde832.jpg\n",
      "Processed and saved: keypoint_predictions\\frame_0262_jpg.rf.53f10b989f5de36cc8f6eff052fde832.txt\n",
      "\n",
      "image 1/1 c:\\Users\\sudee\\Documents\\Projects\\Pondify\\preprocessed_images\\frame_0263_jpg.rf.28d657d77e4ab8c7dd266276a9043d24.jpg: 640x640 3 fishs, 22.9ms\n",
      "Speed: 4.1ms preprocess, 22.9ms inference, 3.0ms postprocess per image at shape (1, 3, 640, 640)\n",
      "Processed and saved: results\\frame_0263_jpg.rf.28d657d77e4ab8c7dd266276a9043d24.jpg\n",
      "Processed and saved: keypoint_predictions\\frame_0263_jpg.rf.28d657d77e4ab8c7dd266276a9043d24.txt\n",
      "\n",
      "image 1/1 c:\\Users\\sudee\\Documents\\Projects\\Pondify\\preprocessed_images\\frame_0263_jpg.rf.abae84fc47e6a712b85a6324f709883a.jpg: 640x640 3 fishs, 23.1ms\n",
      "Speed: 3.0ms preprocess, 23.1ms inference, 5.0ms postprocess per image at shape (1, 3, 640, 640)\n",
      "Processed and saved: results\\frame_0263_jpg.rf.abae84fc47e6a712b85a6324f709883a.jpg\n",
      "Processed and saved: keypoint_predictions\\frame_0263_jpg.rf.abae84fc47e6a712b85a6324f709883a.txt\n",
      "\n",
      "image 1/1 c:\\Users\\sudee\\Documents\\Projects\\Pondify\\preprocessed_images\\frame_0264_jpg.rf.552ec194733e94732cf8a94b1bcb1cb1.jpg: 640x640 2 fishs, 16.0ms\n",
      "Speed: 4.0ms preprocess, 16.0ms inference, 3.0ms postprocess per image at shape (1, 3, 640, 640)\n",
      "Processed and saved: results\\frame_0264_jpg.rf.552ec194733e94732cf8a94b1bcb1cb1.jpg\n",
      "Processed and saved: keypoint_predictions\\frame_0264_jpg.rf.552ec194733e94732cf8a94b1bcb1cb1.txt\n",
      "\n",
      "image 1/1 c:\\Users\\sudee\\Documents\\Projects\\Pondify\\preprocessed_images\\frame_0264_jpg.rf.c41bfa7b29b977911c6ddb29285f6b27.jpg: 640x640 2 fishs, 22.0ms\n",
      "Speed: 4.0ms preprocess, 22.0ms inference, 5.1ms postprocess per image at shape (1, 3, 640, 640)\n",
      "Processed and saved: results\\frame_0264_jpg.rf.c41bfa7b29b977911c6ddb29285f6b27.jpg\n",
      "Processed and saved: keypoint_predictions\\frame_0264_jpg.rf.c41bfa7b29b977911c6ddb29285f6b27.txt\n",
      "\n",
      "image 1/1 c:\\Users\\sudee\\Documents\\Projects\\Pondify\\preprocessed_images\\frame_0267_jpg.rf.501edf883ba3aad65fb0c90f44f2b64a.jpg: 640x640 3 fishs, 23.0ms\n",
      "Speed: 5.0ms preprocess, 23.0ms inference, 4.0ms postprocess per image at shape (1, 3, 640, 640)\n",
      "Processed and saved: results\\frame_0267_jpg.rf.501edf883ba3aad65fb0c90f44f2b64a.jpg\n",
      "Processed and saved: keypoint_predictions\\frame_0267_jpg.rf.501edf883ba3aad65fb0c90f44f2b64a.txt\n",
      "\n",
      "image 1/1 c:\\Users\\sudee\\Documents\\Projects\\Pondify\\preprocessed_images\\frame_0267_jpg.rf.98e3749cfe6bd9f71eec74e3e45dc6e8.jpg: 640x640 3 fishs, 22.0ms\n",
      "Speed: 3.0ms preprocess, 22.0ms inference, 3.0ms postprocess per image at shape (1, 3, 640, 640)\n",
      "Processed and saved: results\\frame_0267_jpg.rf.98e3749cfe6bd9f71eec74e3e45dc6e8.jpg\n",
      "Processed and saved: keypoint_predictions\\frame_0267_jpg.rf.98e3749cfe6bd9f71eec74e3e45dc6e8.txt\n",
      "\n",
      "image 1/1 c:\\Users\\sudee\\Documents\\Projects\\Pondify\\preprocessed_images\\frame_0267_jpg.rf.d67cdac859193b794cbbeb7b1f8ca7d2.jpg: 640x640 3 fishs, 20.9ms\n",
      "Speed: 4.0ms preprocess, 20.9ms inference, 4.0ms postprocess per image at shape (1, 3, 640, 640)\n",
      "Processed and saved: results\\frame_0267_jpg.rf.d67cdac859193b794cbbeb7b1f8ca7d2.jpg\n",
      "Processed and saved: keypoint_predictions\\frame_0267_jpg.rf.d67cdac859193b794cbbeb7b1f8ca7d2.txt\n",
      "\n",
      "image 1/1 c:\\Users\\sudee\\Documents\\Projects\\Pondify\\preprocessed_images\\frame_0271_jpg.rf.4a5f239c65cd9729e13eb0e647c94572.jpg: 640x640 2 fishs, 23.9ms\n",
      "Speed: 4.1ms preprocess, 23.9ms inference, 4.0ms postprocess per image at shape (1, 3, 640, 640)\n",
      "Processed and saved: results\\frame_0271_jpg.rf.4a5f239c65cd9729e13eb0e647c94572.jpg\n",
      "Processed and saved: keypoint_predictions\\frame_0271_jpg.rf.4a5f239c65cd9729e13eb0e647c94572.txt\n",
      "\n",
      "image 1/1 c:\\Users\\sudee\\Documents\\Projects\\Pondify\\preprocessed_images\\frame_0271_jpg.rf.bb34e83249aaef90a1dc871fc5bc69a6.jpg: 640x640 2 fishs, 18.0ms\n",
      "Speed: 3.0ms preprocess, 18.0ms inference, 3.0ms postprocess per image at shape (1, 3, 640, 640)\n",
      "Processed and saved: results\\frame_0271_jpg.rf.bb34e83249aaef90a1dc871fc5bc69a6.jpg\n",
      "Processed and saved: keypoint_predictions\\frame_0271_jpg.rf.bb34e83249aaef90a1dc871fc5bc69a6.txt\n",
      "\n",
      "image 1/1 c:\\Users\\sudee\\Documents\\Projects\\Pondify\\preprocessed_images\\frame_0271_jpg.rf.ea2cde5b20df06cca7963c2f34684e6f.jpg: 640x640 2 fishs, 29.4ms\n",
      "Speed: 3.0ms preprocess, 29.4ms inference, 4.0ms postprocess per image at shape (1, 3, 640, 640)\n",
      "Processed and saved: results\\frame_0271_jpg.rf.ea2cde5b20df06cca7963c2f34684e6f.jpg\n",
      "Processed and saved: keypoint_predictions\\frame_0271_jpg.rf.ea2cde5b20df06cca7963c2f34684e6f.txt\n",
      "\n",
      "image 1/1 c:\\Users\\sudee\\Documents\\Projects\\Pondify\\preprocessed_images\\frame_0272_jpg.rf.1eaa7adc5ee19f5bd23d74b7eedf13a5.jpg: 640x640 4 fishs, 22.0ms\n",
      "Speed: 5.0ms preprocess, 22.0ms inference, 4.0ms postprocess per image at shape (1, 3, 640, 640)\n",
      "Processed and saved: results\\frame_0272_jpg.rf.1eaa7adc5ee19f5bd23d74b7eedf13a5.jpg\n",
      "Processed and saved: keypoint_predictions\\frame_0272_jpg.rf.1eaa7adc5ee19f5bd23d74b7eedf13a5.txt\n",
      "\n",
      "image 1/1 c:\\Users\\sudee\\Documents\\Projects\\Pondify\\preprocessed_images\\frame_0272_jpg.rf.49f29777c3ec5685c89e25ce9333fd7d.jpg: 640x640 2 fishs, 22.0ms\n",
      "Speed: 4.0ms preprocess, 22.0ms inference, 3.0ms postprocess per image at shape (1, 3, 640, 640)\n",
      "Processed and saved: results\\frame_0272_jpg.rf.49f29777c3ec5685c89e25ce9333fd7d.jpg\n",
      "Processed and saved: keypoint_predictions\\frame_0272_jpg.rf.49f29777c3ec5685c89e25ce9333fd7d.txt\n",
      "\n",
      "image 1/1 c:\\Users\\sudee\\Documents\\Projects\\Pondify\\preprocessed_images\\frame_0272_jpg.rf.e96936a628c97ea641da22b62d40d048.jpg: 640x640 4 fishs, 29.5ms\n",
      "Speed: 4.0ms preprocess, 29.5ms inference, 3.0ms postprocess per image at shape (1, 3, 640, 640)\n",
      "Processed and saved: results\\frame_0272_jpg.rf.e96936a628c97ea641da22b62d40d048.jpg\n",
      "Processed and saved: keypoint_predictions\\frame_0272_jpg.rf.e96936a628c97ea641da22b62d40d048.txt\n",
      "\n",
      "image 1/1 c:\\Users\\sudee\\Documents\\Projects\\Pondify\\preprocessed_images\\frame_0273_jpg.rf.c4a71e16cd6e92717038a38e39b245df.jpg: 640x640 3 fishs, 21.0ms\n",
      "Speed: 3.0ms preprocess, 21.0ms inference, 4.0ms postprocess per image at shape (1, 3, 640, 640)\n",
      "Processed and saved: results\\frame_0273_jpg.rf.c4a71e16cd6e92717038a38e39b245df.jpg\n",
      "Processed and saved: keypoint_predictions\\frame_0273_jpg.rf.c4a71e16cd6e92717038a38e39b245df.txt\n",
      "\n",
      "image 1/1 c:\\Users\\sudee\\Documents\\Projects\\Pondify\\preprocessed_images\\frame_0273_jpg.rf.d50115bae923a23b5fec4c7ac6ca6e6b.jpg: 640x640 3 fishs, 24.0ms\n",
      "Speed: 3.9ms preprocess, 24.0ms inference, 3.0ms postprocess per image at shape (1, 3, 640, 640)\n",
      "Processed and saved: results\\frame_0273_jpg.rf.d50115bae923a23b5fec4c7ac6ca6e6b.jpg\n",
      "Processed and saved: keypoint_predictions\\frame_0273_jpg.rf.d50115bae923a23b5fec4c7ac6ca6e6b.txt\n",
      "\n",
      "image 1/1 c:\\Users\\sudee\\Documents\\Projects\\Pondify\\preprocessed_images\\frame_0274_jpg.rf.0053851b85fd32de57b543d82c4406ee.jpg: 640x640 3 fishs, 20.9ms\n",
      "Speed: 5.0ms preprocess, 20.9ms inference, 4.1ms postprocess per image at shape (1, 3, 640, 640)\n",
      "Processed and saved: results\\frame_0274_jpg.rf.0053851b85fd32de57b543d82c4406ee.jpg\n",
      "Processed and saved: keypoint_predictions\\frame_0274_jpg.rf.0053851b85fd32de57b543d82c4406ee.txt\n",
      "\n",
      "image 1/1 c:\\Users\\sudee\\Documents\\Projects\\Pondify\\preprocessed_images\\frame_0274_jpg.rf.61f44a38d87e6914027a6ffb9b250387.jpg: 640x640 3 fishs, 13.0ms\n",
      "Speed: 4.0ms preprocess, 13.0ms inference, 2.0ms postprocess per image at shape (1, 3, 640, 640)\n",
      "Processed and saved: results\\frame_0274_jpg.rf.61f44a38d87e6914027a6ffb9b250387.jpg\n",
      "Processed and saved: keypoint_predictions\\frame_0274_jpg.rf.61f44a38d87e6914027a6ffb9b250387.txt\n",
      "\n",
      "image 1/1 c:\\Users\\sudee\\Documents\\Projects\\Pondify\\preprocessed_images\\frame_0275_jpg.rf.50c69e109e3415d9d76c779a689250c3.jpg: 640x640 2 fishs, 19.9ms\n",
      "Speed: 4.1ms preprocess, 19.9ms inference, 4.0ms postprocess per image at shape (1, 3, 640, 640)\n",
      "Processed and saved: results\\frame_0275_jpg.rf.50c69e109e3415d9d76c779a689250c3.jpg\n",
      "Processed and saved: keypoint_predictions\\frame_0275_jpg.rf.50c69e109e3415d9d76c779a689250c3.txt\n",
      "\n",
      "image 1/1 c:\\Users\\sudee\\Documents\\Projects\\Pondify\\preprocessed_images\\frame_0275_jpg.rf.75bb328c093f9e58995cadf7cf7464ae.jpg: 640x640 2 fishs, 21.0ms\n",
      "Speed: 3.0ms preprocess, 21.0ms inference, 3.0ms postprocess per image at shape (1, 3, 640, 640)\n",
      "Processed and saved: results\\frame_0275_jpg.rf.75bb328c093f9e58995cadf7cf7464ae.jpg\n",
      "Processed and saved: keypoint_predictions\\frame_0275_jpg.rf.75bb328c093f9e58995cadf7cf7464ae.txt\n",
      "\n",
      "image 1/1 c:\\Users\\sudee\\Documents\\Projects\\Pondify\\preprocessed_images\\frame_0277_jpg.rf.ca56625d0d9c76b546e5030e532c72c5.jpg: 640x640 3 fishs, 25.0ms\n",
      "Speed: 3.0ms preprocess, 25.0ms inference, 4.0ms postprocess per image at shape (1, 3, 640, 640)\n",
      "Processed and saved: results\\frame_0277_jpg.rf.ca56625d0d9c76b546e5030e532c72c5.jpg\n",
      "Processed and saved: keypoint_predictions\\frame_0277_jpg.rf.ca56625d0d9c76b546e5030e532c72c5.txt\n",
      "\n",
      "image 1/1 c:\\Users\\sudee\\Documents\\Projects\\Pondify\\preprocessed_images\\frame_0278_jpg.rf.0a0987eb10f99c013087f5a60f95f76c.jpg: 640x640 3 fishs, 22.0ms\n",
      "Speed: 4.0ms preprocess, 22.0ms inference, 4.0ms postprocess per image at shape (1, 3, 640, 640)\n",
      "Processed and saved: results\\frame_0278_jpg.rf.0a0987eb10f99c013087f5a60f95f76c.jpg\n",
      "Processed and saved: keypoint_predictions\\frame_0278_jpg.rf.0a0987eb10f99c013087f5a60f95f76c.txt\n",
      "\n",
      "image 1/1 c:\\Users\\sudee\\Documents\\Projects\\Pondify\\preprocessed_images\\frame_0279_jpg.rf.97fc203d1e18d2c00d25ff3b866b2d6f.jpg: 640x640 3 fishs, 24.0ms\n",
      "Speed: 3.9ms preprocess, 24.0ms inference, 4.0ms postprocess per image at shape (1, 3, 640, 640)\n",
      "Processed and saved: results\\frame_0279_jpg.rf.97fc203d1e18d2c00d25ff3b866b2d6f.jpg\n",
      "Processed and saved: keypoint_predictions\\frame_0279_jpg.rf.97fc203d1e18d2c00d25ff3b866b2d6f.txt\n",
      "\n",
      "image 1/1 c:\\Users\\sudee\\Documents\\Projects\\Pondify\\preprocessed_images\\frame_0280_jpg.rf.4c1aa2cbc6e5f89308e610f2b313720e.jpg: 640x640 3 fishs, 21.0ms\n",
      "Speed: 4.0ms preprocess, 21.0ms inference, 3.0ms postprocess per image at shape (1, 3, 640, 640)\n",
      "Processed and saved: results\\frame_0280_jpg.rf.4c1aa2cbc6e5f89308e610f2b313720e.jpg\n",
      "Processed and saved: keypoint_predictions\\frame_0280_jpg.rf.4c1aa2cbc6e5f89308e610f2b313720e.txt\n",
      "\n",
      "image 1/1 c:\\Users\\sudee\\Documents\\Projects\\Pondify\\preprocessed_images\\frame_0281_jpg.rf.c1e1acdde91144ab42595634e4816833.jpg: 640x640 4 fishs, 21.0ms\n",
      "Speed: 6.0ms preprocess, 21.0ms inference, 4.0ms postprocess per image at shape (1, 3, 640, 640)\n",
      "Processed and saved: results\\frame_0281_jpg.rf.c1e1acdde91144ab42595634e4816833.jpg\n",
      "Processed and saved: keypoint_predictions\\frame_0281_jpg.rf.c1e1acdde91144ab42595634e4816833.txt\n",
      "\n",
      "image 1/1 c:\\Users\\sudee\\Documents\\Projects\\Pondify\\preprocessed_images\\frame_0281_jpg.rf.dc4f10b6a01629aa55f3e9ad9f7d29ea.jpg: 640x640 2 fishs, 21.0ms\n",
      "Speed: 4.0ms preprocess, 21.0ms inference, 4.0ms postprocess per image at shape (1, 3, 640, 640)\n",
      "Processed and saved: results\\frame_0281_jpg.rf.dc4f10b6a01629aa55f3e9ad9f7d29ea.jpg\n",
      "Processed and saved: keypoint_predictions\\frame_0281_jpg.rf.dc4f10b6a01629aa55f3e9ad9f7d29ea.txt\n",
      "\n",
      "image 1/1 c:\\Users\\sudee\\Documents\\Projects\\Pondify\\preprocessed_images\\frame_0283_jpg.rf.5f5bf7e82b4ce06914a62f71675c4bed.jpg: 640x640 3 fishs, 18.0ms\n",
      "Speed: 3.0ms preprocess, 18.0ms inference, 1.0ms postprocess per image at shape (1, 3, 640, 640)\n",
      "Processed and saved: results\\frame_0283_jpg.rf.5f5bf7e82b4ce06914a62f71675c4bed.jpg\n",
      "Processed and saved: keypoint_predictions\\frame_0283_jpg.rf.5f5bf7e82b4ce06914a62f71675c4bed.txt\n",
      "\n",
      "image 1/1 c:\\Users\\sudee\\Documents\\Projects\\Pondify\\preprocessed_images\\frame_0283_jpg.rf.a4ca6cb92b796c62baf32f70ff59761f.jpg: 640x640 2 fishs, 27.0ms\n",
      "Speed: 3.0ms preprocess, 27.0ms inference, 4.0ms postprocess per image at shape (1, 3, 640, 640)\n",
      "Processed and saved: results\\frame_0283_jpg.rf.a4ca6cb92b796c62baf32f70ff59761f.jpg\n",
      "Processed and saved: keypoint_predictions\\frame_0283_jpg.rf.a4ca6cb92b796c62baf32f70ff59761f.txt\n",
      "\n",
      "image 1/1 c:\\Users\\sudee\\Documents\\Projects\\Pondify\\preprocessed_images\\frame_0285_jpg.rf.16c914f608f2a5673b70b294c1e7b21c.jpg: 640x640 2 fishs, 21.0ms\n",
      "Speed: 4.0ms preprocess, 21.0ms inference, 2.0ms postprocess per image at shape (1, 3, 640, 640)\n",
      "Processed and saved: results\\frame_0285_jpg.rf.16c914f608f2a5673b70b294c1e7b21c.jpg\n",
      "Processed and saved: keypoint_predictions\\frame_0285_jpg.rf.16c914f608f2a5673b70b294c1e7b21c.txt\n",
      "\n",
      "image 1/1 c:\\Users\\sudee\\Documents\\Projects\\Pondify\\preprocessed_images\\frame_0285_jpg.rf.4b78f3366a8193d65b32e2ae4cdad1e9.jpg: 640x640 2 fishs, 27.0ms\n",
      "Speed: 4.0ms preprocess, 27.0ms inference, 5.0ms postprocess per image at shape (1, 3, 640, 640)\n",
      "Processed and saved: results\\frame_0285_jpg.rf.4b78f3366a8193d65b32e2ae4cdad1e9.jpg\n",
      "Processed and saved: keypoint_predictions\\frame_0285_jpg.rf.4b78f3366a8193d65b32e2ae4cdad1e9.txt\n",
      "\n",
      "image 1/1 c:\\Users\\sudee\\Documents\\Projects\\Pondify\\preprocessed_images\\frame_0286_jpg.rf.a31f96ed525d90429ca3e75694890b5f.jpg: 640x640 2 fishs, 23.0ms\n",
      "Speed: 5.0ms preprocess, 23.0ms inference, 4.0ms postprocess per image at shape (1, 3, 640, 640)\n",
      "Processed and saved: results\\frame_0286_jpg.rf.a31f96ed525d90429ca3e75694890b5f.jpg\n",
      "Processed and saved: keypoint_predictions\\frame_0286_jpg.rf.a31f96ed525d90429ca3e75694890b5f.txt\n",
      "\n",
      "image 1/1 c:\\Users\\sudee\\Documents\\Projects\\Pondify\\preprocessed_images\\frame_0286_jpg.rf.ea424910146584467550b648fe2a5f67.jpg: 640x640 2 fishs, 29.0ms\n",
      "Speed: 3.0ms preprocess, 29.0ms inference, 4.0ms postprocess per image at shape (1, 3, 640, 640)\n",
      "Processed and saved: results\\frame_0286_jpg.rf.ea424910146584467550b648fe2a5f67.jpg\n",
      "Processed and saved: keypoint_predictions\\frame_0286_jpg.rf.ea424910146584467550b648fe2a5f67.txt\n",
      "\n",
      "image 1/1 c:\\Users\\sudee\\Documents\\Projects\\Pondify\\preprocessed_images\\frame_0287_jpg.rf.4045724f363627f8ad9ba6c812f71a07.jpg: 640x640 2 fishs, 18.0ms\n",
      "Speed: 3.6ms preprocess, 18.0ms inference, 2.0ms postprocess per image at shape (1, 3, 640, 640)\n",
      "Processed and saved: results\\frame_0287_jpg.rf.4045724f363627f8ad9ba6c812f71a07.jpg\n",
      "Processed and saved: keypoint_predictions\\frame_0287_jpg.rf.4045724f363627f8ad9ba6c812f71a07.txt\n",
      "\n",
      "image 1/1 c:\\Users\\sudee\\Documents\\Projects\\Pondify\\preprocessed_images\\frame_0287_jpg.rf.900743765fc91241b371b16787b36a28.jpg: 640x640 2 fishs, 21.0ms\n",
      "Speed: 6.0ms preprocess, 21.0ms inference, 4.0ms postprocess per image at shape (1, 3, 640, 640)\n",
      "Processed and saved: results\\frame_0287_jpg.rf.900743765fc91241b371b16787b36a28.jpg\n",
      "Processed and saved: keypoint_predictions\\frame_0287_jpg.rf.900743765fc91241b371b16787b36a28.txt\n",
      "\n",
      "image 1/1 c:\\Users\\sudee\\Documents\\Projects\\Pondify\\preprocessed_images\\frame_0288_jpg.rf.05e0d009746d42762711c3c8e3062495.jpg: 640x640 2 fishs, 23.9ms\n",
      "Speed: 5.0ms preprocess, 23.9ms inference, 4.0ms postprocess per image at shape (1, 3, 640, 640)\n",
      "Processed and saved: results\\frame_0288_jpg.rf.05e0d009746d42762711c3c8e3062495.jpg\n",
      "Processed and saved: keypoint_predictions\\frame_0288_jpg.rf.05e0d009746d42762711c3c8e3062495.txt\n",
      "\n",
      "image 1/1 c:\\Users\\sudee\\Documents\\Projects\\Pondify\\preprocessed_images\\frame_0288_jpg.rf.b337b2a92e3c5e46ccd7942e8d09ffc1.jpg: 640x640 2 fishs, 21.0ms\n",
      "Speed: 5.0ms preprocess, 21.0ms inference, 5.0ms postprocess per image at shape (1, 3, 640, 640)\n",
      "Processed and saved: results\\frame_0288_jpg.rf.b337b2a92e3c5e46ccd7942e8d09ffc1.jpg\n",
      "Processed and saved: keypoint_predictions\\frame_0288_jpg.rf.b337b2a92e3c5e46ccd7942e8d09ffc1.txt\n",
      "\n",
      "image 1/1 c:\\Users\\sudee\\Documents\\Projects\\Pondify\\preprocessed_images\\frame_0288_jpg.rf.fed37345eff49da0cc47137c016b8b44.jpg: 640x640 3 fishs, 20.0ms\n",
      "Speed: 4.0ms preprocess, 20.0ms inference, 5.0ms postprocess per image at shape (1, 3, 640, 640)\n",
      "Processed and saved: results\\frame_0288_jpg.rf.fed37345eff49da0cc47137c016b8b44.jpg\n",
      "Processed and saved: keypoint_predictions\\frame_0288_jpg.rf.fed37345eff49da0cc47137c016b8b44.txt\n",
      "\n",
      "image 1/1 c:\\Users\\sudee\\Documents\\Projects\\Pondify\\preprocessed_images\\frame_0289_jpg.rf.003b6f972c851fc404e24f15068d3fdf.jpg: 640x640 3 fishs, 21.0ms\n",
      "Speed: 4.0ms preprocess, 21.0ms inference, 3.0ms postprocess per image at shape (1, 3, 640, 640)\n",
      "Processed and saved: results\\frame_0289_jpg.rf.003b6f972c851fc404e24f15068d3fdf.jpg\n",
      "Processed and saved: keypoint_predictions\\frame_0289_jpg.rf.003b6f972c851fc404e24f15068d3fdf.txt\n",
      "\n",
      "image 1/1 c:\\Users\\sudee\\Documents\\Projects\\Pondify\\preprocessed_images\\frame_0289_jpg.rf.b4c51ed429b66a9a990aa38dc880af1e.jpg: 640x640 3 fishs, 21.0ms\n",
      "Speed: 5.0ms preprocess, 21.0ms inference, 4.0ms postprocess per image at shape (1, 3, 640, 640)\n",
      "Processed and saved: results\\frame_0289_jpg.rf.b4c51ed429b66a9a990aa38dc880af1e.jpg\n",
      "Processed and saved: keypoint_predictions\\frame_0289_jpg.rf.b4c51ed429b66a9a990aa38dc880af1e.txt\n",
      "\n",
      "image 1/1 c:\\Users\\sudee\\Documents\\Projects\\Pondify\\preprocessed_images\\frame_0289_jpg.rf.bd7ee1c1d1d2dd477bad82a54c0e8443.jpg: 640x640 3 fishs, 28.0ms\n",
      "Speed: 4.1ms preprocess, 28.0ms inference, 4.0ms postprocess per image at shape (1, 3, 640, 640)\n",
      "Processed and saved: results\\frame_0289_jpg.rf.bd7ee1c1d1d2dd477bad82a54c0e8443.jpg\n",
      "Processed and saved: keypoint_predictions\\frame_0289_jpg.rf.bd7ee1c1d1d2dd477bad82a54c0e8443.txt\n",
      "\n",
      "image 1/1 c:\\Users\\sudee\\Documents\\Projects\\Pondify\\preprocessed_images\\frame_0290_jpg.rf.1b607e71d3c7015ed83d5fb5fc74ac02.jpg: 640x640 3 fishs, 22.0ms\n",
      "Speed: 4.1ms preprocess, 22.0ms inference, 5.0ms postprocess per image at shape (1, 3, 640, 640)\n",
      "Processed and saved: results\\frame_0290_jpg.rf.1b607e71d3c7015ed83d5fb5fc74ac02.jpg\n",
      "Processed and saved: keypoint_predictions\\frame_0290_jpg.rf.1b607e71d3c7015ed83d5fb5fc74ac02.txt\n",
      "\n",
      "image 1/1 c:\\Users\\sudee\\Documents\\Projects\\Pondify\\preprocessed_images\\frame_0290_jpg.rf.56836c243be11715fd47833d471dc5c7.jpg: 640x640 3 fishs, 21.8ms\n",
      "Speed: 4.2ms preprocess, 21.8ms inference, 4.0ms postprocess per image at shape (1, 3, 640, 640)\n",
      "Processed and saved: results\\frame_0290_jpg.rf.56836c243be11715fd47833d471dc5c7.jpg\n",
      "Processed and saved: keypoint_predictions\\frame_0290_jpg.rf.56836c243be11715fd47833d471dc5c7.txt\n",
      "\n",
      "image 1/1 c:\\Users\\sudee\\Documents\\Projects\\Pondify\\preprocessed_images\\frame_0290_jpg.rf.b5171dcb3f4430c765ef00cac607553e.jpg: 640x640 3 fishs, 29.0ms\n",
      "Speed: 4.0ms preprocess, 29.0ms inference, 4.2ms postprocess per image at shape (1, 3, 640, 640)\n",
      "Processed and saved: results\\frame_0290_jpg.rf.b5171dcb3f4430c765ef00cac607553e.jpg\n",
      "Processed and saved: keypoint_predictions\\frame_0290_jpg.rf.b5171dcb3f4430c765ef00cac607553e.txt\n",
      "\n",
      "image 1/1 c:\\Users\\sudee\\Documents\\Projects\\Pondify\\preprocessed_images\\frame_0291_jpg.rf.6d53e353cdb232b4310d8449587ff302.jpg: 640x640 3 fishs, 21.0ms\n",
      "Speed: 3.0ms preprocess, 21.0ms inference, 4.0ms postprocess per image at shape (1, 3, 640, 640)\n",
      "Processed and saved: results\\frame_0291_jpg.rf.6d53e353cdb232b4310d8449587ff302.jpg\n",
      "Processed and saved: keypoint_predictions\\frame_0291_jpg.rf.6d53e353cdb232b4310d8449587ff302.txt\n",
      "\n",
      "image 1/1 c:\\Users\\sudee\\Documents\\Projects\\Pondify\\preprocessed_images\\frame_0291_jpg.rf.a032cbf67102acfc7ed2c1c4bfe8cc06.jpg: 640x640 2 fishs, 23.0ms\n",
      "Speed: 4.0ms preprocess, 23.0ms inference, 5.0ms postprocess per image at shape (1, 3, 640, 640)\n",
      "Processed and saved: results\\frame_0291_jpg.rf.a032cbf67102acfc7ed2c1c4bfe8cc06.jpg\n",
      "Processed and saved: keypoint_predictions\\frame_0291_jpg.rf.a032cbf67102acfc7ed2c1c4bfe8cc06.txt\n",
      "\n",
      "image 1/1 c:\\Users\\sudee\\Documents\\Projects\\Pondify\\preprocessed_images\\frame_0291_jpg.rf.f5bc8838f484adab064ae065cb505118.jpg: 640x640 5 fishs, 25.0ms\n",
      "Speed: 3.0ms preprocess, 25.0ms inference, 3.0ms postprocess per image at shape (1, 3, 640, 640)\n",
      "Processed and saved: results\\frame_0291_jpg.rf.f5bc8838f484adab064ae065cb505118.jpg\n",
      "Processed and saved: keypoint_predictions\\frame_0291_jpg.rf.f5bc8838f484adab064ae065cb505118.txt\n",
      "\n",
      "image 1/1 c:\\Users\\sudee\\Documents\\Projects\\Pondify\\preprocessed_images\\frame_0291_jpg.rf.fd9ec39ac7a0382a18198c92b729023f.jpg: 640x640 2 fishs, 20.0ms\n",
      "Speed: 3.0ms preprocess, 20.0ms inference, 5.0ms postprocess per image at shape (1, 3, 640, 640)\n",
      "Processed and saved: results\\frame_0291_jpg.rf.fd9ec39ac7a0382a18198c92b729023f.jpg\n",
      "Processed and saved: keypoint_predictions\\frame_0291_jpg.rf.fd9ec39ac7a0382a18198c92b729023f.txt\n",
      "\n",
      "image 1/1 c:\\Users\\sudee\\Documents\\Projects\\Pondify\\preprocessed_images\\frame_0292_jpg.rf.dadf6b613c14e638363401ff168f8d50.jpg: 640x640 3 fishs, 23.0ms\n",
      "Speed: 4.0ms preprocess, 23.0ms inference, 3.0ms postprocess per image at shape (1, 3, 640, 640)\n",
      "Processed and saved: results\\frame_0292_jpg.rf.dadf6b613c14e638363401ff168f8d50.jpg\n",
      "Processed and saved: keypoint_predictions\\frame_0292_jpg.rf.dadf6b613c14e638363401ff168f8d50.txt\n",
      "\n",
      "image 1/1 c:\\Users\\sudee\\Documents\\Projects\\Pondify\\preprocessed_images\\frame_0293_jpg.rf.6044c4280255adfbef9c0f1245957e8a.jpg: 640x640 4 fishs, 22.0ms\n",
      "Speed: 6.0ms preprocess, 22.0ms inference, 4.0ms postprocess per image at shape (1, 3, 640, 640)\n",
      "Processed and saved: results\\frame_0293_jpg.rf.6044c4280255adfbef9c0f1245957e8a.jpg\n",
      "Processed and saved: keypoint_predictions\\frame_0293_jpg.rf.6044c4280255adfbef9c0f1245957e8a.txt\n",
      "\n",
      "image 1/1 c:\\Users\\sudee\\Documents\\Projects\\Pondify\\preprocessed_images\\frame_0294_jpg.rf.500044d5800b3aac213113fd35fa9e3f.jpg: 640x640 3 fishs, 21.0ms\n",
      "Speed: 4.1ms preprocess, 21.0ms inference, 4.0ms postprocess per image at shape (1, 3, 640, 640)\n",
      "Processed and saved: results\\frame_0294_jpg.rf.500044d5800b3aac213113fd35fa9e3f.jpg\n",
      "Processed and saved: keypoint_predictions\\frame_0294_jpg.rf.500044d5800b3aac213113fd35fa9e3f.txt\n",
      "\n",
      "image 1/1 c:\\Users\\sudee\\Documents\\Projects\\Pondify\\preprocessed_images\\frame_0295_jpg.rf.eaee52c28491e71153b2e7f30e350675.jpg: 640x640 3 fishs, 22.0ms\n",
      "Speed: 5.0ms preprocess, 22.0ms inference, 5.0ms postprocess per image at shape (1, 3, 640, 640)\n",
      "Processed and saved: results\\frame_0295_jpg.rf.eaee52c28491e71153b2e7f30e350675.jpg\n",
      "Processed and saved: keypoint_predictions\\frame_0295_jpg.rf.eaee52c28491e71153b2e7f30e350675.txt\n",
      "\n",
      "image 1/1 c:\\Users\\sudee\\Documents\\Projects\\Pondify\\preprocessed_images\\frame_0306_jpg.rf.a8aad8884ced4898949c1a3117dda130.jpg: 640x640 3 fishs, 20.0ms\n",
      "Speed: 5.0ms preprocess, 20.0ms inference, 4.0ms postprocess per image at shape (1, 3, 640, 640)\n",
      "Processed and saved: results\\frame_0306_jpg.rf.a8aad8884ced4898949c1a3117dda130.jpg\n",
      "Processed and saved: keypoint_predictions\\frame_0306_jpg.rf.a8aad8884ced4898949c1a3117dda130.txt\n",
      "\n",
      "image 1/1 c:\\Users\\sudee\\Documents\\Projects\\Pondify\\preprocessed_images\\frame_0308_jpg.rf.9e547e0309da331cff143ca0d272dfd9.jpg: 640x640 3 fishs, 23.0ms\n",
      "Speed: 4.1ms preprocess, 23.0ms inference, 4.0ms postprocess per image at shape (1, 3, 640, 640)\n",
      "Processed and saved: results\\frame_0308_jpg.rf.9e547e0309da331cff143ca0d272dfd9.jpg\n",
      "Processed and saved: keypoint_predictions\\frame_0308_jpg.rf.9e547e0309da331cff143ca0d272dfd9.txt\n",
      "\n",
      "image 1/1 c:\\Users\\sudee\\Documents\\Projects\\Pondify\\preprocessed_images\\frame_0311_jpg.rf.e214f1d0a4947ac1e1f6f3a222ca8447.jpg: 640x640 2 fishs, 23.0ms\n",
      "Speed: 4.0ms preprocess, 23.0ms inference, 3.0ms postprocess per image at shape (1, 3, 640, 640)\n",
      "Processed and saved: results\\frame_0311_jpg.rf.e214f1d0a4947ac1e1f6f3a222ca8447.jpg\n",
      "Processed and saved: keypoint_predictions\\frame_0311_jpg.rf.e214f1d0a4947ac1e1f6f3a222ca8447.txt\n",
      "\n",
      "image 1/1 c:\\Users\\sudee\\Documents\\Projects\\Pondify\\preprocessed_images\\frame_0312_jpg.rf.ca90f8ac5dd57bf1e1500cc4e5a5d63a.jpg: 640x640 2 fishs, 21.0ms\n",
      "Speed: 7.0ms preprocess, 21.0ms inference, 2.0ms postprocess per image at shape (1, 3, 640, 640)\n",
      "Processed and saved: results\\frame_0312_jpg.rf.ca90f8ac5dd57bf1e1500cc4e5a5d63a.jpg\n",
      "Processed and saved: keypoint_predictions\\frame_0312_jpg.rf.ca90f8ac5dd57bf1e1500cc4e5a5d63a.txt\n",
      "\n",
      "image 1/1 c:\\Users\\sudee\\Documents\\Projects\\Pondify\\preprocessed_images\\frame_0314_jpg.rf.51cf4f312849e7d9e99c590a622e630e.jpg: 640x640 2 fishs, 32.0ms\n",
      "Speed: 3.0ms preprocess, 32.0ms inference, 4.0ms postprocess per image at shape (1, 3, 640, 640)\n",
      "Processed and saved: results\\frame_0314_jpg.rf.51cf4f312849e7d9e99c590a622e630e.jpg\n",
      "Processed and saved: keypoint_predictions\\frame_0314_jpg.rf.51cf4f312849e7d9e99c590a622e630e.txt\n",
      "\n",
      "image 1/1 c:\\Users\\sudee\\Documents\\Projects\\Pondify\\preprocessed_images\\frame_0314_jpg.rf.534af2af8ab753a2a3e0907f26f3f8d5.jpg: 640x640 1 fish, 21.0ms\n",
      "Speed: 5.0ms preprocess, 21.0ms inference, 4.0ms postprocess per image at shape (1, 3, 640, 640)\n",
      "Processed and saved: results\\frame_0314_jpg.rf.534af2af8ab753a2a3e0907f26f3f8d5.jpg\n",
      "Processed and saved: keypoint_predictions\\frame_0314_jpg.rf.534af2af8ab753a2a3e0907f26f3f8d5.txt\n",
      "\n",
      "image 1/1 c:\\Users\\sudee\\Documents\\Projects\\Pondify\\preprocessed_images\\frame_0315_jpg.rf.c527703828489de4c3f2ff21ac9a0e7d.jpg: 640x640 3 fishs, 25.0ms\n",
      "Speed: 2.9ms preprocess, 25.0ms inference, 4.0ms postprocess per image at shape (1, 3, 640, 640)\n",
      "Processed and saved: results\\frame_0315_jpg.rf.c527703828489de4c3f2ff21ac9a0e7d.jpg\n",
      "Processed and saved: keypoint_predictions\\frame_0315_jpg.rf.c527703828489de4c3f2ff21ac9a0e7d.txt\n",
      "\n",
      "image 1/1 c:\\Users\\sudee\\Documents\\Projects\\Pondify\\preprocessed_images\\frame_0316_jpg.rf.95f0640c5050006b590f935f114b414e.jpg: 640x640 3 fishs, 25.1ms\n",
      "Speed: 5.0ms preprocess, 25.1ms inference, 4.0ms postprocess per image at shape (1, 3, 640, 640)\n",
      "Processed and saved: results\\frame_0316_jpg.rf.95f0640c5050006b590f935f114b414e.jpg\n",
      "Processed and saved: keypoint_predictions\\frame_0316_jpg.rf.95f0640c5050006b590f935f114b414e.txt\n",
      "\n",
      "image 1/1 c:\\Users\\sudee\\Documents\\Projects\\Pondify\\preprocessed_images\\frame_0317_jpg.rf.92a2e96c239b5b657feed0f02faa6e64.jpg: 640x640 2 fishs, 16.0ms\n",
      "Speed: 4.0ms preprocess, 16.0ms inference, 1.9ms postprocess per image at shape (1, 3, 640, 640)\n",
      "Processed and saved: results\\frame_0317_jpg.rf.92a2e96c239b5b657feed0f02faa6e64.jpg\n",
      "Processed and saved: keypoint_predictions\\frame_0317_jpg.rf.92a2e96c239b5b657feed0f02faa6e64.txt\n",
      "\n",
      "image 1/1 c:\\Users\\sudee\\Documents\\Projects\\Pondify\\preprocessed_images\\frame_0318_jpg.rf.847005af213fc1af60bea89ebb5cbb67.jpg: 640x640 2 fishs, 26.0ms\n",
      "Speed: 4.0ms preprocess, 26.0ms inference, 4.0ms postprocess per image at shape (1, 3, 640, 640)\n",
      "Processed and saved: results\\frame_0318_jpg.rf.847005af213fc1af60bea89ebb5cbb67.jpg\n",
      "Processed and saved: keypoint_predictions\\frame_0318_jpg.rf.847005af213fc1af60bea89ebb5cbb67.txt\n",
      "\n",
      "image 1/1 c:\\Users\\sudee\\Documents\\Projects\\Pondify\\preprocessed_images\\frame_0320_jpg.rf.841725d785b97a80840e86eb759b15ce.jpg: 640x640 3 fishs, 19.0ms\n",
      "Speed: 4.0ms preprocess, 19.0ms inference, 4.0ms postprocess per image at shape (1, 3, 640, 640)\n",
      "Processed and saved: results\\frame_0320_jpg.rf.841725d785b97a80840e86eb759b15ce.jpg\n",
      "Processed and saved: keypoint_predictions\\frame_0320_jpg.rf.841725d785b97a80840e86eb759b15ce.txt\n",
      "\n",
      "image 1/1 c:\\Users\\sudee\\Documents\\Projects\\Pondify\\preprocessed_images\\frame_0320_jpg.rf.b50ad23bf13229c8e6260caaf36c6dcf.jpg: 640x640 3 fishs, 21.0ms\n",
      "Speed: 4.0ms preprocess, 21.0ms inference, 3.0ms postprocess per image at shape (1, 3, 640, 640)\n",
      "Processed and saved: results\\frame_0320_jpg.rf.b50ad23bf13229c8e6260caaf36c6dcf.jpg\n",
      "Processed and saved: keypoint_predictions\\frame_0320_jpg.rf.b50ad23bf13229c8e6260caaf36c6dcf.txt\n",
      "\n",
      "image 1/1 c:\\Users\\sudee\\Documents\\Projects\\Pondify\\preprocessed_images\\frame_0321_jpg.rf.24b2c831d217230ed62419a10a8a146c.jpg: 640x640 3 fishs, 22.0ms\n",
      "Speed: 5.0ms preprocess, 22.0ms inference, 3.0ms postprocess per image at shape (1, 3, 640, 640)\n",
      "Processed and saved: results\\frame_0321_jpg.rf.24b2c831d217230ed62419a10a8a146c.jpg\n",
      "Processed and saved: keypoint_predictions\\frame_0321_jpg.rf.24b2c831d217230ed62419a10a8a146c.txt\n",
      "\n",
      "image 1/1 c:\\Users\\sudee\\Documents\\Projects\\Pondify\\preprocessed_images\\frame_0321_jpg.rf.382dc99f43bc709f2f64a16b6f302e89.jpg: 640x640 3 fishs, 21.0ms\n",
      "Speed: 4.0ms preprocess, 21.0ms inference, 4.0ms postprocess per image at shape (1, 3, 640, 640)\n",
      "Processed and saved: results\\frame_0321_jpg.rf.382dc99f43bc709f2f64a16b6f302e89.jpg\n",
      "Processed and saved: keypoint_predictions\\frame_0321_jpg.rf.382dc99f43bc709f2f64a16b6f302e89.txt\n",
      "\n",
      "image 1/1 c:\\Users\\sudee\\Documents\\Projects\\Pondify\\preprocessed_images\\frame_0322_jpg.rf.6c56119908ed53714089cc0b0fd6c856.jpg: 640x640 3 fishs, 21.0ms\n",
      "Speed: 4.2ms preprocess, 21.0ms inference, 3.0ms postprocess per image at shape (1, 3, 640, 640)\n",
      "Processed and saved: results\\frame_0322_jpg.rf.6c56119908ed53714089cc0b0fd6c856.jpg\n",
      "Processed and saved: keypoint_predictions\\frame_0322_jpg.rf.6c56119908ed53714089cc0b0fd6c856.txt\n",
      "\n",
      "image 1/1 c:\\Users\\sudee\\Documents\\Projects\\Pondify\\preprocessed_images\\frame_0322_jpg.rf.725f29f3f549ee5ce5b64ffe0506e579.jpg: 640x640 3 fishs, 25.0ms\n",
      "Speed: 4.0ms preprocess, 25.0ms inference, 4.0ms postprocess per image at shape (1, 3, 640, 640)\n",
      "Processed and saved: results\\frame_0322_jpg.rf.725f29f3f549ee5ce5b64ffe0506e579.jpg\n",
      "Processed and saved: keypoint_predictions\\frame_0322_jpg.rf.725f29f3f549ee5ce5b64ffe0506e579.txt\n",
      "\n",
      "image 1/1 c:\\Users\\sudee\\Documents\\Projects\\Pondify\\preprocessed_images\\frame_0323_jpg.rf.90df4b89ff066a091d45fc421fb098cb.jpg: 640x640 5 fishs, 19.9ms\n",
      "Speed: 4.0ms preprocess, 19.9ms inference, 4.0ms postprocess per image at shape (1, 3, 640, 640)\n",
      "Processed and saved: results\\frame_0323_jpg.rf.90df4b89ff066a091d45fc421fb098cb.jpg\n",
      "Processed and saved: keypoint_predictions\\frame_0323_jpg.rf.90df4b89ff066a091d45fc421fb098cb.txt\n",
      "\n",
      "image 1/1 c:\\Users\\sudee\\Documents\\Projects\\Pondify\\preprocessed_images\\frame_0323_jpg.rf.974bcc68823e4869f627ef741664ba9a.jpg: 640x640 3 fishs, 27.2ms\n",
      "Speed: 7.0ms preprocess, 27.2ms inference, 3.1ms postprocess per image at shape (1, 3, 640, 640)\n",
      "Processed and saved: results\\frame_0323_jpg.rf.974bcc68823e4869f627ef741664ba9a.jpg\n",
      "Processed and saved: keypoint_predictions\\frame_0323_jpg.rf.974bcc68823e4869f627ef741664ba9a.txt\n",
      "\n",
      "image 1/1 c:\\Users\\sudee\\Documents\\Projects\\Pondify\\preprocessed_images\\frame_0323_jpg.rf.a6cf4578ef5230025101ad4b662727f2.jpg: 640x640 3 fishs, 20.0ms\n",
      "Speed: 5.0ms preprocess, 20.0ms inference, 7.0ms postprocess per image at shape (1, 3, 640, 640)\n",
      "Processed and saved: results\\frame_0323_jpg.rf.a6cf4578ef5230025101ad4b662727f2.jpg\n",
      "Processed and saved: keypoint_predictions\\frame_0323_jpg.rf.a6cf4578ef5230025101ad4b662727f2.txt\n",
      "\n",
      "image 1/1 c:\\Users\\sudee\\Documents\\Projects\\Pondify\\preprocessed_images\\frame_0324_jpg.rf.06d7710949c6a9f5a69d4c2f3c39b34a.jpg: 640x640 3 fishs, 21.0ms\n",
      "Speed: 4.0ms preprocess, 21.0ms inference, 4.0ms postprocess per image at shape (1, 3, 640, 640)\n",
      "Processed and saved: results\\frame_0324_jpg.rf.06d7710949c6a9f5a69d4c2f3c39b34a.jpg\n",
      "Processed and saved: keypoint_predictions\\frame_0324_jpg.rf.06d7710949c6a9f5a69d4c2f3c39b34a.txt\n",
      "\n",
      "image 1/1 c:\\Users\\sudee\\Documents\\Projects\\Pondify\\preprocessed_images\\frame_0324_jpg.rf.204dad581c52767867ce8f539687b7a1.jpg: 640x640 3 fishs, 25.0ms\n",
      "Speed: 4.0ms preprocess, 25.0ms inference, 3.0ms postprocess per image at shape (1, 3, 640, 640)\n",
      "Processed and saved: results\\frame_0324_jpg.rf.204dad581c52767867ce8f539687b7a1.jpg\n",
      "Processed and saved: keypoint_predictions\\frame_0324_jpg.rf.204dad581c52767867ce8f539687b7a1.txt\n",
      "\n",
      "image 1/1 c:\\Users\\sudee\\Documents\\Projects\\Pondify\\preprocessed_images\\frame_0324_jpg.rf.d4fe07e9f3cfe7ff386deef551d5e8ba.jpg: 640x640 4 fishs, 22.0ms\n",
      "Speed: 4.0ms preprocess, 22.0ms inference, 4.0ms postprocess per image at shape (1, 3, 640, 640)\n",
      "Processed and saved: results\\frame_0324_jpg.rf.d4fe07e9f3cfe7ff386deef551d5e8ba.jpg\n",
      "Processed and saved: keypoint_predictions\\frame_0324_jpg.rf.d4fe07e9f3cfe7ff386deef551d5e8ba.txt\n",
      "\n",
      "image 1/1 c:\\Users\\sudee\\Documents\\Projects\\Pondify\\preprocessed_images\\frame_0325_jpg.rf.1e6edbf5ec19d578727ec054b038650f.jpg: 640x640 5 fishs, 24.0ms\n",
      "Speed: 5.0ms preprocess, 24.0ms inference, 5.0ms postprocess per image at shape (1, 3, 640, 640)\n",
      "Processed and saved: results\\frame_0325_jpg.rf.1e6edbf5ec19d578727ec054b038650f.jpg\n",
      "Processed and saved: keypoint_predictions\\frame_0325_jpg.rf.1e6edbf5ec19d578727ec054b038650f.txt\n",
      "\n",
      "image 1/1 c:\\Users\\sudee\\Documents\\Projects\\Pondify\\preprocessed_images\\frame_0325_jpg.rf.2b90e19b2b5652b6d76baed452573853.jpg: 640x640 5 fishs, 28.0ms\n",
      "Speed: 2.9ms preprocess, 28.0ms inference, 4.0ms postprocess per image at shape (1, 3, 640, 640)\n",
      "Processed and saved: results\\frame_0325_jpg.rf.2b90e19b2b5652b6d76baed452573853.jpg\n",
      "Processed and saved: keypoint_predictions\\frame_0325_jpg.rf.2b90e19b2b5652b6d76baed452573853.txt\n",
      "\n",
      "image 1/1 c:\\Users\\sudee\\Documents\\Projects\\Pondify\\preprocessed_images\\frame_0326_jpg.rf.40a8078af044b0f4c4e56177dbb5b8ba.jpg: 640x640 4 fishs, 23.0ms\n",
      "Speed: 4.5ms preprocess, 23.0ms inference, 3.0ms postprocess per image at shape (1, 3, 640, 640)\n",
      "Processed and saved: results\\frame_0326_jpg.rf.40a8078af044b0f4c4e56177dbb5b8ba.jpg\n",
      "Processed and saved: keypoint_predictions\\frame_0326_jpg.rf.40a8078af044b0f4c4e56177dbb5b8ba.txt\n",
      "\n",
      "image 1/1 c:\\Users\\sudee\\Documents\\Projects\\Pondify\\preprocessed_images\\frame_0326_jpg.rf.a759dc03cae6fd69dcc70362c3f2a6d5.jpg: 640x640 4 fishs, 29.0ms\n",
      "Speed: 4.0ms preprocess, 29.0ms inference, 4.0ms postprocess per image at shape (1, 3, 640, 640)\n",
      "Processed and saved: results\\frame_0326_jpg.rf.a759dc03cae6fd69dcc70362c3f2a6d5.jpg\n",
      "Processed and saved: keypoint_predictions\\frame_0326_jpg.rf.a759dc03cae6fd69dcc70362c3f2a6d5.txt\n",
      "\n",
      "image 1/1 c:\\Users\\sudee\\Documents\\Projects\\Pondify\\preprocessed_images\\frame_0327_jpg.rf.0f3174e85ab7aaa77d2d59a0eda99179.jpg: 640x640 3 fishs, 25.9ms\n",
      "Speed: 2.1ms preprocess, 25.9ms inference, 3.0ms postprocess per image at shape (1, 3, 640, 640)\n",
      "Processed and saved: results\\frame_0327_jpg.rf.0f3174e85ab7aaa77d2d59a0eda99179.jpg\n",
      "Processed and saved: keypoint_predictions\\frame_0327_jpg.rf.0f3174e85ab7aaa77d2d59a0eda99179.txt\n",
      "\n",
      "image 1/1 c:\\Users\\sudee\\Documents\\Projects\\Pondify\\preprocessed_images\\frame_0328_jpg.rf.011e2c552c38c9adf2b4d1acc78e4491.jpg: 640x640 2 fishs, 21.1ms\n",
      "Speed: 4.0ms preprocess, 21.1ms inference, 5.0ms postprocess per image at shape (1, 3, 640, 640)\n",
      "Processed and saved: results\\frame_0328_jpg.rf.011e2c552c38c9adf2b4d1acc78e4491.jpg\n",
      "Processed and saved: keypoint_predictions\\frame_0328_jpg.rf.011e2c552c38c9adf2b4d1acc78e4491.txt\n",
      "\n",
      "image 1/1 c:\\Users\\sudee\\Documents\\Projects\\Pondify\\preprocessed_images\\frame_0329_jpg.rf.a614692544da7de323865a50ecc535ff.jpg: 640x640 3 fishs, 21.0ms\n",
      "Speed: 4.0ms preprocess, 21.0ms inference, 6.0ms postprocess per image at shape (1, 3, 640, 640)\n",
      "Processed and saved: results\\frame_0329_jpg.rf.a614692544da7de323865a50ecc535ff.jpg\n",
      "Processed and saved: keypoint_predictions\\frame_0329_jpg.rf.a614692544da7de323865a50ecc535ff.txt\n",
      "\n",
      "image 1/1 c:\\Users\\sudee\\Documents\\Projects\\Pondify\\preprocessed_images\\frame_0330_jpg.rf.1e304a2d1887e73ab1e73bfc25aaa869.jpg: 640x640 2 fishs, 28.0ms\n",
      "Speed: 4.0ms preprocess, 28.0ms inference, 5.0ms postprocess per image at shape (1, 3, 640, 640)\n",
      "Processed and saved: results\\frame_0330_jpg.rf.1e304a2d1887e73ab1e73bfc25aaa869.jpg\n",
      "Processed and saved: keypoint_predictions\\frame_0330_jpg.rf.1e304a2d1887e73ab1e73bfc25aaa869.txt\n",
      "\n",
      "image 1/1 c:\\Users\\sudee\\Documents\\Projects\\Pondify\\preprocessed_images\\frame_0332_jpg.rf.1a96f810e03957a96c0579773df75db7.jpg: 640x640 2 fishs, 26.0ms\n",
      "Speed: 5.0ms preprocess, 26.0ms inference, 5.0ms postprocess per image at shape (1, 3, 640, 640)\n",
      "Processed and saved: results\\frame_0332_jpg.rf.1a96f810e03957a96c0579773df75db7.jpg\n",
      "Processed and saved: keypoint_predictions\\frame_0332_jpg.rf.1a96f810e03957a96c0579773df75db7.txt\n",
      "\n",
      "image 1/1 c:\\Users\\sudee\\Documents\\Projects\\Pondify\\preprocessed_images\\frame_0334_jpg.rf.32636c5b94a9b10689fa8745743e420f.jpg: 640x640 2 fishs, 23.0ms\n",
      "Speed: 3.0ms preprocess, 23.0ms inference, 4.0ms postprocess per image at shape (1, 3, 640, 640)\n",
      "Processed and saved: results\\frame_0334_jpg.rf.32636c5b94a9b10689fa8745743e420f.jpg\n",
      "Processed and saved: keypoint_predictions\\frame_0334_jpg.rf.32636c5b94a9b10689fa8745743e420f.txt\n",
      "\n",
      "image 1/1 c:\\Users\\sudee\\Documents\\Projects\\Pondify\\preprocessed_images\\frame_0338_jpg.rf.a2225f21994e89c88e1c75302e6d2bfc.jpg: 640x640 3 fishs, 22.0ms\n",
      "Speed: 5.0ms preprocess, 22.0ms inference, 4.0ms postprocess per image at shape (1, 3, 640, 640)\n",
      "Processed and saved: results\\frame_0338_jpg.rf.a2225f21994e89c88e1c75302e6d2bfc.jpg\n",
      "Processed and saved: keypoint_predictions\\frame_0338_jpg.rf.a2225f21994e89c88e1c75302e6d2bfc.txt\n",
      "\n",
      "image 1/1 c:\\Users\\sudee\\Documents\\Projects\\Pondify\\preprocessed_images\\frame_0354_jpg.rf.48b326d0fd7d48b5735c610d6f772400.jpg: 640x640 3 fishs, 21.0ms\n",
      "Speed: 4.2ms preprocess, 21.0ms inference, 4.0ms postprocess per image at shape (1, 3, 640, 640)\n",
      "Processed and saved: results\\frame_0354_jpg.rf.48b326d0fd7d48b5735c610d6f772400.jpg\n",
      "Processed and saved: keypoint_predictions\\frame_0354_jpg.rf.48b326d0fd7d48b5735c610d6f772400.txt\n",
      "\n",
      "image 1/1 c:\\Users\\sudee\\Documents\\Projects\\Pondify\\preprocessed_images\\frame_0355_jpg.rf.e39a8c4d6a07cfa4a7e245949eed1132.jpg: 640x640 2 fishs, 21.0ms\n",
      "Speed: 5.0ms preprocess, 21.0ms inference, 4.0ms postprocess per image at shape (1, 3, 640, 640)\n",
      "Processed and saved: results\\frame_0355_jpg.rf.e39a8c4d6a07cfa4a7e245949eed1132.jpg\n",
      "Processed and saved: keypoint_predictions\\frame_0355_jpg.rf.e39a8c4d6a07cfa4a7e245949eed1132.txt\n",
      "\n",
      "image 1/1 c:\\Users\\sudee\\Documents\\Projects\\Pondify\\preprocessed_images\\frame_0371_jpg.rf.146388392d03ca794f8086f0a47480f3.jpg: 640x640 3 fishs, 22.0ms\n",
      "Speed: 4.0ms preprocess, 22.0ms inference, 5.0ms postprocess per image at shape (1, 3, 640, 640)\n",
      "Processed and saved: results\\frame_0371_jpg.rf.146388392d03ca794f8086f0a47480f3.jpg\n",
      "Processed and saved: keypoint_predictions\\frame_0371_jpg.rf.146388392d03ca794f8086f0a47480f3.txt\n",
      "\n",
      "image 1/1 c:\\Users\\sudee\\Documents\\Projects\\Pondify\\preprocessed_images\\frame_0371_jpg.rf.2ece5ff04e867423ac5b0c35d75ad9a1.jpg: 640x640 3 fishs, 28.0ms\n",
      "Speed: 3.0ms preprocess, 28.0ms inference, 4.0ms postprocess per image at shape (1, 3, 640, 640)\n",
      "Processed and saved: results\\frame_0371_jpg.rf.2ece5ff04e867423ac5b0c35d75ad9a1.jpg\n",
      "Processed and saved: keypoint_predictions\\frame_0371_jpg.rf.2ece5ff04e867423ac5b0c35d75ad9a1.txt\n",
      "\n",
      "image 1/1 c:\\Users\\sudee\\Documents\\Projects\\Pondify\\preprocessed_images\\frame_0371_jpg.rf.b6db462efcec27795fa71e7781765603.jpg: 640x640 3 fishs, 33.1ms\n",
      "Speed: 3.9ms preprocess, 33.1ms inference, 4.7ms postprocess per image at shape (1, 3, 640, 640)\n",
      "Processed and saved: results\\frame_0371_jpg.rf.b6db462efcec27795fa71e7781765603.jpg\n",
      "Processed and saved: keypoint_predictions\\frame_0371_jpg.rf.b6db462efcec27795fa71e7781765603.txt\n",
      "\n",
      "image 1/1 c:\\Users\\sudee\\Documents\\Projects\\Pondify\\preprocessed_images\\frame_0372_jpg.rf.ba67e02fd4f71bf1248c7b2e5aea6755.jpg: 640x640 3 fishs, 21.0ms\n",
      "Speed: 6.0ms preprocess, 21.0ms inference, 3.0ms postprocess per image at shape (1, 3, 640, 640)\n",
      "Processed and saved: results\\frame_0372_jpg.rf.ba67e02fd4f71bf1248c7b2e5aea6755.jpg\n",
      "Processed and saved: keypoint_predictions\\frame_0372_jpg.rf.ba67e02fd4f71bf1248c7b2e5aea6755.txt\n",
      "\n",
      "image 1/1 c:\\Users\\sudee\\Documents\\Projects\\Pondify\\preprocessed_images\\frame_0372_jpg.rf.f3a1d2c494b5bf50a38b8fcb2151aa56.jpg: 640x640 5 fishs, 22.0ms\n",
      "Speed: 4.0ms preprocess, 22.0ms inference, 4.0ms postprocess per image at shape (1, 3, 640, 640)\n",
      "Processed and saved: results\\frame_0372_jpg.rf.f3a1d2c494b5bf50a38b8fcb2151aa56.jpg\n",
      "Processed and saved: keypoint_predictions\\frame_0372_jpg.rf.f3a1d2c494b5bf50a38b8fcb2151aa56.txt\n",
      "\n",
      "image 1/1 c:\\Users\\sudee\\Documents\\Projects\\Pondify\\preprocessed_images\\frame_0373_jpg.rf.549a59c19c6ad5e85d9dd06b2c492b2d.jpg: 640x640 2 fishs, 26.0ms\n",
      "Speed: 4.5ms preprocess, 26.0ms inference, 4.0ms postprocess per image at shape (1, 3, 640, 640)\n",
      "Processed and saved: results\\frame_0373_jpg.rf.549a59c19c6ad5e85d9dd06b2c492b2d.jpg\n",
      "Processed and saved: keypoint_predictions\\frame_0373_jpg.rf.549a59c19c6ad5e85d9dd06b2c492b2d.txt\n",
      "\n",
      "image 1/1 c:\\Users\\sudee\\Documents\\Projects\\Pondify\\preprocessed_images\\frame_0374_jpg.rf.626b0eced9b93fb9d9ba035ec6e13e9b.jpg: 640x640 3 fishs, 27.0ms\n",
      "Speed: 4.2ms preprocess, 27.0ms inference, 7.0ms postprocess per image at shape (1, 3, 640, 640)\n",
      "Processed and saved: results\\frame_0374_jpg.rf.626b0eced9b93fb9d9ba035ec6e13e9b.jpg\n",
      "Processed and saved: keypoint_predictions\\frame_0374_jpg.rf.626b0eced9b93fb9d9ba035ec6e13e9b.txt\n",
      "\n",
      "image 1/1 c:\\Users\\sudee\\Documents\\Projects\\Pondify\\preprocessed_images\\frame_0374_jpg.rf.725307630fb85e805d2106f88c114790.jpg: 640x640 3 fishs, 22.0ms\n",
      "Speed: 4.0ms preprocess, 22.0ms inference, 4.0ms postprocess per image at shape (1, 3, 640, 640)\n",
      "Processed and saved: results\\frame_0374_jpg.rf.725307630fb85e805d2106f88c114790.jpg\n",
      "Processed and saved: keypoint_predictions\\frame_0374_jpg.rf.725307630fb85e805d2106f88c114790.txt\n",
      "\n",
      "image 1/1 c:\\Users\\sudee\\Documents\\Projects\\Pondify\\preprocessed_images\\frame_0377_jpg.rf.b6d7f4ac335fcb7baa26a84158280fbd.jpg: 640x640 3 fishs, 13.0ms\n",
      "Speed: 3.0ms preprocess, 13.0ms inference, 5.0ms postprocess per image at shape (1, 3, 640, 640)\n",
      "Processed and saved: results\\frame_0377_jpg.rf.b6d7f4ac335fcb7baa26a84158280fbd.jpg\n",
      "Processed and saved: keypoint_predictions\\frame_0377_jpg.rf.b6d7f4ac335fcb7baa26a84158280fbd.txt\n",
      "\n",
      "image 1/1 c:\\Users\\sudee\\Documents\\Projects\\Pondify\\preprocessed_images\\frame_0378_jpg.rf.79720e0733ffc495508126f1b8b215bb.jpg: 640x640 2 fishs, 19.0ms\n",
      "Speed: 5.2ms preprocess, 19.0ms inference, 4.0ms postprocess per image at shape (1, 3, 640, 640)\n",
      "Processed and saved: results\\frame_0378_jpg.rf.79720e0733ffc495508126f1b8b215bb.jpg\n",
      "Processed and saved: keypoint_predictions\\frame_0378_jpg.rf.79720e0733ffc495508126f1b8b215bb.txt\n",
      "\n",
      "image 1/1 c:\\Users\\sudee\\Documents\\Projects\\Pondify\\preprocessed_images\\frame_0378_jpg.rf.ea2dea1f967f537ace54f21e5507de29.jpg: 640x640 2 fishs, 20.0ms\n",
      "Speed: 4.0ms preprocess, 20.0ms inference, 4.0ms postprocess per image at shape (1, 3, 640, 640)\n",
      "Processed and saved: results\\frame_0378_jpg.rf.ea2dea1f967f537ace54f21e5507de29.jpg\n",
      "Processed and saved: keypoint_predictions\\frame_0378_jpg.rf.ea2dea1f967f537ace54f21e5507de29.txt\n",
      "\n",
      "image 1/1 c:\\Users\\sudee\\Documents\\Projects\\Pondify\\preprocessed_images\\frame_0384_jpg.rf.576879703ede7716cea5cc664c38de8a.jpg: 640x640 3 fishs, 22.0ms\n",
      "Speed: 4.0ms preprocess, 22.0ms inference, 5.0ms postprocess per image at shape (1, 3, 640, 640)\n",
      "Processed and saved: results\\frame_0384_jpg.rf.576879703ede7716cea5cc664c38de8a.jpg\n",
      "Processed and saved: keypoint_predictions\\frame_0384_jpg.rf.576879703ede7716cea5cc664c38de8a.txt\n",
      "\n",
      "image 1/1 c:\\Users\\sudee\\Documents\\Projects\\Pondify\\preprocessed_images\\frame_0385_jpg.rf.a72d27a3274360c91a955984375ef45d.jpg: 640x640 1 fish, 23.0ms\n",
      "Speed: 5.0ms preprocess, 23.0ms inference, 4.0ms postprocess per image at shape (1, 3, 640, 640)\n",
      "Processed and saved: results\\frame_0385_jpg.rf.a72d27a3274360c91a955984375ef45d.jpg\n",
      "Processed and saved: keypoint_predictions\\frame_0385_jpg.rf.a72d27a3274360c91a955984375ef45d.txt\n",
      "\n",
      "image 1/1 c:\\Users\\sudee\\Documents\\Projects\\Pondify\\preprocessed_images\\frame_0386_jpg.rf.4dee0cab0c2d2bf13dbeb73b8c039a57.jpg: 640x640 2 fishs, 26.0ms\n",
      "Speed: 4.0ms preprocess, 26.0ms inference, 4.0ms postprocess per image at shape (1, 3, 640, 640)\n",
      "Processed and saved: results\\frame_0386_jpg.rf.4dee0cab0c2d2bf13dbeb73b8c039a57.jpg\n",
      "Processed and saved: keypoint_predictions\\frame_0386_jpg.rf.4dee0cab0c2d2bf13dbeb73b8c039a57.txt\n",
      "\n",
      "image 1/1 c:\\Users\\sudee\\Documents\\Projects\\Pondify\\preprocessed_images\\frame_0386_jpg.rf.a59de749bff53d5d595ca9c1491a4c63.jpg: 640x640 2 fishs, 21.0ms\n",
      "Speed: 4.0ms preprocess, 21.0ms inference, 6.0ms postprocess per image at shape (1, 3, 640, 640)\n",
      "Processed and saved: results\\frame_0386_jpg.rf.a59de749bff53d5d595ca9c1491a4c63.jpg\n",
      "Processed and saved: keypoint_predictions\\frame_0386_jpg.rf.a59de749bff53d5d595ca9c1491a4c63.txt\n",
      "\n",
      "image 1/1 c:\\Users\\sudee\\Documents\\Projects\\Pondify\\preprocessed_images\\frame_0387_jpg.rf.fb9111c8b41c4fd622598739145bf0da.jpg: 640x640 2 fishs, 21.8ms\n",
      "Speed: 3.0ms preprocess, 21.8ms inference, 3.1ms postprocess per image at shape (1, 3, 640, 640)\n",
      "Processed and saved: results\\frame_0387_jpg.rf.fb9111c8b41c4fd622598739145bf0da.jpg\n",
      "Processed and saved: keypoint_predictions\\frame_0387_jpg.rf.fb9111c8b41c4fd622598739145bf0da.txt\n",
      "\n",
      "image 1/1 c:\\Users\\sudee\\Documents\\Projects\\Pondify\\preprocessed_images\\frame_0388_jpg.rf.6593746103baf61156f1a24bf9c37843.jpg: 640x640 3 fishs, 26.8ms\n",
      "Speed: 5.0ms preprocess, 26.8ms inference, 3.0ms postprocess per image at shape (1, 3, 640, 640)\n",
      "Processed and saved: results\\frame_0388_jpg.rf.6593746103baf61156f1a24bf9c37843.jpg\n",
      "Processed and saved: keypoint_predictions\\frame_0388_jpg.rf.6593746103baf61156f1a24bf9c37843.txt\n",
      "\n",
      "image 1/1 c:\\Users\\sudee\\Documents\\Projects\\Pondify\\preprocessed_images\\frame_0389_jpg.rf.1ec292084103ecc0692bcfe6a85ffba7.jpg: 640x640 2 fishs, 24.0ms\n",
      "Speed: 3.0ms preprocess, 24.0ms inference, 4.0ms postprocess per image at shape (1, 3, 640, 640)\n",
      "Processed and saved: results\\frame_0389_jpg.rf.1ec292084103ecc0692bcfe6a85ffba7.jpg\n",
      "Processed and saved: keypoint_predictions\\frame_0389_jpg.rf.1ec292084103ecc0692bcfe6a85ffba7.txt\n",
      "\n",
      "image 1/1 c:\\Users\\sudee\\Documents\\Projects\\Pondify\\preprocessed_images\\frame_0389_jpg.rf.2615b8d2a61a8dcbfadf7eb514cf6978.jpg: 640x640 2 fishs, 26.0ms\n",
      "Speed: 3.0ms preprocess, 26.0ms inference, 4.0ms postprocess per image at shape (1, 3, 640, 640)\n",
      "Processed and saved: results\\frame_0389_jpg.rf.2615b8d2a61a8dcbfadf7eb514cf6978.jpg\n",
      "Processed and saved: keypoint_predictions\\frame_0389_jpg.rf.2615b8d2a61a8dcbfadf7eb514cf6978.txt\n",
      "\n",
      "image 1/1 c:\\Users\\sudee\\Documents\\Projects\\Pondify\\preprocessed_images\\frame_0390_jpg.rf.438caa7e0bb8f9f883ba86afff68ab6b.jpg: 640x640 1 fish, 21.0ms\n",
      "Speed: 3.0ms preprocess, 21.0ms inference, 4.0ms postprocess per image at shape (1, 3, 640, 640)\n",
      "Processed and saved: results\\frame_0390_jpg.rf.438caa7e0bb8f9f883ba86afff68ab6b.jpg\n",
      "Processed and saved: keypoint_predictions\\frame_0390_jpg.rf.438caa7e0bb8f9f883ba86afff68ab6b.txt\n",
      "\n",
      "image 1/1 c:\\Users\\sudee\\Documents\\Projects\\Pondify\\preprocessed_images\\frame_0392_jpg.rf.19253af47b7d216c2b3358589c7828bc.jpg: 640x640 2 fishs, 22.0ms\n",
      "Speed: 4.2ms preprocess, 22.0ms inference, 4.0ms postprocess per image at shape (1, 3, 640, 640)\n",
      "Processed and saved: results\\frame_0392_jpg.rf.19253af47b7d216c2b3358589c7828bc.jpg\n",
      "Processed and saved: keypoint_predictions\\frame_0392_jpg.rf.19253af47b7d216c2b3358589c7828bc.txt\n",
      "\n",
      "image 1/1 c:\\Users\\sudee\\Documents\\Projects\\Pondify\\preprocessed_images\\frame_0393_jpg.rf.be7b60219683b6f12d77bff872567e9d.jpg: 640x640 2 fishs, 21.0ms\n",
      "Speed: 5.0ms preprocess, 21.0ms inference, 4.0ms postprocess per image at shape (1, 3, 640, 640)\n",
      "Processed and saved: results\\frame_0393_jpg.rf.be7b60219683b6f12d77bff872567e9d.jpg\n",
      "Processed and saved: keypoint_predictions\\frame_0393_jpg.rf.be7b60219683b6f12d77bff872567e9d.txt\n",
      "\n",
      "image 1/1 c:\\Users\\sudee\\Documents\\Projects\\Pondify\\preprocessed_images\\frame_0394_jpg.rf.895aac03ee6a945e2d36f34bd39b259f.jpg: 640x640 2 fishs, 24.0ms\n",
      "Speed: 3.0ms preprocess, 24.0ms inference, 7.9ms postprocess per image at shape (1, 3, 640, 640)\n",
      "Processed and saved: results\\frame_0394_jpg.rf.895aac03ee6a945e2d36f34bd39b259f.jpg\n",
      "Processed and saved: keypoint_predictions\\frame_0394_jpg.rf.895aac03ee6a945e2d36f34bd39b259f.txt\n",
      "\n",
      "image 1/1 c:\\Users\\sudee\\Documents\\Projects\\Pondify\\preprocessed_images\\frame_0395_jpg.rf.e5221c6178725340149c8fe32fc0870c.jpg: 640x640 3 fishs, 36.5ms\n",
      "Speed: 4.0ms preprocess, 36.5ms inference, 9.5ms postprocess per image at shape (1, 3, 640, 640)\n",
      "Processed and saved: results\\frame_0395_jpg.rf.e5221c6178725340149c8fe32fc0870c.jpg\n",
      "Processed and saved: keypoint_predictions\\frame_0395_jpg.rf.e5221c6178725340149c8fe32fc0870c.txt\n",
      "\n",
      "image 1/1 c:\\Users\\sudee\\Documents\\Projects\\Pondify\\preprocessed_images\\frame_0401_jpg.rf.80d8f83f5767e7bbe9027b7f4bc2c109.jpg: 640x640 2 fishs, 22.9ms\n",
      "Speed: 2.7ms preprocess, 22.9ms inference, 3.3ms postprocess per image at shape (1, 3, 640, 640)\n",
      "Processed and saved: results\\frame_0401_jpg.rf.80d8f83f5767e7bbe9027b7f4bc2c109.jpg\n",
      "Processed and saved: keypoint_predictions\\frame_0401_jpg.rf.80d8f83f5767e7bbe9027b7f4bc2c109.txt\n",
      "\n",
      "image 1/1 c:\\Users\\sudee\\Documents\\Projects\\Pondify\\preprocessed_images\\frame_0402_jpg.rf.0ac62fbbe428ce3dfe7b9bef114d37fd.jpg: 640x640 2 fishs, 22.0ms\n",
      "Speed: 5.0ms preprocess, 22.0ms inference, 5.0ms postprocess per image at shape (1, 3, 640, 640)\n",
      "Processed and saved: results\\frame_0402_jpg.rf.0ac62fbbe428ce3dfe7b9bef114d37fd.jpg\n",
      "Processed and saved: keypoint_predictions\\frame_0402_jpg.rf.0ac62fbbe428ce3dfe7b9bef114d37fd.txt\n",
      "\n",
      "image 1/1 c:\\Users\\sudee\\Documents\\Projects\\Pondify\\preprocessed_images\\frame_0402_jpg.rf.3ec92aabf59920e1b45dfd41128c8316.jpg: 640x640 2 fishs, 29.2ms\n",
      "Speed: 5.0ms preprocess, 29.2ms inference, 10.0ms postprocess per image at shape (1, 3, 640, 640)\n",
      "Processed and saved: results\\frame_0402_jpg.rf.3ec92aabf59920e1b45dfd41128c8316.jpg\n",
      "Processed and saved: keypoint_predictions\\frame_0402_jpg.rf.3ec92aabf59920e1b45dfd41128c8316.txt\n",
      "\n",
      "image 1/1 c:\\Users\\sudee\\Documents\\Projects\\Pondify\\preprocessed_images\\frame_0403_jpg.rf.9f220772aef6b282bd465aba14eaff4e.jpg: 640x640 2 fishs, 41.0ms\n",
      "Speed: 4.0ms preprocess, 41.0ms inference, 10.0ms postprocess per image at shape (1, 3, 640, 640)\n",
      "Processed and saved: results\\frame_0403_jpg.rf.9f220772aef6b282bd465aba14eaff4e.jpg\n",
      "Processed and saved: keypoint_predictions\\frame_0403_jpg.rf.9f220772aef6b282bd465aba14eaff4e.txt\n",
      "\n",
      "image 1/1 c:\\Users\\sudee\\Documents\\Projects\\Pondify\\preprocessed_images\\frame_0404_jpg.rf.8e7eacce3c4d233221bd4772e0b755e7.jpg: 640x640 2 fishs, 23.0ms\n",
      "Speed: 4.0ms preprocess, 23.0ms inference, 2.0ms postprocess per image at shape (1, 3, 640, 640)\n",
      "Processed and saved: results\\frame_0404_jpg.rf.8e7eacce3c4d233221bd4772e0b755e7.jpg\n",
      "Processed and saved: keypoint_predictions\\frame_0404_jpg.rf.8e7eacce3c4d233221bd4772e0b755e7.txt\n",
      "\n",
      "image 1/1 c:\\Users\\sudee\\Documents\\Projects\\Pondify\\preprocessed_images\\frame_0405_jpg.rf.8c6eef2ce3158519274e63f59ae3d7f7.jpg: 640x640 2 fishs, 6.0ms\n",
      "Speed: 2.0ms preprocess, 6.0ms inference, 2.0ms postprocess per image at shape (1, 3, 640, 640)\n",
      "Processed and saved: results\\frame_0405_jpg.rf.8c6eef2ce3158519274e63f59ae3d7f7.jpg\n",
      "Processed and saved: keypoint_predictions\\frame_0405_jpg.rf.8c6eef2ce3158519274e63f59ae3d7f7.txt\n",
      "\n",
      "image 1/1 c:\\Users\\sudee\\Documents\\Projects\\Pondify\\preprocessed_images\\frame_0408_jpg.rf.78b4a1d626fbc10fa672979822452151.jpg: 640x640 3 fishs, 6.0ms\n",
      "Speed: 2.0ms preprocess, 6.0ms inference, 1.0ms postprocess per image at shape (1, 3, 640, 640)\n",
      "Processed and saved: results\\frame_0408_jpg.rf.78b4a1d626fbc10fa672979822452151.jpg\n",
      "Processed and saved: keypoint_predictions\\frame_0408_jpg.rf.78b4a1d626fbc10fa672979822452151.txt\n",
      "\n",
      "image 1/1 c:\\Users\\sudee\\Documents\\Projects\\Pondify\\preprocessed_images\\frame_0410_jpg.rf.5e45ac166f54142c92c961f2f343fef7.jpg: 640x640 3 fishs, 6.0ms\n",
      "Speed: 2.0ms preprocess, 6.0ms inference, 1.0ms postprocess per image at shape (1, 3, 640, 640)\n",
      "Processed and saved: results\\frame_0410_jpg.rf.5e45ac166f54142c92c961f2f343fef7.jpg\n",
      "Processed and saved: keypoint_predictions\\frame_0410_jpg.rf.5e45ac166f54142c92c961f2f343fef7.txt\n",
      "\n",
      "image 1/1 c:\\Users\\sudee\\Documents\\Projects\\Pondify\\preprocessed_images\\frame_0411_jpg.rf.b21b40e35cea507b5427b7df868a1b21.jpg: 640x640 3 fishs, 6.0ms\n",
      "Speed: 2.0ms preprocess, 6.0ms inference, 2.0ms postprocess per image at shape (1, 3, 640, 640)\n",
      "Processed and saved: results\\frame_0411_jpg.rf.b21b40e35cea507b5427b7df868a1b21.jpg\n",
      "Processed and saved: keypoint_predictions\\frame_0411_jpg.rf.b21b40e35cea507b5427b7df868a1b21.txt\n",
      "\n",
      "image 1/1 c:\\Users\\sudee\\Documents\\Projects\\Pondify\\preprocessed_images\\frame_0425_jpg.rf.4e58ef32f5e92f0e7bf08bd378ac4edc.jpg: 640x640 3 fishs, 7.0ms\n",
      "Speed: 2.0ms preprocess, 7.0ms inference, 4.0ms postprocess per image at shape (1, 3, 640, 640)\n",
      "Processed and saved: results\\frame_0425_jpg.rf.4e58ef32f5e92f0e7bf08bd378ac4edc.jpg\n",
      "Processed and saved: keypoint_predictions\\frame_0425_jpg.rf.4e58ef32f5e92f0e7bf08bd378ac4edc.txt\n",
      "\n",
      "image 1/1 c:\\Users\\sudee\\Documents\\Projects\\Pondify\\preprocessed_images\\frame_0442_jpg.rf.674fb5848cba8d9fb8157af79152069c.jpg: 640x640 2 fishs, 7.0ms\n",
      "Speed: 2.0ms preprocess, 7.0ms inference, 1.0ms postprocess per image at shape (1, 3, 640, 640)\n",
      "Processed and saved: results\\frame_0442_jpg.rf.674fb5848cba8d9fb8157af79152069c.jpg\n",
      "Processed and saved: keypoint_predictions\\frame_0442_jpg.rf.674fb5848cba8d9fb8157af79152069c.txt\n",
      "\n",
      "image 1/1 c:\\Users\\sudee\\Documents\\Projects\\Pondify\\preprocessed_images\\frame_0444_jpg.rf.0fbe71a5620328139912f6b204a7c93f.jpg: 640x640 3 fishs, 6.0ms\n",
      "Speed: 2.0ms preprocess, 6.0ms inference, 2.0ms postprocess per image at shape (1, 3, 640, 640)\n",
      "Processed and saved: results\\frame_0444_jpg.rf.0fbe71a5620328139912f6b204a7c93f.jpg\n",
      "Processed and saved: keypoint_predictions\\frame_0444_jpg.rf.0fbe71a5620328139912f6b204a7c93f.txt\n",
      "\n",
      "image 1/1 c:\\Users\\sudee\\Documents\\Projects\\Pondify\\preprocessed_images\\frame_0445_jpg.rf.bafed43d180c855255d31decf8f4eb10.jpg: 640x640 4 fishs, 6.0ms\n",
      "Speed: 2.0ms preprocess, 6.0ms inference, 1.0ms postprocess per image at shape (1, 3, 640, 640)\n",
      "Processed and saved: results\\frame_0445_jpg.rf.bafed43d180c855255d31decf8f4eb10.jpg\n",
      "Processed and saved: keypoint_predictions\\frame_0445_jpg.rf.bafed43d180c855255d31decf8f4eb10.txt\n",
      "\n",
      "image 1/1 c:\\Users\\sudee\\Documents\\Projects\\Pondify\\preprocessed_images\\frame_0446_jpg.rf.9cb841306e4ea2a44fbdd7488ad5da12.jpg: 640x640 2 fishs, 6.0ms\n",
      "Speed: 2.0ms preprocess, 6.0ms inference, 3.0ms postprocess per image at shape (1, 3, 640, 640)\n",
      "Processed and saved: results\\frame_0446_jpg.rf.9cb841306e4ea2a44fbdd7488ad5da12.jpg\n",
      "Processed and saved: keypoint_predictions\\frame_0446_jpg.rf.9cb841306e4ea2a44fbdd7488ad5da12.txt\n",
      "\n",
      "image 1/1 c:\\Users\\sudee\\Documents\\Projects\\Pondify\\preprocessed_images\\frame_0449_jpg.rf.caf6c0bb1508330d1bb94b59c8a5a13d.jpg: 640x640 4 fishs, 7.0ms\n",
      "Speed: 2.0ms preprocess, 7.0ms inference, 1.0ms postprocess per image at shape (1, 3, 640, 640)\n",
      "Processed and saved: results\\frame_0449_jpg.rf.caf6c0bb1508330d1bb94b59c8a5a13d.jpg\n",
      "Processed and saved: keypoint_predictions\\frame_0449_jpg.rf.caf6c0bb1508330d1bb94b59c8a5a13d.txt\n",
      "\n",
      "image 1/1 c:\\Users\\sudee\\Documents\\Projects\\Pondify\\preprocessed_images\\frame_0466_jpg.rf.c1a394375bae3f407749728839d0f19c.jpg: 640x640 1 fish, 7.0ms\n",
      "Speed: 2.0ms preprocess, 7.0ms inference, 2.0ms postprocess per image at shape (1, 3, 640, 640)\n",
      "Processed and saved: results\\frame_0466_jpg.rf.c1a394375bae3f407749728839d0f19c.jpg\n",
      "Processed and saved: keypoint_predictions\\frame_0466_jpg.rf.c1a394375bae3f407749728839d0f19c.txt\n",
      "\n",
      "image 1/1 c:\\Users\\sudee\\Documents\\Projects\\Pondify\\preprocessed_images\\frame_0467_jpg.rf.04f6d3a59c0db27a94917f6712451cc1.jpg: 640x640 2 fishs, 6.0ms\n",
      "Speed: 2.0ms preprocess, 6.0ms inference, 1.0ms postprocess per image at shape (1, 3, 640, 640)\n",
      "Processed and saved: results\\frame_0467_jpg.rf.04f6d3a59c0db27a94917f6712451cc1.jpg\n",
      "Processed and saved: keypoint_predictions\\frame_0467_jpg.rf.04f6d3a59c0db27a94917f6712451cc1.txt\n",
      "\n",
      "image 1/1 c:\\Users\\sudee\\Documents\\Projects\\Pondify\\preprocessed_images\\frame_0468_jpg.rf.4f97430909e0828f0919452937224119.jpg: 640x640 3 fishs, 6.9ms\n",
      "Speed: 2.0ms preprocess, 6.9ms inference, 1.0ms postprocess per image at shape (1, 3, 640, 640)\n",
      "Processed and saved: results\\frame_0468_jpg.rf.4f97430909e0828f0919452937224119.jpg\n",
      "Processed and saved: keypoint_predictions\\frame_0468_jpg.rf.4f97430909e0828f0919452937224119.txt\n",
      "\n",
      "image 1/1 c:\\Users\\sudee\\Documents\\Projects\\Pondify\\preprocessed_images\\frame_0469_jpg.rf.73c59406b08f2362f352af738265db50.jpg: 640x640 4 fishs, 6.1ms\n",
      "Speed: 2.0ms preprocess, 6.1ms inference, 2.0ms postprocess per image at shape (1, 3, 640, 640)\n",
      "Processed and saved: results\\frame_0469_jpg.rf.73c59406b08f2362f352af738265db50.jpg\n",
      "Processed and saved: keypoint_predictions\\frame_0469_jpg.rf.73c59406b08f2362f352af738265db50.txt\n",
      "\n",
      "image 1/1 c:\\Users\\sudee\\Documents\\Projects\\Pondify\\preprocessed_images\\frame_0470_jpg.rf.c742e42630e002a8935b53671c4d6f46.jpg: 640x640 2 fishs, 6.0ms\n",
      "Speed: 2.0ms preprocess, 6.0ms inference, 2.0ms postprocess per image at shape (1, 3, 640, 640)\n",
      "Processed and saved: results\\frame_0470_jpg.rf.c742e42630e002a8935b53671c4d6f46.jpg\n",
      "Processed and saved: keypoint_predictions\\frame_0470_jpg.rf.c742e42630e002a8935b53671c4d6f46.txt\n",
      "\n",
      "image 1/1 c:\\Users\\sudee\\Documents\\Projects\\Pondify\\preprocessed_images\\frame_0471_jpg.rf.00e0688a54d7491078f033de914b3fcd.jpg: 640x640 3 fishs, 11.0ms\n",
      "Speed: 2.0ms preprocess, 11.0ms inference, 3.0ms postprocess per image at shape (1, 3, 640, 640)\n",
      "Processed and saved: results\\frame_0471_jpg.rf.00e0688a54d7491078f033de914b3fcd.jpg\n",
      "Processed and saved: keypoint_predictions\\frame_0471_jpg.rf.00e0688a54d7491078f033de914b3fcd.txt\n",
      "\n",
      "image 1/1 c:\\Users\\sudee\\Documents\\Projects\\Pondify\\preprocessed_images\\frame_0471_jpg.rf.1cbb7b30d756f1de6d37e16ece93f117.jpg: 640x640 2 fishs, 11.0ms\n",
      "Speed: 2.0ms preprocess, 11.0ms inference, 3.0ms postprocess per image at shape (1, 3, 640, 640)\n",
      "Processed and saved: results\\frame_0471_jpg.rf.1cbb7b30d756f1de6d37e16ece93f117.jpg\n",
      "Processed and saved: keypoint_predictions\\frame_0471_jpg.rf.1cbb7b30d756f1de6d37e16ece93f117.txt\n",
      "\n",
      "image 1/1 c:\\Users\\sudee\\Documents\\Projects\\Pondify\\preprocessed_images\\frame_0471_jpg.rf.5d31d059de479a0e51457e453c767fbe.jpg: 640x640 2 fishs, 6.0ms\n",
      "Speed: 2.0ms preprocess, 6.0ms inference, 1.0ms postprocess per image at shape (1, 3, 640, 640)\n",
      "Processed and saved: results\\frame_0471_jpg.rf.5d31d059de479a0e51457e453c767fbe.jpg\n",
      "Processed and saved: keypoint_predictions\\frame_0471_jpg.rf.5d31d059de479a0e51457e453c767fbe.txt\n",
      "\n",
      "image 1/1 c:\\Users\\sudee\\Documents\\Projects\\Pondify\\preprocessed_images\\frame_0472_jpg.rf.1b5ca7f8dbb2284b2d9fd44619525a5d.jpg: 640x640 2 fishs, 7.1ms\n",
      "Speed: 2.0ms preprocess, 7.1ms inference, 1.0ms postprocess per image at shape (1, 3, 640, 640)\n",
      "Processed and saved: results\\frame_0472_jpg.rf.1b5ca7f8dbb2284b2d9fd44619525a5d.jpg\n",
      "Processed and saved: keypoint_predictions\\frame_0472_jpg.rf.1b5ca7f8dbb2284b2d9fd44619525a5d.txt\n",
      "\n",
      "image 1/1 c:\\Users\\sudee\\Documents\\Projects\\Pondify\\preprocessed_images\\frame_0473_jpg.rf.54a354310debc3e12124b67316ebdeed.jpg: 640x640 4 fishs, 6.2ms\n",
      "Speed: 2.0ms preprocess, 6.2ms inference, 2.0ms postprocess per image at shape (1, 3, 640, 640)\n",
      "Processed and saved: results\\frame_0473_jpg.rf.54a354310debc3e12124b67316ebdeed.jpg\n",
      "Processed and saved: keypoint_predictions\\frame_0473_jpg.rf.54a354310debc3e12124b67316ebdeed.txt\n",
      "\n",
      "image 1/1 c:\\Users\\sudee\\Documents\\Projects\\Pondify\\preprocessed_images\\frame_0475_jpg.rf.a095786adf71742630b0154aca77dfd7.jpg: 640x640 2 fishs, 7.0ms\n",
      "Speed: 2.0ms preprocess, 7.0ms inference, 1.0ms postprocess per image at shape (1, 3, 640, 640)\n",
      "Processed and saved: results\\frame_0475_jpg.rf.a095786adf71742630b0154aca77dfd7.jpg\n",
      "Processed and saved: keypoint_predictions\\frame_0475_jpg.rf.a095786adf71742630b0154aca77dfd7.txt\n",
      "\n",
      "image 1/1 c:\\Users\\sudee\\Documents\\Projects\\Pondify\\preprocessed_images\\frame_0476_jpg.rf.2a9db0453d9d74935b7b048337dcf71d.jpg: 640x640 2 fishs, 7.0ms\n",
      "Speed: 2.0ms preprocess, 7.0ms inference, 1.0ms postprocess per image at shape (1, 3, 640, 640)\n",
      "Processed and saved: results\\frame_0476_jpg.rf.2a9db0453d9d74935b7b048337dcf71d.jpg\n",
      "Processed and saved: keypoint_predictions\\frame_0476_jpg.rf.2a9db0453d9d74935b7b048337dcf71d.txt\n",
      "\n",
      "image 1/1 c:\\Users\\sudee\\Documents\\Projects\\Pondify\\preprocessed_images\\frame_0478_jpg.rf.e404c96b3b82b56903c8a9ebedf108f3.jpg: 640x640 2 fishs, 6.0ms\n",
      "Speed: 2.0ms preprocess, 6.0ms inference, 2.0ms postprocess per image at shape (1, 3, 640, 640)\n",
      "Processed and saved: results\\frame_0478_jpg.rf.e404c96b3b82b56903c8a9ebedf108f3.jpg\n",
      "Processed and saved: keypoint_predictions\\frame_0478_jpg.rf.e404c96b3b82b56903c8a9ebedf108f3.txt\n",
      "\n",
      "image 1/1 c:\\Users\\sudee\\Documents\\Projects\\Pondify\\preprocessed_images\\frame_0479_jpg.rf.ca56af16c28356f1322eb4627ae8da61.jpg: 640x640 2 fishs, 6.0ms\n",
      "Speed: 2.0ms preprocess, 6.0ms inference, 1.0ms postprocess per image at shape (1, 3, 640, 640)\n",
      "Processed and saved: results\\frame_0479_jpg.rf.ca56af16c28356f1322eb4627ae8da61.jpg\n",
      "Processed and saved: keypoint_predictions\\frame_0479_jpg.rf.ca56af16c28356f1322eb4627ae8da61.txt\n",
      "\n",
      "image 1/1 c:\\Users\\sudee\\Documents\\Projects\\Pondify\\preprocessed_images\\frame_0480_jpg.rf.fd9baf8b43d5ec8d15c3ec4da56a9ab9.jpg: 640x640 2 fishs, 6.0ms\n",
      "Speed: 2.0ms preprocess, 6.0ms inference, 1.0ms postprocess per image at shape (1, 3, 640, 640)\n",
      "Processed and saved: results\\frame_0480_jpg.rf.fd9baf8b43d5ec8d15c3ec4da56a9ab9.jpg\n",
      "Processed and saved: keypoint_predictions\\frame_0480_jpg.rf.fd9baf8b43d5ec8d15c3ec4da56a9ab9.txt\n",
      "\n",
      "image 1/1 c:\\Users\\sudee\\Documents\\Projects\\Pondify\\preprocessed_images\\frame_0481_jpg.rf.70edae790c88ad6a047fe5a682596622.jpg: 640x640 2 fishs, 10.0ms\n",
      "Speed: 4.0ms preprocess, 10.0ms inference, 0.9ms postprocess per image at shape (1, 3, 640, 640)\n",
      "Processed and saved: results\\frame_0481_jpg.rf.70edae790c88ad6a047fe5a682596622.jpg\n",
      "Processed and saved: keypoint_predictions\\frame_0481_jpg.rf.70edae790c88ad6a047fe5a682596622.txt\n",
      "\n",
      "image 1/1 c:\\Users\\sudee\\Documents\\Projects\\Pondify\\preprocessed_images\\frame_0482_jpg.rf.1ca3062f3c115dcf49df0780b8fc80ea.jpg: 640x640 2 fishs, 6.0ms\n",
      "Speed: 2.0ms preprocess, 6.0ms inference, 2.0ms postprocess per image at shape (1, 3, 640, 640)\n",
      "Processed and saved: results\\frame_0482_jpg.rf.1ca3062f3c115dcf49df0780b8fc80ea.jpg\n",
      "Processed and saved: keypoint_predictions\\frame_0482_jpg.rf.1ca3062f3c115dcf49df0780b8fc80ea.txt\n",
      "\n",
      "image 1/1 c:\\Users\\sudee\\Documents\\Projects\\Pondify\\preprocessed_images\\frame_0596_jpg.rf.33188b579612bdea01dba7b5f18b8a25.jpg: 640x640 6 fishs, 12.0ms\n",
      "Speed: 2.0ms preprocess, 12.0ms inference, 3.0ms postprocess per image at shape (1, 3, 640, 640)\n",
      "Processed and saved: results\\frame_0596_jpg.rf.33188b579612bdea01dba7b5f18b8a25.jpg\n",
      "Processed and saved: keypoint_predictions\\frame_0596_jpg.rf.33188b579612bdea01dba7b5f18b8a25.txt\n",
      "\n",
      "image 1/1 c:\\Users\\sudee\\Documents\\Projects\\Pondify\\preprocessed_images\\frame_0599_jpg.rf.69663a1138a6fa69f840eb2d4e4273d9.jpg: 640x640 7 fishs, 6.0ms\n",
      "Speed: 2.0ms preprocess, 6.0ms inference, 1.0ms postprocess per image at shape (1, 3, 640, 640)\n",
      "Processed and saved: results\\frame_0599_jpg.rf.69663a1138a6fa69f840eb2d4e4273d9.jpg\n",
      "Processed and saved: keypoint_predictions\\frame_0599_jpg.rf.69663a1138a6fa69f840eb2d4e4273d9.txt\n",
      "\n",
      "image 1/1 c:\\Users\\sudee\\Documents\\Projects\\Pondify\\preprocessed_images\\frame_0600_jpg.rf.9ab556d9c69a589414c463ed2e60a3bd.jpg: 640x640 4 fishs, 6.0ms\n",
      "Speed: 2.0ms preprocess, 6.0ms inference, 1.0ms postprocess per image at shape (1, 3, 640, 640)\n",
      "Processed and saved: results\\frame_0600_jpg.rf.9ab556d9c69a589414c463ed2e60a3bd.jpg\n",
      "Processed and saved: keypoint_predictions\\frame_0600_jpg.rf.9ab556d9c69a589414c463ed2e60a3bd.txt\n",
      "\n",
      "image 1/1 c:\\Users\\sudee\\Documents\\Projects\\Pondify\\preprocessed_images\\frame_0602_jpg.rf.cac3155b28b464d2275749710dcdde46.jpg: 640x640 6 fishs, 8.0ms\n",
      "Speed: 2.0ms preprocess, 8.0ms inference, 3.0ms postprocess per image at shape (1, 3, 640, 640)\n",
      "Processed and saved: results\\frame_0602_jpg.rf.cac3155b28b464d2275749710dcdde46.jpg\n",
      "Processed and saved: keypoint_predictions\\frame_0602_jpg.rf.cac3155b28b464d2275749710dcdde46.txt\n",
      "\n",
      "image 1/1 c:\\Users\\sudee\\Documents\\Projects\\Pondify\\preprocessed_images\\frame_0603_jpg.rf.d425f398aea6c40fb16dce5b6ffd5437.jpg: 640x640 7 fishs, 12.0ms\n",
      "Speed: 2.0ms preprocess, 12.0ms inference, 3.0ms postprocess per image at shape (1, 3, 640, 640)\n",
      "Processed and saved: results\\frame_0603_jpg.rf.d425f398aea6c40fb16dce5b6ffd5437.jpg\n",
      "Processed and saved: keypoint_predictions\\frame_0603_jpg.rf.d425f398aea6c40fb16dce5b6ffd5437.txt\n",
      "\n",
      "image 1/1 c:\\Users\\sudee\\Documents\\Projects\\Pondify\\preprocessed_images\\frame_0604_jpg.rf.edc127c932673c3a442671f09fe0e4f4.jpg: 640x640 7 fishs, 7.0ms\n",
      "Speed: 2.0ms preprocess, 7.0ms inference, 1.0ms postprocess per image at shape (1, 3, 640, 640)\n",
      "Processed and saved: results\\frame_0604_jpg.rf.edc127c932673c3a442671f09fe0e4f4.jpg\n",
      "Processed and saved: keypoint_predictions\\frame_0604_jpg.rf.edc127c932673c3a442671f09fe0e4f4.txt\n",
      "\n",
      "image 1/1 c:\\Users\\sudee\\Documents\\Projects\\Pondify\\preprocessed_images\\frame_0616_jpg.rf.b9414c7bd04eb5c9bc3a1ea6a189aacb.jpg: 640x640 3 fishs, 7.0ms\n",
      "Speed: 2.0ms preprocess, 7.0ms inference, 2.0ms postprocess per image at shape (1, 3, 640, 640)\n",
      "Processed and saved: results\\frame_0616_jpg.rf.b9414c7bd04eb5c9bc3a1ea6a189aacb.jpg\n",
      "Processed and saved: keypoint_predictions\\frame_0616_jpg.rf.b9414c7bd04eb5c9bc3a1ea6a189aacb.txt\n",
      "\n",
      "image 1/1 c:\\Users\\sudee\\Documents\\Projects\\Pondify\\preprocessed_images\\frame_0619_jpg.rf.1206d760f9419572cb9c83b228a78860.jpg: 640x640 2 fishs, 8.0ms\n",
      "Speed: 2.0ms preprocess, 8.0ms inference, 2.0ms postprocess per image at shape (1, 3, 640, 640)\n",
      "Processed and saved: results\\frame_0619_jpg.rf.1206d760f9419572cb9c83b228a78860.jpg\n",
      "Processed and saved: keypoint_predictions\\frame_0619_jpg.rf.1206d760f9419572cb9c83b228a78860.txt\n",
      "\n",
      "image 1/1 c:\\Users\\sudee\\Documents\\Projects\\Pondify\\preprocessed_images\\frame_0620_jpg.rf.a2f3faf2798ca8d2b20d1e50c1bca255.jpg: 640x640 3 fishs, 6.9ms\n",
      "Speed: 1.0ms preprocess, 6.9ms inference, 2.0ms postprocess per image at shape (1, 3, 640, 640)\n",
      "Processed and saved: results\\frame_0620_jpg.rf.a2f3faf2798ca8d2b20d1e50c1bca255.jpg\n",
      "Processed and saved: keypoint_predictions\\frame_0620_jpg.rf.a2f3faf2798ca8d2b20d1e50c1bca255.txt\n",
      "\n",
      "image 1/1 c:\\Users\\sudee\\Documents\\Projects\\Pondify\\preprocessed_images\\frame_0625_jpg.rf.8ee22cec68ebb615eb05b36b2cf890ba.jpg: 640x640 4 fishs, 6.0ms\n",
      "Speed: 2.0ms preprocess, 6.0ms inference, 2.0ms postprocess per image at shape (1, 3, 640, 640)\n",
      "Processed and saved: results\\frame_0625_jpg.rf.8ee22cec68ebb615eb05b36b2cf890ba.jpg\n",
      "Processed and saved: keypoint_predictions\\frame_0625_jpg.rf.8ee22cec68ebb615eb05b36b2cf890ba.txt\n",
      "\n",
      "image 1/1 c:\\Users\\sudee\\Documents\\Projects\\Pondify\\preprocessed_images\\frame_0626_jpg.rf.8fbf9258db19a72da2a53603d3ece388.jpg: 640x640 3 fishs, 7.0ms\n",
      "Speed: 2.0ms preprocess, 7.0ms inference, 1.0ms postprocess per image at shape (1, 3, 640, 640)\n",
      "Processed and saved: results\\frame_0626_jpg.rf.8fbf9258db19a72da2a53603d3ece388.jpg\n",
      "Processed and saved: keypoint_predictions\\frame_0626_jpg.rf.8fbf9258db19a72da2a53603d3ece388.txt\n",
      "\n",
      "image 1/1 c:\\Users\\sudee\\Documents\\Projects\\Pondify\\preprocessed_images\\frame_0627_jpg.rf.bbae3016f741c6e66a0ed8cade0fd2e9.jpg: 640x640 5 fishs, 6.0ms\n",
      "Speed: 2.0ms preprocess, 6.0ms inference, 1.0ms postprocess per image at shape (1, 3, 640, 640)\n",
      "Processed and saved: results\\frame_0627_jpg.rf.bbae3016f741c6e66a0ed8cade0fd2e9.jpg\n",
      "Processed and saved: keypoint_predictions\\frame_0627_jpg.rf.bbae3016f741c6e66a0ed8cade0fd2e9.txt\n",
      "\n",
      "image 1/1 c:\\Users\\sudee\\Documents\\Projects\\Pondify\\preprocessed_images\\frame_0644_jpg.rf.35324c345cd88ece8f782959b0298c77.jpg: 640x640 4 fishs, 6.0ms\n",
      "Speed: 2.0ms preprocess, 6.0ms inference, 2.0ms postprocess per image at shape (1, 3, 640, 640)\n",
      "Processed and saved: results\\frame_0644_jpg.rf.35324c345cd88ece8f782959b0298c77.jpg\n",
      "Processed and saved: keypoint_predictions\\frame_0644_jpg.rf.35324c345cd88ece8f782959b0298c77.txt\n",
      "\n",
      "image 1/1 c:\\Users\\sudee\\Documents\\Projects\\Pondify\\preprocessed_images\\frame_0645_jpg.rf.173d9971dedf5116c6e3917851602478.jpg: 640x640 4 fishs, 6.0ms\n",
      "Speed: 2.0ms preprocess, 6.0ms inference, 2.0ms postprocess per image at shape (1, 3, 640, 640)\n",
      "Processed and saved: results\\frame_0645_jpg.rf.173d9971dedf5116c6e3917851602478.jpg\n",
      "Processed and saved: keypoint_predictions\\frame_0645_jpg.rf.173d9971dedf5116c6e3917851602478.txt\n",
      "\n",
      "image 1/1 c:\\Users\\sudee\\Documents\\Projects\\Pondify\\preprocessed_images\\frame_0645_jpg.rf.3df5ab0f41ab7256fc7cb3ae9d96693d.jpg: 640x640 4 fishs, 6.3ms\n",
      "Speed: 2.0ms preprocess, 6.3ms inference, 1.0ms postprocess per image at shape (1, 3, 640, 640)\n",
      "Processed and saved: results\\frame_0645_jpg.rf.3df5ab0f41ab7256fc7cb3ae9d96693d.jpg\n",
      "Processed and saved: keypoint_predictions\\frame_0645_jpg.rf.3df5ab0f41ab7256fc7cb3ae9d96693d.txt\n",
      "\n",
      "image 1/1 c:\\Users\\sudee\\Documents\\Projects\\Pondify\\preprocessed_images\\frame_0645_jpg.rf.3faac116d31f82220b22f0f9998cec9f.jpg: 640x640 4 fishs, 11.0ms\n",
      "Speed: 2.0ms preprocess, 11.0ms inference, 3.0ms postprocess per image at shape (1, 3, 640, 640)\n",
      "Processed and saved: results\\frame_0645_jpg.rf.3faac116d31f82220b22f0f9998cec9f.jpg\n",
      "Processed and saved: keypoint_predictions\\frame_0645_jpg.rf.3faac116d31f82220b22f0f9998cec9f.txt\n",
      "\n",
      "image 1/1 c:\\Users\\sudee\\Documents\\Projects\\Pondify\\preprocessed_images\\frame_0647_jpg.rf.a7cb91aac92c40a724c25ffc3c4f4a3c.jpg: 640x640 6 fishs, 6.0ms\n",
      "Speed: 2.0ms preprocess, 6.0ms inference, 1.0ms postprocess per image at shape (1, 3, 640, 640)\n",
      "Processed and saved: results\\frame_0647_jpg.rf.a7cb91aac92c40a724c25ffc3c4f4a3c.jpg\n",
      "Processed and saved: keypoint_predictions\\frame_0647_jpg.rf.a7cb91aac92c40a724c25ffc3c4f4a3c.txt\n",
      "\n",
      "image 1/1 c:\\Users\\sudee\\Documents\\Projects\\Pondify\\preprocessed_images\\frame_0647_jpg.rf.dcf07306dfe1bdd6a4b2518a25cf13be.jpg: 640x640 6 fishs, 9.0ms\n",
      "Speed: 2.4ms preprocess, 9.0ms inference, 1.0ms postprocess per image at shape (1, 3, 640, 640)\n",
      "Processed and saved: results\\frame_0647_jpg.rf.dcf07306dfe1bdd6a4b2518a25cf13be.jpg\n",
      "Processed and saved: keypoint_predictions\\frame_0647_jpg.rf.dcf07306dfe1bdd6a4b2518a25cf13be.txt\n",
      "\n",
      "image 1/1 c:\\Users\\sudee\\Documents\\Projects\\Pondify\\preprocessed_images\\frame_0650_jpg.rf.0b58fd6322b5d56c5decc37fff1e694f.jpg: 640x640 3 fishs, 7.0ms\n",
      "Speed: 2.0ms preprocess, 7.0ms inference, 1.0ms postprocess per image at shape (1, 3, 640, 640)\n",
      "Processed and saved: results\\frame_0650_jpg.rf.0b58fd6322b5d56c5decc37fff1e694f.jpg\n",
      "Processed and saved: keypoint_predictions\\frame_0650_jpg.rf.0b58fd6322b5d56c5decc37fff1e694f.txt\n",
      "\n",
      "image 1/1 c:\\Users\\sudee\\Documents\\Projects\\Pondify\\preprocessed_images\\frame_0650_jpg.rf.0f06ecb29412f3f67ccda6e850e2c368.jpg: 640x640 3 fishs, 6.0ms\n",
      "Speed: 2.0ms preprocess, 6.0ms inference, 2.0ms postprocess per image at shape (1, 3, 640, 640)\n",
      "Processed and saved: results\\frame_0650_jpg.rf.0f06ecb29412f3f67ccda6e850e2c368.jpg\n",
      "Processed and saved: keypoint_predictions\\frame_0650_jpg.rf.0f06ecb29412f3f67ccda6e850e2c368.txt\n",
      "\n",
      "image 1/1 c:\\Users\\sudee\\Documents\\Projects\\Pondify\\preprocessed_images\\frame_0650_jpg.rf.15e678da8266d6897e9b7dbfea3e2cc1.jpg: 640x640 3 fishs, 6.0ms\n",
      "Speed: 2.0ms preprocess, 6.0ms inference, 2.0ms postprocess per image at shape (1, 3, 640, 640)\n",
      "Processed and saved: results\\frame_0650_jpg.rf.15e678da8266d6897e9b7dbfea3e2cc1.jpg\n",
      "Processed and saved: keypoint_predictions\\frame_0650_jpg.rf.15e678da8266d6897e9b7dbfea3e2cc1.txt\n",
      "\n",
      "image 1/1 c:\\Users\\sudee\\Documents\\Projects\\Pondify\\preprocessed_images\\frame_0651_jpg.rf.b10a2bca6113b4ca32905080702cf1fd.jpg: 640x640 2 fishs, 12.0ms\n",
      "Speed: 2.0ms preprocess, 12.0ms inference, 3.0ms postprocess per image at shape (1, 3, 640, 640)\n",
      "Processed and saved: results\\frame_0651_jpg.rf.b10a2bca6113b4ca32905080702cf1fd.jpg\n",
      "Processed and saved: keypoint_predictions\\frame_0651_jpg.rf.b10a2bca6113b4ca32905080702cf1fd.txt\n",
      "\n",
      "image 1/1 c:\\Users\\sudee\\Documents\\Projects\\Pondify\\preprocessed_images\\frame_0652_jpg.rf.24045acd8759b908d138d1840de8dcb7.jpg: 640x640 3 fishs, 6.0ms\n",
      "Speed: 2.0ms preprocess, 6.0ms inference, 2.0ms postprocess per image at shape (1, 3, 640, 640)\n",
      "Processed and saved: results\\frame_0652_jpg.rf.24045acd8759b908d138d1840de8dcb7.jpg\n",
      "Processed and saved: keypoint_predictions\\frame_0652_jpg.rf.24045acd8759b908d138d1840de8dcb7.txt\n",
      "\n",
      "image 1/1 c:\\Users\\sudee\\Documents\\Projects\\Pondify\\preprocessed_images\\frame_0652_jpg.rf.48727b07d72d42693542864b252ff9cf.jpg: 640x640 3 fishs, 7.0ms\n",
      "Speed: 1.0ms preprocess, 7.0ms inference, 2.0ms postprocess per image at shape (1, 3, 640, 640)\n",
      "Processed and saved: results\\frame_0652_jpg.rf.48727b07d72d42693542864b252ff9cf.jpg\n",
      "Processed and saved: keypoint_predictions\\frame_0652_jpg.rf.48727b07d72d42693542864b252ff9cf.txt\n",
      "\n",
      "image 1/1 c:\\Users\\sudee\\Documents\\Projects\\Pondify\\preprocessed_images\\frame_0652_jpg.rf.ea5587a7f5faec339e235278aba36c05.jpg: 640x640 3 fishs, 6.0ms\n",
      "Speed: 2.0ms preprocess, 6.0ms inference, 2.0ms postprocess per image at shape (1, 3, 640, 640)\n",
      "Processed and saved: results\\frame_0652_jpg.rf.ea5587a7f5faec339e235278aba36c05.jpg\n",
      "Processed and saved: keypoint_predictions\\frame_0652_jpg.rf.ea5587a7f5faec339e235278aba36c05.txt\n",
      "\n",
      "image 1/1 c:\\Users\\sudee\\Documents\\Projects\\Pondify\\preprocessed_images\\frame_0655_jpg.rf.2fb0d157fc792c6771e1479a7ca05fe9.jpg: 640x640 4 fishs, 7.0ms\n",
      "Speed: 2.0ms preprocess, 7.0ms inference, 1.0ms postprocess per image at shape (1, 3, 640, 640)\n",
      "Processed and saved: results\\frame_0655_jpg.rf.2fb0d157fc792c6771e1479a7ca05fe9.jpg\n",
      "Processed and saved: keypoint_predictions\\frame_0655_jpg.rf.2fb0d157fc792c6771e1479a7ca05fe9.txt\n",
      "\n",
      "image 1/1 c:\\Users\\sudee\\Documents\\Projects\\Pondify\\preprocessed_images\\frame_0655_jpg.rf.7dade7d630ea8c172482980bb876e321.jpg: 640x640 4 fishs, 6.0ms\n",
      "Speed: 2.0ms preprocess, 6.0ms inference, 1.0ms postprocess per image at shape (1, 3, 640, 640)\n",
      "Processed and saved: results\\frame_0655_jpg.rf.7dade7d630ea8c172482980bb876e321.jpg\n",
      "Processed and saved: keypoint_predictions\\frame_0655_jpg.rf.7dade7d630ea8c172482980bb876e321.txt\n",
      "\n",
      "image 1/1 c:\\Users\\sudee\\Documents\\Projects\\Pondify\\preprocessed_images\\frame_0656_jpg.rf.81b8b85e11bb6bfb1258525c0aa9be53.jpg: 640x640 4 fishs, 6.0ms\n",
      "Speed: 2.0ms preprocess, 6.0ms inference, 1.0ms postprocess per image at shape (1, 3, 640, 640)\n",
      "Processed and saved: results\\frame_0656_jpg.rf.81b8b85e11bb6bfb1258525c0aa9be53.jpg\n",
      "Processed and saved: keypoint_predictions\\frame_0656_jpg.rf.81b8b85e11bb6bfb1258525c0aa9be53.txt\n",
      "\n",
      "image 1/1 c:\\Users\\sudee\\Documents\\Projects\\Pondify\\preprocessed_images\\frame_0656_jpg.rf.f14aba2794eff474d81ed9d232079e89.jpg: 640x640 4 fishs, 6.0ms\n",
      "Speed: 2.0ms preprocess, 6.0ms inference, 2.0ms postprocess per image at shape (1, 3, 640, 640)\n",
      "Processed and saved: results\\frame_0656_jpg.rf.f14aba2794eff474d81ed9d232079e89.jpg\n",
      "Processed and saved: keypoint_predictions\\frame_0656_jpg.rf.f14aba2794eff474d81ed9d232079e89.txt\n",
      "\n",
      "image 1/1 c:\\Users\\sudee\\Documents\\Projects\\Pondify\\preprocessed_images\\frame_0657_jpg.rf.40614940b39647890cbe2b10b36f9776.jpg: 640x640 4 fishs, 6.0ms\n",
      "Speed: 2.0ms preprocess, 6.0ms inference, 1.0ms postprocess per image at shape (1, 3, 640, 640)\n",
      "Processed and saved: results\\frame_0657_jpg.rf.40614940b39647890cbe2b10b36f9776.jpg\n",
      "Processed and saved: keypoint_predictions\\frame_0657_jpg.rf.40614940b39647890cbe2b10b36f9776.txt\n",
      "\n",
      "image 1/1 c:\\Users\\sudee\\Documents\\Projects\\Pondify\\preprocessed_images\\frame_0657_jpg.rf.d0c53634cbfd5221bf64df18a8842752.jpg: 640x640 4 fishs, 7.0ms\n",
      "Speed: 1.0ms preprocess, 7.0ms inference, 1.0ms postprocess per image at shape (1, 3, 640, 640)\n",
      "Processed and saved: results\\frame_0657_jpg.rf.d0c53634cbfd5221bf64df18a8842752.jpg\n",
      "Processed and saved: keypoint_predictions\\frame_0657_jpg.rf.d0c53634cbfd5221bf64df18a8842752.txt\n",
      "\n",
      "image 1/1 c:\\Users\\sudee\\Documents\\Projects\\Pondify\\preprocessed_images\\frame_0658_jpg.rf.215a41b8712550e68b84862d08739be2.jpg: 640x640 2 fishs, 22.0ms\n",
      "Speed: 4.0ms preprocess, 22.0ms inference, 5.0ms postprocess per image at shape (1, 3, 640, 640)\n",
      "Processed and saved: results\\frame_0658_jpg.rf.215a41b8712550e68b84862d08739be2.jpg\n",
      "Processed and saved: keypoint_predictions\\frame_0658_jpg.rf.215a41b8712550e68b84862d08739be2.txt\n",
      "\n",
      "image 1/1 c:\\Users\\sudee\\Documents\\Projects\\Pondify\\preprocessed_images\\frame_0658_jpg.rf.c54892b57c2d3639360605ef111b472c.jpg: 640x640 2 fishs, 40.0ms\n",
      "Speed: 3.0ms preprocess, 40.0ms inference, 7.0ms postprocess per image at shape (1, 3, 640, 640)\n",
      "Processed and saved: results\\frame_0658_jpg.rf.c54892b57c2d3639360605ef111b472c.jpg\n",
      "Processed and saved: keypoint_predictions\\frame_0658_jpg.rf.c54892b57c2d3639360605ef111b472c.txt\n",
      "\n",
      "image 1/1 c:\\Users\\sudee\\Documents\\Projects\\Pondify\\preprocessed_images\\frame_0658_jpg.rf.f3001d5b0fb467cd7dcb571fb7ffd696.jpg: 640x640 2 fishs, 23.1ms\n",
      "Speed: 3.0ms preprocess, 23.1ms inference, 4.9ms postprocess per image at shape (1, 3, 640, 640)\n",
      "Processed and saved: results\\frame_0658_jpg.rf.f3001d5b0fb467cd7dcb571fb7ffd696.jpg\n",
      "Processed and saved: keypoint_predictions\\frame_0658_jpg.rf.f3001d5b0fb467cd7dcb571fb7ffd696.txt\n",
      "\n",
      "image 1/1 c:\\Users\\sudee\\Documents\\Projects\\Pondify\\preprocessed_images\\frame_0659_jpg.rf.0742991831aa06eeb95f5b761757d6ec.jpg: 640x640 3 fishs, 25.0ms\n",
      "Speed: 3.0ms preprocess, 25.0ms inference, 3.0ms postprocess per image at shape (1, 3, 640, 640)\n",
      "Processed and saved: results\\frame_0659_jpg.rf.0742991831aa06eeb95f5b761757d6ec.jpg\n",
      "Processed and saved: keypoint_predictions\\frame_0659_jpg.rf.0742991831aa06eeb95f5b761757d6ec.txt\n",
      "\n",
      "image 1/1 c:\\Users\\sudee\\Documents\\Projects\\Pondify\\preprocessed_images\\frame_0659_jpg.rf.82bcf78321f5b60bed8004bc2b24254e.jpg: 640x640 3 fishs, 32.1ms\n",
      "Speed: 4.0ms preprocess, 32.1ms inference, 5.0ms postprocess per image at shape (1, 3, 640, 640)\n",
      "Processed and saved: results\\frame_0659_jpg.rf.82bcf78321f5b60bed8004bc2b24254e.jpg\n",
      "Processed and saved: keypoint_predictions\\frame_0659_jpg.rf.82bcf78321f5b60bed8004bc2b24254e.txt\n",
      "\n",
      "image 1/1 c:\\Users\\sudee\\Documents\\Projects\\Pondify\\preprocessed_images\\frame_0659_jpg.rf.f235912e7c81440a06fe6eded47efa43.jpg: 640x640 3 fishs, 30.0ms\n",
      "Speed: 3.0ms preprocess, 30.0ms inference, 4.0ms postprocess per image at shape (1, 3, 640, 640)\n",
      "Processed and saved: results\\frame_0659_jpg.rf.f235912e7c81440a06fe6eded47efa43.jpg\n",
      "Processed and saved: keypoint_predictions\\frame_0659_jpg.rf.f235912e7c81440a06fe6eded47efa43.txt\n",
      "\n",
      "image 1/1 c:\\Users\\sudee\\Documents\\Projects\\Pondify\\preprocessed_images\\frame_0660_jpg.rf.8e4067a6ab2d517845b510aab5422b48.jpg: 640x640 2 fishs, 24.0ms\n",
      "Speed: 3.0ms preprocess, 24.0ms inference, 4.0ms postprocess per image at shape (1, 3, 640, 640)\n",
      "Processed and saved: results\\frame_0660_jpg.rf.8e4067a6ab2d517845b510aab5422b48.jpg\n",
      "Processed and saved: keypoint_predictions\\frame_0660_jpg.rf.8e4067a6ab2d517845b510aab5422b48.txt\n",
      "\n",
      "image 1/1 c:\\Users\\sudee\\Documents\\Projects\\Pondify\\preprocessed_images\\frame_0661_jpg.rf.0c0cef43a2fb287b0967eb6bb160800c.jpg: 640x640 3 fishs, 22.0ms\n",
      "Speed: 4.0ms preprocess, 22.0ms inference, 5.0ms postprocess per image at shape (1, 3, 640, 640)\n",
      "Processed and saved: results\\frame_0661_jpg.rf.0c0cef43a2fb287b0967eb6bb160800c.jpg\n",
      "Processed and saved: keypoint_predictions\\frame_0661_jpg.rf.0c0cef43a2fb287b0967eb6bb160800c.txt\n",
      "\n",
      "image 1/1 c:\\Users\\sudee\\Documents\\Projects\\Pondify\\preprocessed_images\\frame_0661_jpg.rf.14b4004cc168bd3b13b0e9e4598aefc5.jpg: 640x640 3 fishs, 21.0ms\n",
      "Speed: 4.0ms preprocess, 21.0ms inference, 4.0ms postprocess per image at shape (1, 3, 640, 640)\n",
      "Processed and saved: results\\frame_0661_jpg.rf.14b4004cc168bd3b13b0e9e4598aefc5.jpg\n",
      "Processed and saved: keypoint_predictions\\frame_0661_jpg.rf.14b4004cc168bd3b13b0e9e4598aefc5.txt\n",
      "\n",
      "image 1/1 c:\\Users\\sudee\\Documents\\Projects\\Pondify\\preprocessed_images\\frame_0661_jpg.rf.c7b8a6a264350ac56f4719c75a90f6b8.jpg: 640x640 3 fishs, 25.0ms\n",
      "Speed: 4.0ms preprocess, 25.0ms inference, 3.0ms postprocess per image at shape (1, 3, 640, 640)\n",
      "Processed and saved: results\\frame_0661_jpg.rf.c7b8a6a264350ac56f4719c75a90f6b8.jpg\n",
      "Processed and saved: keypoint_predictions\\frame_0661_jpg.rf.c7b8a6a264350ac56f4719c75a90f6b8.txt\n",
      "\n",
      "image 1/1 c:\\Users\\sudee\\Documents\\Projects\\Pondify\\preprocessed_images\\frame_0664_jpg.rf.236d3d7df73379b8e147fd8d22e8e6af.jpg: 640x640 2 fishs, 20.0ms\n",
      "Speed: 4.0ms preprocess, 20.0ms inference, 4.0ms postprocess per image at shape (1, 3, 640, 640)\n",
      "Processed and saved: results\\frame_0664_jpg.rf.236d3d7df73379b8e147fd8d22e8e6af.jpg\n",
      "Processed and saved: keypoint_predictions\\frame_0664_jpg.rf.236d3d7df73379b8e147fd8d22e8e6af.txt\n",
      "\n",
      "image 1/1 c:\\Users\\sudee\\Documents\\Projects\\Pondify\\preprocessed_images\\frame_0664_jpg.rf.5f5237104cc035bcba8447566fb61136.jpg: 640x640 2 fishs, 25.0ms\n",
      "Speed: 4.0ms preprocess, 25.0ms inference, 3.0ms postprocess per image at shape (1, 3, 640, 640)\n",
      "Processed and saved: results\\frame_0664_jpg.rf.5f5237104cc035bcba8447566fb61136.jpg\n",
      "Processed and saved: keypoint_predictions\\frame_0664_jpg.rf.5f5237104cc035bcba8447566fb61136.txt\n",
      "\n",
      "image 1/1 c:\\Users\\sudee\\Documents\\Projects\\Pondify\\preprocessed_images\\frame_0664_jpg.rf.a5c6411f872ef623d8191b466e9c2416.jpg: 640x640 2 fishs, 49.0ms\n",
      "Speed: 4.0ms preprocess, 49.0ms inference, 5.0ms postprocess per image at shape (1, 3, 640, 640)\n",
      "Processed and saved: results\\frame_0664_jpg.rf.a5c6411f872ef623d8191b466e9c2416.jpg\n",
      "Processed and saved: keypoint_predictions\\frame_0664_jpg.rf.a5c6411f872ef623d8191b466e9c2416.txt\n",
      "\n",
      "image 1/1 c:\\Users\\sudee\\Documents\\Projects\\Pondify\\preprocessed_images\\frame_0666_jpg.rf.2069d250b2ec7ead9cac9bfc47f1dfa4.jpg: 640x640 4 fishs, 21.0ms\n",
      "Speed: 4.0ms preprocess, 21.0ms inference, 4.0ms postprocess per image at shape (1, 3, 640, 640)\n",
      "Processed and saved: results\\frame_0666_jpg.rf.2069d250b2ec7ead9cac9bfc47f1dfa4.jpg\n",
      "Processed and saved: keypoint_predictions\\frame_0666_jpg.rf.2069d250b2ec7ead9cac9bfc47f1dfa4.txt\n",
      "\n",
      "image 1/1 c:\\Users\\sudee\\Documents\\Projects\\Pondify\\preprocessed_images\\frame_0666_jpg.rf.fc0738b226bf90ac1520e9f9844c1f47.jpg: 640x640 4 fishs, 28.0ms\n",
      "Speed: 4.0ms preprocess, 28.0ms inference, 4.0ms postprocess per image at shape (1, 3, 640, 640)\n",
      "Processed and saved: results\\frame_0666_jpg.rf.fc0738b226bf90ac1520e9f9844c1f47.jpg\n",
      "Processed and saved: keypoint_predictions\\frame_0666_jpg.rf.fc0738b226bf90ac1520e9f9844c1f47.txt\n",
      "\n",
      "image 1/1 c:\\Users\\sudee\\Documents\\Projects\\Pondify\\preprocessed_images\\frame_0674_jpg.rf.c35cc1232cf425841b4ce4423c66c2f7.jpg: 640x640 4 fishs, 32.7ms\n",
      "Speed: 3.0ms preprocess, 32.7ms inference, 6.0ms postprocess per image at shape (1, 3, 640, 640)\n",
      "Processed and saved: results\\frame_0674_jpg.rf.c35cc1232cf425841b4ce4423c66c2f7.jpg\n",
      "Processed and saved: keypoint_predictions\\frame_0674_jpg.rf.c35cc1232cf425841b4ce4423c66c2f7.txt\n",
      "\n",
      "image 1/1 c:\\Users\\sudee\\Documents\\Projects\\Pondify\\preprocessed_images\\frame_0674_jpg.rf.d1d6292f9535595091120a7516ceec54.jpg: 640x640 4 fishs, 35.0ms\n",
      "Speed: 4.0ms preprocess, 35.0ms inference, 4.0ms postprocess per image at shape (1, 3, 640, 640)\n",
      "Processed and saved: results\\frame_0674_jpg.rf.d1d6292f9535595091120a7516ceec54.jpg\n",
      "Processed and saved: keypoint_predictions\\frame_0674_jpg.rf.d1d6292f9535595091120a7516ceec54.txt\n",
      "\n",
      "image 1/1 c:\\Users\\sudee\\Documents\\Projects\\Pondify\\preprocessed_images\\frame_0675_jpg.rf.5b267ebf412414836801eb1c4f74dbb8.jpg: 640x640 3 fishs, 22.0ms\n",
      "Speed: 3.5ms preprocess, 22.0ms inference, 4.0ms postprocess per image at shape (1, 3, 640, 640)\n",
      "Processed and saved: results\\frame_0675_jpg.rf.5b267ebf412414836801eb1c4f74dbb8.jpg\n",
      "Processed and saved: keypoint_predictions\\frame_0675_jpg.rf.5b267ebf412414836801eb1c4f74dbb8.txt\n",
      "\n",
      "image 1/1 c:\\Users\\sudee\\Documents\\Projects\\Pondify\\preprocessed_images\\frame_0675_jpg.rf.cc1e83500c1b7b6dac4b76ba366d3241.jpg: 640x640 3 fishs, 38.0ms\n",
      "Speed: 3.0ms preprocess, 38.0ms inference, 4.0ms postprocess per image at shape (1, 3, 640, 640)\n",
      "Processed and saved: results\\frame_0675_jpg.rf.cc1e83500c1b7b6dac4b76ba366d3241.jpg\n",
      "Processed and saved: keypoint_predictions\\frame_0675_jpg.rf.cc1e83500c1b7b6dac4b76ba366d3241.txt\n",
      "\n",
      "image 1/1 c:\\Users\\sudee\\Documents\\Projects\\Pondify\\preprocessed_images\\frame_0676_jpg.rf.8bcba91379f148d6e065a57f247e49d4.jpg: 640x640 3 fishs, 21.0ms\n",
      "Speed: 3.0ms preprocess, 21.0ms inference, 5.4ms postprocess per image at shape (1, 3, 640, 640)\n",
      "Processed and saved: results\\frame_0676_jpg.rf.8bcba91379f148d6e065a57f247e49d4.jpg\n",
      "Processed and saved: keypoint_predictions\\frame_0676_jpg.rf.8bcba91379f148d6e065a57f247e49d4.txt\n",
      "\n",
      "image 1/1 c:\\Users\\sudee\\Documents\\Projects\\Pondify\\preprocessed_images\\frame_0676_jpg.rf.c76330cbfd2d7487a8e7b4701506ead5.jpg: 640x640 3 fishs, 17.0ms\n",
      "Speed: 3.3ms preprocess, 17.0ms inference, 1.0ms postprocess per image at shape (1, 3, 640, 640)\n",
      "Processed and saved: results\\frame_0676_jpg.rf.c76330cbfd2d7487a8e7b4701506ead5.jpg\n",
      "Processed and saved: keypoint_predictions\\frame_0676_jpg.rf.c76330cbfd2d7487a8e7b4701506ead5.txt\n",
      "\n",
      "image 1/1 c:\\Users\\sudee\\Documents\\Projects\\Pondify\\preprocessed_images\\frame_0676_jpg.rf.f9e6dd39095269da01a23c81f64f5f71.jpg: 640x640 3 fishs, 22.0ms\n",
      "Speed: 3.0ms preprocess, 22.0ms inference, 3.0ms postprocess per image at shape (1, 3, 640, 640)\n",
      "Processed and saved: results\\frame_0676_jpg.rf.f9e6dd39095269da01a23c81f64f5f71.jpg\n",
      "Processed and saved: keypoint_predictions\\frame_0676_jpg.rf.f9e6dd39095269da01a23c81f64f5f71.txt\n",
      "\n",
      "image 1/1 c:\\Users\\sudee\\Documents\\Projects\\Pondify\\preprocessed_images\\frame_0677_jpg.rf.9aa66b170dd1d12baff4c85afd4d3f8c.jpg: 640x640 5 fishs, 23.0ms\n",
      "Speed: 3.0ms preprocess, 23.0ms inference, 4.0ms postprocess per image at shape (1, 3, 640, 640)\n",
      "Processed and saved: results\\frame_0677_jpg.rf.9aa66b170dd1d12baff4c85afd4d3f8c.jpg\n",
      "Processed and saved: keypoint_predictions\\frame_0677_jpg.rf.9aa66b170dd1d12baff4c85afd4d3f8c.txt\n",
      "\n",
      "image 1/1 c:\\Users\\sudee\\Documents\\Projects\\Pondify\\preprocessed_images\\frame_0678_jpg.rf.f73a76f064eb304b5c16bb09f366041a.jpg: 640x640 4 fishs, 22.0ms\n",
      "Speed: 5.0ms preprocess, 22.0ms inference, 5.0ms postprocess per image at shape (1, 3, 640, 640)\n",
      "Processed and saved: results\\frame_0678_jpg.rf.f73a76f064eb304b5c16bb09f366041a.jpg\n",
      "Processed and saved: keypoint_predictions\\frame_0678_jpg.rf.f73a76f064eb304b5c16bb09f366041a.txt\n",
      "\n",
      "image 1/1 c:\\Users\\sudee\\Documents\\Projects\\Pondify\\preprocessed_images\\frame_0679_jpg.rf.c326e61ef09e5cc5011b60b4f1c40b18.jpg: 640x640 6 fishs, 32.0ms\n",
      "Speed: 2.0ms preprocess, 32.0ms inference, 5.0ms postprocess per image at shape (1, 3, 640, 640)\n",
      "Processed and saved: results\\frame_0679_jpg.rf.c326e61ef09e5cc5011b60b4f1c40b18.jpg\n",
      "Processed and saved: keypoint_predictions\\frame_0679_jpg.rf.c326e61ef09e5cc5011b60b4f1c40b18.txt\n",
      "\n",
      "image 1/1 c:\\Users\\sudee\\Documents\\Projects\\Pondify\\preprocessed_images\\frame_0701_jpg.rf.600b604fa0afe939db4b6933e56dcc63.jpg: 640x640 6 fishs, 21.0ms\n",
      "Speed: 4.0ms preprocess, 21.0ms inference, 6.0ms postprocess per image at shape (1, 3, 640, 640)\n",
      "Processed and saved: results\\frame_0701_jpg.rf.600b604fa0afe939db4b6933e56dcc63.jpg\n",
      "Processed and saved: keypoint_predictions\\frame_0701_jpg.rf.600b604fa0afe939db4b6933e56dcc63.txt\n",
      "\n",
      "image 1/1 c:\\Users\\sudee\\Documents\\Projects\\Pondify\\preprocessed_images\\frame_0704_jpg.rf.db28cbcf467973460e09f3fc4f73a07f.jpg: 640x640 4 fishs, 20.0ms\n",
      "Speed: 4.0ms preprocess, 20.0ms inference, 6.0ms postprocess per image at shape (1, 3, 640, 640)\n",
      "Processed and saved: results\\frame_0704_jpg.rf.db28cbcf467973460e09f3fc4f73a07f.jpg\n",
      "Processed and saved: keypoint_predictions\\frame_0704_jpg.rf.db28cbcf467973460e09f3fc4f73a07f.txt\n",
      "\n",
      "image 1/1 c:\\Users\\sudee\\Documents\\Projects\\Pondify\\preprocessed_images\\frame_0705_jpg.rf.2b02b2cfb73ddf70dff76e55906e9073.jpg: 640x640 4 fishs, 23.0ms\n",
      "Speed: 5.0ms preprocess, 23.0ms inference, 4.0ms postprocess per image at shape (1, 3, 640, 640)\n",
      "Processed and saved: results\\frame_0705_jpg.rf.2b02b2cfb73ddf70dff76e55906e9073.jpg\n",
      "Processed and saved: keypoint_predictions\\frame_0705_jpg.rf.2b02b2cfb73ddf70dff76e55906e9073.txt\n",
      "\n",
      "image 1/1 c:\\Users\\sudee\\Documents\\Projects\\Pondify\\preprocessed_images\\frame_0706_jpg.rf.f7d6172281e91b09c7c76735026d6562.jpg: 640x640 5 fishs, 21.0ms\n",
      "Speed: 5.0ms preprocess, 21.0ms inference, 2.1ms postprocess per image at shape (1, 3, 640, 640)\n",
      "Processed and saved: results\\frame_0706_jpg.rf.f7d6172281e91b09c7c76735026d6562.jpg\n",
      "Processed and saved: keypoint_predictions\\frame_0706_jpg.rf.f7d6172281e91b09c7c76735026d6562.txt\n",
      "\n",
      "image 1/1 c:\\Users\\sudee\\Documents\\Projects\\Pondify\\preprocessed_images\\frame_0718_jpg.rf.dd5dbc4f32f0a061689db14cc99b57be.jpg: 640x640 2 fishs, 27.3ms\n",
      "Speed: 4.0ms preprocess, 27.3ms inference, 4.0ms postprocess per image at shape (1, 3, 640, 640)\n",
      "Processed and saved: results\\frame_0718_jpg.rf.dd5dbc4f32f0a061689db14cc99b57be.jpg\n",
      "Processed and saved: keypoint_predictions\\frame_0718_jpg.rf.dd5dbc4f32f0a061689db14cc99b57be.txt\n",
      "\n",
      "image 1/1 c:\\Users\\sudee\\Documents\\Projects\\Pondify\\preprocessed_images\\frame_0725_jpg.rf.3d0a794ba1d281e277e6b6ea05393df7.jpg: 640x640 4 fishs, 18.0ms\n",
      "Speed: 4.0ms preprocess, 18.0ms inference, 1.0ms postprocess per image at shape (1, 3, 640, 640)\n",
      "Processed and saved: results\\frame_0725_jpg.rf.3d0a794ba1d281e277e6b6ea05393df7.jpg\n",
      "Processed and saved: keypoint_predictions\\frame_0725_jpg.rf.3d0a794ba1d281e277e6b6ea05393df7.txt\n",
      "\n",
      "image 1/1 c:\\Users\\sudee\\Documents\\Projects\\Pondify\\preprocessed_images\\frame_0725_jpg.rf.9358f7dbdb9c64b165026c3240169394.jpg: 640x640 4 fishs, 24.0ms\n",
      "Speed: 7.0ms preprocess, 24.0ms inference, 6.0ms postprocess per image at shape (1, 3, 640, 640)\n",
      "Processed and saved: results\\frame_0725_jpg.rf.9358f7dbdb9c64b165026c3240169394.jpg\n",
      "Processed and saved: keypoint_predictions\\frame_0725_jpg.rf.9358f7dbdb9c64b165026c3240169394.txt\n",
      "\n",
      "image 1/1 c:\\Users\\sudee\\Documents\\Projects\\Pondify\\preprocessed_images\\frame_0727_jpg.rf.09b28edd52ae324c66fc59bdd5e71ed0.jpg: 640x640 3 fishs, 22.0ms\n",
      "Speed: 4.0ms preprocess, 22.0ms inference, 3.0ms postprocess per image at shape (1, 3, 640, 640)\n",
      "Processed and saved: results\\frame_0727_jpg.rf.09b28edd52ae324c66fc59bdd5e71ed0.jpg\n",
      "Processed and saved: keypoint_predictions\\frame_0727_jpg.rf.09b28edd52ae324c66fc59bdd5e71ed0.txt\n",
      "\n",
      "image 1/1 c:\\Users\\sudee\\Documents\\Projects\\Pondify\\preprocessed_images\\frame_0727_jpg.rf.37f730f3f7f42ac7ca425d5fd4458f90.jpg: 640x640 3 fishs, 23.0ms\n",
      "Speed: 4.0ms preprocess, 23.0ms inference, 5.0ms postprocess per image at shape (1, 3, 640, 640)\n",
      "Processed and saved: results\\frame_0727_jpg.rf.37f730f3f7f42ac7ca425d5fd4458f90.jpg\n",
      "Processed and saved: keypoint_predictions\\frame_0727_jpg.rf.37f730f3f7f42ac7ca425d5fd4458f90.txt\n",
      "\n",
      "image 1/1 c:\\Users\\sudee\\Documents\\Projects\\Pondify\\preprocessed_images\\frame_0728_jpg.rf.387111129906e0d5dbed558a6c5e0cf0.jpg: 640x640 3 fishs, 25.0ms\n",
      "Speed: 4.0ms preprocess, 25.0ms inference, 5.0ms postprocess per image at shape (1, 3, 640, 640)\n",
      "Processed and saved: results\\frame_0728_jpg.rf.387111129906e0d5dbed558a6c5e0cf0.jpg\n",
      "Processed and saved: keypoint_predictions\\frame_0728_jpg.rf.387111129906e0d5dbed558a6c5e0cf0.txt\n",
      "\n",
      "image 1/1 c:\\Users\\sudee\\Documents\\Projects\\Pondify\\preprocessed_images\\frame_0728_jpg.rf.3cc16aa4fbea6a3e35a20ca4f34cc9a1.jpg: 640x640 3 fishs, 24.1ms\n",
      "Speed: 4.0ms preprocess, 24.1ms inference, 3.0ms postprocess per image at shape (1, 3, 640, 640)\n",
      "Processed and saved: results\\frame_0728_jpg.rf.3cc16aa4fbea6a3e35a20ca4f34cc9a1.jpg\n",
      "Processed and saved: keypoint_predictions\\frame_0728_jpg.rf.3cc16aa4fbea6a3e35a20ca4f34cc9a1.txt\n",
      "\n",
      "image 1/1 c:\\Users\\sudee\\Documents\\Projects\\Pondify\\preprocessed_images\\frame_0728_jpg.rf.710ea78c28eca128d106ecaf8976dec9.jpg: 640x640 3 fishs, 15.0ms\n",
      "Speed: 4.0ms preprocess, 15.0ms inference, 2.0ms postprocess per image at shape (1, 3, 640, 640)\n",
      "Processed and saved: results\\frame_0728_jpg.rf.710ea78c28eca128d106ecaf8976dec9.jpg\n",
      "Processed and saved: keypoint_predictions\\frame_0728_jpg.rf.710ea78c28eca128d106ecaf8976dec9.txt\n",
      "\n",
      "image 1/1 c:\\Users\\sudee\\Documents\\Projects\\Pondify\\preprocessed_images\\frame_0731_jpg.rf.581d71dbdeef3e19d1edd60780715bed.jpg: 640x640 4 fishs, 27.0ms\n",
      "Speed: 5.0ms preprocess, 27.0ms inference, 5.0ms postprocess per image at shape (1, 3, 640, 640)\n",
      "Processed and saved: results\\frame_0731_jpg.rf.581d71dbdeef3e19d1edd60780715bed.jpg\n",
      "Processed and saved: keypoint_predictions\\frame_0731_jpg.rf.581d71dbdeef3e19d1edd60780715bed.txt\n",
      "\n",
      "image 1/1 c:\\Users\\sudee\\Documents\\Projects\\Pondify\\preprocessed_images\\frame_0731_jpg.rf.5e06446cd9018820b13f64f9aedb6db2.jpg: 640x640 4 fishs, 24.4ms\n",
      "Speed: 4.0ms preprocess, 24.4ms inference, 5.0ms postprocess per image at shape (1, 3, 640, 640)\n",
      "Processed and saved: results\\frame_0731_jpg.rf.5e06446cd9018820b13f64f9aedb6db2.jpg\n",
      "Processed and saved: keypoint_predictions\\frame_0731_jpg.rf.5e06446cd9018820b13f64f9aedb6db2.txt\n",
      "\n",
      "image 1/1 c:\\Users\\sudee\\Documents\\Projects\\Pondify\\preprocessed_images\\frame_0732_jpg.rf.02bc11bdb9c18d2a699feac7fb2a7205.jpg: 640x640 5 fishs, 24.0ms\n",
      "Speed: 4.3ms preprocess, 24.0ms inference, 5.0ms postprocess per image at shape (1, 3, 640, 640)\n",
      "Processed and saved: results\\frame_0732_jpg.rf.02bc11bdb9c18d2a699feac7fb2a7205.jpg\n",
      "Processed and saved: keypoint_predictions\\frame_0732_jpg.rf.02bc11bdb9c18d2a699feac7fb2a7205.txt\n",
      "\n",
      "image 1/1 c:\\Users\\sudee\\Documents\\Projects\\Pondify\\preprocessed_images\\frame_0733_jpg.rf.4822fb98ed5f13f1f0f9e5a158eb0740.jpg: 640x640 5 fishs, 21.0ms\n",
      "Speed: 4.0ms preprocess, 21.0ms inference, 1.0ms postprocess per image at shape (1, 3, 640, 640)\n",
      "Processed and saved: results\\frame_0733_jpg.rf.4822fb98ed5f13f1f0f9e5a158eb0740.jpg\n",
      "Processed and saved: keypoint_predictions\\frame_0733_jpg.rf.4822fb98ed5f13f1f0f9e5a158eb0740.txt\n",
      "\n",
      "image 1/1 c:\\Users\\sudee\\Documents\\Projects\\Pondify\\preprocessed_images\\frame_0733_jpg.rf.53591fca9bc7d0c4a1f2cc1fc594100d.jpg: 640x640 5 fishs, 25.0ms\n",
      "Speed: 3.0ms preprocess, 25.0ms inference, 4.0ms postprocess per image at shape (1, 3, 640, 640)\n",
      "Processed and saved: results\\frame_0733_jpg.rf.53591fca9bc7d0c4a1f2cc1fc594100d.jpg\n",
      "Processed and saved: keypoint_predictions\\frame_0733_jpg.rf.53591fca9bc7d0c4a1f2cc1fc594100d.txt\n",
      "\n",
      "image 1/1 c:\\Users\\sudee\\Documents\\Projects\\Pondify\\preprocessed_images\\frame_0734_jpg.rf.287ceb45db6208c82cddcfb53f8566d0.jpg: 640x640 5 fishs, 22.0ms\n",
      "Speed: 4.0ms preprocess, 22.0ms inference, 4.0ms postprocess per image at shape (1, 3, 640, 640)\n",
      "Processed and saved: results\\frame_0734_jpg.rf.287ceb45db6208c82cddcfb53f8566d0.jpg\n",
      "Processed and saved: keypoint_predictions\\frame_0734_jpg.rf.287ceb45db6208c82cddcfb53f8566d0.txt\n",
      "\n",
      "image 1/1 c:\\Users\\sudee\\Documents\\Projects\\Pondify\\preprocessed_images\\frame_0734_jpg.rf.e11272d8c112982b966537b95983af30.jpg: 640x640 5 fishs, 27.5ms\n",
      "Speed: 4.0ms preprocess, 27.5ms inference, 5.0ms postprocess per image at shape (1, 3, 640, 640)\n",
      "Processed and saved: results\\frame_0734_jpg.rf.e11272d8c112982b966537b95983af30.jpg\n",
      "Processed and saved: keypoint_predictions\\frame_0734_jpg.rf.e11272d8c112982b966537b95983af30.txt\n",
      "\n",
      "image 1/1 c:\\Users\\sudee\\Documents\\Projects\\Pondify\\preprocessed_images\\frame_0735_jpg.rf.2b3b9231440fdcc3b9987a311471bc45.jpg: 640x640 3 fishs, 24.0ms\n",
      "Speed: 5.5ms preprocess, 24.0ms inference, 5.0ms postprocess per image at shape (1, 3, 640, 640)\n",
      "Processed and saved: results\\frame_0735_jpg.rf.2b3b9231440fdcc3b9987a311471bc45.jpg\n",
      "Processed and saved: keypoint_predictions\\frame_0735_jpg.rf.2b3b9231440fdcc3b9987a311471bc45.txt\n",
      "\n",
      "image 1/1 c:\\Users\\sudee\\Documents\\Projects\\Pondify\\preprocessed_images\\frame_0735_jpg.rf.56db18d6f18eb810307d8d7784309de4.jpg: 640x640 2 fishs, 23.0ms\n",
      "Speed: 4.1ms preprocess, 23.0ms inference, 3.9ms postprocess per image at shape (1, 3, 640, 640)\n",
      "Processed and saved: results\\frame_0735_jpg.rf.56db18d6f18eb810307d8d7784309de4.jpg\n",
      "Processed and saved: keypoint_predictions\\frame_0735_jpg.rf.56db18d6f18eb810307d8d7784309de4.txt\n",
      "\n",
      "image 1/1 c:\\Users\\sudee\\Documents\\Projects\\Pondify\\preprocessed_images\\frame_0737_jpg.rf.83c58105a1d36a1139f946a69de56f78.jpg: 640x640 7 fishs, 23.5ms\n",
      "Speed: 6.9ms preprocess, 23.5ms inference, 4.0ms postprocess per image at shape (1, 3, 640, 640)\n",
      "Processed and saved: results\\frame_0737_jpg.rf.83c58105a1d36a1139f946a69de56f78.jpg\n",
      "Processed and saved: keypoint_predictions\\frame_0737_jpg.rf.83c58105a1d36a1139f946a69de56f78.txt\n",
      "\n",
      "image 1/1 c:\\Users\\sudee\\Documents\\Projects\\Pondify\\preprocessed_images\\frame_0737_jpg.rf.db0046f26bbd06cee5846dd195131bd2.jpg: 640x640 7 fishs, 25.0ms\n",
      "Speed: 5.0ms preprocess, 25.0ms inference, 5.0ms postprocess per image at shape (1, 3, 640, 640)\n",
      "Processed and saved: results\\frame_0737_jpg.rf.db0046f26bbd06cee5846dd195131bd2.jpg\n",
      "Processed and saved: keypoint_predictions\\frame_0737_jpg.rf.db0046f26bbd06cee5846dd195131bd2.txt\n",
      "\n",
      "image 1/1 c:\\Users\\sudee\\Documents\\Projects\\Pondify\\preprocessed_images\\frame_0738_jpg.rf.1b13307c63ba2d974ea47093b215913d.jpg: 640x640 5 fishs, 23.9ms\n",
      "Speed: 4.0ms preprocess, 23.9ms inference, 3.0ms postprocess per image at shape (1, 3, 640, 640)\n",
      "Processed and saved: results\\frame_0738_jpg.rf.1b13307c63ba2d974ea47093b215913d.jpg\n",
      "Processed and saved: keypoint_predictions\\frame_0738_jpg.rf.1b13307c63ba2d974ea47093b215913d.txt\n",
      "\n",
      "image 1/1 c:\\Users\\sudee\\Documents\\Projects\\Pondify\\preprocessed_images\\frame_0738_jpg.rf.912db4426ef834b4846c2a7d13c8da82.jpg: 640x640 5 fishs, 23.3ms\n",
      "Speed: 3.0ms preprocess, 23.3ms inference, 4.0ms postprocess per image at shape (1, 3, 640, 640)\n",
      "Processed and saved: results\\frame_0738_jpg.rf.912db4426ef834b4846c2a7d13c8da82.jpg\n",
      "Processed and saved: keypoint_predictions\\frame_0738_jpg.rf.912db4426ef834b4846c2a7d13c8da82.txt\n",
      "\n",
      "image 1/1 c:\\Users\\sudee\\Documents\\Projects\\Pondify\\preprocessed_images\\frame_0739_jpg.rf.64a7b5eb00e4188346d81996fc3084dd.jpg: 640x640 11 fishs, 28.0ms\n",
      "Speed: 4.0ms preprocess, 28.0ms inference, 5.0ms postprocess per image at shape (1, 3, 640, 640)\n",
      "Processed and saved: results\\frame_0739_jpg.rf.64a7b5eb00e4188346d81996fc3084dd.jpg\n",
      "Processed and saved: keypoint_predictions\\frame_0739_jpg.rf.64a7b5eb00e4188346d81996fc3084dd.txt\n",
      "\n",
      "image 1/1 c:\\Users\\sudee\\Documents\\Projects\\Pondify\\preprocessed_images\\frame_0739_jpg.rf.72cdb85ae3a8a4bd755e2ba0fd095dec.jpg: 640x640 11 fishs, 26.1ms\n",
      "Speed: 3.0ms preprocess, 26.1ms inference, 6.0ms postprocess per image at shape (1, 3, 640, 640)\n",
      "Processed and saved: results\\frame_0739_jpg.rf.72cdb85ae3a8a4bd755e2ba0fd095dec.jpg\n",
      "Processed and saved: keypoint_predictions\\frame_0739_jpg.rf.72cdb85ae3a8a4bd755e2ba0fd095dec.txt\n",
      "\n",
      "image 1/1 c:\\Users\\sudee\\Documents\\Projects\\Pondify\\preprocessed_images\\frame_0739_jpg.rf.b4d3dc1df86fc39db5ae3e5bd1cb7c21.jpg: 640x640 11 fishs, 30.0ms\n",
      "Speed: 4.0ms preprocess, 30.0ms inference, 4.0ms postprocess per image at shape (1, 3, 640, 640)\n",
      "Processed and saved: results\\frame_0739_jpg.rf.b4d3dc1df86fc39db5ae3e5bd1cb7c21.jpg\n",
      "Processed and saved: keypoint_predictions\\frame_0739_jpg.rf.b4d3dc1df86fc39db5ae3e5bd1cb7c21.txt\n",
      "\n",
      "image 1/1 c:\\Users\\sudee\\Documents\\Projects\\Pondify\\preprocessed_images\\frame_0740_jpg.rf.7d410116d7ee65b63f6873121ad20f12.jpg: 640x640 8 fishs, 24.5ms\n",
      "Speed: 3.0ms preprocess, 24.5ms inference, 5.0ms postprocess per image at shape (1, 3, 640, 640)\n",
      "Processed and saved: results\\frame_0740_jpg.rf.7d410116d7ee65b63f6873121ad20f12.jpg\n",
      "Processed and saved: keypoint_predictions\\frame_0740_jpg.rf.7d410116d7ee65b63f6873121ad20f12.txt\n",
      "\n",
      "image 1/1 c:\\Users\\sudee\\Documents\\Projects\\Pondify\\preprocessed_images\\frame_0740_jpg.rf.9102f16998461bb4ae69371a2278d727.jpg: 640x640 8 fishs, 28.1ms\n",
      "Speed: 4.0ms preprocess, 28.1ms inference, 7.4ms postprocess per image at shape (1, 3, 640, 640)\n",
      "Processed and saved: results\\frame_0740_jpg.rf.9102f16998461bb4ae69371a2278d727.jpg\n",
      "Processed and saved: keypoint_predictions\\frame_0740_jpg.rf.9102f16998461bb4ae69371a2278d727.txt\n",
      "\n",
      "image 1/1 c:\\Users\\sudee\\Documents\\Projects\\Pondify\\preprocessed_images\\frame_0740_jpg.rf.cdb8f90ffb484a371b9d3381b1394db7.jpg: 640x640 8 fishs, 26.0ms\n",
      "Speed: 3.0ms preprocess, 26.0ms inference, 6.0ms postprocess per image at shape (1, 3, 640, 640)\n",
      "Processed and saved: results\\frame_0740_jpg.rf.cdb8f90ffb484a371b9d3381b1394db7.jpg\n",
      "Processed and saved: keypoint_predictions\\frame_0740_jpg.rf.cdb8f90ffb484a371b9d3381b1394db7.txt\n",
      "\n",
      "image 1/1 c:\\Users\\sudee\\Documents\\Projects\\Pondify\\preprocessed_images\\frame_0741_jpg.rf.71a3ec6a3bc5d2247914b7592293d393.jpg: 640x640 4 fishs, 27.0ms\n",
      "Speed: 4.0ms preprocess, 27.0ms inference, 5.0ms postprocess per image at shape (1, 3, 640, 640)\n",
      "Processed and saved: results\\frame_0741_jpg.rf.71a3ec6a3bc5d2247914b7592293d393.jpg\n",
      "Processed and saved: keypoint_predictions\\frame_0741_jpg.rf.71a3ec6a3bc5d2247914b7592293d393.txt\n",
      "\n",
      "image 1/1 c:\\Users\\sudee\\Documents\\Projects\\Pondify\\preprocessed_images\\frame_0741_jpg.rf.c1064ff1597387496996907c03fb4727.jpg: 640x640 4 fishs, 32.0ms\n",
      "Speed: 3.0ms preprocess, 32.0ms inference, 4.0ms postprocess per image at shape (1, 3, 640, 640)\n",
      "Processed and saved: results\\frame_0741_jpg.rf.c1064ff1597387496996907c03fb4727.jpg\n",
      "Processed and saved: keypoint_predictions\\frame_0741_jpg.rf.c1064ff1597387496996907c03fb4727.txt\n",
      "\n",
      "image 1/1 c:\\Users\\sudee\\Documents\\Projects\\Pondify\\preprocessed_images\\frame_0741_jpg.rf.db87480c3af2fe2d160e25b98e04ea5b.jpg: 640x640 4 fishs, 23.0ms\n",
      "Speed: 4.0ms preprocess, 23.0ms inference, 5.0ms postprocess per image at shape (1, 3, 640, 640)\n",
      "Processed and saved: results\\frame_0741_jpg.rf.db87480c3af2fe2d160e25b98e04ea5b.jpg\n",
      "Processed and saved: keypoint_predictions\\frame_0741_jpg.rf.db87480c3af2fe2d160e25b98e04ea5b.txt\n",
      "\n",
      "image 1/1 c:\\Users\\sudee\\Documents\\Projects\\Pondify\\preprocessed_images\\frame_0742_jpg.rf.2b8fd8b2f7fa13f1fa23c9a5e9cf8d47.jpg: 640x640 6 fishs, 24.4ms\n",
      "Speed: 5.0ms preprocess, 24.4ms inference, 6.0ms postprocess per image at shape (1, 3, 640, 640)\n",
      "Processed and saved: results\\frame_0742_jpg.rf.2b8fd8b2f7fa13f1fa23c9a5e9cf8d47.jpg\n",
      "Processed and saved: keypoint_predictions\\frame_0742_jpg.rf.2b8fd8b2f7fa13f1fa23c9a5e9cf8d47.txt\n",
      "\n",
      "image 1/1 c:\\Users\\sudee\\Documents\\Projects\\Pondify\\preprocessed_images\\frame_0742_jpg.rf.794f238e87c653d703e5d84f130e8cd4.jpg: 640x640 6 fishs, 32.0ms\n",
      "Speed: 5.0ms preprocess, 32.0ms inference, 5.0ms postprocess per image at shape (1, 3, 640, 640)\n",
      "Processed and saved: results\\frame_0742_jpg.rf.794f238e87c653d703e5d84f130e8cd4.jpg\n",
      "Processed and saved: keypoint_predictions\\frame_0742_jpg.rf.794f238e87c653d703e5d84f130e8cd4.txt\n",
      "\n",
      "image 1/1 c:\\Users\\sudee\\Documents\\Projects\\Pondify\\preprocessed_images\\frame_0742_jpg.rf.82f0663d26399210ce8d36359cf3b332.jpg: 640x640 6 fishs, 28.3ms\n",
      "Speed: 5.0ms preprocess, 28.3ms inference, 5.0ms postprocess per image at shape (1, 3, 640, 640)\n",
      "Processed and saved: results\\frame_0742_jpg.rf.82f0663d26399210ce8d36359cf3b332.jpg\n",
      "Processed and saved: keypoint_predictions\\frame_0742_jpg.rf.82f0663d26399210ce8d36359cf3b332.txt\n",
      "\n",
      "image 1/1 c:\\Users\\sudee\\Documents\\Projects\\Pondify\\preprocessed_images\\frame_0743_jpg.rf.24b5af6e89b5d16c4b8e3993acf4c0dd.jpg: 640x640 6 fishs, 32.0ms\n",
      "Speed: 4.0ms preprocess, 32.0ms inference, 4.0ms postprocess per image at shape (1, 3, 640, 640)\n",
      "Processed and saved: results\\frame_0743_jpg.rf.24b5af6e89b5d16c4b8e3993acf4c0dd.jpg\n",
      "Processed and saved: keypoint_predictions\\frame_0743_jpg.rf.24b5af6e89b5d16c4b8e3993acf4c0dd.txt\n",
      "\n",
      "image 1/1 c:\\Users\\sudee\\Documents\\Projects\\Pondify\\preprocessed_images\\frame_0743_jpg.rf.cb51855b0c4b8b9ea04e5b8a4bfaf4aa.jpg: 640x640 6 fishs, 33.0ms\n",
      "Speed: 4.0ms preprocess, 33.0ms inference, 7.0ms postprocess per image at shape (1, 3, 640, 640)\n",
      "Processed and saved: results\\frame_0743_jpg.rf.cb51855b0c4b8b9ea04e5b8a4bfaf4aa.jpg\n",
      "Processed and saved: keypoint_predictions\\frame_0743_jpg.rf.cb51855b0c4b8b9ea04e5b8a4bfaf4aa.txt\n",
      "\n",
      "image 1/1 c:\\Users\\sudee\\Documents\\Projects\\Pondify\\preprocessed_images\\frame_0746_jpg.rf.1cb03b18e9bf650b4e155e0a6d94fa14.jpg: 640x640 5 fishs, 29.0ms\n",
      "Speed: 4.0ms preprocess, 29.0ms inference, 4.0ms postprocess per image at shape (1, 3, 640, 640)\n",
      "Processed and saved: results\\frame_0746_jpg.rf.1cb03b18e9bf650b4e155e0a6d94fa14.jpg\n",
      "Processed and saved: keypoint_predictions\\frame_0746_jpg.rf.1cb03b18e9bf650b4e155e0a6d94fa14.txt\n",
      "\n",
      "image 1/1 c:\\Users\\sudee\\Documents\\Projects\\Pondify\\preprocessed_images\\frame_0746_jpg.rf.5099b6a2d0577d07fb46ccd798c53260.jpg: 640x640 5 fishs, 34.0ms\n",
      "Speed: 3.0ms preprocess, 34.0ms inference, 4.0ms postprocess per image at shape (1, 3, 640, 640)\n",
      "Processed and saved: results\\frame_0746_jpg.rf.5099b6a2d0577d07fb46ccd798c53260.jpg\n",
      "Processed and saved: keypoint_predictions\\frame_0746_jpg.rf.5099b6a2d0577d07fb46ccd798c53260.txt\n",
      "\n",
      "image 1/1 c:\\Users\\sudee\\Documents\\Projects\\Pondify\\preprocessed_images\\frame_0747_jpg.rf.2412af7ff71454b3161d49c73836ef7e.jpg: 640x640 7 fishs, 29.9ms\n",
      "Speed: 5.0ms preprocess, 29.9ms inference, 5.0ms postprocess per image at shape (1, 3, 640, 640)\n",
      "Processed and saved: results\\frame_0747_jpg.rf.2412af7ff71454b3161d49c73836ef7e.jpg\n",
      "Processed and saved: keypoint_predictions\\frame_0747_jpg.rf.2412af7ff71454b3161d49c73836ef7e.txt\n",
      "\n",
      "image 1/1 c:\\Users\\sudee\\Documents\\Projects\\Pondify\\preprocessed_images\\frame_0747_jpg.rf.b36cd223dcd435040460f0247f61cc35.jpg: 640x640 7 fishs, 26.0ms\n",
      "Speed: 6.0ms preprocess, 26.0ms inference, 6.0ms postprocess per image at shape (1, 3, 640, 640)\n",
      "Processed and saved: results\\frame_0747_jpg.rf.b36cd223dcd435040460f0247f61cc35.jpg\n",
      "Processed and saved: keypoint_predictions\\frame_0747_jpg.rf.b36cd223dcd435040460f0247f61cc35.txt\n",
      "\n",
      "image 1/1 c:\\Users\\sudee\\Documents\\Projects\\Pondify\\preprocessed_images\\frame_0749_jpg.rf.43d2d394738e113e59319049aacc796f.jpg: 640x640 2 fishs, 39.0ms\n",
      "Speed: 6.0ms preprocess, 39.0ms inference, 5.1ms postprocess per image at shape (1, 3, 640, 640)\n",
      "Processed and saved: results\\frame_0749_jpg.rf.43d2d394738e113e59319049aacc796f.jpg\n",
      "Processed and saved: keypoint_predictions\\frame_0749_jpg.rf.43d2d394738e113e59319049aacc796f.txt\n",
      "\n",
      "image 1/1 c:\\Users\\sudee\\Documents\\Projects\\Pondify\\preprocessed_images\\frame_0749_jpg.rf.f74b20658e84b5407fa91e961dedeb91.jpg: 640x640 2 fishs, 31.0ms\n",
      "Speed: 5.0ms preprocess, 31.0ms inference, 5.0ms postprocess per image at shape (1, 3, 640, 640)\n",
      "Processed and saved: results\\frame_0749_jpg.rf.f74b20658e84b5407fa91e961dedeb91.jpg\n",
      "Processed and saved: keypoint_predictions\\frame_0749_jpg.rf.f74b20658e84b5407fa91e961dedeb91.txt\n",
      "\n",
      "image 1/1 c:\\Users\\sudee\\Documents\\Projects\\Pondify\\preprocessed_images\\frame_0750_jpg.rf.0cb6a9f77ea8866f2171678e4c4457f6.jpg: 640x640 4 fishs, 33.0ms\n",
      "Speed: 4.9ms preprocess, 33.0ms inference, 9.0ms postprocess per image at shape (1, 3, 640, 640)\n",
      "Processed and saved: results\\frame_0750_jpg.rf.0cb6a9f77ea8866f2171678e4c4457f6.jpg\n",
      "Processed and saved: keypoint_predictions\\frame_0750_jpg.rf.0cb6a9f77ea8866f2171678e4c4457f6.txt\n",
      "\n",
      "image 1/1 c:\\Users\\sudee\\Documents\\Projects\\Pondify\\preprocessed_images\\frame_0750_jpg.rf.2ef980f87859b48bc6262a6d314b83dc.jpg: 640x640 4 fishs, 39.0ms\n",
      "Speed: 5.1ms preprocess, 39.0ms inference, 6.0ms postprocess per image at shape (1, 3, 640, 640)\n",
      "Processed and saved: results\\frame_0750_jpg.rf.2ef980f87859b48bc6262a6d314b83dc.jpg\n",
      "Processed and saved: keypoint_predictions\\frame_0750_jpg.rf.2ef980f87859b48bc6262a6d314b83dc.txt\n",
      "\n",
      "image 1/1 c:\\Users\\sudee\\Documents\\Projects\\Pondify\\preprocessed_images\\frame_0750_jpg.rf.af044c40098d9918aa014f7710b764c6.jpg: 640x640 4 fishs, 30.9ms\n",
      "Speed: 5.0ms preprocess, 30.9ms inference, 5.1ms postprocess per image at shape (1, 3, 640, 640)\n",
      "Processed and saved: results\\frame_0750_jpg.rf.af044c40098d9918aa014f7710b764c6.jpg\n",
      "Processed and saved: keypoint_predictions\\frame_0750_jpg.rf.af044c40098d9918aa014f7710b764c6.txt\n",
      "\n",
      "image 1/1 c:\\Users\\sudee\\Documents\\Projects\\Pondify\\preprocessed_images\\frame_0755_jpg.rf.b079c67481b2025b374b1642efeaeab2.jpg: 640x640 2 fishs, 56.2ms\n",
      "Speed: 9.0ms preprocess, 56.2ms inference, 9.0ms postprocess per image at shape (1, 3, 640, 640)\n",
      "Processed and saved: results\\frame_0755_jpg.rf.b079c67481b2025b374b1642efeaeab2.jpg\n",
      "Processed and saved: keypoint_predictions\\frame_0755_jpg.rf.b079c67481b2025b374b1642efeaeab2.txt\n",
      "\n",
      "image 1/1 c:\\Users\\sudee\\Documents\\Projects\\Pondify\\preprocessed_images\\frame_0761_jpg.rf.e084aae4b98ea35cb530ae1d2831216d.jpg: 640x640 4 fishs, 39.0ms\n",
      "Speed: 5.0ms preprocess, 39.0ms inference, 8.2ms postprocess per image at shape (1, 3, 640, 640)\n",
      "Processed and saved: results\\frame_0761_jpg.rf.e084aae4b98ea35cb530ae1d2831216d.jpg\n",
      "Processed and saved: keypoint_predictions\\frame_0761_jpg.rf.e084aae4b98ea35cb530ae1d2831216d.txt\n",
      "\n",
      "image 1/1 c:\\Users\\sudee\\Documents\\Projects\\Pondify\\preprocessed_images\\frame_0764_jpg.rf.296738e6219ebe2c21a4e91f1eb8e90a.jpg: 640x640 3 fishs, 36.0ms\n",
      "Speed: 4.0ms preprocess, 36.0ms inference, 5.0ms postprocess per image at shape (1, 3, 640, 640)\n",
      "Processed and saved: results\\frame_0764_jpg.rf.296738e6219ebe2c21a4e91f1eb8e90a.jpg\n",
      "Processed and saved: keypoint_predictions\\frame_0764_jpg.rf.296738e6219ebe2c21a4e91f1eb8e90a.txt\n",
      "\n",
      "image 1/1 c:\\Users\\sudee\\Documents\\Projects\\Pondify\\preprocessed_images\\frame_0767_jpg.rf.7db063d3c45631ea0aebd37314c54244.jpg: 640x640 6 fishs, 37.1ms\n",
      "Speed: 5.0ms preprocess, 37.1ms inference, 7.0ms postprocess per image at shape (1, 3, 640, 640)\n",
      "Processed and saved: results\\frame_0767_jpg.rf.7db063d3c45631ea0aebd37314c54244.jpg\n",
      "Processed and saved: keypoint_predictions\\frame_0767_jpg.rf.7db063d3c45631ea0aebd37314c54244.txt\n",
      "\n",
      "image 1/1 c:\\Users\\sudee\\Documents\\Projects\\Pondify\\preprocessed_images\\frame_0769_jpg.rf.fa756b3c17edce0cf00934fa0786745c.jpg: 640x640 3 fishs, 33.0ms\n",
      "Speed: 5.0ms preprocess, 33.0ms inference, 6.0ms postprocess per image at shape (1, 3, 640, 640)\n",
      "Processed and saved: results\\frame_0769_jpg.rf.fa756b3c17edce0cf00934fa0786745c.jpg\n",
      "Processed and saved: keypoint_predictions\\frame_0769_jpg.rf.fa756b3c17edce0cf00934fa0786745c.txt\n",
      "\n",
      "image 1/1 c:\\Users\\sudee\\Documents\\Projects\\Pondify\\preprocessed_images\\frame_0770_jpg.rf.fbb8b997dfdf4997e1dea58fe76e77b7.jpg: 640x640 4 fishs, 49.1ms\n",
      "Speed: 6.0ms preprocess, 49.1ms inference, 4.0ms postprocess per image at shape (1, 3, 640, 640)\n",
      "Processed and saved: results\\frame_0770_jpg.rf.fbb8b997dfdf4997e1dea58fe76e77b7.jpg\n",
      "Processed and saved: keypoint_predictions\\frame_0770_jpg.rf.fbb8b997dfdf4997e1dea58fe76e77b7.txt\n",
      "\n",
      "image 1/1 c:\\Users\\sudee\\Documents\\Projects\\Pondify\\preprocessed_images\\frame_0778_jpg.rf.b4fbabfdd3fcda12ac60a4f76069a23c.jpg: 640x640 2 fishs, 50.5ms\n",
      "Speed: 5.0ms preprocess, 50.5ms inference, 8.0ms postprocess per image at shape (1, 3, 640, 640)\n",
      "Processed and saved: results\\frame_0778_jpg.rf.b4fbabfdd3fcda12ac60a4f76069a23c.jpg\n",
      "Processed and saved: keypoint_predictions\\frame_0778_jpg.rf.b4fbabfdd3fcda12ac60a4f76069a23c.txt\n",
      "\n",
      "image 1/1 c:\\Users\\sudee\\Documents\\Projects\\Pondify\\preprocessed_images\\frame_0779_jpg.rf.ad67ffe9c8b625d364f1ae76534acf46.jpg: 640x640 4 fishs, 38.2ms\n",
      "Speed: 4.0ms preprocess, 38.2ms inference, 8.0ms postprocess per image at shape (1, 3, 640, 640)\n",
      "Processed and saved: results\\frame_0779_jpg.rf.ad67ffe9c8b625d364f1ae76534acf46.jpg\n",
      "Processed and saved: keypoint_predictions\\frame_0779_jpg.rf.ad67ffe9c8b625d364f1ae76534acf46.txt\n",
      "\n",
      "image 1/1 c:\\Users\\sudee\\Documents\\Projects\\Pondify\\preprocessed_images\\frame_0780_jpg.rf.78db01432dfbaa8a0dd008d0d2933eaa.jpg: 640x640 5 fishs, 39.0ms\n",
      "Speed: 5.0ms preprocess, 39.0ms inference, 4.0ms postprocess per image at shape (1, 3, 640, 640)\n",
      "Processed and saved: results\\frame_0780_jpg.rf.78db01432dfbaa8a0dd008d0d2933eaa.jpg\n",
      "Processed and saved: keypoint_predictions\\frame_0780_jpg.rf.78db01432dfbaa8a0dd008d0d2933eaa.txt\n",
      "\n",
      "image 1/1 c:\\Users\\sudee\\Documents\\Projects\\Pondify\\preprocessed_images\\frame_0781_jpg.rf.908aea03e1adec5626bb2dc6378f44d2.jpg: 640x640 4 fishs, 39.1ms\n",
      "Speed: 4.0ms preprocess, 39.1ms inference, 9.0ms postprocess per image at shape (1, 3, 640, 640)\n",
      "Processed and saved: results\\frame_0781_jpg.rf.908aea03e1adec5626bb2dc6378f44d2.jpg\n",
      "Processed and saved: keypoint_predictions\\frame_0781_jpg.rf.908aea03e1adec5626bb2dc6378f44d2.txt\n",
      "\n",
      "image 1/1 c:\\Users\\sudee\\Documents\\Projects\\Pondify\\preprocessed_images\\frame_0782_jpg.rf.2853f3ab5ed046ce617e06929fff296c.jpg: 640x640 5 fishs, 39.0ms\n",
      "Speed: 6.0ms preprocess, 39.0ms inference, 6.1ms postprocess per image at shape (1, 3, 640, 640)\n",
      "Processed and saved: results\\frame_0782_jpg.rf.2853f3ab5ed046ce617e06929fff296c.jpg\n",
      "Processed and saved: keypoint_predictions\\frame_0782_jpg.rf.2853f3ab5ed046ce617e06929fff296c.txt\n",
      "\n",
      "image 1/1 c:\\Users\\sudee\\Documents\\Projects\\Pondify\\preprocessed_images\\frame_0784_jpg.rf.435a8189b6089d86f8decb2158c49b67.jpg: 640x640 6 fishs, 43.0ms\n",
      "Speed: 10.0ms preprocess, 43.0ms inference, 6.1ms postprocess per image at shape (1, 3, 640, 640)\n",
      "Processed and saved: results\\frame_0784_jpg.rf.435a8189b6089d86f8decb2158c49b67.jpg\n",
      "Processed and saved: keypoint_predictions\\frame_0784_jpg.rf.435a8189b6089d86f8decb2158c49b67.txt\n",
      "\n",
      "image 1/1 c:\\Users\\sudee\\Documents\\Projects\\Pondify\\preprocessed_images\\frame_0785_jpg.rf.8ffd1ec65d0d42018b5a5059aac84bb3.jpg: 640x640 6 fishs, 49.0ms\n",
      "Speed: 6.0ms preprocess, 49.0ms inference, 8.0ms postprocess per image at shape (1, 3, 640, 640)\n",
      "Processed and saved: results\\frame_0785_jpg.rf.8ffd1ec65d0d42018b5a5059aac84bb3.jpg\n",
      "Processed and saved: keypoint_predictions\\frame_0785_jpg.rf.8ffd1ec65d0d42018b5a5059aac84bb3.txt\n",
      "\n",
      "image 1/1 c:\\Users\\sudee\\Documents\\Projects\\Pondify\\preprocessed_images\\frame_0787_jpg.rf.21603c539c938d7faa78fc3634017424.jpg: 640x640 5 fishs, 47.0ms\n",
      "Speed: 4.9ms preprocess, 47.0ms inference, 6.0ms postprocess per image at shape (1, 3, 640, 640)\n",
      "Processed and saved: results\\frame_0787_jpg.rf.21603c539c938d7faa78fc3634017424.jpg\n",
      "Processed and saved: keypoint_predictions\\frame_0787_jpg.rf.21603c539c938d7faa78fc3634017424.txt\n",
      "\n",
      "image 1/1 c:\\Users\\sudee\\Documents\\Projects\\Pondify\\preprocessed_images\\frame_0789_jpg.rf.d7bc236a84443a765a9c40210adb0794.jpg: 640x640 4 fishs, 66.9ms\n",
      "Speed: 12.9ms preprocess, 66.9ms inference, 11.1ms postprocess per image at shape (1, 3, 640, 640)\n",
      "Processed and saved: results\\frame_0789_jpg.rf.d7bc236a84443a765a9c40210adb0794.jpg\n",
      "Processed and saved: keypoint_predictions\\frame_0789_jpg.rf.d7bc236a84443a765a9c40210adb0794.txt\n",
      "\n",
      "image 1/1 c:\\Users\\sudee\\Documents\\Projects\\Pondify\\preprocessed_images\\frame_0790_jpg.rf.e386d6a448b2786e5b8978307ce091de.jpg: 640x640 4 fishs, 56.0ms\n",
      "Speed: 8.0ms preprocess, 56.0ms inference, 11.0ms postprocess per image at shape (1, 3, 640, 640)\n",
      "Processed and saved: results\\frame_0790_jpg.rf.e386d6a448b2786e5b8978307ce091de.jpg\n",
      "Processed and saved: keypoint_predictions\\frame_0790_jpg.rf.e386d6a448b2786e5b8978307ce091de.txt\n",
      "\n",
      "image 1/1 c:\\Users\\sudee\\Documents\\Projects\\Pondify\\preprocessed_images\\frame_0792_jpg.rf.eb6778914a00bc8b28695d11dff1cebb.jpg: 640x640 6 fishs, 53.0ms\n",
      "Speed: 5.1ms preprocess, 53.0ms inference, 8.0ms postprocess per image at shape (1, 3, 640, 640)\n",
      "Processed and saved: results\\frame_0792_jpg.rf.eb6778914a00bc8b28695d11dff1cebb.jpg\n",
      "Processed and saved: keypoint_predictions\\frame_0792_jpg.rf.eb6778914a00bc8b28695d11dff1cebb.txt\n",
      "\n",
      "image 1/1 c:\\Users\\sudee\\Documents\\Projects\\Pondify\\preprocessed_images\\frame_0793_jpg.rf.6de70068293d3f6c6c1234051625a5aa.jpg: 640x640 6 fishs, 50.0ms\n",
      "Speed: 5.1ms preprocess, 50.0ms inference, 6.0ms postprocess per image at shape (1, 3, 640, 640)\n",
      "Processed and saved: results\\frame_0793_jpg.rf.6de70068293d3f6c6c1234051625a5aa.jpg\n",
      "Processed and saved: keypoint_predictions\\frame_0793_jpg.rf.6de70068293d3f6c6c1234051625a5aa.txt\n",
      "\n",
      "image 1/1 c:\\Users\\sudee\\Documents\\Projects\\Pondify\\preprocessed_images\\frame_0794_jpg.rf.a984b257a47475ccc2ee6bdf6a010ce3.jpg: 640x640 6 fishs, 47.0ms\n",
      "Speed: 6.1ms preprocess, 47.0ms inference, 8.9ms postprocess per image at shape (1, 3, 640, 640)\n",
      "Processed and saved: results\\frame_0794_jpg.rf.a984b257a47475ccc2ee6bdf6a010ce3.jpg\n",
      "Processed and saved: keypoint_predictions\\frame_0794_jpg.rf.a984b257a47475ccc2ee6bdf6a010ce3.txt\n",
      "\n",
      "image 1/1 c:\\Users\\sudee\\Documents\\Projects\\Pondify\\preprocessed_images\\frame_0795_jpg.rf.8d19a1ab702b5dcc52ac78ab597e53ab.jpg: 640x640 4 fishs, 50.0ms\n",
      "Speed: 5.0ms preprocess, 50.0ms inference, 8.0ms postprocess per image at shape (1, 3, 640, 640)\n",
      "Processed and saved: results\\frame_0795_jpg.rf.8d19a1ab702b5dcc52ac78ab597e53ab.jpg\n",
      "Processed and saved: keypoint_predictions\\frame_0795_jpg.rf.8d19a1ab702b5dcc52ac78ab597e53ab.txt\n",
      "\n",
      "image 1/1 c:\\Users\\sudee\\Documents\\Projects\\Pondify\\preprocessed_images\\frame_0795_jpg.rf.b9ca8d084b69417bca13d380e83b70df.jpg: 640x640 4 fishs, 56.0ms\n",
      "Speed: 7.9ms preprocess, 56.0ms inference, 12.0ms postprocess per image at shape (1, 3, 640, 640)\n",
      "Processed and saved: results\\frame_0795_jpg.rf.b9ca8d084b69417bca13d380e83b70df.jpg\n",
      "Processed and saved: keypoint_predictions\\frame_0795_jpg.rf.b9ca8d084b69417bca13d380e83b70df.txt\n",
      "\n",
      "image 1/1 c:\\Users\\sudee\\Documents\\Projects\\Pondify\\preprocessed_images\\frame_0796_jpg.rf.d45a806d1c6ececf7cd0c74fe6d372eb.jpg: 640x640 4 fishs, 47.1ms\n",
      "Speed: 9.0ms preprocess, 47.1ms inference, 7.1ms postprocess per image at shape (1, 3, 640, 640)\n",
      "Processed and saved: results\\frame_0796_jpg.rf.d45a806d1c6ececf7cd0c74fe6d372eb.jpg\n",
      "Processed and saved: keypoint_predictions\\frame_0796_jpg.rf.d45a806d1c6ececf7cd0c74fe6d372eb.txt\n",
      "\n",
      "image 1/1 c:\\Users\\sudee\\Documents\\Projects\\Pondify\\preprocessed_images\\frame_0796_jpg.rf.f6d4b8f6011c4ad9a50b6da735af900a.jpg: 640x640 4 fishs, 50.0ms\n",
      "Speed: 9.0ms preprocess, 50.0ms inference, 11.0ms postprocess per image at shape (1, 3, 640, 640)\n",
      "Processed and saved: results\\frame_0796_jpg.rf.f6d4b8f6011c4ad9a50b6da735af900a.jpg\n",
      "Processed and saved: keypoint_predictions\\frame_0796_jpg.rf.f6d4b8f6011c4ad9a50b6da735af900a.txt\n",
      "\n",
      "image 1/1 c:\\Users\\sudee\\Documents\\Projects\\Pondify\\preprocessed_images\\frame_0797_jpg.rf.07f05d3001928ca1ca015b0125b046d2.jpg: 640x640 4 fishs, 46.9ms\n",
      "Speed: 8.0ms preprocess, 46.9ms inference, 8.0ms postprocess per image at shape (1, 3, 640, 640)\n",
      "Processed and saved: results\\frame_0797_jpg.rf.07f05d3001928ca1ca015b0125b046d2.jpg\n",
      "Processed and saved: keypoint_predictions\\frame_0797_jpg.rf.07f05d3001928ca1ca015b0125b046d2.txt\n",
      "\n",
      "image 1/1 c:\\Users\\sudee\\Documents\\Projects\\Pondify\\preprocessed_images\\frame_0797_jpg.rf.269c95ae47bafd98258df1defece1902.jpg: 640x640 4 fishs, 50.0ms\n",
      "Speed: 6.0ms preprocess, 50.0ms inference, 4.0ms postprocess per image at shape (1, 3, 640, 640)\n",
      "Processed and saved: results\\frame_0797_jpg.rf.269c95ae47bafd98258df1defece1902.jpg\n",
      "Processed and saved: keypoint_predictions\\frame_0797_jpg.rf.269c95ae47bafd98258df1defece1902.txt\n",
      "\n",
      "image 1/1 c:\\Users\\sudee\\Documents\\Projects\\Pondify\\preprocessed_images\\frame_0800_jpg.rf.147a93f6e2fd1e3aecf27e3618e37136.jpg: 640x640 4 fishs, 62.0ms\n",
      "Speed: 5.0ms preprocess, 62.0ms inference, 7.0ms postprocess per image at shape (1, 3, 640, 640)\n",
      "Processed and saved: results\\frame_0800_jpg.rf.147a93f6e2fd1e3aecf27e3618e37136.jpg\n",
      "Processed and saved: keypoint_predictions\\frame_0800_jpg.rf.147a93f6e2fd1e3aecf27e3618e37136.txt\n",
      "\n",
      "image 1/1 c:\\Users\\sudee\\Documents\\Projects\\Pondify\\preprocessed_images\\frame_0803_jpg.rf.b4e627bacc501d26fb57eb43aa1c6a7e.jpg: 640x640 3 fishs, 58.1ms\n",
      "Speed: 5.9ms preprocess, 58.1ms inference, 8.0ms postprocess per image at shape (1, 3, 640, 640)\n",
      "Processed and saved: results\\frame_0803_jpg.rf.b4e627bacc501d26fb57eb43aa1c6a7e.jpg\n",
      "Processed and saved: keypoint_predictions\\frame_0803_jpg.rf.b4e627bacc501d26fb57eb43aa1c6a7e.txt\n",
      "\n",
      "image 1/1 c:\\Users\\sudee\\Documents\\Projects\\Pondify\\preprocessed_images\\frame_0805_jpg.rf.5700f27cb83301c64baeba86c24fadc4.jpg: 640x640 7 fishs, 53.1ms\n",
      "Speed: 6.9ms preprocess, 53.1ms inference, 7.9ms postprocess per image at shape (1, 3, 640, 640)\n",
      "Processed and saved: results\\frame_0805_jpg.rf.5700f27cb83301c64baeba86c24fadc4.jpg\n",
      "Processed and saved: keypoint_predictions\\frame_0805_jpg.rf.5700f27cb83301c64baeba86c24fadc4.txt\n",
      "\n",
      "image 1/1 c:\\Users\\sudee\\Documents\\Projects\\Pondify\\preprocessed_images\\frame_0806_jpg.rf.134e7db3f8515ea8c539c333cc90375e.jpg: 640x640 4 fishs, 50.1ms\n",
      "Speed: 6.0ms preprocess, 50.1ms inference, 13.9ms postprocess per image at shape (1, 3, 640, 640)\n",
      "Processed and saved: results\\frame_0806_jpg.rf.134e7db3f8515ea8c539c333cc90375e.jpg\n",
      "Processed and saved: keypoint_predictions\\frame_0806_jpg.rf.134e7db3f8515ea8c539c333cc90375e.txt\n",
      "\n",
      "image 1/1 c:\\Users\\sudee\\Documents\\Projects\\Pondify\\preprocessed_images\\frame_0807_jpg.rf.61b2e6514fd8fc3f5d426ebfed9d4a4b.jpg: 640x640 5 fishs, 52.8ms\n",
      "Speed: 6.1ms preprocess, 52.8ms inference, 9.0ms postprocess per image at shape (1, 3, 640, 640)\n",
      "Processed and saved: results\\frame_0807_jpg.rf.61b2e6514fd8fc3f5d426ebfed9d4a4b.jpg\n",
      "Processed and saved: keypoint_predictions\\frame_0807_jpg.rf.61b2e6514fd8fc3f5d426ebfed9d4a4b.txt\n",
      "\n",
      "image 1/1 c:\\Users\\sudee\\Documents\\Projects\\Pondify\\preprocessed_images\\frame_0807_jpg.rf.e77f3800ca73c63b52f703a42c37687a.jpg: 640x640 5 fishs, 52.9ms\n",
      "Speed: 5.0ms preprocess, 52.9ms inference, 10.0ms postprocess per image at shape (1, 3, 640, 640)\n",
      "Processed and saved: results\\frame_0807_jpg.rf.e77f3800ca73c63b52f703a42c37687a.jpg\n",
      "Processed and saved: keypoint_predictions\\frame_0807_jpg.rf.e77f3800ca73c63b52f703a42c37687a.txt\n",
      "\n",
      "image 1/1 c:\\Users\\sudee\\Documents\\Projects\\Pondify\\preprocessed_images\\frame_0808_jpg.rf.7df09bc98c378f62ec73862f4c19e914.jpg: 640x640 3 fishs, 57.0ms\n",
      "Speed: 8.9ms preprocess, 57.0ms inference, 7.0ms postprocess per image at shape (1, 3, 640, 640)\n",
      "Processed and saved: results\\frame_0808_jpg.rf.7df09bc98c378f62ec73862f4c19e914.jpg\n",
      "Processed and saved: keypoint_predictions\\frame_0808_jpg.rf.7df09bc98c378f62ec73862f4c19e914.txt\n",
      "\n",
      "image 1/1 c:\\Users\\sudee\\Documents\\Projects\\Pondify\\preprocessed_images\\frame_0808_jpg.rf.8a28ff88b0582b53deb31aa43df89de6.jpg: 640x640 3 fishs, 61.1ms\n",
      "Speed: 8.0ms preprocess, 61.1ms inference, 9.0ms postprocess per image at shape (1, 3, 640, 640)\n",
      "Processed and saved: results\\frame_0808_jpg.rf.8a28ff88b0582b53deb31aa43df89de6.jpg\n",
      "Processed and saved: keypoint_predictions\\frame_0808_jpg.rf.8a28ff88b0582b53deb31aa43df89de6.txt\n",
      "\n",
      "image 1/1 c:\\Users\\sudee\\Documents\\Projects\\Pondify\\preprocessed_images\\frame_0810_jpg.rf.43e9f6677fa6029d95023d608d99d62b.jpg: 640x640 7 fishs, 57.9ms\n",
      "Speed: 7.0ms preprocess, 57.9ms inference, 12.0ms postprocess per image at shape (1, 3, 640, 640)\n",
      "Processed and saved: results\\frame_0810_jpg.rf.43e9f6677fa6029d95023d608d99d62b.jpg\n",
      "Processed and saved: keypoint_predictions\\frame_0810_jpg.rf.43e9f6677fa6029d95023d608d99d62b.txt\n",
      "\n",
      "image 1/1 c:\\Users\\sudee\\Documents\\Projects\\Pondify\\preprocessed_images\\frame_0810_jpg.rf.bee8bd0bba4d138ca7fe5466080eca1f.jpg: 640x640 6 fishs, 52.1ms\n",
      "Speed: 5.0ms preprocess, 52.1ms inference, 7.0ms postprocess per image at shape (1, 3, 640, 640)\n",
      "Processed and saved: results\\frame_0810_jpg.rf.bee8bd0bba4d138ca7fe5466080eca1f.jpg\n",
      "Processed and saved: keypoint_predictions\\frame_0810_jpg.rf.bee8bd0bba4d138ca7fe5466080eca1f.txt\n",
      "\n",
      "image 1/1 c:\\Users\\sudee\\Documents\\Projects\\Pondify\\preprocessed_images\\frame_0812_jpg.rf.005bf676ba1878737a61374d8c40bdf0.jpg: 640x640 7 fishs, 54.0ms\n",
      "Speed: 6.0ms preprocess, 54.0ms inference, 9.0ms postprocess per image at shape (1, 3, 640, 640)\n",
      "Processed and saved: results\\frame_0812_jpg.rf.005bf676ba1878737a61374d8c40bdf0.jpg\n",
      "Processed and saved: keypoint_predictions\\frame_0812_jpg.rf.005bf676ba1878737a61374d8c40bdf0.txt\n",
      "\n",
      "image 1/1 c:\\Users\\sudee\\Documents\\Projects\\Pondify\\preprocessed_images\\frame_0812_jpg.rf.8e870be25d78716ebb94b80087880759.jpg: 640x640 6 fishs, 49.1ms\n",
      "Speed: 5.9ms preprocess, 49.1ms inference, 7.0ms postprocess per image at shape (1, 3, 640, 640)\n",
      "Processed and saved: results\\frame_0812_jpg.rf.8e870be25d78716ebb94b80087880759.jpg\n",
      "Processed and saved: keypoint_predictions\\frame_0812_jpg.rf.8e870be25d78716ebb94b80087880759.txt\n",
      "\n",
      "image 1/1 c:\\Users\\sudee\\Documents\\Projects\\Pondify\\preprocessed_images\\frame_0813_jpg.rf.3918b625af59a9788711990e27b591be.jpg: 640x640 5 fishs, 52.0ms\n",
      "Speed: 6.0ms preprocess, 52.0ms inference, 8.0ms postprocess per image at shape (1, 3, 640, 640)\n",
      "Processed and saved: results\\frame_0813_jpg.rf.3918b625af59a9788711990e27b591be.jpg\n",
      "Processed and saved: keypoint_predictions\\frame_0813_jpg.rf.3918b625af59a9788711990e27b591be.txt\n",
      "\n",
      "image 1/1 c:\\Users\\sudee\\Documents\\Projects\\Pondify\\preprocessed_images\\frame_0814_jpg.rf.9e87d291c5ce860fa47d29f81c2de4b0.jpg: 640x640 5 fishs, 58.0ms\n",
      "Speed: 6.0ms preprocess, 58.0ms inference, 9.0ms postprocess per image at shape (1, 3, 640, 640)\n",
      "Processed and saved: results\\frame_0814_jpg.rf.9e87d291c5ce860fa47d29f81c2de4b0.jpg\n",
      "Processed and saved: keypoint_predictions\\frame_0814_jpg.rf.9e87d291c5ce860fa47d29f81c2de4b0.txt\n",
      "\n",
      "image 1/1 c:\\Users\\sudee\\Documents\\Projects\\Pondify\\preprocessed_images\\frame_0814_jpg.rf.ef29d0e35b6931ec4a038af206d9aab6.jpg: 640x640 5 fishs, 58.9ms\n",
      "Speed: 6.0ms preprocess, 58.9ms inference, 11.0ms postprocess per image at shape (1, 3, 640, 640)\n",
      "Processed and saved: results\\frame_0814_jpg.rf.ef29d0e35b6931ec4a038af206d9aab6.jpg\n",
      "Processed and saved: keypoint_predictions\\frame_0814_jpg.rf.ef29d0e35b6931ec4a038af206d9aab6.txt\n",
      "\n",
      "image 1/1 c:\\Users\\sudee\\Documents\\Projects\\Pondify\\preprocessed_images\\frame_0816_jpg.rf.cfecb316ab65989e1204ff129e8fb807.jpg: 640x640 4 fishs, 57.0ms\n",
      "Speed: 8.0ms preprocess, 57.0ms inference, 8.0ms postprocess per image at shape (1, 3, 640, 640)\n",
      "Processed and saved: results\\frame_0816_jpg.rf.cfecb316ab65989e1204ff129e8fb807.jpg\n",
      "Processed and saved: keypoint_predictions\\frame_0816_jpg.rf.cfecb316ab65989e1204ff129e8fb807.txt\n",
      "\n",
      "image 1/1 c:\\Users\\sudee\\Documents\\Projects\\Pondify\\preprocessed_images\\frame_0816_jpg.rf.dd5d609da043bc4915bb471182cbed46.jpg: 640x640 4 fishs, 60.0ms\n",
      "Speed: 7.0ms preprocess, 60.0ms inference, 9.0ms postprocess per image at shape (1, 3, 640, 640)\n",
      "Processed and saved: results\\frame_0816_jpg.rf.dd5d609da043bc4915bb471182cbed46.jpg\n",
      "Processed and saved: keypoint_predictions\\frame_0816_jpg.rf.dd5d609da043bc4915bb471182cbed46.txt\n",
      "\n",
      "image 1/1 c:\\Users\\sudee\\Documents\\Projects\\Pondify\\preprocessed_images\\frame_0818_jpg.rf.8d7a4023d56fb2c8708c8c5cecc0e463.jpg: 640x640 3 fishs, 58.0ms\n",
      "Speed: 7.0ms preprocess, 58.0ms inference, 9.3ms postprocess per image at shape (1, 3, 640, 640)\n",
      "Processed and saved: results\\frame_0818_jpg.rf.8d7a4023d56fb2c8708c8c5cecc0e463.jpg\n",
      "Processed and saved: keypoint_predictions\\frame_0818_jpg.rf.8d7a4023d56fb2c8708c8c5cecc0e463.txt\n",
      "\n",
      "image 1/1 c:\\Users\\sudee\\Documents\\Projects\\Pondify\\preprocessed_images\\frame_0818_jpg.rf.d469d80431a14bc884cf13789742e943.jpg: 640x640 4 fishs, 63.0ms\n",
      "Speed: 6.0ms preprocess, 63.0ms inference, 9.0ms postprocess per image at shape (1, 3, 640, 640)\n",
      "Processed and saved: results\\frame_0818_jpg.rf.d469d80431a14bc884cf13789742e943.jpg\n",
      "Processed and saved: keypoint_predictions\\frame_0818_jpg.rf.d469d80431a14bc884cf13789742e943.txt\n",
      "\n",
      "image 1/1 c:\\Users\\sudee\\Documents\\Projects\\Pondify\\preprocessed_images\\frame_0828_jpg.rf.bfa06d701c2fa97cf40b2e3f3cb82a2f.jpg: 640x640 4 fishs, 56.3ms\n",
      "Speed: 10.0ms preprocess, 56.3ms inference, 10.1ms postprocess per image at shape (1, 3, 640, 640)\n",
      "Processed and saved: results\\frame_0828_jpg.rf.bfa06d701c2fa97cf40b2e3f3cb82a2f.jpg\n",
      "Processed and saved: keypoint_predictions\\frame_0828_jpg.rf.bfa06d701c2fa97cf40b2e3f3cb82a2f.txt\n",
      "\n",
      "image 1/1 c:\\Users\\sudee\\Documents\\Projects\\Pondify\\preprocessed_images\\frame_0829_jpg.rf.5281e075f22c29453c87ebbf49d88502.jpg: 640x640 3 fishs, 55.2ms\n",
      "Speed: 6.0ms preprocess, 55.2ms inference, 9.5ms postprocess per image at shape (1, 3, 640, 640)\n",
      "Processed and saved: results\\frame_0829_jpg.rf.5281e075f22c29453c87ebbf49d88502.jpg\n",
      "Processed and saved: keypoint_predictions\\frame_0829_jpg.rf.5281e075f22c29453c87ebbf49d88502.txt\n",
      "\n",
      "image 1/1 c:\\Users\\sudee\\Documents\\Projects\\Pondify\\preprocessed_images\\frame_0831_jpg.rf.0060f66cfdf2bba87d2baa1c88badd33.jpg: 640x640 5 fishs, 59.4ms\n",
      "Speed: 4.2ms preprocess, 59.4ms inference, 10.4ms postprocess per image at shape (1, 3, 640, 640)\n",
      "Processed and saved: results\\frame_0831_jpg.rf.0060f66cfdf2bba87d2baa1c88badd33.jpg\n",
      "Processed and saved: keypoint_predictions\\frame_0831_jpg.rf.0060f66cfdf2bba87d2baa1c88badd33.txt\n",
      "\n",
      "image 1/1 c:\\Users\\sudee\\Documents\\Projects\\Pondify\\preprocessed_images\\frame_0831_jpg.rf.6e267a981fc3a70b4e3a9d65bfa4b1b9.jpg: 640x640 5 fishs, 56.2ms\n",
      "Speed: 6.0ms preprocess, 56.2ms inference, 8.5ms postprocess per image at shape (1, 3, 640, 640)\n",
      "Processed and saved: results\\frame_0831_jpg.rf.6e267a981fc3a70b4e3a9d65bfa4b1b9.jpg\n",
      "Processed and saved: keypoint_predictions\\frame_0831_jpg.rf.6e267a981fc3a70b4e3a9d65bfa4b1b9.txt\n",
      "\n",
      "image 1/1 c:\\Users\\sudee\\Documents\\Projects\\Pondify\\preprocessed_images\\frame_0834_jpg.rf.81bf9d971775162b054bcde01d44806d.jpg: 640x640 4 fishs, 50.5ms\n",
      "Speed: 5.0ms preprocess, 50.5ms inference, 9.9ms postprocess per image at shape (1, 3, 640, 640)\n",
      "Processed and saved: results\\frame_0834_jpg.rf.81bf9d971775162b054bcde01d44806d.jpg\n",
      "Processed and saved: keypoint_predictions\\frame_0834_jpg.rf.81bf9d971775162b054bcde01d44806d.txt\n",
      "\n",
      "image 1/1 c:\\Users\\sudee\\Documents\\Projects\\Pondify\\preprocessed_images\\frame_0834_jpg.rf.c3262bfaba1b11303f6a6f64975dacf3.jpg: 640x640 3 fishs, 60.1ms\n",
      "Speed: 5.9ms preprocess, 60.1ms inference, 10.0ms postprocess per image at shape (1, 3, 640, 640)\n",
      "Processed and saved: results\\frame_0834_jpg.rf.c3262bfaba1b11303f6a6f64975dacf3.jpg\n",
      "Processed and saved: keypoint_predictions\\frame_0834_jpg.rf.c3262bfaba1b11303f6a6f64975dacf3.txt\n",
      "\n",
      "image 1/1 c:\\Users\\sudee\\Documents\\Projects\\Pondify\\preprocessed_images\\frame_0835_jpg.rf.1c3118a7c99b1ce0394e92802a0d1bca.jpg: 640x640 4 fishs, 66.2ms\n",
      "Speed: 8.0ms preprocess, 66.2ms inference, 10.0ms postprocess per image at shape (1, 3, 640, 640)\n",
      "Processed and saved: results\\frame_0835_jpg.rf.1c3118a7c99b1ce0394e92802a0d1bca.jpg\n",
      "Processed and saved: keypoint_predictions\\frame_0835_jpg.rf.1c3118a7c99b1ce0394e92802a0d1bca.txt\n",
      "\n",
      "image 1/1 c:\\Users\\sudee\\Documents\\Projects\\Pondify\\preprocessed_images\\frame_0835_jpg.rf.25d3fa2f035252b706962c78bc25caf4.jpg: 640x640 5 fishs, 51.1ms\n",
      "Speed: 5.0ms preprocess, 51.1ms inference, 11.2ms postprocess per image at shape (1, 3, 640, 640)\n",
      "Processed and saved: results\\frame_0835_jpg.rf.25d3fa2f035252b706962c78bc25caf4.jpg\n",
      "Processed and saved: keypoint_predictions\\frame_0835_jpg.rf.25d3fa2f035252b706962c78bc25caf4.txt\n",
      "\n",
      "image 1/1 c:\\Users\\sudee\\Documents\\Projects\\Pondify\\preprocessed_images\\frame_0837_jpg.rf.2ae7611ae657cb0f3c378effc11bb515.jpg: 640x640 3 fishs, 52.0ms\n",
      "Speed: 15.0ms preprocess, 52.0ms inference, 8.0ms postprocess per image at shape (1, 3, 640, 640)\n",
      "Processed and saved: results\\frame_0837_jpg.rf.2ae7611ae657cb0f3c378effc11bb515.jpg\n",
      "Processed and saved: keypoint_predictions\\frame_0837_jpg.rf.2ae7611ae657cb0f3c378effc11bb515.txt\n",
      "\n",
      "image 1/1 c:\\Users\\sudee\\Documents\\Projects\\Pondify\\preprocessed_images\\frame_0837_jpg.rf.7a37c14959f079326a10a725ea93a728.jpg: 640x640 3 fishs, 56.5ms\n",
      "Speed: 6.0ms preprocess, 56.5ms inference, 10.1ms postprocess per image at shape (1, 3, 640, 640)\n",
      "Processed and saved: results\\frame_0837_jpg.rf.7a37c14959f079326a10a725ea93a728.jpg\n",
      "Processed and saved: keypoint_predictions\\frame_0837_jpg.rf.7a37c14959f079326a10a725ea93a728.txt\n",
      "\n",
      "image 1/1 c:\\Users\\sudee\\Documents\\Projects\\Pondify\\preprocessed_images\\frame_0843_jpg.rf.0782d0e0d1cda6a9f247dfd69650a90e.jpg: 640x640 3 fishs, 49.1ms\n",
      "Speed: 7.9ms preprocess, 49.1ms inference, 11.9ms postprocess per image at shape (1, 3, 640, 640)\n",
      "Processed and saved: results\\frame_0843_jpg.rf.0782d0e0d1cda6a9f247dfd69650a90e.jpg\n",
      "Processed and saved: keypoint_predictions\\frame_0843_jpg.rf.0782d0e0d1cda6a9f247dfd69650a90e.txt\n",
      "\n",
      "image 1/1 c:\\Users\\sudee\\Documents\\Projects\\Pondify\\preprocessed_images\\frame_0843_jpg.rf.9158afafad3180a87357166620a06824.jpg: 640x640 2 fishs, 52.5ms\n",
      "Speed: 6.0ms preprocess, 52.5ms inference, 9.0ms postprocess per image at shape (1, 3, 640, 640)\n",
      "Processed and saved: results\\frame_0843_jpg.rf.9158afafad3180a87357166620a06824.jpg\n",
      "Processed and saved: keypoint_predictions\\frame_0843_jpg.rf.9158afafad3180a87357166620a06824.txt\n",
      "\n",
      "image 1/1 c:\\Users\\sudee\\Documents\\Projects\\Pondify\\preprocessed_images\\frame_0844_jpg.rf.509ec7525689d38caa0b694f9a7ace3c.jpg: 640x640 3 fishs, 62.9ms\n",
      "Speed: 5.0ms preprocess, 62.9ms inference, 8.9ms postprocess per image at shape (1, 3, 640, 640)\n",
      "Processed and saved: results\\frame_0844_jpg.rf.509ec7525689d38caa0b694f9a7ace3c.jpg\n",
      "Processed and saved: keypoint_predictions\\frame_0844_jpg.rf.509ec7525689d38caa0b694f9a7ace3c.txt\n",
      "\n",
      "image 1/1 c:\\Users\\sudee\\Documents\\Projects\\Pondify\\preprocessed_images\\frame_0844_jpg.rf.d8f70f2e34b09299154449ffde3eab74.jpg: 640x640 3 fishs, 54.7ms\n",
      "Speed: 5.0ms preprocess, 54.7ms inference, 8.0ms postprocess per image at shape (1, 3, 640, 640)\n",
      "Processed and saved: results\\frame_0844_jpg.rf.d8f70f2e34b09299154449ffde3eab74.jpg\n",
      "Processed and saved: keypoint_predictions\\frame_0844_jpg.rf.d8f70f2e34b09299154449ffde3eab74.txt\n",
      "\n",
      "image 1/1 c:\\Users\\sudee\\Documents\\Projects\\Pondify\\preprocessed_images\\frame_0848_jpg.rf.4aaa52d4f72878108d41c01fad8c2b84.jpg: 640x640 3 fishs, 61.7ms\n",
      "Speed: 6.0ms preprocess, 61.7ms inference, 14.4ms postprocess per image at shape (1, 3, 640, 640)\n",
      "Processed and saved: results\\frame_0848_jpg.rf.4aaa52d4f72878108d41c01fad8c2b84.jpg\n",
      "Processed and saved: keypoint_predictions\\frame_0848_jpg.rf.4aaa52d4f72878108d41c01fad8c2b84.txt\n",
      "\n",
      "image 1/1 c:\\Users\\sudee\\Documents\\Projects\\Pondify\\preprocessed_images\\frame_0848_jpg.rf.b23f85c860153a5029f04a01f9d2c660.jpg: 640x640 3 fishs, 55.3ms\n",
      "Speed: 6.0ms preprocess, 55.3ms inference, 11.4ms postprocess per image at shape (1, 3, 640, 640)\n",
      "Processed and saved: results\\frame_0848_jpg.rf.b23f85c860153a5029f04a01f9d2c660.jpg\n",
      "Processed and saved: keypoint_predictions\\frame_0848_jpg.rf.b23f85c860153a5029f04a01f9d2c660.txt\n",
      "\n",
      "image 1/1 c:\\Users\\sudee\\Documents\\Projects\\Pondify\\preprocessed_images\\frame_0849_jpg.rf.444942fd563d8b98ad2102ec87fabca1.jpg: 640x640 4 fishs, 68.0ms\n",
      "Speed: 6.1ms preprocess, 68.0ms inference, 10.1ms postprocess per image at shape (1, 3, 640, 640)\n",
      "Processed and saved: results\\frame_0849_jpg.rf.444942fd563d8b98ad2102ec87fabca1.jpg\n",
      "Processed and saved: keypoint_predictions\\frame_0849_jpg.rf.444942fd563d8b98ad2102ec87fabca1.txt\n",
      "\n",
      "image 1/1 c:\\Users\\sudee\\Documents\\Projects\\Pondify\\preprocessed_images\\frame_0849_jpg.rf.d0b3696f5f516b99ea35b50a85d66ce9.jpg: 640x640 4 fishs, 50.0ms\n",
      "Speed: 8.0ms preprocess, 50.0ms inference, 8.0ms postprocess per image at shape (1, 3, 640, 640)\n",
      "Processed and saved: results\\frame_0849_jpg.rf.d0b3696f5f516b99ea35b50a85d66ce9.jpg\n",
      "Processed and saved: keypoint_predictions\\frame_0849_jpg.rf.d0b3696f5f516b99ea35b50a85d66ce9.txt\n",
      "\n",
      "image 1/1 c:\\Users\\sudee\\Documents\\Projects\\Pondify\\preprocessed_images\\frame_0851_jpg.rf.52ebc43657223d51e02716a0fcd99851.jpg: 640x640 3 fishs, 52.4ms\n",
      "Speed: 10.0ms preprocess, 52.4ms inference, 10.0ms postprocess per image at shape (1, 3, 640, 640)\n",
      "Processed and saved: results\\frame_0851_jpg.rf.52ebc43657223d51e02716a0fcd99851.jpg\n",
      "Processed and saved: keypoint_predictions\\frame_0851_jpg.rf.52ebc43657223d51e02716a0fcd99851.txt\n",
      "\n",
      "image 1/1 c:\\Users\\sudee\\Documents\\Projects\\Pondify\\preprocessed_images\\frame_0851_jpg.rf.c85c59d4ff1e4162ed86d3fc909fb93a.jpg: 640x640 3 fishs, 56.1ms\n",
      "Speed: 5.8ms preprocess, 56.1ms inference, 11.0ms postprocess per image at shape (1, 3, 640, 640)\n",
      "Processed and saved: results\\frame_0851_jpg.rf.c85c59d4ff1e4162ed86d3fc909fb93a.jpg\n",
      "Processed and saved: keypoint_predictions\\frame_0851_jpg.rf.c85c59d4ff1e4162ed86d3fc909fb93a.txt\n",
      "\n",
      "image 1/1 c:\\Users\\sudee\\Documents\\Projects\\Pondify\\preprocessed_images\\frame_0852_jpg.rf.aa57c93a2e020223d900d2532760c889.jpg: 640x640 5 fishs, 53.0ms\n",
      "Speed: 7.1ms preprocess, 53.0ms inference, 10.0ms postprocess per image at shape (1, 3, 640, 640)\n",
      "Processed and saved: results\\frame_0852_jpg.rf.aa57c93a2e020223d900d2532760c889.jpg\n",
      "Processed and saved: keypoint_predictions\\frame_0852_jpg.rf.aa57c93a2e020223d900d2532760c889.txt\n",
      "\n",
      "image 1/1 c:\\Users\\sudee\\Documents\\Projects\\Pondify\\preprocessed_images\\frame_0853_jpg.rf.5724cd417f20e56835858bc3c2ef9e34.jpg: 640x640 3 fishs, 45.1ms\n",
      "Speed: 6.0ms preprocess, 45.1ms inference, 6.0ms postprocess per image at shape (1, 3, 640, 640)\n",
      "Processed and saved: results\\frame_0853_jpg.rf.5724cd417f20e56835858bc3c2ef9e34.jpg\n",
      "Processed and saved: keypoint_predictions\\frame_0853_jpg.rf.5724cd417f20e56835858bc3c2ef9e34.txt\n",
      "\n",
      "image 1/1 c:\\Users\\sudee\\Documents\\Projects\\Pondify\\preprocessed_images\\frame_0853_jpg.rf.e7137995d78734d0562f7f4e8bbf3357.jpg: 640x640 3 fishs, 52.0ms\n",
      "Speed: 6.0ms preprocess, 52.0ms inference, 16.0ms postprocess per image at shape (1, 3, 640, 640)\n",
      "Processed and saved: results\\frame_0853_jpg.rf.e7137995d78734d0562f7f4e8bbf3357.jpg\n",
      "Processed and saved: keypoint_predictions\\frame_0853_jpg.rf.e7137995d78734d0562f7f4e8bbf3357.txt\n",
      "\n",
      "image 1/1 c:\\Users\\sudee\\Documents\\Projects\\Pondify\\preprocessed_images\\frame_0855_jpg.rf.4cf2d11849003532e672419c4a18d758.jpg: 640x640 7 fishs, 54.0ms\n",
      "Speed: 6.0ms preprocess, 54.0ms inference, 7.0ms postprocess per image at shape (1, 3, 640, 640)\n",
      "Processed and saved: results\\frame_0855_jpg.rf.4cf2d11849003532e672419c4a18d758.jpg\n",
      "Processed and saved: keypoint_predictions\\frame_0855_jpg.rf.4cf2d11849003532e672419c4a18d758.txt\n",
      "\n",
      "image 1/1 c:\\Users\\sudee\\Documents\\Projects\\Pondify\\preprocessed_images\\frame_0856_jpg.rf.4ed00e54fdf3b5317f7575bee3d894cb.jpg: 640x640 7 fishs, 58.1ms\n",
      "Speed: 5.0ms preprocess, 58.1ms inference, 7.0ms postprocess per image at shape (1, 3, 640, 640)\n",
      "Processed and saved: results\\frame_0856_jpg.rf.4ed00e54fdf3b5317f7575bee3d894cb.jpg\n",
      "Processed and saved: keypoint_predictions\\frame_0856_jpg.rf.4ed00e54fdf3b5317f7575bee3d894cb.txt\n",
      "\n",
      "image 1/1 c:\\Users\\sudee\\Documents\\Projects\\Pondify\\preprocessed_images\\frame_0856_jpg.rf.f8a75e237deb21cd6de437599f2a4f64.jpg: 640x640 6 fishs, 57.1ms\n",
      "Speed: 9.0ms preprocess, 57.1ms inference, 9.0ms postprocess per image at shape (1, 3, 640, 640)\n",
      "Processed and saved: results\\frame_0856_jpg.rf.f8a75e237deb21cd6de437599f2a4f64.jpg\n",
      "Processed and saved: keypoint_predictions\\frame_0856_jpg.rf.f8a75e237deb21cd6de437599f2a4f64.txt\n",
      "\n",
      "image 1/1 c:\\Users\\sudee\\Documents\\Projects\\Pondify\\preprocessed_images\\frame_0857_jpg.rf.40c69f5ccf315ba25b8d91e8ac5c99af.jpg: 640x640 6 fishs, 52.1ms\n",
      "Speed: 8.0ms preprocess, 52.1ms inference, 9.4ms postprocess per image at shape (1, 3, 640, 640)\n",
      "Processed and saved: results\\frame_0857_jpg.rf.40c69f5ccf315ba25b8d91e8ac5c99af.jpg\n",
      "Processed and saved: keypoint_predictions\\frame_0857_jpg.rf.40c69f5ccf315ba25b8d91e8ac5c99af.txt\n",
      "\n",
      "image 1/1 c:\\Users\\sudee\\Documents\\Projects\\Pondify\\preprocessed_images\\frame_0858_jpg.rf.2eaa48ff96619e2caf47550b158e68ec.jpg: 640x640 5 fishs, 56.0ms\n",
      "Speed: 5.9ms preprocess, 56.0ms inference, 15.3ms postprocess per image at shape (1, 3, 640, 640)\n",
      "Processed and saved: results\\frame_0858_jpg.rf.2eaa48ff96619e2caf47550b158e68ec.jpg\n",
      "Processed and saved: keypoint_predictions\\frame_0858_jpg.rf.2eaa48ff96619e2caf47550b158e68ec.txt\n",
      "\n",
      "image 1/1 c:\\Users\\sudee\\Documents\\Projects\\Pondify\\preprocessed_images\\frame_0862_jpg.rf.0acf316900eb55cc3867bfc21000ffc0.jpg: 640x640 5 fishs, 54.0ms\n",
      "Speed: 7.1ms preprocess, 54.0ms inference, 13.0ms postprocess per image at shape (1, 3, 640, 640)\n",
      "Processed and saved: results\\frame_0862_jpg.rf.0acf316900eb55cc3867bfc21000ffc0.jpg\n",
      "Processed and saved: keypoint_predictions\\frame_0862_jpg.rf.0acf316900eb55cc3867bfc21000ffc0.txt\n",
      "\n",
      "image 1/1 c:\\Users\\sudee\\Documents\\Projects\\Pondify\\preprocessed_images\\frame_0863_jpg.rf.4da13fdfed8a4c375881d7d9b5a9ebed.jpg: 640x640 2 fishs, 57.0ms\n",
      "Speed: 10.9ms preprocess, 57.0ms inference, 10.0ms postprocess per image at shape (1, 3, 640, 640)\n",
      "Processed and saved: results\\frame_0863_jpg.rf.4da13fdfed8a4c375881d7d9b5a9ebed.jpg\n",
      "Processed and saved: keypoint_predictions\\frame_0863_jpg.rf.4da13fdfed8a4c375881d7d9b5a9ebed.txt\n",
      "\n",
      "image 1/1 c:\\Users\\sudee\\Documents\\Projects\\Pondify\\preprocessed_images\\frame_0864_jpg.rf.cd829450eb9553a78ec886eeb119969a.jpg: 640x640 5 fishs, 58.0ms\n",
      "Speed: 5.0ms preprocess, 58.0ms inference, 9.9ms postprocess per image at shape (1, 3, 640, 640)\n",
      "Processed and saved: results\\frame_0864_jpg.rf.cd829450eb9553a78ec886eeb119969a.jpg\n",
      "Processed and saved: keypoint_predictions\\frame_0864_jpg.rf.cd829450eb9553a78ec886eeb119969a.txt\n",
      "\n",
      "image 1/1 c:\\Users\\sudee\\Documents\\Projects\\Pondify\\preprocessed_images\\frame_0865_jpg.rf.2a9da7a5ad121bf6dc56b352b8515356.jpg: 640x640 4 fishs, 51.0ms\n",
      "Speed: 4.0ms preprocess, 51.0ms inference, 9.1ms postprocess per image at shape (1, 3, 640, 640)\n",
      "Processed and saved: results\\frame_0865_jpg.rf.2a9da7a5ad121bf6dc56b352b8515356.jpg\n",
      "Processed and saved: keypoint_predictions\\frame_0865_jpg.rf.2a9da7a5ad121bf6dc56b352b8515356.txt\n",
      "\n",
      "image 1/1 c:\\Users\\sudee\\Documents\\Projects\\Pondify\\preprocessed_images\\frame_1002_jpg.rf.041289706ecd8f0daa1c36aaccd147d4.jpg: 640x640 2 fishs, 52.1ms\n",
      "Speed: 6.0ms preprocess, 52.1ms inference, 8.0ms postprocess per image at shape (1, 3, 640, 640)\n",
      "Processed and saved: results\\frame_1002_jpg.rf.041289706ecd8f0daa1c36aaccd147d4.jpg\n",
      "Processed and saved: keypoint_predictions\\frame_1002_jpg.rf.041289706ecd8f0daa1c36aaccd147d4.txt\n",
      "\n",
      "image 1/1 c:\\Users\\sudee\\Documents\\Projects\\Pondify\\preprocessed_images\\frame_1025_jpg.rf.4c927484440834415dfa316ed441160c.jpg: 640x640 2 fishs, 52.0ms\n",
      "Speed: 6.0ms preprocess, 52.0ms inference, 8.0ms postprocess per image at shape (1, 3, 640, 640)\n",
      "Processed and saved: results\\frame_1025_jpg.rf.4c927484440834415dfa316ed441160c.jpg\n",
      "Processed and saved: keypoint_predictions\\frame_1025_jpg.rf.4c927484440834415dfa316ed441160c.txt\n",
      "\n",
      "image 1/1 c:\\Users\\sudee\\Documents\\Projects\\Pondify\\preprocessed_images\\frame_1026_jpg.rf.eacf1b082d6d95880015c128d8078b9c.jpg: 640x640 3 fishs, 55.0ms\n",
      "Speed: 7.0ms preprocess, 55.0ms inference, 10.0ms postprocess per image at shape (1, 3, 640, 640)\n",
      "Processed and saved: results\\frame_1026_jpg.rf.eacf1b082d6d95880015c128d8078b9c.jpg\n",
      "Processed and saved: keypoint_predictions\\frame_1026_jpg.rf.eacf1b082d6d95880015c128d8078b9c.txt\n",
      "\n",
      "image 1/1 c:\\Users\\sudee\\Documents\\Projects\\Pondify\\preprocessed_images\\frame_1027_jpg.rf.1de19f8ea866a25e34d2cb8fd0a02857.jpg: 640x640 2 fishs, 66.9ms\n",
      "Speed: 8.0ms preprocess, 66.9ms inference, 22.1ms postprocess per image at shape (1, 3, 640, 640)\n",
      "Processed and saved: results\\frame_1027_jpg.rf.1de19f8ea866a25e34d2cb8fd0a02857.jpg\n",
      "Processed and saved: keypoint_predictions\\frame_1027_jpg.rf.1de19f8ea866a25e34d2cb8fd0a02857.txt\n",
      "\n",
      "image 1/1 c:\\Users\\sudee\\Documents\\Projects\\Pondify\\preprocessed_images\\frame_1028_jpg.rf.7608890c34b9176055d61821e37b3a1c.jpg: 640x640 2 fishs, 61.7ms\n",
      "Speed: 5.0ms preprocess, 61.7ms inference, 9.3ms postprocess per image at shape (1, 3, 640, 640)\n",
      "Processed and saved: results\\frame_1028_jpg.rf.7608890c34b9176055d61821e37b3a1c.jpg\n",
      "Processed and saved: keypoint_predictions\\frame_1028_jpg.rf.7608890c34b9176055d61821e37b3a1c.txt\n",
      "\n",
      "image 1/1 c:\\Users\\sudee\\Documents\\Projects\\Pondify\\preprocessed_images\\frame_1030_jpg.rf.70fa9bef193a9df88070242ac77c054c.jpg: 640x640 2 fishs, 53.1ms\n",
      "Speed: 6.0ms preprocess, 53.1ms inference, 9.1ms postprocess per image at shape (1, 3, 640, 640)\n",
      "Processed and saved: results\\frame_1030_jpg.rf.70fa9bef193a9df88070242ac77c054c.jpg\n",
      "Processed and saved: keypoint_predictions\\frame_1030_jpg.rf.70fa9bef193a9df88070242ac77c054c.txt\n",
      "\n",
      "image 1/1 c:\\Users\\sudee\\Documents\\Projects\\Pondify\\preprocessed_images\\frame_1032_jpg.rf.e84b053b2148e95bc90916f9af43ab06.jpg: 640x640 2 fishs, 60.4ms\n",
      "Speed: 7.0ms preprocess, 60.4ms inference, 11.0ms postprocess per image at shape (1, 3, 640, 640)\n",
      "Processed and saved: results\\frame_1032_jpg.rf.e84b053b2148e95bc90916f9af43ab06.jpg\n",
      "Processed and saved: keypoint_predictions\\frame_1032_jpg.rf.e84b053b2148e95bc90916f9af43ab06.txt\n",
      "\n",
      "image 1/1 c:\\Users\\sudee\\Documents\\Projects\\Pondify\\preprocessed_images\\frame_1036_jpg.rf.27a5cc54319be05afce461288c5e81c6.jpg: 640x640 3 fishs, 51.9ms\n",
      "Speed: 6.1ms preprocess, 51.9ms inference, 9.0ms postprocess per image at shape (1, 3, 640, 640)\n",
      "Processed and saved: results\\frame_1036_jpg.rf.27a5cc54319be05afce461288c5e81c6.jpg\n",
      "Processed and saved: keypoint_predictions\\frame_1036_jpg.rf.27a5cc54319be05afce461288c5e81c6.txt\n",
      "\n",
      "image 1/1 c:\\Users\\sudee\\Documents\\Projects\\Pondify\\preprocessed_images\\frame_1048_jpg.rf.1d62a13d00c5d44bb1e54b7362533e35.jpg: 640x640 2 fishs, 51.0ms\n",
      "Speed: 7.0ms preprocess, 51.0ms inference, 9.0ms postprocess per image at shape (1, 3, 640, 640)\n",
      "Processed and saved: results\\frame_1048_jpg.rf.1d62a13d00c5d44bb1e54b7362533e35.jpg\n",
      "Processed and saved: keypoint_predictions\\frame_1048_jpg.rf.1d62a13d00c5d44bb1e54b7362533e35.txt\n",
      "\n",
      "image 1/1 c:\\Users\\sudee\\Documents\\Projects\\Pondify\\preprocessed_images\\frame_1052_jpg.rf.daa284e8c697ac297cec36d46ada055f.jpg: 640x640 1 fish, 55.0ms\n",
      "Speed: 9.0ms preprocess, 55.0ms inference, 11.0ms postprocess per image at shape (1, 3, 640, 640)\n",
      "Processed and saved: results\\frame_1052_jpg.rf.daa284e8c697ac297cec36d46ada055f.jpg\n",
      "Processed and saved: keypoint_predictions\\frame_1052_jpg.rf.daa284e8c697ac297cec36d46ada055f.txt\n",
      "\n",
      "image 1/1 c:\\Users\\sudee\\Documents\\Projects\\Pondify\\preprocessed_images\\frame_1054_jpg.rf.8df3958434a6cbe171e88d5cb357a414.jpg: 640x640 2 fishs, 53.6ms\n",
      "Speed: 5.9ms preprocess, 53.6ms inference, 8.0ms postprocess per image at shape (1, 3, 640, 640)\n",
      "Processed and saved: results\\frame_1054_jpg.rf.8df3958434a6cbe171e88d5cb357a414.jpg\n",
      "Processed and saved: keypoint_predictions\\frame_1054_jpg.rf.8df3958434a6cbe171e88d5cb357a414.txt\n",
      "\n",
      "image 1/1 c:\\Users\\sudee\\Documents\\Projects\\Pondify\\preprocessed_images\\frame_1065_jpg.rf.a0c18097fbd452ee1e215eedc6c9359c.jpg: 640x640 3 fishs, 57.0ms\n",
      "Speed: 7.2ms preprocess, 57.0ms inference, 8.0ms postprocess per image at shape (1, 3, 640, 640)\n",
      "Processed and saved: results\\frame_1065_jpg.rf.a0c18097fbd452ee1e215eedc6c9359c.jpg\n",
      "Processed and saved: keypoint_predictions\\frame_1065_jpg.rf.a0c18097fbd452ee1e215eedc6c9359c.txt\n",
      "\n",
      "image 1/1 c:\\Users\\sudee\\Documents\\Projects\\Pondify\\preprocessed_images\\frame_1066_jpg.rf.71af95a900e9de7cb325993975a3ebfb.jpg: 640x640 4 fishs, 31.2ms\n",
      "Speed: 6.0ms preprocess, 31.2ms inference, 6.0ms postprocess per image at shape (1, 3, 640, 640)\n",
      "Processed and saved: results\\frame_1066_jpg.rf.71af95a900e9de7cb325993975a3ebfb.jpg\n",
      "Processed and saved: keypoint_predictions\\frame_1066_jpg.rf.71af95a900e9de7cb325993975a3ebfb.txt\n",
      "\n",
      "image 1/1 c:\\Users\\sudee\\Documents\\Projects\\Pondify\\preprocessed_images\\frame_1070_jpg.rf.7ed91fc9872e2fd52f07a2b1642d7a05.jpg: 640x640 2 fishs, 33.7ms\n",
      "Speed: 5.0ms preprocess, 33.7ms inference, 6.1ms postprocess per image at shape (1, 3, 640, 640)\n",
      "Processed and saved: results\\frame_1070_jpg.rf.7ed91fc9872e2fd52f07a2b1642d7a05.jpg\n",
      "Processed and saved: keypoint_predictions\\frame_1070_jpg.rf.7ed91fc9872e2fd52f07a2b1642d7a05.txt\n",
      "\n",
      "image 1/1 c:\\Users\\sudee\\Documents\\Projects\\Pondify\\preprocessed_images\\frame_1071_jpg.rf.907e9d472b04f5744695bcab05b69d13.jpg: 640x640 3 fishs, 31.3ms\n",
      "Speed: 3.9ms preprocess, 31.3ms inference, 5.1ms postprocess per image at shape (1, 3, 640, 640)\n",
      "Processed and saved: results\\frame_1071_jpg.rf.907e9d472b04f5744695bcab05b69d13.jpg\n",
      "Processed and saved: keypoint_predictions\\frame_1071_jpg.rf.907e9d472b04f5744695bcab05b69d13.txt\n",
      "\n",
      "image 1/1 c:\\Users\\sudee\\Documents\\Projects\\Pondify\\preprocessed_images\\frame_1072_jpg.rf.45ab05351656409c079318a9fc016137.jpg: 640x640 2 fishs, 40.9ms\n",
      "Speed: 4.6ms preprocess, 40.9ms inference, 3.9ms postprocess per image at shape (1, 3, 640, 640)\n",
      "Processed and saved: results\\frame_1072_jpg.rf.45ab05351656409c079318a9fc016137.jpg\n",
      "Processed and saved: keypoint_predictions\\frame_1072_jpg.rf.45ab05351656409c079318a9fc016137.txt\n",
      "\n",
      "image 1/1 c:\\Users\\sudee\\Documents\\Projects\\Pondify\\preprocessed_images\\frame_1073_jpg.rf.f304b1634104d134a1e5daeb0bb362da.jpg: 640x640 2 fishs, 26.0ms\n",
      "Speed: 5.4ms preprocess, 26.0ms inference, 5.0ms postprocess per image at shape (1, 3, 640, 640)\n",
      "Processed and saved: results\\frame_1073_jpg.rf.f304b1634104d134a1e5daeb0bb362da.jpg\n",
      "Processed and saved: keypoint_predictions\\frame_1073_jpg.rf.f304b1634104d134a1e5daeb0bb362da.txt\n",
      "\n",
      "image 1/1 c:\\Users\\sudee\\Documents\\Projects\\Pondify\\preprocessed_images\\frame_1076_jpg.rf.38d846a1f5a71abc4b9cfc3ed47deb0c.jpg: 640x640 4 fishs, 31.5ms\n",
      "Speed: 5.0ms preprocess, 31.5ms inference, 8.0ms postprocess per image at shape (1, 3, 640, 640)\n",
      "Processed and saved: results\\frame_1076_jpg.rf.38d846a1f5a71abc4b9cfc3ed47deb0c.jpg\n",
      "Processed and saved: keypoint_predictions\\frame_1076_jpg.rf.38d846a1f5a71abc4b9cfc3ed47deb0c.txt\n",
      "\n",
      "image 1/1 c:\\Users\\sudee\\Documents\\Projects\\Pondify\\preprocessed_images\\frame_1077_jpg.rf.323a25eb824261cfabc795dbf2f2710d.jpg: 640x640 4 fishs, 38.0ms\n",
      "Speed: 5.0ms preprocess, 38.0ms inference, 7.0ms postprocess per image at shape (1, 3, 640, 640)\n",
      "Processed and saved: results\\frame_1077_jpg.rf.323a25eb824261cfabc795dbf2f2710d.jpg\n",
      "Processed and saved: keypoint_predictions\\frame_1077_jpg.rf.323a25eb824261cfabc795dbf2f2710d.txt\n",
      "\n",
      "image 1/1 c:\\Users\\sudee\\Documents\\Projects\\Pondify\\preprocessed_images\\frame_1078_jpg.rf.e9e49158895c3352b0b4cafdb7f9c28a.jpg: 640x640 3 fishs, 35.9ms\n",
      "Speed: 7.1ms preprocess, 35.9ms inference, 4.0ms postprocess per image at shape (1, 3, 640, 640)\n",
      "Processed and saved: results\\frame_1078_jpg.rf.e9e49158895c3352b0b4cafdb7f9c28a.jpg\n",
      "Processed and saved: keypoint_predictions\\frame_1078_jpg.rf.e9e49158895c3352b0b4cafdb7f9c28a.txt\n",
      "\n",
      "image 1/1 c:\\Users\\sudee\\Documents\\Projects\\Pondify\\preprocessed_images\\frame_1079_jpg.rf.5bee60662e7959381485f79e3ec4c090.jpg: 640x640 2 fishs, 35.0ms\n",
      "Speed: 5.9ms preprocess, 35.0ms inference, 5.0ms postprocess per image at shape (1, 3, 640, 640)\n",
      "Processed and saved: results\\frame_1079_jpg.rf.5bee60662e7959381485f79e3ec4c090.jpg\n",
      "Processed and saved: keypoint_predictions\\frame_1079_jpg.rf.5bee60662e7959381485f79e3ec4c090.txt\n",
      "\n",
      "image 1/1 c:\\Users\\sudee\\Documents\\Projects\\Pondify\\preprocessed_images\\frame_1080_jpg.rf.44973309baee977d91c23985279e683e.jpg: 640x640 2 fishs, 31.8ms\n",
      "Speed: 6.1ms preprocess, 31.8ms inference, 6.1ms postprocess per image at shape (1, 3, 640, 640)\n",
      "Processed and saved: results\\frame_1080_jpg.rf.44973309baee977d91c23985279e683e.jpg\n",
      "Processed and saved: keypoint_predictions\\frame_1080_jpg.rf.44973309baee977d91c23985279e683e.txt\n",
      "\n",
      "image 1/1 c:\\Users\\sudee\\Documents\\Projects\\Pondify\\preprocessed_images\\frame_1081_jpg.rf.6a2073aad6df7479ce770dfa2b9ee80e.jpg: 640x640 2 fishs, 38.0ms\n",
      "Speed: 12.0ms preprocess, 38.0ms inference, 7.0ms postprocess per image at shape (1, 3, 640, 640)\n",
      "Processed and saved: results\\frame_1081_jpg.rf.6a2073aad6df7479ce770dfa2b9ee80e.jpg\n",
      "Processed and saved: keypoint_predictions\\frame_1081_jpg.rf.6a2073aad6df7479ce770dfa2b9ee80e.txt\n",
      "\n",
      "image 1/1 c:\\Users\\sudee\\Documents\\Projects\\Pondify\\preprocessed_images\\frame_1083_jpg.rf.e3b62862940963023645370e4818947f.jpg: 640x640 3 fishs, 43.0ms\n",
      "Speed: 5.0ms preprocess, 43.0ms inference, 6.2ms postprocess per image at shape (1, 3, 640, 640)\n",
      "Processed and saved: results\\frame_1083_jpg.rf.e3b62862940963023645370e4818947f.jpg\n",
      "Processed and saved: keypoint_predictions\\frame_1083_jpg.rf.e3b62862940963023645370e4818947f.txt\n",
      "\n",
      "image 1/1 c:\\Users\\sudee\\Documents\\Projects\\Pondify\\preprocessed_images\\frame_1091_jpg.rf.bc0561f2a7606e4c0e80ed71353dcf67.jpg: 640x640 2 fishs, 38.2ms\n",
      "Speed: 8.4ms preprocess, 38.2ms inference, 5.7ms postprocess per image at shape (1, 3, 640, 640)\n",
      "Processed and saved: results\\frame_1091_jpg.rf.bc0561f2a7606e4c0e80ed71353dcf67.jpg\n",
      "Processed and saved: keypoint_predictions\\frame_1091_jpg.rf.bc0561f2a7606e4c0e80ed71353dcf67.txt\n",
      "\n",
      "image 1/1 c:\\Users\\sudee\\Documents\\Projects\\Pondify\\preprocessed_images\\frame_1244_jpg.rf.1a79f4879f1673dcfa415a02f17dbf55.jpg: 640x640 3 fishs, 52.3ms\n",
      "Speed: 6.1ms preprocess, 52.3ms inference, 8.4ms postprocess per image at shape (1, 3, 640, 640)\n",
      "Processed and saved: results\\frame_1244_jpg.rf.1a79f4879f1673dcfa415a02f17dbf55.jpg\n",
      "Processed and saved: keypoint_predictions\\frame_1244_jpg.rf.1a79f4879f1673dcfa415a02f17dbf55.txt\n",
      "\n",
      "image 1/1 c:\\Users\\sudee\\Documents\\Projects\\Pondify\\preprocessed_images\\frame_1257_jpg.rf.02ecc724fdfe423e76869c210ebafd05.jpg: 640x640 4 fishs, 49.2ms\n",
      "Speed: 4.0ms preprocess, 49.2ms inference, 5.0ms postprocess per image at shape (1, 3, 640, 640)\n",
      "Processed and saved: results\\frame_1257_jpg.rf.02ecc724fdfe423e76869c210ebafd05.jpg\n",
      "Processed and saved: keypoint_predictions\\frame_1257_jpg.rf.02ecc724fdfe423e76869c210ebafd05.txt\n",
      "\n",
      "image 1/1 c:\\Users\\sudee\\Documents\\Projects\\Pondify\\preprocessed_images\\frame_1258_jpg.rf.b01a87c50306393871b93f9af6a37d8a.jpg: 640x640 2 fishs, 43.0ms\n",
      "Speed: 6.1ms preprocess, 43.0ms inference, 5.0ms postprocess per image at shape (1, 3, 640, 640)\n",
      "Processed and saved: results\\frame_1258_jpg.rf.b01a87c50306393871b93f9af6a37d8a.jpg\n",
      "Processed and saved: keypoint_predictions\\frame_1258_jpg.rf.b01a87c50306393871b93f9af6a37d8a.txt\n",
      "\n",
      "image 1/1 c:\\Users\\sudee\\Documents\\Projects\\Pondify\\preprocessed_images\\frame_1259_jpg.rf.005aeff34e43cbdc35e50b86c1065049.jpg: 640x640 3 fishs, 46.0ms\n",
      "Speed: 5.9ms preprocess, 46.0ms inference, 5.0ms postprocess per image at shape (1, 3, 640, 640)\n",
      "Processed and saved: results\\frame_1259_jpg.rf.005aeff34e43cbdc35e50b86c1065049.jpg\n",
      "Processed and saved: keypoint_predictions\\frame_1259_jpg.rf.005aeff34e43cbdc35e50b86c1065049.txt\n",
      "\n",
      "image 1/1 c:\\Users\\sudee\\Documents\\Projects\\Pondify\\preprocessed_images\\frame_1260_jpg.rf.2246bb544de2208894ad86fd2bac33b9.jpg: 640x640 3 fishs, 32.0ms\n",
      "Speed: 4.0ms preprocess, 32.0ms inference, 5.0ms postprocess per image at shape (1, 3, 640, 640)\n",
      "Processed and saved: results\\frame_1260_jpg.rf.2246bb544de2208894ad86fd2bac33b9.jpg\n",
      "Processed and saved: keypoint_predictions\\frame_1260_jpg.rf.2246bb544de2208894ad86fd2bac33b9.txt\n",
      "\n",
      "image 1/1 c:\\Users\\sudee\\Documents\\Projects\\Pondify\\preprocessed_images\\frame_1262_jpg.rf.8a6bc41d627340ca48b320565276e8f8.jpg: 640x640 3 fishs, 31.5ms\n",
      "Speed: 7.1ms preprocess, 31.5ms inference, 4.0ms postprocess per image at shape (1, 3, 640, 640)\n",
      "Processed and saved: results\\frame_1262_jpg.rf.8a6bc41d627340ca48b320565276e8f8.jpg\n",
      "Processed and saved: keypoint_predictions\\frame_1262_jpg.rf.8a6bc41d627340ca48b320565276e8f8.txt\n",
      "\n",
      "image 1/1 c:\\Users\\sudee\\Documents\\Projects\\Pondify\\preprocessed_images\\frame_1264_jpg.rf.11e0129f93b7d735afa659de1fc33857.jpg: 640x640 3 fishs, 45.4ms\n",
      "Speed: 6.0ms preprocess, 45.4ms inference, 5.0ms postprocess per image at shape (1, 3, 640, 640)\n",
      "Processed and saved: results\\frame_1264_jpg.rf.11e0129f93b7d735afa659de1fc33857.jpg\n",
      "Processed and saved: keypoint_predictions\\frame_1264_jpg.rf.11e0129f93b7d735afa659de1fc33857.txt\n",
      "\n",
      "image 1/1 c:\\Users\\sudee\\Documents\\Projects\\Pondify\\preprocessed_images\\frame_1265_jpg.rf.dda895c26866e1646faf938e091430cb.jpg: 640x640 3 fishs, 40.7ms\n",
      "Speed: 5.0ms preprocess, 40.7ms inference, 5.0ms postprocess per image at shape (1, 3, 640, 640)\n",
      "Processed and saved: results\\frame_1265_jpg.rf.dda895c26866e1646faf938e091430cb.jpg\n",
      "Processed and saved: keypoint_predictions\\frame_1265_jpg.rf.dda895c26866e1646faf938e091430cb.txt\n",
      "\n",
      "image 1/1 c:\\Users\\sudee\\Documents\\Projects\\Pondify\\preprocessed_images\\frame_1269_jpg.rf.67ded5a04e31c323860a065de471c6c3.jpg: 640x640 3 fishs, 32.2ms\n",
      "Speed: 5.0ms preprocess, 32.2ms inference, 4.5ms postprocess per image at shape (1, 3, 640, 640)\n",
      "Processed and saved: results\\frame_1269_jpg.rf.67ded5a04e31c323860a065de471c6c3.jpg\n",
      "Processed and saved: keypoint_predictions\\frame_1269_jpg.rf.67ded5a04e31c323860a065de471c6c3.txt\n",
      "\n",
      "image 1/1 c:\\Users\\sudee\\Documents\\Projects\\Pondify\\preprocessed_images\\frame_1270_jpg.rf.0c53a1b7c3d59cd12323425e420e9f7a.jpg: 640x640 3 fishs, 40.7ms\n",
      "Speed: 9.2ms preprocess, 40.7ms inference, 4.1ms postprocess per image at shape (1, 3, 640, 640)\n",
      "Processed and saved: results\\frame_1270_jpg.rf.0c53a1b7c3d59cd12323425e420e9f7a.jpg\n",
      "Processed and saved: keypoint_predictions\\frame_1270_jpg.rf.0c53a1b7c3d59cd12323425e420e9f7a.txt\n",
      "\n",
      "image 1/1 c:\\Users\\sudee\\Documents\\Projects\\Pondify\\preprocessed_images\\frame_1271_jpg.rf.574a3deeb5c59010002aef69c3a48f60.jpg: 640x640 3 fishs, 39.7ms\n",
      "Speed: 5.7ms preprocess, 39.7ms inference, 6.0ms postprocess per image at shape (1, 3, 640, 640)\n",
      "Processed and saved: results\\frame_1271_jpg.rf.574a3deeb5c59010002aef69c3a48f60.jpg\n",
      "Processed and saved: keypoint_predictions\\frame_1271_jpg.rf.574a3deeb5c59010002aef69c3a48f60.txt\n",
      "\n",
      "image 1/1 c:\\Users\\sudee\\Documents\\Projects\\Pondify\\preprocessed_images\\frame_1272_jpg.rf.33e8cba67f827dc7a55b2f07b2466588.jpg: 640x640 2 fishs, 42.0ms\n",
      "Speed: 5.8ms preprocess, 42.0ms inference, 4.0ms postprocess per image at shape (1, 3, 640, 640)\n",
      "Processed and saved: results\\frame_1272_jpg.rf.33e8cba67f827dc7a55b2f07b2466588.jpg\n",
      "Processed and saved: keypoint_predictions\\frame_1272_jpg.rf.33e8cba67f827dc7a55b2f07b2466588.txt\n",
      "\n",
      "image 1/1 c:\\Users\\sudee\\Documents\\Projects\\Pondify\\preprocessed_images\\frame_1273_jpg.rf.e3dbd27465b02f0ea522500f2347e01a.jpg: 640x640 3 fishs, 33.7ms\n",
      "Speed: 5.0ms preprocess, 33.7ms inference, 6.0ms postprocess per image at shape (1, 3, 640, 640)\n",
      "Processed and saved: results\\frame_1273_jpg.rf.e3dbd27465b02f0ea522500f2347e01a.jpg\n",
      "Processed and saved: keypoint_predictions\\frame_1273_jpg.rf.e3dbd27465b02f0ea522500f2347e01a.txt\n",
      "\n",
      "image 1/1 c:\\Users\\sudee\\Documents\\Projects\\Pondify\\preprocessed_images\\frame_1274_jpg.rf.0c65c979ca7d57c4f2397acfbd3cae3a.jpg: 640x640 1 fish, 39.2ms\n",
      "Speed: 6.2ms preprocess, 39.2ms inference, 5.0ms postprocess per image at shape (1, 3, 640, 640)\n",
      "Processed and saved: results\\frame_1274_jpg.rf.0c65c979ca7d57c4f2397acfbd3cae3a.jpg\n",
      "Processed and saved: keypoint_predictions\\frame_1274_jpg.rf.0c65c979ca7d57c4f2397acfbd3cae3a.txt\n",
      "\n",
      "image 1/1 c:\\Users\\sudee\\Documents\\Projects\\Pondify\\preprocessed_images\\frame_1285_jpg.rf.0ca315c2d8badc831dd4ec34ad50625f.jpg: 640x640 3 fishs, 32.2ms\n",
      "Speed: 7.0ms preprocess, 32.2ms inference, 9.2ms postprocess per image at shape (1, 3, 640, 640)\n",
      "Processed and saved: results\\frame_1285_jpg.rf.0ca315c2d8badc831dd4ec34ad50625f.jpg\n",
      "Processed and saved: keypoint_predictions\\frame_1285_jpg.rf.0ca315c2d8badc831dd4ec34ad50625f.txt\n",
      "\n",
      "image 1/1 c:\\Users\\sudee\\Documents\\Projects\\Pondify\\preprocessed_images\\frame_1286_jpg.rf.f78eeed447515e90c243e01332d15dd7.jpg: 640x640 2 fishs, 47.0ms\n",
      "Speed: 7.0ms preprocess, 47.0ms inference, 11.0ms postprocess per image at shape (1, 3, 640, 640)\n",
      "Processed and saved: results\\frame_1286_jpg.rf.f78eeed447515e90c243e01332d15dd7.jpg\n",
      "Processed and saved: keypoint_predictions\\frame_1286_jpg.rf.f78eeed447515e90c243e01332d15dd7.txt\n",
      "\n",
      "image 1/1 c:\\Users\\sudee\\Documents\\Projects\\Pondify\\preprocessed_images\\frame_1287_jpg.rf.8e88218c503dca70ee56bdbdcbf3d063.jpg: 640x640 2 fishs, 39.4ms\n",
      "Speed: 6.3ms preprocess, 39.4ms inference, 5.0ms postprocess per image at shape (1, 3, 640, 640)\n",
      "Processed and saved: results\\frame_1287_jpg.rf.8e88218c503dca70ee56bdbdcbf3d063.jpg\n",
      "Processed and saved: keypoint_predictions\\frame_1287_jpg.rf.8e88218c503dca70ee56bdbdcbf3d063.txt\n",
      "\n",
      "image 1/1 c:\\Users\\sudee\\Documents\\Projects\\Pondify\\preprocessed_images\\frame_1288_jpg.rf.e94599a90479f8643f40eb34fe0efed5.jpg: 640x640 2 fishs, 30.7ms\n",
      "Speed: 9.2ms preprocess, 30.7ms inference, 5.0ms postprocess per image at shape (1, 3, 640, 640)\n",
      "Processed and saved: results\\frame_1288_jpg.rf.e94599a90479f8643f40eb34fe0efed5.jpg\n",
      "Processed and saved: keypoint_predictions\\frame_1288_jpg.rf.e94599a90479f8643f40eb34fe0efed5.txt\n",
      "\n",
      "image 1/1 c:\\Users\\sudee\\Documents\\Projects\\Pondify\\preprocessed_images\\frame_1289_jpg.rf.ee0f13c4cc8893ad98dbb26c853dc716.jpg: 640x640 3 fishs, 44.0ms\n",
      "Speed: 9.0ms preprocess, 44.0ms inference, 8.6ms postprocess per image at shape (1, 3, 640, 640)\n",
      "Processed and saved: results\\frame_1289_jpg.rf.ee0f13c4cc8893ad98dbb26c853dc716.jpg\n",
      "Processed and saved: keypoint_predictions\\frame_1289_jpg.rf.ee0f13c4cc8893ad98dbb26c853dc716.txt\n",
      "\n",
      "image 1/1 c:\\Users\\sudee\\Documents\\Projects\\Pondify\\preprocessed_images\\frame_1290_jpg.rf.b900ae3d054b16a81aa63c21bca15ea8.jpg: 640x640 2 fishs, 34.6ms\n",
      "Speed: 8.0ms preprocess, 34.6ms inference, 6.0ms postprocess per image at shape (1, 3, 640, 640)\n",
      "Processed and saved: results\\frame_1290_jpg.rf.b900ae3d054b16a81aa63c21bca15ea8.jpg\n",
      "Processed and saved: keypoint_predictions\\frame_1290_jpg.rf.b900ae3d054b16a81aa63c21bca15ea8.txt\n",
      "\n",
      "image 1/1 c:\\Users\\sudee\\Documents\\Projects\\Pondify\\preprocessed_images\\frame_1295_jpg.rf.bec9e36e7f7e905352d2a94e636f376e.jpg: 640x640 2 fishs, 36.7ms\n",
      "Speed: 6.0ms preprocess, 36.7ms inference, 5.3ms postprocess per image at shape (1, 3, 640, 640)\n",
      "Processed and saved: results\\frame_1295_jpg.rf.bec9e36e7f7e905352d2a94e636f376e.jpg\n",
      "Processed and saved: keypoint_predictions\\frame_1295_jpg.rf.bec9e36e7f7e905352d2a94e636f376e.txt\n",
      "\n",
      "image 1/1 c:\\Users\\sudee\\Documents\\Projects\\Pondify\\preprocessed_images\\frame_1319_jpg.rf.5f9d1bfbfaba67fdcd4006c83aef068c.jpg: 640x640 3 fishs, 48.0ms\n",
      "Speed: 7.4ms preprocess, 48.0ms inference, 5.0ms postprocess per image at shape (1, 3, 640, 640)\n",
      "Processed and saved: results\\frame_1319_jpg.rf.5f9d1bfbfaba67fdcd4006c83aef068c.jpg\n",
      "Processed and saved: keypoint_predictions\\frame_1319_jpg.rf.5f9d1bfbfaba67fdcd4006c83aef068c.txt\n",
      "\n",
      "image 1/1 c:\\Users\\sudee\\Documents\\Projects\\Pondify\\preprocessed_images\\frame_1320_jpg.rf.e58166a6f04d759581e9e2b1942bdbdd.jpg: 640x640 4 fishs, 35.0ms\n",
      "Speed: 5.0ms preprocess, 35.0ms inference, 4.0ms postprocess per image at shape (1, 3, 640, 640)\n",
      "Processed and saved: results\\frame_1320_jpg.rf.e58166a6f04d759581e9e2b1942bdbdd.jpg\n",
      "Processed and saved: keypoint_predictions\\frame_1320_jpg.rf.e58166a6f04d759581e9e2b1942bdbdd.txt\n",
      "\n",
      "image 1/1 c:\\Users\\sudee\\Documents\\Projects\\Pondify\\preprocessed_images\\frame_1321_jpg.rf.4350ee20b6b8379ed0ecc2404aa44c0d.jpg: 640x640 4 fishs, 50.0ms\n",
      "Speed: 5.0ms preprocess, 50.0ms inference, 9.0ms postprocess per image at shape (1, 3, 640, 640)\n",
      "Processed and saved: results\\frame_1321_jpg.rf.4350ee20b6b8379ed0ecc2404aa44c0d.jpg\n",
      "Processed and saved: keypoint_predictions\\frame_1321_jpg.rf.4350ee20b6b8379ed0ecc2404aa44c0d.txt\n",
      "\n",
      "image 1/1 c:\\Users\\sudee\\Documents\\Projects\\Pondify\\preprocessed_images\\frame_1322_jpg.rf.8c02517137d93d6ee3a8c14ba7358bc3.jpg: 640x640 3 fishs, 36.1ms\n",
      "Speed: 6.0ms preprocess, 36.1ms inference, 5.2ms postprocess per image at shape (1, 3, 640, 640)\n",
      "Processed and saved: results\\frame_1322_jpg.rf.8c02517137d93d6ee3a8c14ba7358bc3.jpg\n",
      "Processed and saved: keypoint_predictions\\frame_1322_jpg.rf.8c02517137d93d6ee3a8c14ba7358bc3.txt\n",
      "\n",
      "image 1/1 c:\\Users\\sudee\\Documents\\Projects\\Pondify\\preprocessed_images\\frame_1323_jpg.rf.0ca92c095cf763f7eeac7bc8e2f5af93.jpg: 640x640 3 fishs, 32.5ms\n",
      "Speed: 4.9ms preprocess, 32.5ms inference, 4.9ms postprocess per image at shape (1, 3, 640, 640)\n",
      "Processed and saved: results\\frame_1323_jpg.rf.0ca92c095cf763f7eeac7bc8e2f5af93.jpg\n",
      "Processed and saved: keypoint_predictions\\frame_1323_jpg.rf.0ca92c095cf763f7eeac7bc8e2f5af93.txt\n",
      "\n",
      "image 1/1 c:\\Users\\sudee\\Documents\\Projects\\Pondify\\preprocessed_images\\frame_1324_jpg.rf.54390cd49463aaaf4bfa585439f1d0f5.jpg: 640x640 4 fishs, 30.0ms\n",
      "Speed: 7.1ms preprocess, 30.0ms inference, 8.8ms postprocess per image at shape (1, 3, 640, 640)\n",
      "Processed and saved: results\\frame_1324_jpg.rf.54390cd49463aaaf4bfa585439f1d0f5.jpg\n",
      "Processed and saved: keypoint_predictions\\frame_1324_jpg.rf.54390cd49463aaaf4bfa585439f1d0f5.txt\n",
      "\n",
      "image 1/1 c:\\Users\\sudee\\Documents\\Projects\\Pondify\\preprocessed_images\\frame_1325_jpg.rf.c461959e74c87a9ed69c372300353619.jpg: 640x640 2 fishs, 40.5ms\n",
      "Speed: 7.4ms preprocess, 40.5ms inference, 4.0ms postprocess per image at shape (1, 3, 640, 640)\n",
      "Processed and saved: results\\frame_1325_jpg.rf.c461959e74c87a9ed69c372300353619.jpg\n",
      "Processed and saved: keypoint_predictions\\frame_1325_jpg.rf.c461959e74c87a9ed69c372300353619.txt\n",
      "\n",
      "image 1/1 c:\\Users\\sudee\\Documents\\Projects\\Pondify\\preprocessed_images\\frame_1376_jpg.rf.37b7611a2b74ff4c5ecfcfd95bd4fd4e.jpg: 640x640 4 fishs, 34.0ms\n",
      "Speed: 6.0ms preprocess, 34.0ms inference, 3.9ms postprocess per image at shape (1, 3, 640, 640)\n",
      "Processed and saved: results\\frame_1376_jpg.rf.37b7611a2b74ff4c5ecfcfd95bd4fd4e.jpg\n",
      "Processed and saved: keypoint_predictions\\frame_1376_jpg.rf.37b7611a2b74ff4c5ecfcfd95bd4fd4e.txt\n",
      "\n",
      "image 1/1 c:\\Users\\sudee\\Documents\\Projects\\Pondify\\preprocessed_images\\frame_1377_jpg.rf.14190334601d401a6366b122fb27f089.jpg: 640x640 4 fishs, 34.0ms\n",
      "Speed: 8.0ms preprocess, 34.0ms inference, 7.2ms postprocess per image at shape (1, 3, 640, 640)\n",
      "Processed and saved: results\\frame_1377_jpg.rf.14190334601d401a6366b122fb27f089.jpg\n",
      "Processed and saved: keypoint_predictions\\frame_1377_jpg.rf.14190334601d401a6366b122fb27f089.txt\n",
      "\n",
      "image 1/1 c:\\Users\\sudee\\Documents\\Projects\\Pondify\\preprocessed_images\\frame_1378_jpg.rf.dc6d3b713b81a189a976c29ae8bebe8f.jpg: 640x640 2 fishs, 54.6ms\n",
      "Speed: 7.0ms preprocess, 54.6ms inference, 9.0ms postprocess per image at shape (1, 3, 640, 640)\n",
      "Processed and saved: results\\frame_1378_jpg.rf.dc6d3b713b81a189a976c29ae8bebe8f.jpg\n",
      "Processed and saved: keypoint_predictions\\frame_1378_jpg.rf.dc6d3b713b81a189a976c29ae8bebe8f.txt\n",
      "\n",
      "image 1/1 c:\\Users\\sudee\\Documents\\Projects\\Pondify\\preprocessed_images\\frame_1379_jpg.rf.ac5c85971701bf5e9cd99e8850cc18e2.jpg: 640x640 3 fishs, 30.1ms\n",
      "Speed: 5.5ms preprocess, 30.1ms inference, 10.0ms postprocess per image at shape (1, 3, 640, 640)\n",
      "Processed and saved: results\\frame_1379_jpg.rf.ac5c85971701bf5e9cd99e8850cc18e2.jpg\n",
      "Processed and saved: keypoint_predictions\\frame_1379_jpg.rf.ac5c85971701bf5e9cd99e8850cc18e2.txt\n",
      "\n",
      "image 1/1 c:\\Users\\sudee\\Documents\\Projects\\Pondify\\preprocessed_images\\frame_1381_jpg.rf.583e057c145906b13eebb854f57e14af.jpg: 640x640 2 fishs, 60.0ms\n",
      "Speed: 5.3ms preprocess, 60.0ms inference, 9.0ms postprocess per image at shape (1, 3, 640, 640)\n",
      "Processed and saved: results\\frame_1381_jpg.rf.583e057c145906b13eebb854f57e14af.jpg\n",
      "Processed and saved: keypoint_predictions\\frame_1381_jpg.rf.583e057c145906b13eebb854f57e14af.txt\n",
      "\n",
      "image 1/1 c:\\Users\\sudee\\Documents\\Projects\\Pondify\\preprocessed_images\\frame_1385_jpg.rf.a06322d7ea266ec818cb4da383bb9f44.jpg: 640x640 3 fishs, 32.1ms\n",
      "Speed: 5.1ms preprocess, 32.1ms inference, 6.0ms postprocess per image at shape (1, 3, 640, 640)\n",
      "Processed and saved: results\\frame_1385_jpg.rf.a06322d7ea266ec818cb4da383bb9f44.jpg\n",
      "Processed and saved: keypoint_predictions\\frame_1385_jpg.rf.a06322d7ea266ec818cb4da383bb9f44.txt\n",
      "\n",
      "image 1/1 c:\\Users\\sudee\\Documents\\Projects\\Pondify\\preprocessed_images\\frame_1406_jpg.rf.e00d797fc286dbdeeb908ea562baba1d.jpg: 640x640 3 fishs, 40.0ms\n",
      "Speed: 6.2ms preprocess, 40.0ms inference, 9.2ms postprocess per image at shape (1, 3, 640, 640)\n",
      "Processed and saved: results\\frame_1406_jpg.rf.e00d797fc286dbdeeb908ea562baba1d.jpg\n",
      "Processed and saved: keypoint_predictions\\frame_1406_jpg.rf.e00d797fc286dbdeeb908ea562baba1d.txt\n",
      "\n",
      "image 1/1 c:\\Users\\sudee\\Documents\\Projects\\Pondify\\preprocessed_images\\frame_1407_jpg.rf.3f9fb877a0ce409bced14474f4a7ccff.jpg: 640x640 2 fishs, 53.2ms\n",
      "Speed: 5.0ms preprocess, 53.2ms inference, 5.0ms postprocess per image at shape (1, 3, 640, 640)\n",
      "Processed and saved: results\\frame_1407_jpg.rf.3f9fb877a0ce409bced14474f4a7ccff.jpg\n",
      "Processed and saved: keypoint_predictions\\frame_1407_jpg.rf.3f9fb877a0ce409bced14474f4a7ccff.txt\n",
      "\n",
      "image 1/1 c:\\Users\\sudee\\Documents\\Projects\\Pondify\\preprocessed_images\\frame_1408_jpg.rf.f7983cd1ddcf0f747681eaf5de01fa9a.jpg: 640x640 2 fishs, 30.6ms\n",
      "Speed: 5.4ms preprocess, 30.6ms inference, 5.0ms postprocess per image at shape (1, 3, 640, 640)\n",
      "Processed and saved: results\\frame_1408_jpg.rf.f7983cd1ddcf0f747681eaf5de01fa9a.jpg\n",
      "Processed and saved: keypoint_predictions\\frame_1408_jpg.rf.f7983cd1ddcf0f747681eaf5de01fa9a.txt\n",
      "\n",
      "image 1/1 c:\\Users\\sudee\\Documents\\Projects\\Pondify\\preprocessed_images\\frame_1409_jpg.rf.90fec50600b2afac6f9366c19c510eb1.jpg: 640x640 2 fishs, 32.1ms\n",
      "Speed: 5.1ms preprocess, 32.1ms inference, 5.1ms postprocess per image at shape (1, 3, 640, 640)\n",
      "Processed and saved: results\\frame_1409_jpg.rf.90fec50600b2afac6f9366c19c510eb1.jpg\n",
      "Processed and saved: keypoint_predictions\\frame_1409_jpg.rf.90fec50600b2afac6f9366c19c510eb1.txt\n",
      "\n",
      "image 1/1 c:\\Users\\sudee\\Documents\\Projects\\Pondify\\preprocessed_images\\frame_1410_jpg.rf.f544c5e710dca0a34883123de0fe3ddf.jpg: 640x640 2 fishs, 42.1ms\n",
      "Speed: 5.0ms preprocess, 42.1ms inference, 8.9ms postprocess per image at shape (1, 3, 640, 640)\n",
      "Processed and saved: results\\frame_1410_jpg.rf.f544c5e710dca0a34883123de0fe3ddf.jpg\n",
      "Processed and saved: keypoint_predictions\\frame_1410_jpg.rf.f544c5e710dca0a34883123de0fe3ddf.txt\n",
      "\n",
      "image 1/1 c:\\Users\\sudee\\Documents\\Projects\\Pondify\\preprocessed_images\\frame_1417_jpg.rf.4ba3c2233c21f72dd1f9f2380d86aa82.jpg: 640x640 3 fishs, 53.0ms\n",
      "Speed: 4.0ms preprocess, 53.0ms inference, 9.0ms postprocess per image at shape (1, 3, 640, 640)\n",
      "Processed and saved: results\\frame_1417_jpg.rf.4ba3c2233c21f72dd1f9f2380d86aa82.jpg\n",
      "Processed and saved: keypoint_predictions\\frame_1417_jpg.rf.4ba3c2233c21f72dd1f9f2380d86aa82.txt\n",
      "\n",
      "image 1/1 c:\\Users\\sudee\\Documents\\Projects\\Pondify\\preprocessed_images\\frame_1418_jpg.rf.0d95549d61895cc89730f5620821ae9a.jpg: 640x640 2 fishs, 38.0ms\n",
      "Speed: 5.0ms preprocess, 38.0ms inference, 6.1ms postprocess per image at shape (1, 3, 640, 640)\n",
      "Processed and saved: results\\frame_1418_jpg.rf.0d95549d61895cc89730f5620821ae9a.jpg\n",
      "Processed and saved: keypoint_predictions\\frame_1418_jpg.rf.0d95549d61895cc89730f5620821ae9a.txt\n",
      "\n",
      "image 1/1 c:\\Users\\sudee\\Documents\\Projects\\Pondify\\preprocessed_images\\frame_1423_jpg.rf.c00d712aee8ee859baf165e5be0307a1.jpg: 640x640 3 fishs, 47.7ms\n",
      "Speed: 4.0ms preprocess, 47.7ms inference, 11.2ms postprocess per image at shape (1, 3, 640, 640)\n",
      "Processed and saved: results\\frame_1423_jpg.rf.c00d712aee8ee859baf165e5be0307a1.jpg\n",
      "Processed and saved: keypoint_predictions\\frame_1423_jpg.rf.c00d712aee8ee859baf165e5be0307a1.txt\n",
      "\n",
      "image 1/1 c:\\Users\\sudee\\Documents\\Projects\\Pondify\\preprocessed_images\\frame_1424_jpg.rf.5888ad6867d2cc62793a7cd035479ee8.jpg: 640x640 5 fishs, 33.1ms\n",
      "Speed: 4.0ms preprocess, 33.1ms inference, 5.0ms postprocess per image at shape (1, 3, 640, 640)\n",
      "Processed and saved: results\\frame_1424_jpg.rf.5888ad6867d2cc62793a7cd035479ee8.jpg\n",
      "Processed and saved: keypoint_predictions\\frame_1424_jpg.rf.5888ad6867d2cc62793a7cd035479ee8.txt\n",
      "\n",
      "image 1/1 c:\\Users\\sudee\\Documents\\Projects\\Pondify\\preprocessed_images\\frame_1425_jpg.rf.683477ae242cc709d6c6d797213dd6b2.jpg: 640x640 3 fishs, 35.0ms\n",
      "Speed: 7.9ms preprocess, 35.0ms inference, 8.0ms postprocess per image at shape (1, 3, 640, 640)\n",
      "Processed and saved: results\\frame_1425_jpg.rf.683477ae242cc709d6c6d797213dd6b2.jpg\n",
      "Processed and saved: keypoint_predictions\\frame_1425_jpg.rf.683477ae242cc709d6c6d797213dd6b2.txt\n",
      "\n",
      "image 1/1 c:\\Users\\sudee\\Documents\\Projects\\Pondify\\preprocessed_images\\frame_1426_jpg.rf.8544ecca56864445fb9c707d9bce9395.jpg: 640x640 4 fishs, 47.9ms\n",
      "Speed: 10.0ms preprocess, 47.9ms inference, 10.0ms postprocess per image at shape (1, 3, 640, 640)\n",
      "Processed and saved: results\\frame_1426_jpg.rf.8544ecca56864445fb9c707d9bce9395.jpg\n",
      "Processed and saved: keypoint_predictions\\frame_1426_jpg.rf.8544ecca56864445fb9c707d9bce9395.txt\n",
      "\n",
      "image 1/1 c:\\Users\\sudee\\Documents\\Projects\\Pondify\\preprocessed_images\\frame_1427_jpg.rf.0677c4327f03b279aa7b51d02ce50e38.jpg: 640x640 2 fishs, 31.0ms\n",
      "Speed: 7.0ms preprocess, 31.0ms inference, 8.0ms postprocess per image at shape (1, 3, 640, 640)\n",
      "Processed and saved: results\\frame_1427_jpg.rf.0677c4327f03b279aa7b51d02ce50e38.jpg\n",
      "Processed and saved: keypoint_predictions\\frame_1427_jpg.rf.0677c4327f03b279aa7b51d02ce50e38.txt\n",
      "\n",
      "image 1/1 c:\\Users\\sudee\\Documents\\Projects\\Pondify\\preprocessed_images\\frame_1428_jpg.rf.578595e0cc00062b71e70b99ccb947b3.jpg: 640x640 3 fishs, 42.0ms\n",
      "Speed: 6.0ms preprocess, 42.0ms inference, 4.0ms postprocess per image at shape (1, 3, 640, 640)\n",
      "Processed and saved: results\\frame_1428_jpg.rf.578595e0cc00062b71e70b99ccb947b3.jpg\n",
      "Processed and saved: keypoint_predictions\\frame_1428_jpg.rf.578595e0cc00062b71e70b99ccb947b3.txt\n",
      "\n",
      "image 1/1 c:\\Users\\sudee\\Documents\\Projects\\Pondify\\preprocessed_images\\frame_1429_jpg.rf.176dea4ab52c87f2805f1b398e8c4fee.jpg: 640x640 4 fishs, 53.0ms\n",
      "Speed: 5.0ms preprocess, 53.0ms inference, 8.0ms postprocess per image at shape (1, 3, 640, 640)\n",
      "Processed and saved: results\\frame_1429_jpg.rf.176dea4ab52c87f2805f1b398e8c4fee.jpg\n",
      "Processed and saved: keypoint_predictions\\frame_1429_jpg.rf.176dea4ab52c87f2805f1b398e8c4fee.txt\n",
      "\n",
      "image 1/1 c:\\Users\\sudee\\Documents\\Projects\\Pondify\\preprocessed_images\\frame_1430_jpg.rf.d02d372548d7624a7b08ed19cdf0906d.jpg: 640x640 4 fishs, 52.0ms\n",
      "Speed: 4.0ms preprocess, 52.0ms inference, 4.0ms postprocess per image at shape (1, 3, 640, 640)\n",
      "Processed and saved: results\\frame_1430_jpg.rf.d02d372548d7624a7b08ed19cdf0906d.jpg\n",
      "Processed and saved: keypoint_predictions\\frame_1430_jpg.rf.d02d372548d7624a7b08ed19cdf0906d.txt\n",
      "\n",
      "image 1/1 c:\\Users\\sudee\\Documents\\Projects\\Pondify\\preprocessed_images\\frame_1431_jpg.rf.441935fdafc4f2dae81256a35012f651.jpg: 640x640 5 fishs, 39.0ms\n",
      "Speed: 5.1ms preprocess, 39.0ms inference, 11.0ms postprocess per image at shape (1, 3, 640, 640)\n",
      "Processed and saved: results\\frame_1431_jpg.rf.441935fdafc4f2dae81256a35012f651.jpg\n",
      "Processed and saved: keypoint_predictions\\frame_1431_jpg.rf.441935fdafc4f2dae81256a35012f651.txt\n",
      "\n",
      "image 1/1 c:\\Users\\sudee\\Documents\\Projects\\Pondify\\preprocessed_images\\frame_1432_jpg.rf.c75b509af9165084d669519e3e48691d.jpg: 640x640 4 fishs, 32.1ms\n",
      "Speed: 4.0ms preprocess, 32.1ms inference, 3.9ms postprocess per image at shape (1, 3, 640, 640)\n",
      "Processed and saved: results\\frame_1432_jpg.rf.c75b509af9165084d669519e3e48691d.jpg\n",
      "Processed and saved: keypoint_predictions\\frame_1432_jpg.rf.c75b509af9165084d669519e3e48691d.txt\n",
      "\n",
      "image 1/1 c:\\Users\\sudee\\Documents\\Projects\\Pondify\\preprocessed_images\\frame_1433_jpg.rf.8a8fba68b62de1d5d1c39464a6667030.jpg: 640x640 3 fishs, 31.0ms\n",
      "Speed: 5.0ms preprocess, 31.0ms inference, 10.0ms postprocess per image at shape (1, 3, 640, 640)\n",
      "Processed and saved: results\\frame_1433_jpg.rf.8a8fba68b62de1d5d1c39464a6667030.jpg\n",
      "Processed and saved: keypoint_predictions\\frame_1433_jpg.rf.8a8fba68b62de1d5d1c39464a6667030.txt\n",
      "\n",
      "image 1/1 c:\\Users\\sudee\\Documents\\Projects\\Pondify\\preprocessed_images\\frame_1434_jpg.rf.bec31f50dcd0810ce34dc442e9b0e4f4.jpg: 640x640 2 fishs, 43.0ms\n",
      "Speed: 7.0ms preprocess, 43.0ms inference, 5.0ms postprocess per image at shape (1, 3, 640, 640)\n",
      "Processed and saved: results\\frame_1434_jpg.rf.bec31f50dcd0810ce34dc442e9b0e4f4.jpg\n",
      "Processed and saved: keypoint_predictions\\frame_1434_jpg.rf.bec31f50dcd0810ce34dc442e9b0e4f4.txt\n",
      "\n",
      "image 1/1 c:\\Users\\sudee\\Documents\\Projects\\Pondify\\preprocessed_images\\frame_1435_jpg.rf.742107f03c4de03edb1290549607d99d.jpg: 640x640 2 fishs, 40.0ms\n",
      "Speed: 4.0ms preprocess, 40.0ms inference, 5.0ms postprocess per image at shape (1, 3, 640, 640)\n",
      "Processed and saved: results\\frame_1435_jpg.rf.742107f03c4de03edb1290549607d99d.jpg\n",
      "Processed and saved: keypoint_predictions\\frame_1435_jpg.rf.742107f03c4de03edb1290549607d99d.txt\n",
      "\n",
      "image 1/1 c:\\Users\\sudee\\Documents\\Projects\\Pondify\\preprocessed_images\\frame_1436_jpg.rf.06c32ed74d692c2acef83426b66ae401.jpg: 640x640 3 fishs, 37.0ms\n",
      "Speed: 4.0ms preprocess, 37.0ms inference, 5.0ms postprocess per image at shape (1, 3, 640, 640)\n",
      "Processed and saved: results\\frame_1436_jpg.rf.06c32ed74d692c2acef83426b66ae401.jpg\n",
      "Processed and saved: keypoint_predictions\\frame_1436_jpg.rf.06c32ed74d692c2acef83426b66ae401.txt\n",
      "\n",
      "image 1/1 c:\\Users\\sudee\\Documents\\Projects\\Pondify\\preprocessed_images\\frame_1437_jpg.rf.4bcc99ac488101cee0c429e3a84d01fc.jpg: 640x640 1 fish, 30.0ms\n",
      "Speed: 4.0ms preprocess, 30.0ms inference, 5.0ms postprocess per image at shape (1, 3, 640, 640)\n",
      "Processed and saved: results\\frame_1437_jpg.rf.4bcc99ac488101cee0c429e3a84d01fc.jpg\n",
      "Processed and saved: keypoint_predictions\\frame_1437_jpg.rf.4bcc99ac488101cee0c429e3a84d01fc.txt\n",
      "\n",
      "image 1/1 c:\\Users\\sudee\\Documents\\Projects\\Pondify\\preprocessed_images\\frame_1438_jpg.rf.fc80fd86a028253907d3f7501e2486c2.jpg: 640x640 3 fishs, 38.0ms\n",
      "Speed: 6.0ms preprocess, 38.0ms inference, 7.0ms postprocess per image at shape (1, 3, 640, 640)\n",
      "Processed and saved: results\\frame_1438_jpg.rf.fc80fd86a028253907d3f7501e2486c2.jpg\n",
      "Processed and saved: keypoint_predictions\\frame_1438_jpg.rf.fc80fd86a028253907d3f7501e2486c2.txt\n",
      "\n",
      "image 1/1 c:\\Users\\sudee\\Documents\\Projects\\Pondify\\preprocessed_images\\frame_1439_jpg.rf.682d948f2b027275227374b11bff5940.jpg: 640x640 3 fishs, 49.1ms\n",
      "Speed: 4.9ms preprocess, 49.1ms inference, 8.0ms postprocess per image at shape (1, 3, 640, 640)\n",
      "Processed and saved: results\\frame_1439_jpg.rf.682d948f2b027275227374b11bff5940.jpg\n",
      "Processed and saved: keypoint_predictions\\frame_1439_jpg.rf.682d948f2b027275227374b11bff5940.txt\n",
      "\n",
      "image 1/1 c:\\Users\\sudee\\Documents\\Projects\\Pondify\\preprocessed_images\\frame_1440_jpg.rf.388ee90b1d321db8d0251753c08c0c61.jpg: 640x640 4 fishs, 39.1ms\n",
      "Speed: 5.9ms preprocess, 39.1ms inference, 7.9ms postprocess per image at shape (1, 3, 640, 640)\n",
      "Processed and saved: results\\frame_1440_jpg.rf.388ee90b1d321db8d0251753c08c0c61.jpg\n",
      "Processed and saved: keypoint_predictions\\frame_1440_jpg.rf.388ee90b1d321db8d0251753c08c0c61.txt\n",
      "\n",
      "image 1/1 c:\\Users\\sudee\\Documents\\Projects\\Pondify\\preprocessed_images\\frame_1442_jpg.rf.5ded22550683284a20b6df6220dd672a.jpg: 640x640 2 fishs, 34.0ms\n",
      "Speed: 4.6ms preprocess, 34.0ms inference, 5.0ms postprocess per image at shape (1, 3, 640, 640)\n",
      "Processed and saved: results\\frame_1442_jpg.rf.5ded22550683284a20b6df6220dd672a.jpg\n",
      "Processed and saved: keypoint_predictions\\frame_1442_jpg.rf.5ded22550683284a20b6df6220dd672a.txt\n",
      "\n",
      "image 1/1 c:\\Users\\sudee\\Documents\\Projects\\Pondify\\preprocessed_images\\frame_1444_jpg.rf.5ae8a1e72381ec0435b943e1a922a186.jpg: 640x640 3 fishs, 51.0ms\n",
      "Speed: 8.0ms preprocess, 51.0ms inference, 6.0ms postprocess per image at shape (1, 3, 640, 640)\n",
      "Processed and saved: results\\frame_1444_jpg.rf.5ae8a1e72381ec0435b943e1a922a186.jpg\n",
      "Processed and saved: keypoint_predictions\\frame_1444_jpg.rf.5ae8a1e72381ec0435b943e1a922a186.txt\n",
      "\n",
      "image 1/1 c:\\Users\\sudee\\Documents\\Projects\\Pondify\\preprocessed_images\\frame_1445_jpg.rf.a70c04ead1a12737ccc2ba47293c5bbf.jpg: 640x640 2 fishs, 31.0ms\n",
      "Speed: 4.0ms preprocess, 31.0ms inference, 5.0ms postprocess per image at shape (1, 3, 640, 640)\n",
      "Processed and saved: results\\frame_1445_jpg.rf.a70c04ead1a12737ccc2ba47293c5bbf.jpg\n",
      "Processed and saved: keypoint_predictions\\frame_1445_jpg.rf.a70c04ead1a12737ccc2ba47293c5bbf.txt\n",
      "\n",
      "image 1/1 c:\\Users\\sudee\\Documents\\Projects\\Pondify\\preprocessed_images\\frame_1446_jpg.rf.c5e6ab4d99122eb345a34dc820ac56b7.jpg: 640x640 2 fishs, 41.0ms\n",
      "Speed: 4.0ms preprocess, 41.0ms inference, 4.0ms postprocess per image at shape (1, 3, 640, 640)\n",
      "Processed and saved: results\\frame_1446_jpg.rf.c5e6ab4d99122eb345a34dc820ac56b7.jpg\n",
      "Processed and saved: keypoint_predictions\\frame_1446_jpg.rf.c5e6ab4d99122eb345a34dc820ac56b7.txt\n",
      "\n",
      "image 1/1 c:\\Users\\sudee\\Documents\\Projects\\Pondify\\preprocessed_images\\frame_1447_jpg.rf.893a6c4d530855f95309b4a9171771f6.jpg: 640x640 3 fishs, 42.1ms\n",
      "Speed: 5.0ms preprocess, 42.1ms inference, 10.2ms postprocess per image at shape (1, 3, 640, 640)\n",
      "Processed and saved: results\\frame_1447_jpg.rf.893a6c4d530855f95309b4a9171771f6.jpg\n",
      "Processed and saved: keypoint_predictions\\frame_1447_jpg.rf.893a6c4d530855f95309b4a9171771f6.txt\n",
      "\n",
      "image 1/1 c:\\Users\\sudee\\Documents\\Projects\\Pondify\\preprocessed_images\\frame_1448_jpg.rf.a0b50b8aa04d4e64d99cd86d136e0aff.jpg: 640x640 4 fishs, 41.0ms\n",
      "Speed: 5.0ms preprocess, 41.0ms inference, 7.1ms postprocess per image at shape (1, 3, 640, 640)\n",
      "Processed and saved: results\\frame_1448_jpg.rf.a0b50b8aa04d4e64d99cd86d136e0aff.jpg\n",
      "Processed and saved: keypoint_predictions\\frame_1448_jpg.rf.a0b50b8aa04d4e64d99cd86d136e0aff.txt\n",
      "\n",
      "image 1/1 c:\\Users\\sudee\\Documents\\Projects\\Pondify\\preprocessed_images\\frame_1449_jpg.rf.a4cae95686bd6a7652febd8f73a97785.jpg: 640x640 4 fishs, 34.0ms\n",
      "Speed: 7.0ms preprocess, 34.0ms inference, 5.0ms postprocess per image at shape (1, 3, 640, 640)\n",
      "Processed and saved: results\\frame_1449_jpg.rf.a4cae95686bd6a7652febd8f73a97785.jpg\n",
      "Processed and saved: keypoint_predictions\\frame_1449_jpg.rf.a4cae95686bd6a7652febd8f73a97785.txt\n",
      "\n",
      "image 1/1 c:\\Users\\sudee\\Documents\\Projects\\Pondify\\preprocessed_images\\frame_1450_jpg.rf.e3cf9bd20ed159b4cd4f2a181a04cdfd.jpg: 640x640 3 fishs, 33.0ms\n",
      "Speed: 4.0ms preprocess, 33.0ms inference, 10.0ms postprocess per image at shape (1, 3, 640, 640)\n",
      "Processed and saved: results\\frame_1450_jpg.rf.e3cf9bd20ed159b4cd4f2a181a04cdfd.jpg\n",
      "Processed and saved: keypoint_predictions\\frame_1450_jpg.rf.e3cf9bd20ed159b4cd4f2a181a04cdfd.txt\n",
      "\n",
      "image 1/1 c:\\Users\\sudee\\Documents\\Projects\\Pondify\\preprocessed_images\\frame_1451_jpg.rf.e2f999e46f7666b412aea50860f2d3fd.jpg: 640x640 4 fishs, 27.0ms\n",
      "Speed: 5.0ms preprocess, 27.0ms inference, 8.4ms postprocess per image at shape (1, 3, 640, 640)\n",
      "Processed and saved: results\\frame_1451_jpg.rf.e2f999e46f7666b412aea50860f2d3fd.jpg\n",
      "Processed and saved: keypoint_predictions\\frame_1451_jpg.rf.e2f999e46f7666b412aea50860f2d3fd.txt\n",
      "\n",
      "image 1/1 c:\\Users\\sudee\\Documents\\Projects\\Pondify\\preprocessed_images\\frame_1452_jpg.rf.0d3da176af60eca54edeffe1d730d484.jpg: 640x640 3 fishs, 36.0ms\n",
      "Speed: 4.0ms preprocess, 36.0ms inference, 5.0ms postprocess per image at shape (1, 3, 640, 640)\n",
      "Processed and saved: results\\frame_1452_jpg.rf.0d3da176af60eca54edeffe1d730d484.jpg\n",
      "Processed and saved: keypoint_predictions\\frame_1452_jpg.rf.0d3da176af60eca54edeffe1d730d484.txt\n",
      "\n",
      "image 1/1 c:\\Users\\sudee\\Documents\\Projects\\Pondify\\preprocessed_images\\frame_1453_jpg.rf.9ddc1690084e70743b4a58afc15d7b3e.jpg: 640x640 3 fishs, 43.0ms\n",
      "Speed: 5.0ms preprocess, 43.0ms inference, 5.0ms postprocess per image at shape (1, 3, 640, 640)\n",
      "Processed and saved: results\\frame_1453_jpg.rf.9ddc1690084e70743b4a58afc15d7b3e.jpg\n",
      "Processed and saved: keypoint_predictions\\frame_1453_jpg.rf.9ddc1690084e70743b4a58afc15d7b3e.txt\n",
      "\n",
      "image 1/1 c:\\Users\\sudee\\Documents\\Projects\\Pondify\\preprocessed_images\\frame_1454_jpg.rf.bc1e0dc93b8af4be6e81f48a049b94a9.jpg: 640x640 4 fishs, 41.0ms\n",
      "Speed: 4.0ms preprocess, 41.0ms inference, 5.0ms postprocess per image at shape (1, 3, 640, 640)\n",
      "Processed and saved: results\\frame_1454_jpg.rf.bc1e0dc93b8af4be6e81f48a049b94a9.jpg\n",
      "Processed and saved: keypoint_predictions\\frame_1454_jpg.rf.bc1e0dc93b8af4be6e81f48a049b94a9.txt\n",
      "\n",
      "image 1/1 c:\\Users\\sudee\\Documents\\Projects\\Pondify\\preprocessed_images\\frame_1455_jpg.rf.1882fd1187364318b6eefd72ffa73a4a.jpg: 640x640 4 fishs, 36.5ms\n",
      "Speed: 9.0ms preprocess, 36.5ms inference, 6.0ms postprocess per image at shape (1, 3, 640, 640)\n",
      "Processed and saved: results\\frame_1455_jpg.rf.1882fd1187364318b6eefd72ffa73a4a.jpg\n",
      "Processed and saved: keypoint_predictions\\frame_1455_jpg.rf.1882fd1187364318b6eefd72ffa73a4a.txt\n",
      "\n",
      "image 1/1 c:\\Users\\sudee\\Documents\\Projects\\Pondify\\preprocessed_images\\frame_1456_jpg.rf.e295a3072f07de084321c7a57f1c7be9.jpg: 640x640 4 fishs, 35.2ms\n",
      "Speed: 7.0ms preprocess, 35.2ms inference, 5.0ms postprocess per image at shape (1, 3, 640, 640)\n",
      "Processed and saved: results\\frame_1456_jpg.rf.e295a3072f07de084321c7a57f1c7be9.jpg\n",
      "Processed and saved: keypoint_predictions\\frame_1456_jpg.rf.e295a3072f07de084321c7a57f1c7be9.txt\n",
      "\n",
      "image 1/1 c:\\Users\\sudee\\Documents\\Projects\\Pondify\\preprocessed_images\\frame_1457_jpg.rf.9a2911834d696ce7f41dd54e8f6b4e3e.jpg: 640x640 4 fishs, 44.0ms\n",
      "Speed: 6.0ms preprocess, 44.0ms inference, 6.0ms postprocess per image at shape (1, 3, 640, 640)\n",
      "Processed and saved: results\\frame_1457_jpg.rf.9a2911834d696ce7f41dd54e8f6b4e3e.jpg\n",
      "Processed and saved: keypoint_predictions\\frame_1457_jpg.rf.9a2911834d696ce7f41dd54e8f6b4e3e.txt\n",
      "\n",
      "image 1/1 c:\\Users\\sudee\\Documents\\Projects\\Pondify\\preprocessed_images\\frame_1459_jpg.rf.d7edcb94422a3899e59e0f94c8229666.jpg: 640x640 2 fishs, 34.9ms\n",
      "Speed: 7.7ms preprocess, 34.9ms inference, 8.2ms postprocess per image at shape (1, 3, 640, 640)\n",
      "Processed and saved: results\\frame_1459_jpg.rf.d7edcb94422a3899e59e0f94c8229666.jpg\n",
      "Processed and saved: keypoint_predictions\\frame_1459_jpg.rf.d7edcb94422a3899e59e0f94c8229666.txt\n",
      "\n",
      "image 1/1 c:\\Users\\sudee\\Documents\\Projects\\Pondify\\preprocessed_images\\frame_1461_jpg.rf.f04da389cfe6179f811eafc1246f905a.jpg: 640x640 2 fishs, 35.4ms\n",
      "Speed: 7.0ms preprocess, 35.4ms inference, 5.0ms postprocess per image at shape (1, 3, 640, 640)\n",
      "Processed and saved: results\\frame_1461_jpg.rf.f04da389cfe6179f811eafc1246f905a.jpg\n",
      "Processed and saved: keypoint_predictions\\frame_1461_jpg.rf.f04da389cfe6179f811eafc1246f905a.txt\n",
      "\n",
      "image 1/1 c:\\Users\\sudee\\Documents\\Projects\\Pondify\\preprocessed_images\\frame_1466_jpg.rf.9cd8e3702eafd1f7237d73333474c36a.jpg: 640x640 2 fishs, 31.1ms\n",
      "Speed: 5.0ms preprocess, 31.1ms inference, 8.0ms postprocess per image at shape (1, 3, 640, 640)\n",
      "Processed and saved: results\\frame_1466_jpg.rf.9cd8e3702eafd1f7237d73333474c36a.jpg\n",
      "Processed and saved: keypoint_predictions\\frame_1466_jpg.rf.9cd8e3702eafd1f7237d73333474c36a.txt\n",
      "\n",
      "image 1/1 c:\\Users\\sudee\\Documents\\Projects\\Pondify\\preprocessed_images\\frame_1467_jpg.rf.876ead8ac314ed932ac334dc38af6fd5.jpg: 640x640 2 fishs, 32.0ms\n",
      "Speed: 6.0ms preprocess, 32.0ms inference, 7.0ms postprocess per image at shape (1, 3, 640, 640)\n",
      "Processed and saved: results\\frame_1467_jpg.rf.876ead8ac314ed932ac334dc38af6fd5.jpg\n",
      "Processed and saved: keypoint_predictions\\frame_1467_jpg.rf.876ead8ac314ed932ac334dc38af6fd5.txt\n",
      "\n",
      "image 1/1 c:\\Users\\sudee\\Documents\\Projects\\Pondify\\preprocessed_images\\frame_1468_jpg.rf.9edc6bc0c9ae6d5c3958d35b9dddf609.jpg: 640x640 4 fishs, 34.0ms\n",
      "Speed: 6.0ms preprocess, 34.0ms inference, 8.1ms postprocess per image at shape (1, 3, 640, 640)\n",
      "Processed and saved: results\\frame_1468_jpg.rf.9edc6bc0c9ae6d5c3958d35b9dddf609.jpg\n",
      "Processed and saved: keypoint_predictions\\frame_1468_jpg.rf.9edc6bc0c9ae6d5c3958d35b9dddf609.txt\n",
      "\n",
      "image 1/1 c:\\Users\\sudee\\Documents\\Projects\\Pondify\\preprocessed_images\\frame_1469_jpg.rf.b3af9ebcab7fd29b0c6e289adcf2eb0a.jpg: 640x640 2 fishs, 48.9ms\n",
      "Speed: 9.0ms preprocess, 48.9ms inference, 7.0ms postprocess per image at shape (1, 3, 640, 640)\n",
      "Processed and saved: results\\frame_1469_jpg.rf.b3af9ebcab7fd29b0c6e289adcf2eb0a.jpg\n",
      "Processed and saved: keypoint_predictions\\frame_1469_jpg.rf.b3af9ebcab7fd29b0c6e289adcf2eb0a.txt\n",
      "\n",
      "image 1/1 c:\\Users\\sudee\\Documents\\Projects\\Pondify\\preprocessed_images\\frame_1470_jpg.rf.b3b4a8c5901c92b3ea7a09773d37e924.jpg: 640x640 1 fish, 38.0ms\n",
      "Speed: 6.0ms preprocess, 38.0ms inference, 3.9ms postprocess per image at shape (1, 3, 640, 640)\n",
      "Processed and saved: results\\frame_1470_jpg.rf.b3b4a8c5901c92b3ea7a09773d37e924.jpg\n",
      "Processed and saved: keypoint_predictions\\frame_1470_jpg.rf.b3b4a8c5901c92b3ea7a09773d37e924.txt\n",
      "\n",
      "image 1/1 c:\\Users\\sudee\\Documents\\Projects\\Pondify\\preprocessed_images\\frame_1472_jpg.rf.d67d095d1a5f039ede117f56a485ff70.jpg: 640x640 2 fishs, 39.0ms\n",
      "Speed: 4.0ms preprocess, 39.0ms inference, 5.0ms postprocess per image at shape (1, 3, 640, 640)\n",
      "Processed and saved: results\\frame_1472_jpg.rf.d67d095d1a5f039ede117f56a485ff70.jpg\n",
      "Processed and saved: keypoint_predictions\\frame_1472_jpg.rf.d67d095d1a5f039ede117f56a485ff70.txt\n",
      "\n",
      "image 1/1 c:\\Users\\sudee\\Documents\\Projects\\Pondify\\preprocessed_images\\frame_1474_jpg.rf.f7bdada92e8a7a44a87dae6175dc624b.jpg: 640x640 2 fishs, 47.9ms\n",
      "Speed: 5.0ms preprocess, 47.9ms inference, 7.0ms postprocess per image at shape (1, 3, 640, 640)\n",
      "Processed and saved: results\\frame_1474_jpg.rf.f7bdada92e8a7a44a87dae6175dc624b.jpg\n",
      "Processed and saved: keypoint_predictions\\frame_1474_jpg.rf.f7bdada92e8a7a44a87dae6175dc624b.txt\n",
      "\n",
      "image 1/1 c:\\Users\\sudee\\Documents\\Projects\\Pondify\\preprocessed_images\\frame_1475_jpg.rf.ab4d7b472829202b0bd1e7e1a0e77892.jpg: 640x640 3 fishs, 30.8ms\n",
      "Speed: 4.2ms preprocess, 30.8ms inference, 5.9ms postprocess per image at shape (1, 3, 640, 640)\n",
      "Processed and saved: results\\frame_1475_jpg.rf.ab4d7b472829202b0bd1e7e1a0e77892.jpg\n",
      "Processed and saved: keypoint_predictions\\frame_1475_jpg.rf.ab4d7b472829202b0bd1e7e1a0e77892.txt\n"
     ]
    }
   ],
   "source": [
    "import os \n",
    "import cv2\n",
    "\n",
    "#traversing through the images and predicting the bounding boxes\n",
    "\n",
    "# Load the model\n",
    "#change the paths accordingly\n",
    "model = YOLO(r\"Pondify\\yolov8n-pose_test_11\\weights\\last.pt\")  # load a custom model\n",
    "\n",
    "images_dir = r\"preprocessed_images\"\n",
    "image_files = [f for f in os.listdir(images_dir) if f.endswith(('.png', '.jpg', '.jpeg'))]\n",
    "\n",
    "os.makedirs(\"results\", exist_ok=True)\n",
    "\n",
    "os.makedirs(\"keypoint_predictions\", exist_ok=True)\n",
    "\n",
    "for image_file in image_files:\n",
    "    image_path = os.path.join(images_dir, image_file)\n",
    "\n",
    "    results = model(image_path)\n",
    "\n",
    "    output_path = os.path.join(\"results\", image_file)\n",
    "\n",
    "    for result in results:\n",
    "        result.save(filename=output_path)   \n",
    "\n",
    "    print(f\"Processed and saved: {output_path}\")\n",
    "\n",
    "\n",
    "    output_path = os.path.join(\"keypoint_predictions\", f\"{os.path.splitext(image_file)[0]}.txt\")\n",
    "    with open(output_path, \"w\") as file:\n",
    "        for result in results:\n",
    "            keypoints = result.keypoints  \n",
    "            for i in range(keypoints.xy.shape[0]):\n",
    "                for j in range(keypoints.xy.shape[1]):\n",
    "                    x = keypoints.xy[i][j][0]\n",
    "                    y = keypoints.xy[i][j][1]\n",
    "                    file.write(f\"{float(x)},{float(y)}\\n\")\n",
    "        print(f\"Processed and saved: {output_path}\")\n",
    "            "
   ]
  }
 ],
 "metadata": {
  "kernelspec": {
   "display_name": "Python 3",
   "language": "python",
   "name": "python3"
  },
  "language_info": {
   "codemirror_mode": {
    "name": "ipython",
    "version": 3
   },
   "file_extension": ".py",
   "mimetype": "text/x-python",
   "name": "python",
   "nbconvert_exporter": "python",
   "pygments_lexer": "ipython3",
   "version": "3.11.5"
  }
 },
 "nbformat": 4,
 "nbformat_minor": 2
}
